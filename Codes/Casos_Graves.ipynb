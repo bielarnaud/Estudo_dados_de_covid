{
 "cells": [
  {
   "cell_type": "code",
   "execution_count": 1,
   "metadata": {},
   "outputs": [],
   "source": [
    "from functions.Pre_processing_Casos_Graves import *\n",
    "import matplotlib.pyplot as plt\n",
    "import seaborn as sns"
   ]
  },
  {
   "cell_type": "code",
   "execution_count": 2,
   "metadata": {},
   "outputs": [],
   "source": [
    "casos_graves = Pre_Processing_Casos_Graves()"
   ]
  },
  {
   "cell_type": "code",
   "execution_count": 3,
   "metadata": {},
   "outputs": [
    {
     "name": "stderr",
     "output_type": "stream",
     "text": [
      "c:\\Users\\gabri\\Desktop\\Git - Tcc\\Estudo_dados_de_covid\\Codes\\functions\\Pre_processing_Casos_Graves.py:282: SettingWithCopyWarning: \n",
      "A value is trying to be set on a copy of a slice from a DataFrame\n",
      "\n",
      "See the caveats in the documentation: https://pandas.pydata.org/pandas-docs/stable/user_guide/indexing.html#returning-a-view-versus-a-copy\n",
      "  self.df[column][i] = 1\n",
      "c:\\Users\\gabri\\Desktop\\Git - Tcc\\Estudo_dados_de_covid\\Codes\\functions\\Pre_processing_Casos_Graves.py:294: SettingWithCopyWarning: \n",
      "A value is trying to be set on a copy of a slice from a DataFrame\n",
      "\n",
      "See the caveats in the documentation: https://pandas.pydata.org/pandas-docs/stable/user_guide/indexing.html#returning-a-view-versus-a-copy\n",
      "  self.df[column][i] = 1\n"
     ]
    }
   ],
   "source": [
    "casos_graves.run(columns_symptoms,columns_to_drop,columns_dieases,path)"
   ]
  },
  {
   "cell_type": "code",
   "execution_count": 4,
   "metadata": {},
   "outputs": [],
   "source": [
    "df = casos_graves.df\n",
    "df2 = casos_graves.df2\n",
    "df3 = casos_graves.df3"
   ]
  },
  {
   "cell_type": "code",
   "execution_count": 5,
   "metadata": {},
   "outputs": [
    {
     "data": {
      "text/html": [
       "<div>\n",
       "<style scoped>\n",
       "    .dataframe tbody tr th:only-of-type {\n",
       "        vertical-align: middle;\n",
       "    }\n",
       "\n",
       "    .dataframe tbody tr th {\n",
       "        vertical-align: top;\n",
       "    }\n",
       "\n",
       "    .dataframe thead th {\n",
       "        text-align: right;\n",
       "    }\n",
       "</style>\n",
       "<table border=\"1\" class=\"dataframe\">\n",
       "  <thead>\n",
       "    <tr style=\"text-align: right;\">\n",
       "      <th></th>\n",
       "      <th>data_notificacao</th>\n",
       "      <th>sexo</th>\n",
       "      <th>idade</th>\n",
       "      <th>bairro</th>\n",
       "      <th>data_inicio_sintomas</th>\n",
       "      <th>sintomas</th>\n",
       "      <th>outros_sintomas</th>\n",
       "      <th>doencas_preexistentes</th>\n",
       "      <th>outras_doencas_preexistentes</th>\n",
       "      <th>classificacao_final</th>\n",
       "      <th>...</th>\n",
       "      <th>DISEASE_HYPERTENSION</th>\n",
       "      <th>DISEASE_RESPIRATORY</th>\n",
       "      <th>DISEASE_OBESITY</th>\n",
       "      <th>DISEASE_KIDNEY</th>\n",
       "      <th>DISEASE_IMMUNOSUPPRESSION</th>\n",
       "      <th>DISEASE_TABAGIST</th>\n",
       "      <th>DISEASE_ETILISM</th>\n",
       "      <th>DISEASE_LIVER</th>\n",
       "      <th>DISEASE_NEUROLOGIC</th>\n",
       "      <th>death</th>\n",
       "    </tr>\n",
       "  </thead>\n",
       "  <tbody>\n",
       "    <tr>\n",
       "      <th>0</th>\n",
       "      <td>2020-05-30</td>\n",
       "      <td>Masculino</td>\n",
       "      <td>53</td>\n",
       "      <td>SAN MARTIN</td>\n",
       "      <td>2020-05-25</td>\n",
       "      <td>[ALTERAÇÃO/PERDA DE OLFATO E/OU PALADAR, FEBRE...</td>\n",
       "      <td>[]</td>\n",
       "      <td>[]</td>\n",
       "      <td>[]</td>\n",
       "      <td>DESCARTADO</td>\n",
       "      <td>...</td>\n",
       "      <td>0</td>\n",
       "      <td>0</td>\n",
       "      <td>0</td>\n",
       "      <td>0</td>\n",
       "      <td>0</td>\n",
       "      <td>0</td>\n",
       "      <td>0</td>\n",
       "      <td>0</td>\n",
       "      <td>0</td>\n",
       "      <td>0</td>\n",
       "    </tr>\n",
       "    <tr>\n",
       "      <th>1</th>\n",
       "      <td>2020-06-02</td>\n",
       "      <td>Feminino</td>\n",
       "      <td>0</td>\n",
       "      <td>ALTO SANTA TEREZINHA</td>\n",
       "      <td>2020-05-30</td>\n",
       "      <td>[DISPNEIA, FEBRE, SATURAÇÃO O2 &lt; 95, TOSSE]</td>\n",
       "      <td>[]</td>\n",
       "      <td>[]</td>\n",
       "      <td>[]</td>\n",
       "      <td>INCONCLUSIVO</td>\n",
       "      <td>...</td>\n",
       "      <td>0</td>\n",
       "      <td>0</td>\n",
       "      <td>0</td>\n",
       "      <td>0</td>\n",
       "      <td>0</td>\n",
       "      <td>0</td>\n",
       "      <td>0</td>\n",
       "      <td>0</td>\n",
       "      <td>0</td>\n",
       "      <td>0</td>\n",
       "    </tr>\n",
       "    <tr>\n",
       "      <th>2</th>\n",
       "      <td>2020-06-02</td>\n",
       "      <td>Feminino</td>\n",
       "      <td>86</td>\n",
       "      <td>ESPINHEIRO</td>\n",
       "      <td>2020-06-01</td>\n",
       "      <td>[DISPNEIA, SATURAÇÃO O2 &lt; 95]</td>\n",
       "      <td>[]</td>\n",
       "      <td>[]</td>\n",
       "      <td>[]</td>\n",
       "      <td>DESCARTADO</td>\n",
       "      <td>...</td>\n",
       "      <td>0</td>\n",
       "      <td>0</td>\n",
       "      <td>0</td>\n",
       "      <td>0</td>\n",
       "      <td>0</td>\n",
       "      <td>0</td>\n",
       "      <td>0</td>\n",
       "      <td>0</td>\n",
       "      <td>0</td>\n",
       "      <td>0</td>\n",
       "    </tr>\n",
       "    <tr>\n",
       "      <th>3</th>\n",
       "      <td>2020-06-01</td>\n",
       "      <td>Masculino</td>\n",
       "      <td>66</td>\n",
       "      <td>CASA FORTE</td>\n",
       "      <td>2020-05-25</td>\n",
       "      <td>[]</td>\n",
       "      <td>[]</td>\n",
       "      <td>[]</td>\n",
       "      <td>[]</td>\n",
       "      <td>CONFIRMADO</td>\n",
       "      <td>...</td>\n",
       "      <td>0</td>\n",
       "      <td>0</td>\n",
       "      <td>0</td>\n",
       "      <td>0</td>\n",
       "      <td>0</td>\n",
       "      <td>0</td>\n",
       "      <td>0</td>\n",
       "      <td>0</td>\n",
       "      <td>0</td>\n",
       "      <td>0</td>\n",
       "    </tr>\n",
       "    <tr>\n",
       "      <th>4</th>\n",
       "      <td>2020-06-02</td>\n",
       "      <td>Masculino</td>\n",
       "      <td>68</td>\n",
       "      <td>ILHA DO RETIRO</td>\n",
       "      <td>2020-05-30</td>\n",
       "      <td>[DISPNEIA, SATURAÇÃO O2 &lt; 95, TOSSE]</td>\n",
       "      <td>[]</td>\n",
       "      <td>[]</td>\n",
       "      <td>[]</td>\n",
       "      <td>DESCARTADO</td>\n",
       "      <td>...</td>\n",
       "      <td>0</td>\n",
       "      <td>0</td>\n",
       "      <td>0</td>\n",
       "      <td>0</td>\n",
       "      <td>0</td>\n",
       "      <td>0</td>\n",
       "      <td>0</td>\n",
       "      <td>0</td>\n",
       "      <td>0</td>\n",
       "      <td>0</td>\n",
       "    </tr>\n",
       "    <tr>\n",
       "      <th>...</th>\n",
       "      <td>...</td>\n",
       "      <td>...</td>\n",
       "      <td>...</td>\n",
       "      <td>...</td>\n",
       "      <td>...</td>\n",
       "      <td>...</td>\n",
       "      <td>...</td>\n",
       "      <td>...</td>\n",
       "      <td>...</td>\n",
       "      <td>...</td>\n",
       "      <td>...</td>\n",
       "      <td>...</td>\n",
       "      <td>...</td>\n",
       "      <td>...</td>\n",
       "      <td>...</td>\n",
       "      <td>...</td>\n",
       "      <td>...</td>\n",
       "      <td>...</td>\n",
       "      <td>...</td>\n",
       "      <td>...</td>\n",
       "      <td>...</td>\n",
       "    </tr>\n",
       "    <tr>\n",
       "      <th>36430</th>\n",
       "      <td>2022-06-08</td>\n",
       "      <td>Masculino</td>\n",
       "      <td>77</td>\n",
       "      <td>BREJO DA GUABIRABA</td>\n",
       "      <td>2022-06-06</td>\n",
       "      <td>[DISPNEIA]</td>\n",
       "      <td>[]</td>\n",
       "      <td>[]</td>\n",
       "      <td>[HAS]</td>\n",
       "      <td>EM ANÁLISE</td>\n",
       "      <td>...</td>\n",
       "      <td>1</td>\n",
       "      <td>0</td>\n",
       "      <td>0</td>\n",
       "      <td>0</td>\n",
       "      <td>0</td>\n",
       "      <td>0</td>\n",
       "      <td>0</td>\n",
       "      <td>0</td>\n",
       "      <td>0</td>\n",
       "      <td>0</td>\n",
       "    </tr>\n",
       "    <tr>\n",
       "      <th>36431</th>\n",
       "      <td>2022-06-09</td>\n",
       "      <td>Masculino</td>\n",
       "      <td>74</td>\n",
       "      <td>NOVA DESCOBERTA</td>\n",
       "      <td>2022-06-06</td>\n",
       "      <td>[APERTO TORÁCICO, CANSAÇO/FADIGA, DESCONFORTO ...</td>\n",
       "      <td>[]</td>\n",
       "      <td>[]</td>\n",
       "      <td>[]</td>\n",
       "      <td>EM ANÁLISE</td>\n",
       "      <td>...</td>\n",
       "      <td>0</td>\n",
       "      <td>0</td>\n",
       "      <td>0</td>\n",
       "      <td>0</td>\n",
       "      <td>0</td>\n",
       "      <td>0</td>\n",
       "      <td>0</td>\n",
       "      <td>0</td>\n",
       "      <td>0</td>\n",
       "      <td>0</td>\n",
       "    </tr>\n",
       "    <tr>\n",
       "      <th>36432</th>\n",
       "      <td>2022-06-10</td>\n",
       "      <td>Masculino</td>\n",
       "      <td>74</td>\n",
       "      <td>BEBERIBE</td>\n",
       "      <td>2022-06-03</td>\n",
       "      <td>[DISPNEIA, FEBRE, TOSSE]</td>\n",
       "      <td>[]</td>\n",
       "      <td>[DIABETES]</td>\n",
       "      <td>[]</td>\n",
       "      <td>EM ANÁLISE</td>\n",
       "      <td>...</td>\n",
       "      <td>0</td>\n",
       "      <td>0</td>\n",
       "      <td>0</td>\n",
       "      <td>0</td>\n",
       "      <td>0</td>\n",
       "      <td>0</td>\n",
       "      <td>0</td>\n",
       "      <td>0</td>\n",
       "      <td>0</td>\n",
       "      <td>0</td>\n",
       "    </tr>\n",
       "    <tr>\n",
       "      <th>36433</th>\n",
       "      <td>2022-06-12</td>\n",
       "      <td>Feminino</td>\n",
       "      <td>73</td>\n",
       "      <td>ENGENHO DO MEIO</td>\n",
       "      <td>2022-06-11</td>\n",
       "      <td>[APERTO TORÁCICO, DESCONFORTO RESPIRATÓRIO, DI...</td>\n",
       "      <td>[]</td>\n",
       "      <td>[DIABETES, DOENÇAS CARDÍACAS OU VASCULARES]</td>\n",
       "      <td>[AVC]</td>\n",
       "      <td>EM ANÁLISE</td>\n",
       "      <td>...</td>\n",
       "      <td>0</td>\n",
       "      <td>0</td>\n",
       "      <td>0</td>\n",
       "      <td>0</td>\n",
       "      <td>0</td>\n",
       "      <td>0</td>\n",
       "      <td>0</td>\n",
       "      <td>0</td>\n",
       "      <td>0</td>\n",
       "      <td>0</td>\n",
       "    </tr>\n",
       "    <tr>\n",
       "      <th>36434</th>\n",
       "      <td>2022-06-12</td>\n",
       "      <td>Feminino</td>\n",
       "      <td>66</td>\n",
       "      <td>BOA VIAGEM</td>\n",
       "      <td>2022-06-07</td>\n",
       "      <td>[APERTO TORÁCICO, DESCONFORTO RESPIRATÓRIO, DI...</td>\n",
       "      <td>[RNC]</td>\n",
       "      <td>[]</td>\n",
       "      <td>[AVCH]</td>\n",
       "      <td>EM ANÁLISE</td>\n",
       "      <td>...</td>\n",
       "      <td>0</td>\n",
       "      <td>0</td>\n",
       "      <td>0</td>\n",
       "      <td>0</td>\n",
       "      <td>0</td>\n",
       "      <td>0</td>\n",
       "      <td>0</td>\n",
       "      <td>0</td>\n",
       "      <td>0</td>\n",
       "      <td>0</td>\n",
       "    </tr>\n",
       "  </tbody>\n",
       "</table>\n",
       "<p>36435 rows × 44 columns</p>\n",
       "</div>"
      ],
      "text/plain": [
       "      data_notificacao       sexo  idade                bairro  \\\n",
       "0           2020-05-30  Masculino     53            SAN MARTIN   \n",
       "1           2020-06-02   Feminino      0  ALTO SANTA TEREZINHA   \n",
       "2           2020-06-02   Feminino     86            ESPINHEIRO   \n",
       "3           2020-06-01  Masculino     66            CASA FORTE   \n",
       "4           2020-06-02  Masculino     68        ILHA DO RETIRO   \n",
       "...                ...        ...    ...                   ...   \n",
       "36430       2022-06-08  Masculino     77    BREJO DA GUABIRABA   \n",
       "36431       2022-06-09  Masculino     74       NOVA DESCOBERTA   \n",
       "36432       2022-06-10  Masculino     74              BEBERIBE   \n",
       "36433       2022-06-12   Feminino     73       ENGENHO DO MEIO   \n",
       "36434       2022-06-12   Feminino     66            BOA VIAGEM   \n",
       "\n",
       "      data_inicio_sintomas                                           sintomas  \\\n",
       "0               2020-05-25  [ALTERAÇÃO/PERDA DE OLFATO E/OU PALADAR, FEBRE...   \n",
       "1               2020-05-30        [DISPNEIA, FEBRE, SATURAÇÃO O2 < 95, TOSSE]   \n",
       "2               2020-06-01                      [DISPNEIA, SATURAÇÃO O2 < 95]   \n",
       "3               2020-05-25                                                 []   \n",
       "4               2020-05-30               [DISPNEIA, SATURAÇÃO O2 < 95, TOSSE]   \n",
       "...                    ...                                                ...   \n",
       "36430           2022-06-06                                         [DISPNEIA]   \n",
       "36431           2022-06-06  [APERTO TORÁCICO, CANSAÇO/FADIGA, DESCONFORTO ...   \n",
       "36432           2022-06-03                           [DISPNEIA, FEBRE, TOSSE]   \n",
       "36433           2022-06-11  [APERTO TORÁCICO, DESCONFORTO RESPIRATÓRIO, DI...   \n",
       "36434           2022-06-07  [APERTO TORÁCICO, DESCONFORTO RESPIRATÓRIO, DI...   \n",
       "\n",
       "      outros_sintomas                        doencas_preexistentes  \\\n",
       "0                  []                                           []   \n",
       "1                  []                                           []   \n",
       "2                  []                                           []   \n",
       "3                  []                                           []   \n",
       "4                  []                                           []   \n",
       "...               ...                                          ...   \n",
       "36430              []                                           []   \n",
       "36431              []                                           []   \n",
       "36432              []                                   [DIABETES]   \n",
       "36433              []  [DIABETES, DOENÇAS CARDÍACAS OU VASCULARES]   \n",
       "36434           [RNC]                                           []   \n",
       "\n",
       "      outras_doencas_preexistentes  classificacao_final  ...  \\\n",
       "0                                []          DESCARTADO  ...   \n",
       "1                                []        INCONCLUSIVO  ...   \n",
       "2                                []          DESCARTADO  ...   \n",
       "3                                []          CONFIRMADO  ...   \n",
       "4                                []          DESCARTADO  ...   \n",
       "...                             ...                 ...  ...   \n",
       "36430                         [HAS]          EM ANÁLISE  ...   \n",
       "36431                            []          EM ANÁLISE  ...   \n",
       "36432                            []          EM ANÁLISE  ...   \n",
       "36433                         [AVC]          EM ANÁLISE  ...   \n",
       "36434                        [AVCH]          EM ANÁLISE  ...   \n",
       "\n",
       "      DISEASE_HYPERTENSION DISEASE_RESPIRATORY DISEASE_OBESITY  \\\n",
       "0                        0                   0               0   \n",
       "1                        0                   0               0   \n",
       "2                        0                   0               0   \n",
       "3                        0                   0               0   \n",
       "4                        0                   0               0   \n",
       "...                    ...                 ...             ...   \n",
       "36430                    1                   0               0   \n",
       "36431                    0                   0               0   \n",
       "36432                    0                   0               0   \n",
       "36433                    0                   0               0   \n",
       "36434                    0                   0               0   \n",
       "\n",
       "       DISEASE_KIDNEY  DISEASE_IMMUNOSUPPRESSION  DISEASE_TABAGIST  \\\n",
       "0                   0                          0                 0   \n",
       "1                   0                          0                 0   \n",
       "2                   0                          0                 0   \n",
       "3                   0                          0                 0   \n",
       "4                   0                          0                 0   \n",
       "...               ...                        ...               ...   \n",
       "36430               0                          0                 0   \n",
       "36431               0                          0                 0   \n",
       "36432               0                          0                 0   \n",
       "36433               0                          0                 0   \n",
       "36434               0                          0                 0   \n",
       "\n",
       "       DISEASE_ETILISM  DISEASE_LIVER  DISEASE_NEUROLOGIC  death  \n",
       "0                    0              0                   0      0  \n",
       "1                    0              0                   0      0  \n",
       "2                    0              0                   0      0  \n",
       "3                    0              0                   0      0  \n",
       "4                    0              0                   0      0  \n",
       "...                ...            ...                 ...    ...  \n",
       "36430                0              0                   0      0  \n",
       "36431                0              0                   0      0  \n",
       "36432                0              0                   0      0  \n",
       "36433                0              0                   0      0  \n",
       "36434                0              0                   0      0  \n",
       "\n",
       "[36435 rows x 44 columns]"
      ]
     },
     "execution_count": 5,
     "metadata": {},
     "output_type": "execute_result"
    }
   ],
   "source": [
    "df"
   ]
  },
  {
   "cell_type": "code",
   "execution_count": 6,
   "metadata": {},
   "outputs": [
    {
     "data": {
      "text/plain": [
       "Index(['data_notificacao', 'sexo', 'idade', 'bairro', 'data_inicio_sintomas',\n",
       "       'sintomas', 'outros_sintomas', 'doencas_preexistentes',\n",
       "       'outras_doencas_preexistentes ', 'classificacao_final', 'evolucao',\n",
       "       'data_obito', 'age_group', 'SYMPTOM_COUGH', 'SYMPTOM_COLD',\n",
       "       'SYMPTOM_AIR_INSUFFICIENCY', 'SYMPTOM_FEVER',\n",
       "       'SYMPTOM_LOW_OXYGEN_SATURATION', 'SYMPTOM_BREATHING_CONDITION',\n",
       "       'SYMPTOM_TORACIC_APERTURE', 'SYMPTOM_THROAT_CONDITION',\n",
       "       'SYMPTOM_HEADACHE', 'SYMPTOM_BODY_PAIN', 'SYMPTOM_DIARRHEA',\n",
       "       'SYMPTOM_RUNNY_NOSE', 'SYMPTOM_NOSE_CONGESTION', 'SYMPTOM_WEAKNESS',\n",
       "       'SYMPTOM_ANOSMIA_OR_HYPOSMIA', 'SYMPTOM_NAUSEA',\n",
       "       'SYMPTOM_LACK_OF_APPETITE', 'SYMPTOM_ABDOMINAL_PAIN',\n",
       "       'SYMPTOM_CONSCIOUSNESS_DEGRADATION', 'DISEASE_HEART_OR_VASCULAR',\n",
       "       'DISEASE_DIABETES', 'DISEASE_HYPERTENSION', 'DISEASE_RESPIRATORY',\n",
       "       'DISEASE_OBESITY', 'DISEASE_KIDNEY', 'DISEASE_IMMUNOSUPPRESSION',\n",
       "       'DISEASE_TABAGIST', 'DISEASE_ETILISM', 'DISEASE_LIVER',\n",
       "       'DISEASE_NEUROLOGIC', 'death'],\n",
       "      dtype='object')"
      ]
     },
     "execution_count": 6,
     "metadata": {},
     "output_type": "execute_result"
    }
   ],
   "source": [
    "df.columns"
   ]
  },
  {
   "cell_type": "code",
   "execution_count": 7,
   "metadata": {},
   "outputs": [
    {
     "data": {
      "text/html": [
       "<div>\n",
       "<style scoped>\n",
       "    .dataframe tbody tr th:only-of-type {\n",
       "        vertical-align: middle;\n",
       "    }\n",
       "\n",
       "    .dataframe tbody tr th {\n",
       "        vertical-align: top;\n",
       "    }\n",
       "\n",
       "    .dataframe thead th {\n",
       "        text-align: right;\n",
       "    }\n",
       "</style>\n",
       "<table border=\"1\" class=\"dataframe\">\n",
       "  <thead>\n",
       "    <tr style=\"text-align: right;\">\n",
       "      <th></th>\n",
       "      <th>Sintoma</th>\n",
       "      <th>Count</th>\n",
       "      <th>percentage</th>\n",
       "    </tr>\n",
       "  </thead>\n",
       "  <tbody>\n",
       "    <tr>\n",
       "      <th>0</th>\n",
       "      <td>SYMPTOM_COUGH</td>\n",
       "      <td>26442</td>\n",
       "      <td>72.573075</td>\n",
       "    </tr>\n",
       "    <tr>\n",
       "      <th>1</th>\n",
       "      <td>SYMPTOM_COLD</td>\n",
       "      <td>86</td>\n",
       "      <td>0.236037</td>\n",
       "    </tr>\n",
       "    <tr>\n",
       "      <th>2</th>\n",
       "      <td>SYMPTOM_AIR_INSUFFICIENCY</td>\n",
       "      <td>24569</td>\n",
       "      <td>67.432414</td>\n",
       "    </tr>\n",
       "    <tr>\n",
       "      <th>3</th>\n",
       "      <td>SYMPTOM_FEVER</td>\n",
       "      <td>22759</td>\n",
       "      <td>62.464663</td>\n",
       "    </tr>\n",
       "    <tr>\n",
       "      <th>4</th>\n",
       "      <td>SYMPTOM_LOW_OXYGEN_SATURATION</td>\n",
       "      <td>1</td>\n",
       "      <td>0.002745</td>\n",
       "    </tr>\n",
       "    <tr>\n",
       "      <th>5</th>\n",
       "      <td>SYMPTOM_BREATHING_CONDITION</td>\n",
       "      <td>263</td>\n",
       "      <td>0.721833</td>\n",
       "    </tr>\n",
       "    <tr>\n",
       "      <th>6</th>\n",
       "      <td>SYMPTOM_TORACIC_APERTURE</td>\n",
       "      <td>196</td>\n",
       "      <td>0.537944</td>\n",
       "    </tr>\n",
       "    <tr>\n",
       "      <th>7</th>\n",
       "      <td>SYMPTOM_THROAT_CONDITION</td>\n",
       "      <td>5602</td>\n",
       "      <td>15.375326</td>\n",
       "    </tr>\n",
       "    <tr>\n",
       "      <th>8</th>\n",
       "      <td>SYMPTOM_HEADACHE</td>\n",
       "      <td>4156</td>\n",
       "      <td>11.406615</td>\n",
       "    </tr>\n",
       "    <tr>\n",
       "      <th>9</th>\n",
       "      <td>SYMPTOM_BODY_PAIN</td>\n",
       "      <td>4384</td>\n",
       "      <td>12.032386</td>\n",
       "    </tr>\n",
       "    <tr>\n",
       "      <th>10</th>\n",
       "      <td>SYMPTOM_DIARRHEA</td>\n",
       "      <td>3218</td>\n",
       "      <td>8.832167</td>\n",
       "    </tr>\n",
       "    <tr>\n",
       "      <th>11</th>\n",
       "      <td>SYMPTOM_RUNNY_NOSE</td>\n",
       "      <td>3456</td>\n",
       "      <td>9.485385</td>\n",
       "    </tr>\n",
       "    <tr>\n",
       "      <th>12</th>\n",
       "      <td>SYMPTOM_NOSE_CONGESTION</td>\n",
       "      <td>5</td>\n",
       "      <td>0.013723</td>\n",
       "    </tr>\n",
       "    <tr>\n",
       "      <th>13</th>\n",
       "      <td>SYMPTOM_WEAKNESS</td>\n",
       "      <td>2089</td>\n",
       "      <td>5.733498</td>\n",
       "    </tr>\n",
       "    <tr>\n",
       "      <th>14</th>\n",
       "      <td>SYMPTOM_ANOSMIA_OR_HYPOSMIA</td>\n",
       "      <td>143</td>\n",
       "      <td>0.392480</td>\n",
       "    </tr>\n",
       "    <tr>\n",
       "      <th>15</th>\n",
       "      <td>SYMPTOM_NAUSEA</td>\n",
       "      <td>133</td>\n",
       "      <td>0.365034</td>\n",
       "    </tr>\n",
       "    <tr>\n",
       "      <th>16</th>\n",
       "      <td>SYMPTOM_LACK_OF_APPETITE</td>\n",
       "      <td>258</td>\n",
       "      <td>0.708110</td>\n",
       "    </tr>\n",
       "    <tr>\n",
       "      <th>17</th>\n",
       "      <td>SYMPTOM_ABDOMINAL_PAIN</td>\n",
       "      <td>480</td>\n",
       "      <td>1.317415</td>\n",
       "    </tr>\n",
       "    <tr>\n",
       "      <th>18</th>\n",
       "      <td>SYMPTOM_CONSCIOUSNESS_DEGRADATION</td>\n",
       "      <td>315</td>\n",
       "      <td>0.864553</td>\n",
       "    </tr>\n",
       "  </tbody>\n",
       "</table>\n",
       "</div>"
      ],
      "text/plain": [
       "                              Sintoma  Count  percentage\n",
       "0                       SYMPTOM_COUGH  26442   72.573075\n",
       "1                        SYMPTOM_COLD     86    0.236037\n",
       "2           SYMPTOM_AIR_INSUFFICIENCY  24569   67.432414\n",
       "3                       SYMPTOM_FEVER  22759   62.464663\n",
       "4       SYMPTOM_LOW_OXYGEN_SATURATION      1    0.002745\n",
       "5         SYMPTOM_BREATHING_CONDITION    263    0.721833\n",
       "6            SYMPTOM_TORACIC_APERTURE    196    0.537944\n",
       "7            SYMPTOM_THROAT_CONDITION   5602   15.375326\n",
       "8                    SYMPTOM_HEADACHE   4156   11.406615\n",
       "9                   SYMPTOM_BODY_PAIN   4384   12.032386\n",
       "10                   SYMPTOM_DIARRHEA   3218    8.832167\n",
       "11                 SYMPTOM_RUNNY_NOSE   3456    9.485385\n",
       "12            SYMPTOM_NOSE_CONGESTION      5    0.013723\n",
       "13                   SYMPTOM_WEAKNESS   2089    5.733498\n",
       "14        SYMPTOM_ANOSMIA_OR_HYPOSMIA    143    0.392480\n",
       "15                     SYMPTOM_NAUSEA    133    0.365034\n",
       "16           SYMPTOM_LACK_OF_APPETITE    258    0.708110\n",
       "17             SYMPTOM_ABDOMINAL_PAIN    480    1.317415\n",
       "18  SYMPTOM_CONSCIOUSNESS_DEGRADATION    315    0.864553"
      ]
     },
     "execution_count": 7,
     "metadata": {},
     "output_type": "execute_result"
    }
   ],
   "source": [
    "df2"
   ]
  },
  {
   "cell_type": "code",
   "execution_count": 8,
   "metadata": {},
   "outputs": [
    {
     "data": {
      "text/plain": [
       "<AxesSubplot:xlabel='Count', ylabel='Sintoma'>"
      ]
     },
     "execution_count": 8,
     "metadata": {},
     "output_type": "execute_result"
    },
    {
     "data": {
      "image/png": "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",
      "text/plain": [
       "<Figure size 432x288 with 1 Axes>"
      ]
     },
     "metadata": {
      "needs_background": "light"
     },
     "output_type": "display_data"
    }
   ],
   "source": [
    "sns.barplot(data = df2.sort_values('Count', ascending=False), y=\"Sintoma\", x=\"Count\")"
   ]
  },
  {
   "cell_type": "code",
   "execution_count": 9,
   "metadata": {},
   "outputs": [
    {
     "data": {
      "text/html": [
       "<div>\n",
       "<style scoped>\n",
       "    .dataframe tbody tr th:only-of-type {\n",
       "        vertical-align: middle;\n",
       "    }\n",
       "\n",
       "    .dataframe tbody tr th {\n",
       "        vertical-align: top;\n",
       "    }\n",
       "\n",
       "    .dataframe thead th {\n",
       "        text-align: right;\n",
       "    }\n",
       "</style>\n",
       "<table border=\"1\" class=\"dataframe\">\n",
       "  <thead>\n",
       "    <tr style=\"text-align: right;\">\n",
       "      <th></th>\n",
       "      <th>Doencas_preexistentes</th>\n",
       "      <th>Count</th>\n",
       "      <th>percentage</th>\n",
       "    </tr>\n",
       "  </thead>\n",
       "  <tbody>\n",
       "    <tr>\n",
       "      <th>0</th>\n",
       "      <td>DISEASE_HEART_OR_VASCULAR</td>\n",
       "      <td>193</td>\n",
       "      <td>0.529710</td>\n",
       "    </tr>\n",
       "    <tr>\n",
       "      <th>1</th>\n",
       "      <td>DISEASE_DIABETES</td>\n",
       "      <td>5878</td>\n",
       "      <td>16.132839</td>\n",
       "    </tr>\n",
       "    <tr>\n",
       "      <th>2</th>\n",
       "      <td>DISEASE_HYPERTENSION</td>\n",
       "      <td>2390</td>\n",
       "      <td>6.559627</td>\n",
       "    </tr>\n",
       "    <tr>\n",
       "      <th>3</th>\n",
       "      <td>DISEASE_RESPIRATORY</td>\n",
       "      <td>715</td>\n",
       "      <td>1.962399</td>\n",
       "    </tr>\n",
       "    <tr>\n",
       "      <th>4</th>\n",
       "      <td>DISEASE_OBESITY</td>\n",
       "      <td>1785</td>\n",
       "      <td>4.899135</td>\n",
       "    </tr>\n",
       "    <tr>\n",
       "      <th>5</th>\n",
       "      <td>DISEASE_KIDNEY</td>\n",
       "      <td>10</td>\n",
       "      <td>0.027446</td>\n",
       "    </tr>\n",
       "    <tr>\n",
       "      <th>6</th>\n",
       "      <td>DISEASE_IMMUNOSUPPRESSION</td>\n",
       "      <td>3</td>\n",
       "      <td>0.008234</td>\n",
       "    </tr>\n",
       "    <tr>\n",
       "      <th>7</th>\n",
       "      <td>DISEASE_TABAGIST</td>\n",
       "      <td>1364</td>\n",
       "      <td>3.743653</td>\n",
       "    </tr>\n",
       "    <tr>\n",
       "      <th>8</th>\n",
       "      <td>DISEASE_ETILISM</td>\n",
       "      <td>393</td>\n",
       "      <td>1.078633</td>\n",
       "    </tr>\n",
       "    <tr>\n",
       "      <th>9</th>\n",
       "      <td>DISEASE_LIVER</td>\n",
       "      <td>0</td>\n",
       "      <td>0.000000</td>\n",
       "    </tr>\n",
       "    <tr>\n",
       "      <th>10</th>\n",
       "      <td>DISEASE_NEUROLOGIC</td>\n",
       "      <td>615</td>\n",
       "      <td>1.687937</td>\n",
       "    </tr>\n",
       "  </tbody>\n",
       "</table>\n",
       "</div>"
      ],
      "text/plain": [
       "        Doencas_preexistentes  Count  percentage\n",
       "0   DISEASE_HEART_OR_VASCULAR    193    0.529710\n",
       "1            DISEASE_DIABETES   5878   16.132839\n",
       "2        DISEASE_HYPERTENSION   2390    6.559627\n",
       "3         DISEASE_RESPIRATORY    715    1.962399\n",
       "4             DISEASE_OBESITY   1785    4.899135\n",
       "5              DISEASE_KIDNEY     10    0.027446\n",
       "6   DISEASE_IMMUNOSUPPRESSION      3    0.008234\n",
       "7            DISEASE_TABAGIST   1364    3.743653\n",
       "8             DISEASE_ETILISM    393    1.078633\n",
       "9               DISEASE_LIVER      0    0.000000\n",
       "10         DISEASE_NEUROLOGIC    615    1.687937"
      ]
     },
     "execution_count": 9,
     "metadata": {},
     "output_type": "execute_result"
    }
   ],
   "source": [
    "df3"
   ]
  },
  {
   "cell_type": "code",
   "execution_count": 10,
   "metadata": {},
   "outputs": [
    {
     "data": {
      "text/plain": [
       "<AxesSubplot:xlabel='Count', ylabel='Doencas_preexistentes'>"
      ]
     },
<<<<<<< HEAD
     "metadata": {
      "needs_background": "light"
     },
     "output_type": "display_data"
    }
   ],
   "source": [
    "analises.barplot_age()"
   ]
  },
  {
   "cell_type": "code",
   "execution_count": 13,
   "metadata": {},
   "outputs": [
    {
     "name": "stdout",
     "output_type": "stream",
     "text": [
      "Análises gráficas quantitativa das doenças\n"
     ]
=======
     "execution_count": 10,
     "metadata": {},
     "output_type": "execute_result"
>>>>>>> parent of 6210e5d (ajustando a classe para analises)
    },
    {
     "data": {
      "image/png": "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",
      "text/plain": [
       "<Figure size 432x288 with 1 Axes>"
      ]
     },
     "metadata": {
      "needs_background": "light"
     },
     "output_type": "display_data"
    }
   ],
   "source": [
    "sns.barplot(data = df3.sort_values('Count', ascending=False), y=\"Doencas_preexistentes\", x=\"Count\")"
   ]
  },
  {
   "cell_type": "code",
<<<<<<< HEAD
   "execution_count": 14,
=======
   "execution_count": 11,
>>>>>>> parent of 6210e5d (ajustando a classe para analises)
   "metadata": {},
   "outputs": [
    {
     "data": {
      "text/plain": [
       "array(['data_notificacao', 'sexo', 'idade', 'bairro',\n",
       "       'data_inicio_sintomas', 'sintomas', 'outros_sintomas',\n",
       "       'doencas_preexistentes', 'outras_doencas_preexistentes ',\n",
       "       'classificacao_final', 'evolucao', 'data_obito', 'age_group',\n",
       "       'SYMPTOM_COUGH', 'SYMPTOM_COLD', 'SYMPTOM_AIR_INSUFFICIENCY',\n",
       "       'SYMPTOM_FEVER', 'SYMPTOM_LOW_OXYGEN_SATURATION',\n",
       "       'SYMPTOM_BREATHING_CONDITION', 'SYMPTOM_TORACIC_APERTURE',\n",
       "       'SYMPTOM_THROAT_CONDITION', 'SYMPTOM_HEADACHE',\n",
       "       'SYMPTOM_BODY_PAIN', 'SYMPTOM_DIARRHEA', 'SYMPTOM_RUNNY_NOSE',\n",
       "       'SYMPTOM_NOSE_CONGESTION', 'SYMPTOM_WEAKNESS',\n",
       "       'SYMPTOM_ANOSMIA_OR_HYPOSMIA', 'SYMPTOM_NAUSEA',\n",
       "       'SYMPTOM_LACK_OF_APPETITE', 'SYMPTOM_ABDOMINAL_PAIN',\n",
       "       'SYMPTOM_CONSCIOUSNESS_DEGRADATION', 'DISEASE_HEART_OR_VASCULAR',\n",
       "       'DISEASE_DIABETES', 'DISEASE_HYPERTENSION', 'DISEASE_RESPIRATORY',\n",
       "       'DISEASE_OBESITY', 'DISEASE_KIDNEY', 'DISEASE_IMMUNOSUPPRESSION',\n",
       "       'DISEASE_TABAGIST', 'DISEASE_ETILISM', 'DISEASE_LIVER',\n",
       "       'DISEASE_NEUROLOGIC', 'death'], dtype=object)"
      ]
     },
     "execution_count": 11,
     "metadata": {},
     "output_type": "execute_result"
    }
   ],
   "source": [
    "df.columns.values"
   ]
  },
  {
   "cell_type": "code",
<<<<<<< HEAD
   "execution_count": 23,
=======
   "execution_count": 12,
   "metadata": {},
   "outputs": [],
   "source": [
    "def barplot(x_axis):\n",
    "    print('-'*40)\n",
    "    print(df.groupby(x_axis).death.value_counts())\n",
    "    sns.barplot(x = x_axis, y ='death', ci = None, data = df)\n",
    "    plt.title(x_axis)\n",
    "    plt.show()"
   ]
  },
  {
   "cell_type": "code",
   "execution_count": 13,
>>>>>>> parent of 6210e5d (ajustando a classe para analises)
   "metadata": {},
   "outputs": [
    {
     "name": "stdout",
     "output_type": "stream",
     "text": [
<<<<<<< HEAD
=======
      "########################################\n",
      "----------------------------------------\n",
      "sexo       death\n",
      "Feminino   0        14074\n",
      "           1         4569\n",
      "Ignorado   0            2\n",
      "Masculino  0        13015\n",
      "           1         4775\n",
      "Name: death, dtype: int64\n"
     ]
    },
    {
     "data": {
      "image/png": "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",
      "text/plain": [
       "<Figure size 432x288 with 1 Axes>"
      ]
     },
     "metadata": {
      "needs_background": "light"
     },
     "output_type": "display_data"
    },
    {
     "name": "stdout",
     "output_type": "stream",
     "text": [
      "----------------------------------------\n",
      "age_group  death\n",
      "0 - 5      0        2574\n",
      "           1          59\n",
      "16 - 25    0        1122\n",
      "           1          71\n",
      "26 - 40    0        5141\n",
      "           1         440\n",
      "41 - 60    0        8642\n",
      "           1        2204\n",
      "6 - 15     0         702\n",
      "           1          12\n",
      "61 - 80    0        6596\n",
      "           1        4253\n",
      ">80        0        2314\n",
      "           1        2305\n",
      "Name: death, dtype: int64\n"
     ]
    },
    {
     "data": {
      "image/png": "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",
      "text/plain": [
       "<Figure size 432x288 with 1 Axes>"
      ]
     },
     "metadata": {
      "needs_background": "light"
     },
     "output_type": "display_data"
    },
    {
     "name": "stdout",
     "output_type": "stream",
     "text": [
      "########################################\n",
>>>>>>> parent of 6210e5d (ajustando a classe para analises)
      "----------------------------------------\n",
      "SYMPTOM_COUGH  death\n",
      "0              0         6770\n",
      "               1         3223\n",
      "1              0        20321\n",
      "               1         6121\n",
      "Name: death, dtype: int64\n"
     ]
    },
    {
     "data": {
      "image/png": "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",
      "text/plain": [
       "<Figure size 432x288 with 1 Axes>"
      ]
     },
     "metadata": {
      "needs_background": "light"
     },
     "output_type": "display_data"
    }
   ],
   "source": [
    "analises.barplot('SYMPTOM_COUGH')"
   ]
  },
  {
   "cell_type": "code",
   "execution_count": 24,
   "metadata": {},
   "outputs": [
    {
     "name": "stdout",
     "output_type": "stream",
     "text": [
      "----------------------------------------\n",
      "SYMPTOM_AIR_INSUFFICIENCY  death\n",
      "0                          0        10032\n",
      "                           1         1834\n",
      "1                          0        17059\n",
      "                           1         7510\n",
      "Name: death, dtype: int64\n"
     ]
    },
    {
     "data": {
      "image/png": "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",
      "text/plain": [
       "<Figure size 432x288 with 1 Axes>"
      ]
     },
     "metadata": {
      "needs_background": "light"
     },
     "output_type": "display_data"
    }
   ],
   "source": [
    "analises.barplot('SYMPTOM_AIR_INSUFFICIENCY')"
   ]
  },
  {
   "cell_type": "code",
   "execution_count": 25,
   "metadata": {},
   "outputs": [
    {
     "name": "stdout",
     "output_type": "stream",
     "text": [
      "----------------------------------------\n",
      "DISEASE_DIABETES  death\n",
      "0                 0        23933\n",
      "                  1         6624\n",
      "1                 0         3158\n",
      "                  1         2720\n",
      "Name: death, dtype: int64\n"
     ]
    },
    {
     "data": {
      "image/png": "iVBORw0KGgoAAAANSUhEUgAAAX0AAAEHCAYAAABCwJb2AAAAOXRFWHRTb2Z0d2FyZQBNYXRwbG90bGliIHZlcnNpb24zLjQuMywgaHR0cHM6Ly9tYXRwbG90bGliLm9yZy/MnkTPAAAACXBIWXMAAAsTAAALEwEAmpwYAAAUuklEQVR4nO3df7DddX3n8efLIEiVFoTIYEgbqrE21m3EFLG4FqXyq52JbtWFdSVaZuLswE5r3dnBtrNQXabttJUpW6UbS5bgoIgKJbWMmEWo644/EiwGAqVcEUqyCBf5UR1cdpK+94/zuXKI92fuuTeEz/Mxc+d+z/v7+X7O5xsOr/s9n+/3fE+qCklSH563vwcgSVo8hr4kdcTQl6SOGPqS1BFDX5I6ctD+HsB0jjrqqFqxYsX+HoYkHVBuvfXWR6pq6WTrntWhv2LFCrZt27a/hyFJB5Qk90+1zukdSeqIoS9JHTH0Jakjhr4kdcTQl6SOGPqS1BFDX5I6YuhLUkcMfUnqyLP6E7kHivxB9vcQnlPqQr/YR1ooHulLUkcMfUnqiKEvSR0x9CWpI4a+JHXE0JekjswY+klekOQbSb6VZEeSP2j145J8PclYkk8nObjVD2mPx9r6FUN9fbDV705y2oLtlSRpUrM50n8KeHNV/SKwGjg9yYnAHwOXVNXLgceAc1v7c4HHWv2S1o4kq4CzgFcBpwMfS7JkhPsiSZrBjKFfAz9oD5/ffgp4M/DZVt8EvLUtr22PaetPSZJWv7qqnqqq7wBjwAmj2AlJ0uzMak4/yZIktwEPA1uAbwOPV9Xu1mQnsKwtLwMeAGjrnwCOHK5Pss3wc61Psi3JtvHx8TnvkCRparMK/araU1WrgWMZHJ2/cqEGVFUbqmpNVa1ZunTSL3OXJO2jOV29U1WPAzcDrwcOTzJx755jgV1teRewHKCt/ynge8P1SbaRJC2C2Vy9szTJ4W35UOAtwF0Mwv/trdk64Pq2vLk9pq3/UlVVq5/Vru45DlgJfGNE+yFJmoXZ3GXzGGBTu9LmecA1VfX5JHcCVyf5r8DfA5e39pcDn0gyBjzK4IodqmpHkmuAO4HdwHlVtWe0uyNJms6MoV9V24HXTFK/l0muvqmq/wu8Y4q+LgYunvswJUmj4CdyJakjhr4kdcTQl6SOGPqS1BFDX5I6YuhLUkcMfUnqiKEvSR0x9CWpI4a+JHXE0Jekjhj6ktQRQ1+SOjKbWytLOoAl+3sEzx1V+3sE8+eRviR1xNCXpI4Y+pLUEUNfkjpi6EtSRwx9SeqIoS9JHTH0Jakjhr4kdcTQl6SOzBj6SZYnuTnJnUl2JPmtVr8oya4kt7WfM4e2+WCSsSR3JzltqH56q40luWBhdkmSNJXZ3HtnN/CBqvpmksOAW5Nsaesuqao/HW6cZBVwFvAq4KXA/0zyirb6o8BbgJ3A1iSbq+rOUeyIJGlmM4Z+VT0IPNiWv5/kLmDZNJusBa6uqqeA7yQZA05o68aq6l6AJFe3toa+JC2SOc3pJ1kBvAb4eiudn2R7ko1Jjmi1ZcADQ5vtbLWp6ns/x/ok25JsGx8fn8vwJEkzmHXoJ3kR8Dngt6vqn4HLgJcBqxm8E/izUQyoqjZU1ZqqWrN06dJRdClJamZ1P/0kz2cQ+FdV1bUAVfXQ0PqPA59vD3cBy4c2P7bVmKYuSVoEs7l6J8DlwF1V9ZGh+jFDzd4G3NGWNwNnJTkkyXHASuAbwFZgZZLjkhzM4GTv5tHshiRpNmZzpH8S8G7g9iS3tdrvAmcnWQ0UcB/wPoCq2pHkGgYnaHcD51XVHoAk5wM3AkuAjVW1Y2R7Ikma0Wyu3vkKMNkXrt0wzTYXAxdPUr9huu0kSQvLT+RKUkcMfUnqiKEvSR0x9CWpI4a+JHXE0Jekjhj6ktQRQ1+SOmLoS1JHDH1J6oihL0kdMfQlqSOGviR1xNCXpI4Y+pLUEUNfkjpi6EtSRwx9SeqIoS9JHTH0Jakjhr4kdcTQl6SOGPqS1JEZQz/J8iQ3J7kzyY4kv9XqL06yJck97fcRrZ4klyYZS7I9yfFDfa1r7e9Jsm7hdkuSNJnZHOnvBj5QVauAE4HzkqwCLgBuqqqVwE3tMcAZwMr2sx64DAZ/JIALgdcBJwAXTvyhkCQtjhlDv6oerKpvtuXvA3cBy4C1wKbWbBPw1ra8FriyBr4GHJ7kGOA0YEtVPVpVjwFbgNNHuTOSpOnNaU4/yQrgNcDXgaOr6sG26rvA0W15GfDA0GY7W22quiRpkcw69JO8CPgc8NtV9c/D66qqgBrFgJKsT7Itybbx8fFRdClJamYV+kmezyDwr6qqa1v5oTZtQ/v9cKvvApYPbX5sq01Vf4aq2lBVa6pqzdKlS+eyL5KkGczm6p0AlwN3VdVHhlZtBiauwFkHXD9UP6ddxXMi8ESbBroRODXJEe0E7qmtJklaJAfNos1JwLuB25Pc1mq/C/wRcE2Sc4H7gXe2dTcAZwJjwJPAewGq6tEkHwa2tnYfqqpHR7ETkqTZmTH0q+orQKZYfcok7Qs4b4q+NgIb5zJASdLo+IlcSeqIoS9JHTH0Jakjhr4kdcTQl6SOGPqS1BFDX5I6YuhLUkcMfUnqiKEvSR0x9CWpI4a+JHXE0Jekjhj6ktQRQ1+SOmLoS1JHDH1J6oihL0kdMfQlqSOGviR1xNCXpI4Y+pLUEUNfkjpi6EtSR2YM/SQbkzyc5I6h2kVJdiW5rf2cObTug0nGktyd5LSh+umtNpbkgtHviiRpJrM50r8COH2S+iVVtbr93ACQZBVwFvCqts3HkixJsgT4KHAGsAo4u7WVJC2ig2ZqUFVfTrJilv2tBa6uqqeA7yQZA05o68aq6l6AJFe3tnfOfciSpH01nzn985Nsb9M/R7TaMuCBoTY7W22quiRpEe1r6F8GvAxYDTwI/NmoBpRkfZJtSbaNj4+PqltJEvsY+lX1UFXtqap/AT7O01M4u4DlQ02PbbWp6pP1vaGq1lTVmqVLl+7L8CRJU9in0E9yzNDDtwETV/ZsBs5KckiS44CVwDeArcDKJMclOZjByd7N+z5sSdK+mPFEbpJPAScDRyXZCVwInJxkNVDAfcD7AKpqR5JrGJyg3Q2cV1V7Wj/nAzcCS4CNVbVj1DsjSZrebK7eOXuS8uXTtL8YuHiS+g3ADXManSRppPxEriR1xNCXpI4Y+pLUEUNfkjpi6EtSRwx9SeqIoS9JHTH0Jakjhr4kdcTQl6SOGPqS1BFDX5I6YuhLUkcMfUnqiKEvSR0x9CWpI4a+JHXE0Jekjhj6ktQRQ1+SOmLoS1JHDH1J6oihL0kdMfQlqSMzhn6SjUkeTnLHUO3FSbYkuaf9PqLVk+TSJGNJtic5fmibda39PUnWLczuSJKmM5sj/SuA0/eqXQDcVFUrgZvaY4AzgJXtZz1wGQz+SAAXAq8DTgAunPhDIUlaPDOGflV9GXh0r/JaYFNb3gS8dah+ZQ18DTg8yTHAacCWqnq0qh4DtvDjf0gkSQtsX+f0j66qB9vyd4Gj2/Iy4IGhdjtbbar6j0myPsm2JNvGx8f3cXiSpMnM+0RuVRVQIxjLRH8bqmpNVa1ZunTpqLqVJLHvof9Qm7ah/X641XcBy4faHdtqU9UlSYtoX0N/MzBxBc464Pqh+jntKp4TgSfaNNCNwKlJjmgncE9tNUnSIjpopgZJPgWcDByVZCeDq3D+CLgmybnA/cA7W/MbgDOBMeBJ4L0AVfVokg8DW1u7D1XV3ieHJUkLbMbQr6qzp1h1yiRtCzhvin42AhvnNDpJ0kj5iVxJ6oihL0kdMfQlqSOGviR1xNCXpI4Y+pLUEUNfkjpi6EtSRwx9SeqIoS9JHTH0Jakjhr4kdcTQl6SOGPqS1BFDX5I6YuhLUkcMfUnqiKEvSR0x9CWpI4a+JHXE0Jekjhj6ktQRQ1+SOmLoS1JH5hX6Se5LcnuS25Jsa7UXJ9mS5J72+4hWT5JLk4wl2Z7k+FHsgCRp9kZxpP+mqlpdVWva4wuAm6pqJXBTewxwBrCy/awHLhvBc0uS5mAhpnfWApva8ibgrUP1K2vga8DhSY5ZgOeXJE1hvqFfwBeT3JpkfasdXVUPtuXvAke35WXAA0Pb7my1Z0iyPsm2JNvGx8fnOTxJ0rCD5rn9G6pqV5KXAFuS/MPwyqqqJDWXDqtqA7ABYM2aNXPaVpI0vXkd6VfVrvb7YeA64ATgoYlpm/b74dZ8F7B8aPNjW02StEj2OfSTvDDJYRPLwKnAHcBmYF1rtg64vi1vBs5pV/GcCDwxNA0kSVoE85neORq4LslEP5+sqi8k2Qpck+Rc4H7gna39DcCZwBjwJPDeeTy3JGkf7HPoV9W9wC9OUv8ecMok9QLO29fnkyTNn5/IlaSOGPqS1BFDX5I6YuhLUkcMfUnqiKEvSR0x9CWpI4a+JHXE0Jekjhj6ktQRQ1+SOmLoS1JHDH1J6oihL0kdMfQlqSOGviR1xNCXpI4Y+pLUEUNfkjpi6EtSRwx9SeqIoS9JHTH0Jakjhr4kdWTRQz/J6UnuTjKW5ILFfn5J6tmihn6SJcBHgTOAVcDZSVYt5hgkqWeLfaR/AjBWVfdW1f8DrgbWLvIYJKlbBy3y8y0DHhh6vBN43XCDJOuB9e3hD5LcvUhj68FRwCP7exAzyUXZ30PQ/vGsf33mwHlp/sxUKxY79GdUVRuADft7HM9FSbZV1Zr9PQ5pMr4+F8diT+/sApYPPT621SRJi2CxQ38rsDLJcUkOBs4CNi/yGCSpW4s6vVNVu5OcD9wILAE2VtWOxRxD55w207OZr89FkKra32OQJC0SP5ErSR0x9CWpI4b+ASzJoUn+rn3SmSRfSPJ4ks/PcvtDkny63RLj60lWtPqrk1yxcCPXc90IXptvTPLNJLuTvH2ovjTJFxZq3D0w9A9svwlcW1V72uM/Ad49h+3PBR6rqpcDlwB/DFBVtwPHJvnpUQ5WXZnva/OfgPcAnxwuVtU48GCSk0YxyB4Z+ge2dwHXTzyoqpuA789h+7XAprb8WeCU5EefOfwbBpfUSvtiXq/NqrqvqrYD/zLJ6r9u/WsfGPoHqPY5h5+tqvvm0c2PbotRVbuBJ4Aj27ptwL+ezxjVpxG9Nqfja3MeDP0D11HA4wvY/8PASxewfz13+dp8FjP0D1w/BF4wzz5+dFuMJAcBPwV8r617QXsOaa5G8dqcjq/NeTD0D1BV9RiwJMmM/3Ml+cMkb5tk1WZgXVt+O/ClevrTeq8A7hjJYNWVEb02p+Nrcx4M/QPbF4E3TDxI8r+AzzA4IbszyWlt1auB706y/eXAkUnGgN8Bhr/J7E3A3y7IqNWDeb02k/xSkp3AO4D/nmT4di2+NufB2zAcwJIcD7y/qqa9FC7JjVV12nRt9mp/CPB3wBvaCV5pThbqtdm2+TKwtr2j0BwZ+ge4JL8JbBq6HnoUfa4EllXVLaPqU/1ZoNfmUuCkqvrrUfXZG0NfkjrinL4kdcTQl6SOGPqS1BFDX5I6YuhrXpLsSXJbkh1JvpXkA0me19adPHEr3SRHJ/l8a3NnkhtafUWSH7Y+Jn7OGep/dZJKcvpez/t77Tm3t21e1+q3JLl7qK/PTjP2i5Lsau3uSXJtklVD629JsmYWY5n4N/hWux3wL0+3b+021rcl+ack40PrViS5L8ntQ7VLW18nDm13V5KLZvHf5hnjn4sk70ny0qHH9yU5al/60rPLon5Hrp6TflhVqwGSvITBrXB/Erhwr3YfArZU1Z+3tv9qaN23J/qYxNnAV9rvL7RtXw/8OnB8VT3VwujgoW3eVVXbZjn+S6rqT1u//xb4UpJXt1v4zjiWZvjf4DTgD4FfmWbfrmxt3wOsqarzJ1a0m5y+qaoe2WubTcA7q+pbGdyj/udmuX/76j0MPvX6fxb4ebTIPNLXyFTVw8B64PyhWzRPOAbYOdR2+0z9tT7ewSCA3jL0sf5jgEeq6qnW1yNVNe9wqqpPM/gk6b+bw1j29pPAQnxo6CXAg22ce6rqzknGeGiSq9s7geuAQ4fWnZrkq+2dyGeSvKjV/0uSrUnuSLIhA28H1gBXtXcWE/38x7b97UleuQD7qEVg6GukqupeYAmDkBr2UeDyJDe3qZnhuyS+bK8pkInb5v4y8J2q+jZwC/Brrf5FYHmSf0zysSS/wjNdNdTXn8xxF74JTBZoU40F4ND2XP8A/BXw4Vns23RuHmr//la7BLg7yXVJ3jfFH53/ADxZVT/P4J3WawHaO6HfB361qo5ncGvi32nb/EVV/VJV/QKDPxK/XlWfbW3eVVWrq2ri5maPtO0vA/7TLPZDz0JO72hRVNWNSX4WOB04A/j7JL/QVk81vXM2cHVbvho4B/hcVf0gyWsZ3FP9TcCnk1xQVVe0tnOZ3tnb3u9Qph1Lezw8vfN64MpZ7Nt0fmx6p6o+lOQq4FQG70TOBk7ea7s3Ape29tuTTLybOhFYBfzv9gbsYOCrE8+V5D8DPwG8GNjB4At0JnNt+30r8G/muE96ljD0NVIt2PcwuOf5zw+vq6pHGcz5fzKDE7xvZBAgk/WzBPgNYG2S32MQxkcmOayqvt8+2n8LcEuS2xncLfSKEezCaxgc5c56LHvt41fbkfXSEYzlGdq7jMuSfBwYT3JkVX1vpu3aeLdU1dnPKA7eLXyMwXmFB9rJ4enujPlU+70Hs+OA5fSORiaD+6L8JYMpg9pr3ZuT/ERbPgx4GYPvQZ3KKcD2qlpeVSuq6mcYHFm/LcnPZXB/oAmrgftHMP7fYHAk/anZjmWSPl7JYHprNmE8l7H92tB5kpUMgvfxJCckubLVv0w7H9HeaUycLP8acFKSl7d1L0zyCp4O+EfaHP+PvoCcwVcbHjbKfdCzg3+tNV+HJrkNeD6wG/gE8JFJ2r0W+IskuxkcbPxVVW1NsoI27z3UdiODI+7r9urjcwzmrXcA/y3J4e05xxicQJ5wVZLheehfnWb870/y74EXMrha5c2TXLlz9jRjuZKn/w1gcFS9rqr2tIz+sX2rqkunGQ8M5vQnblK2varOYfCl4pckeZLBPr+rPcdP8/QXilwG/I8kdwF30d5FVdV4u1LoUxncQRXg96vqH9u7hjsY3N5469AYrgD+sv07vn6G8eoA4g3XpANYO1H9idlcDSWBoS9JXXF6R8957eTrO/Yqf6aqLt4f45H2J4/0JakjXr0jSR0x9CWpI4a+JHXE0Jekjvx/RUL97MCMqoEAAAAASUVORK5CYII=",
      "text/plain": [
       "<Figure size 432x288 with 1 Axes>"
      ]
     },
     "metadata": {
      "needs_background": "light"
     },
     "output_type": "display_data"
    }
   ],
   "source": [
    "analises.barplot('DISEASE_DIABETES')"
   ]
  },
  {
   "cell_type": "markdown",
   "metadata": {},
   "source": [
    "### Análises gráficas periodo de 180 dias (6 meses)"
   ]
  },
  {
   "cell_type": "code",
   "execution_count": 35,
   "metadata": {},
   "outputs": [
    {
     "data": {
      "text/plain": [
       "3268    2020-02-26\n",
       "34596   2020-02-26\n",
       "10764   2020-02-27\n",
       "3269    2020-02-27\n",
       "27336   2020-02-27\n",
       "           ...    \n",
       "24111   2022-06-12\n",
       "12090   2022-06-12\n",
       "36434   2022-06-12\n",
       "28325   2022-06-13\n",
       "28324   2022-06-13\n",
       "Name: data_notificacao, Length: 36435, dtype: datetime64[ns]"
      ]
     },
     "execution_count": 35,
     "metadata": {},
     "output_type": "execute_result"
    }
   ],
   "source": [
<<<<<<< HEAD
    "df['data_notificacao'].sort_values()"
=======
    "print('#'*40)\n",
    "\n",
    "barplot('sexo')\n",
    "#barplot('idade')\n",
    "barplot('age_group')\n",
    "\n",
    "print('#'*40)\n",
    "\n",
    "barplot('SYMPTOM_COUGH')\n",
    "barplot('SYMPTOM_AIR_INSUFFICIENCY')\n",
    "barplot('SYMPTOM_FEVER')\n",
    "\n",
    "print('#'*40)\n",
    "\n",
    "barplot('DISEASE_DIABETES')\n",
    "barplot('DISEASE_HYPERTENSION')\n",
    "barplot('DISEASE_OBESITY')\n",
    "barplot('DISEASE_RESPIRATORY')\n",
    "\n",
    "print('#'*40)"
>>>>>>> parent of 6210e5d (ajustando a classe para analises)
   ]
  },
  {
   "cell_type": "code",
<<<<<<< HEAD
   "execution_count": 52,
   "metadata": {},
   "outputs": [],
   "source": [
    "periodo_1 = df[(df['data_notificacao'] > '2020-02-26') & (df['data_notificacao'] < '2020-08-31')]\n",
    "periodo_2 = df[(df['data_notificacao'] > '2020-09-01') & (df['data_notificacao'] < '2021-02-28')]\n",
    "periodo_3 = df[(df['data_notificacao'] > '2021-03-01') & (df['data_notificacao'] < '2021-08-31')]\n",
    "periodo_4 = df[(df['data_notificacao'] > '2021-09-01') & (df['data_notificacao'] < '2022-02-28')]\n",
    "periodo_5 = df[(df['data_notificacao'] > '2022-03-01') & (df['data_notificacao'] < '2022-06-13')]"
   ]
  },
  {
   "cell_type": "markdown",
   "metadata": {},
   "source": [
    "#### Análise periodo 1 (26/02/2020 até 31/08/2020)"
   ]
  },
  {
   "cell_type": "code",
   "execution_count": 143,
=======
   "execution_count": 14,
>>>>>>> parent of 6210e5d (ajustando a classe para analises)
   "metadata": {},
   "outputs": [
    {
     "name": "stdout",
     "output_type": "stream",
     "text": [
      "21.03\n"
     ]
<<<<<<< HEAD
=======
    },
    {
     "data": {
      "text/plain": [
       "<matplotlib.legend.Legend at 0x1d9487c25b0>"
      ]
     },
     "execution_count": 14,
     "metadata": {},
     "output_type": "execute_result"
    },
    {
     "data": {
      "image/png": "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",
      "text/plain": [
       "<Figure size 1080x360 with 1 Axes>"
      ]
     },
     "metadata": {
      "needs_background": "light"
     },
     "output_type": "display_data"
>>>>>>> parent of 6210e5d (ajustando a classe para analises)
    }
   ],
   "source": [
    "taxa_morte1 = (len(periodo_1[periodo_1['death'] == 1 ]) / len(periodo_1)) * 100\n",
    "print(f'{taxa_morte1:.2f}')"
   ]
  },
  {
   "cell_type": "code",
   "execution_count": 59,
   "metadata": {},
   "outputs": [
    {
     "data": {
      "text/html": [
       "<div>\n",
       "<style scoped>\n",
       "    .dataframe tbody tr th:only-of-type {\n",
       "        vertical-align: middle;\n",
       "    }\n",
       "\n",
       "    .dataframe tbody tr th {\n",
       "        vertical-align: top;\n",
       "    }\n",
       "\n",
       "    .dataframe thead th {\n",
       "        text-align: right;\n",
       "    }\n",
       "</style>\n",
       "<table border=\"1\" class=\"dataframe\">\n",
       "  <thead>\n",
       "    <tr style=\"text-align: right;\">\n",
       "      <th></th>\n",
       "      <th>Sintoma</th>\n",
       "      <th>Count</th>\n",
       "      <th>percentage</th>\n",
       "    </tr>\n",
       "  </thead>\n",
       "  <tbody>\n",
       "    <tr>\n",
       "      <th>0</th>\n",
       "      <td>SYMPTOM_COUGH</td>\n",
       "      <td>10476</td>\n",
       "      <td>63.991204</td>\n",
       "    </tr>\n",
       "    <tr>\n",
       "      <th>1</th>\n",
       "      <td>SYMPTOM_COLD</td>\n",
       "      <td>34</td>\n",
       "      <td>0.207684</td>\n",
       "    </tr>\n",
       "    <tr>\n",
       "      <th>2</th>\n",
       "      <td>SYMPTOM_AIR_INSUFFICIENCY</td>\n",
       "      <td>7830</td>\n",
       "      <td>47.828477</td>\n",
       "    </tr>\n",
       "    <tr>\n",
       "      <th>3</th>\n",
       "      <td>SYMPTOM_FEVER</td>\n",
       "      <td>9200</td>\n",
       "      <td>56.196934</td>\n",
       "    </tr>\n",
       "    <tr>\n",
       "      <th>4</th>\n",
       "      <td>SYMPTOM_LOW_OXYGEN_SATURATION</td>\n",
       "      <td>1</td>\n",
       "      <td>0.006108</td>\n",
       "    </tr>\n",
       "    <tr>\n",
       "      <th>5</th>\n",
       "      <td>SYMPTOM_BREATHING_CONDITION</td>\n",
       "      <td>66</td>\n",
       "      <td>0.403152</td>\n",
       "    </tr>\n",
       "    <tr>\n",
       "      <th>6</th>\n",
       "      <td>SYMPTOM_TORACIC_APERTURE</td>\n",
       "      <td>38</td>\n",
       "      <td>0.232118</td>\n",
       "    </tr>\n",
       "    <tr>\n",
       "      <th>7</th>\n",
       "      <td>SYMPTOM_THROAT_CONDITION</td>\n",
       "      <td>3565</td>\n",
       "      <td>21.776312</td>\n",
       "    </tr>\n",
       "    <tr>\n",
       "      <th>8</th>\n",
       "      <td>SYMPTOM_HEADACHE</td>\n",
       "      <td>1997</td>\n",
       "      <td>12.198400</td>\n",
       "    </tr>\n",
       "    <tr>\n",
       "      <th>9</th>\n",
       "      <td>SYMPTOM_BODY_PAIN</td>\n",
       "      <td>1510</td>\n",
       "      <td>9.223627</td>\n",
       "    </tr>\n",
       "    <tr>\n",
       "      <th>10</th>\n",
       "      <td>SYMPTOM_DIARRHEA</td>\n",
       "      <td>1596</td>\n",
       "      <td>9.748946</td>\n",
       "    </tr>\n",
       "    <tr>\n",
       "      <th>11</th>\n",
       "      <td>SYMPTOM_RUNNY_NOSE</td>\n",
       "      <td>1035</td>\n",
       "      <td>6.322155</td>\n",
       "    </tr>\n",
       "    <tr>\n",
       "      <th>12</th>\n",
       "      <td>SYMPTOM_NOSE_CONGESTION</td>\n",
       "      <td>1</td>\n",
       "      <td>0.006108</td>\n",
       "    </tr>\n",
       "    <tr>\n",
       "      <th>13</th>\n",
       "      <td>SYMPTOM_WEAKNESS</td>\n",
       "      <td>474</td>\n",
       "      <td>2.895364</td>\n",
       "    </tr>\n",
       "    <tr>\n",
       "      <th>14</th>\n",
       "      <td>SYMPTOM_ANOSMIA_OR_HYPOSMIA</td>\n",
       "      <td>34</td>\n",
       "      <td>0.207684</td>\n",
       "    </tr>\n",
       "    <tr>\n",
       "      <th>15</th>\n",
       "      <td>SYMPTOM_NAUSEA</td>\n",
       "      <td>37</td>\n",
       "      <td>0.226009</td>\n",
       "    </tr>\n",
       "    <tr>\n",
       "      <th>16</th>\n",
       "      <td>SYMPTOM_LACK_OF_APPETITE</td>\n",
       "      <td>72</td>\n",
       "      <td>0.439802</td>\n",
       "    </tr>\n",
       "    <tr>\n",
       "      <th>17</th>\n",
       "      <td>SYMPTOM_ABDOMINAL_PAIN</td>\n",
       "      <td>120</td>\n",
       "      <td>0.733003</td>\n",
       "    </tr>\n",
       "    <tr>\n",
       "      <th>18</th>\n",
       "      <td>SYMPTOM_CONSCIOUSNESS_DEGRADATION</td>\n",
       "      <td>48</td>\n",
       "      <td>0.293201</td>\n",
       "    </tr>\n",
       "  </tbody>\n",
       "</table>\n",
       "</div>"
      ],
      "text/plain": [
       "                              Sintoma  Count  percentage\n",
       "0                       SYMPTOM_COUGH  10476   63.991204\n",
       "1                        SYMPTOM_COLD     34    0.207684\n",
       "2           SYMPTOM_AIR_INSUFFICIENCY   7830   47.828477\n",
       "3                       SYMPTOM_FEVER   9200   56.196934\n",
       "4       SYMPTOM_LOW_OXYGEN_SATURATION      1    0.006108\n",
       "5         SYMPTOM_BREATHING_CONDITION     66    0.403152\n",
       "6            SYMPTOM_TORACIC_APERTURE     38    0.232118\n",
       "7            SYMPTOM_THROAT_CONDITION   3565   21.776312\n",
       "8                    SYMPTOM_HEADACHE   1997   12.198400\n",
       "9                   SYMPTOM_BODY_PAIN   1510    9.223627\n",
       "10                   SYMPTOM_DIARRHEA   1596    9.748946\n",
       "11                 SYMPTOM_RUNNY_NOSE   1035    6.322155\n",
       "12            SYMPTOM_NOSE_CONGESTION      1    0.006108\n",
       "13                   SYMPTOM_WEAKNESS    474    2.895364\n",
       "14        SYMPTOM_ANOSMIA_OR_HYPOSMIA     34    0.207684\n",
       "15                     SYMPTOM_NAUSEA     37    0.226009\n",
       "16           SYMPTOM_LACK_OF_APPETITE     72    0.439802\n",
       "17             SYMPTOM_ABDOMINAL_PAIN    120    0.733003\n",
       "18  SYMPTOM_CONSCIOUSNESS_DEGRADATION     48    0.293201"
      ]
     },
     "execution_count": 59,
     "metadata": {},
     "output_type": "execute_result"
    }
   ],
   "source": [
    "analises.run_graves(periodo_1)\n",
    "df2_p1 = analises.df2\n",
    "df3_p1 = analises.df3\n",
    "df2_p1"
   ]
  },
  {
   "cell_type": "code",
   "execution_count": 66,
   "metadata": {},
   "outputs": [
    {
     "data": {
      "text/html": [
       "<div>\n",
       "<style scoped>\n",
       "    .dataframe tbody tr th:only-of-type {\n",
       "        vertical-align: middle;\n",
       "    }\n",
       "\n",
       "    .dataframe tbody tr th {\n",
       "        vertical-align: top;\n",
       "    }\n",
       "\n",
       "    .dataframe thead th {\n",
       "        text-align: right;\n",
       "    }\n",
       "</style>\n",
       "<table border=\"1\" class=\"dataframe\">\n",
       "  <thead>\n",
       "    <tr style=\"text-align: right;\">\n",
       "      <th></th>\n",
       "      <th>Doencas_preexistentes</th>\n",
       "      <th>Count</th>\n",
       "      <th>percentage</th>\n",
       "    </tr>\n",
       "  </thead>\n",
       "  <tbody>\n",
       "    <tr>\n",
       "      <th>0</th>\n",
       "      <td>DISEASE_HEART_OR_VASCULAR</td>\n",
       "      <td>67</td>\n",
       "      <td>0.409260</td>\n",
       "    </tr>\n",
       "    <tr>\n",
       "      <th>1</th>\n",
       "      <td>DISEASE_DIABETES</td>\n",
       "      <td>1369</td>\n",
       "      <td>8.362348</td>\n",
       "    </tr>\n",
       "    <tr>\n",
       "      <th>2</th>\n",
       "      <td>DISEASE_HYPERTENSION</td>\n",
       "      <td>536</td>\n",
       "      <td>3.274082</td>\n",
       "    </tr>\n",
       "    <tr>\n",
       "      <th>3</th>\n",
       "      <td>DISEASE_RESPIRATORY</td>\n",
       "      <td>151</td>\n",
       "      <td>0.922363</td>\n",
       "    </tr>\n",
       "    <tr>\n",
       "      <th>4</th>\n",
       "      <td>DISEASE_OBESITY</td>\n",
       "      <td>361</td>\n",
       "      <td>2.205119</td>\n",
       "    </tr>\n",
       "    <tr>\n",
       "      <th>5</th>\n",
       "      <td>DISEASE_KIDNEY</td>\n",
       "      <td>8</td>\n",
       "      <td>0.048867</td>\n",
       "    </tr>\n",
       "    <tr>\n",
       "      <th>6</th>\n",
       "      <td>DISEASE_IMMUNOSUPPRESSION</td>\n",
       "      <td>2</td>\n",
       "      <td>0.012217</td>\n",
       "    </tr>\n",
       "    <tr>\n",
       "      <th>7</th>\n",
       "      <td>DISEASE_TABAGIST</td>\n",
       "      <td>167</td>\n",
       "      <td>1.020097</td>\n",
       "    </tr>\n",
       "    <tr>\n",
       "      <th>8</th>\n",
       "      <td>DISEASE_ETILISM</td>\n",
       "      <td>90</td>\n",
       "      <td>0.549753</td>\n",
       "    </tr>\n",
       "    <tr>\n",
       "      <th>9</th>\n",
       "      <td>DISEASE_LIVER</td>\n",
       "      <td>0</td>\n",
       "      <td>0.000000</td>\n",
       "    </tr>\n",
       "    <tr>\n",
       "      <th>10</th>\n",
       "      <td>DISEASE_NEUROLOGIC</td>\n",
       "      <td>165</td>\n",
       "      <td>1.007880</td>\n",
       "    </tr>\n",
       "  </tbody>\n",
       "</table>\n",
       "</div>"
      ],
      "text/plain": [
       "        Doencas_preexistentes  Count  percentage\n",
       "0   DISEASE_HEART_OR_VASCULAR     67    0.409260\n",
       "1            DISEASE_DIABETES   1369    8.362348\n",
       "2        DISEASE_HYPERTENSION    536    3.274082\n",
       "3         DISEASE_RESPIRATORY    151    0.922363\n",
       "4             DISEASE_OBESITY    361    2.205119\n",
       "5              DISEASE_KIDNEY      8    0.048867\n",
       "6   DISEASE_IMMUNOSUPPRESSION      2    0.012217\n",
       "7            DISEASE_TABAGIST    167    1.020097\n",
       "8             DISEASE_ETILISM     90    0.549753\n",
       "9               DISEASE_LIVER      0    0.000000\n",
       "10         DISEASE_NEUROLOGIC    165    1.007880"
      ]
     },
     "execution_count": 66,
     "metadata": {},
     "output_type": "execute_result"
    }
   ],
   "source": [
    "df3_p1"
   ]
  },
  {
   "cell_type": "code",
   "execution_count": 60,
   "metadata": {},
   "outputs": [
    {
     "name": "stdout",
     "output_type": "stream",
     "text": [
      "Análises gráficas quantitativa dos sintomas\n"
     ]
    },
    {
     "data": {
      "image/png": "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",
      "text/plain": [
       "<Figure size 432x288 with 1 Axes>"
      ]
     },
     "metadata": {
      "needs_background": "light"
     },
     "output_type": "display_data"
    }
   ],
   "source": [
    "analises.plot_data_sintomas()"
   ]
  },
  {
   "cell_type": "code",
   "execution_count": 61,
   "metadata": {},
   "outputs": [
    {
     "name": "stdout",
     "output_type": "stream",
     "text": [
      "Análises gráficas quantitativa das doenças\n"
     ]
    },
    {
     "data": {
      "image/png": "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",
      "text/plain": [
       "<Figure size 432x288 with 1 Axes>"
      ]
     },
     "metadata": {
      "needs_background": "light"
     },
     "output_type": "display_data"
    }
   ],
   "source": [
    "analises.plot_data_doencas()"
   ]
  },
  {
   "cell_type": "markdown",
   "metadata": {},
   "source": [
    "#### Análise periodo 2 (01/09/2020 até 28/02/2021)"
   ]
  },
  {
   "cell_type": "code",
   "execution_count": 144,
   "metadata": {},
   "outputs": [
    {
     "name": "stdout",
     "output_type": "stream",
     "text": [
      "31.16\n"
     ]
    }
   ],
   "source": [
    "taxa_morte2 = (len(periodo_2[periodo_2['death'] == 1 ]) / len(periodo_2)) * 100\n",
    "print(f'{taxa_morte2:.2f}')"
   ]
  },
  {
   "cell_type": "code",
   "execution_count": 62,
   "metadata": {},
   "outputs": [
    {
     "data": {
      "text/html": [
       "<div>\n",
       "<style scoped>\n",
       "    .dataframe tbody tr th:only-of-type {\n",
       "        vertical-align: middle;\n",
       "    }\n",
       "\n",
       "    .dataframe tbody tr th {\n",
       "        vertical-align: top;\n",
       "    }\n",
       "\n",
       "    .dataframe thead th {\n",
       "        text-align: right;\n",
       "    }\n",
       "</style>\n",
       "<table border=\"1\" class=\"dataframe\">\n",
       "  <thead>\n",
       "    <tr style=\"text-align: right;\">\n",
       "      <th></th>\n",
       "      <th>Sintoma</th>\n",
       "      <th>Count</th>\n",
       "      <th>percentage</th>\n",
       "    </tr>\n",
       "  </thead>\n",
       "  <tbody>\n",
       "    <tr>\n",
       "      <th>0</th>\n",
       "      <td>SYMPTOM_COUGH</td>\n",
       "      <td>4018</td>\n",
       "      <td>79.188017</td>\n",
       "    </tr>\n",
       "    <tr>\n",
       "      <th>1</th>\n",
       "      <td>SYMPTOM_COLD</td>\n",
       "      <td>8</td>\n",
       "      <td>0.157667</td>\n",
       "    </tr>\n",
       "    <tr>\n",
       "      <th>2</th>\n",
       "      <td>SYMPTOM_AIR_INSUFFICIENCY</td>\n",
       "      <td>4182</td>\n",
       "      <td>82.420181</td>\n",
       "    </tr>\n",
       "    <tr>\n",
       "      <th>3</th>\n",
       "      <td>SYMPTOM_FEVER</td>\n",
       "      <td>3353</td>\n",
       "      <td>66.081987</td>\n",
       "    </tr>\n",
       "    <tr>\n",
       "      <th>4</th>\n",
       "      <td>SYMPTOM_LOW_OXYGEN_SATURATION</td>\n",
       "      <td>0</td>\n",
       "      <td>0.000000</td>\n",
       "    </tr>\n",
       "    <tr>\n",
       "      <th>5</th>\n",
       "      <td>SYMPTOM_BREATHING_CONDITION</td>\n",
       "      <td>79</td>\n",
       "      <td>1.556957</td>\n",
       "    </tr>\n",
       "    <tr>\n",
       "      <th>6</th>\n",
       "      <td>SYMPTOM_TORACIC_APERTURE</td>\n",
       "      <td>46</td>\n",
       "      <td>0.906583</td>\n",
       "    </tr>\n",
       "    <tr>\n",
       "      <th>7</th>\n",
       "      <td>SYMPTOM_THROAT_CONDITION</td>\n",
       "      <td>496</td>\n",
       "      <td>9.775325</td>\n",
       "    </tr>\n",
       "    <tr>\n",
       "      <th>8</th>\n",
       "      <td>SYMPTOM_HEADACHE</td>\n",
       "      <td>592</td>\n",
       "      <td>11.667324</td>\n",
       "    </tr>\n",
       "    <tr>\n",
       "      <th>9</th>\n",
       "      <td>SYMPTOM_BODY_PAIN</td>\n",
       "      <td>811</td>\n",
       "      <td>15.983445</td>\n",
       "    </tr>\n",
       "    <tr>\n",
       "      <th>10</th>\n",
       "      <td>SYMPTOM_DIARRHEA</td>\n",
       "      <td>478</td>\n",
       "      <td>9.420575</td>\n",
       "    </tr>\n",
       "    <tr>\n",
       "      <th>11</th>\n",
       "      <td>SYMPTOM_RUNNY_NOSE</td>\n",
       "      <td>570</td>\n",
       "      <td>11.233741</td>\n",
       "    </tr>\n",
       "    <tr>\n",
       "      <th>12</th>\n",
       "      <td>SYMPTOM_NOSE_CONGESTION</td>\n",
       "      <td>0</td>\n",
       "      <td>0.000000</td>\n",
       "    </tr>\n",
       "    <tr>\n",
       "      <th>13</th>\n",
       "      <td>SYMPTOM_WEAKNESS</td>\n",
       "      <td>497</td>\n",
       "      <td>9.795034</td>\n",
       "    </tr>\n",
       "    <tr>\n",
       "      <th>14</th>\n",
       "      <td>SYMPTOM_ANOSMIA_OR_HYPOSMIA</td>\n",
       "      <td>36</td>\n",
       "      <td>0.709499</td>\n",
       "    </tr>\n",
       "    <tr>\n",
       "      <th>15</th>\n",
       "      <td>SYMPTOM_NAUSEA</td>\n",
       "      <td>17</td>\n",
       "      <td>0.335041</td>\n",
       "    </tr>\n",
       "    <tr>\n",
       "      <th>16</th>\n",
       "      <td>SYMPTOM_LACK_OF_APPETITE</td>\n",
       "      <td>51</td>\n",
       "      <td>1.005124</td>\n",
       "    </tr>\n",
       "    <tr>\n",
       "      <th>17</th>\n",
       "      <td>SYMPTOM_ABDOMINAL_PAIN</td>\n",
       "      <td>100</td>\n",
       "      <td>1.970832</td>\n",
       "    </tr>\n",
       "    <tr>\n",
       "      <th>18</th>\n",
       "      <td>SYMPTOM_CONSCIOUSNESS_DEGRADATION</td>\n",
       "      <td>44</td>\n",
       "      <td>0.867166</td>\n",
       "    </tr>\n",
       "  </tbody>\n",
       "</table>\n",
       "</div>"
      ],
      "text/plain": [
       "                              Sintoma  Count  percentage\n",
       "0                       SYMPTOM_COUGH   4018   79.188017\n",
       "1                        SYMPTOM_COLD      8    0.157667\n",
       "2           SYMPTOM_AIR_INSUFFICIENCY   4182   82.420181\n",
       "3                       SYMPTOM_FEVER   3353   66.081987\n",
       "4       SYMPTOM_LOW_OXYGEN_SATURATION      0    0.000000\n",
       "5         SYMPTOM_BREATHING_CONDITION     79    1.556957\n",
       "6            SYMPTOM_TORACIC_APERTURE     46    0.906583\n",
       "7            SYMPTOM_THROAT_CONDITION    496    9.775325\n",
       "8                    SYMPTOM_HEADACHE    592   11.667324\n",
       "9                   SYMPTOM_BODY_PAIN    811   15.983445\n",
       "10                   SYMPTOM_DIARRHEA    478    9.420575\n",
       "11                 SYMPTOM_RUNNY_NOSE    570   11.233741\n",
       "12            SYMPTOM_NOSE_CONGESTION      0    0.000000\n",
       "13                   SYMPTOM_WEAKNESS    497    9.795034\n",
       "14        SYMPTOM_ANOSMIA_OR_HYPOSMIA     36    0.709499\n",
       "15                     SYMPTOM_NAUSEA     17    0.335041\n",
       "16           SYMPTOM_LACK_OF_APPETITE     51    1.005124\n",
       "17             SYMPTOM_ABDOMINAL_PAIN    100    1.970832\n",
       "18  SYMPTOM_CONSCIOUSNESS_DEGRADATION     44    0.867166"
      ]
     },
     "execution_count": 62,
     "metadata": {},
     "output_type": "execute_result"
    }
   ],
   "source": [
    "analises.run_graves(periodo_2)\n",
    "df2_p2 = analises.df2\n",
    "df3_p2 = analises.df3\n",
    "df2_p2"
   ]
  },
  {
   "cell_type": "code",
   "execution_count": 67,
   "metadata": {},
   "outputs": [
    {
     "data": {
      "text/html": [
       "<div>\n",
       "<style scoped>\n",
       "    .dataframe tbody tr th:only-of-type {\n",
       "        vertical-align: middle;\n",
       "    }\n",
       "\n",
       "    .dataframe tbody tr th {\n",
       "        vertical-align: top;\n",
       "    }\n",
       "\n",
       "    .dataframe thead th {\n",
       "        text-align: right;\n",
       "    }\n",
       "</style>\n",
       "<table border=\"1\" class=\"dataframe\">\n",
       "  <thead>\n",
       "    <tr style=\"text-align: right;\">\n",
       "      <th></th>\n",
       "      <th>Doencas_preexistentes</th>\n",
       "      <th>Count</th>\n",
       "      <th>percentage</th>\n",
       "    </tr>\n",
       "  </thead>\n",
       "  <tbody>\n",
       "    <tr>\n",
       "      <th>0</th>\n",
       "      <td>DISEASE_HEART_OR_VASCULAR</td>\n",
       "      <td>26</td>\n",
       "      <td>0.512416</td>\n",
       "    </tr>\n",
       "    <tr>\n",
       "      <th>1</th>\n",
       "      <td>DISEASE_DIABETES</td>\n",
       "      <td>1266</td>\n",
       "      <td>24.950729</td>\n",
       "    </tr>\n",
       "    <tr>\n",
       "      <th>2</th>\n",
       "      <td>DISEASE_HYPERTENSION</td>\n",
       "      <td>347</td>\n",
       "      <td>6.838786</td>\n",
       "    </tr>\n",
       "    <tr>\n",
       "      <th>3</th>\n",
       "      <td>DISEASE_RESPIRATORY</td>\n",
       "      <td>116</td>\n",
       "      <td>2.286165</td>\n",
       "    </tr>\n",
       "    <tr>\n",
       "      <th>4</th>\n",
       "      <td>DISEASE_OBESITY</td>\n",
       "      <td>340</td>\n",
       "      <td>6.700828</td>\n",
       "    </tr>\n",
       "    <tr>\n",
       "      <th>5</th>\n",
       "      <td>DISEASE_KIDNEY</td>\n",
       "      <td>1</td>\n",
       "      <td>0.019708</td>\n",
       "    </tr>\n",
       "    <tr>\n",
       "      <th>6</th>\n",
       "      <td>DISEASE_IMMUNOSUPPRESSION</td>\n",
       "      <td>0</td>\n",
       "      <td>0.000000</td>\n",
       "    </tr>\n",
       "    <tr>\n",
       "      <th>7</th>\n",
       "      <td>DISEASE_TABAGIST</td>\n",
       "      <td>310</td>\n",
       "      <td>6.109578</td>\n",
       "    </tr>\n",
       "    <tr>\n",
       "      <th>8</th>\n",
       "      <td>DISEASE_ETILISM</td>\n",
       "      <td>94</td>\n",
       "      <td>1.852582</td>\n",
       "    </tr>\n",
       "    <tr>\n",
       "      <th>9</th>\n",
       "      <td>DISEASE_LIVER</td>\n",
       "      <td>0</td>\n",
       "      <td>0.000000</td>\n",
       "    </tr>\n",
       "    <tr>\n",
       "      <th>10</th>\n",
       "      <td>DISEASE_NEUROLOGIC</td>\n",
       "      <td>98</td>\n",
       "      <td>1.931415</td>\n",
       "    </tr>\n",
       "  </tbody>\n",
       "</table>\n",
       "</div>"
      ],
      "text/plain": [
       "        Doencas_preexistentes  Count  percentage\n",
       "0   DISEASE_HEART_OR_VASCULAR     26    0.512416\n",
       "1            DISEASE_DIABETES   1266   24.950729\n",
       "2        DISEASE_HYPERTENSION    347    6.838786\n",
       "3         DISEASE_RESPIRATORY    116    2.286165\n",
       "4             DISEASE_OBESITY    340    6.700828\n",
       "5              DISEASE_KIDNEY      1    0.019708\n",
       "6   DISEASE_IMMUNOSUPPRESSION      0    0.000000\n",
       "7            DISEASE_TABAGIST    310    6.109578\n",
       "8             DISEASE_ETILISM     94    1.852582\n",
       "9               DISEASE_LIVER      0    0.000000\n",
       "10         DISEASE_NEUROLOGIC     98    1.931415"
      ]
     },
     "execution_count": 67,
     "metadata": {},
     "output_type": "execute_result"
    }
   ],
   "source": [
    "df3_p2"
   ]
  },
  {
   "cell_type": "code",
   "execution_count": 63,
   "metadata": {},
   "outputs": [
    {
     "name": "stdout",
     "output_type": "stream",
     "text": [
      "Análises gráficas quantitativa dos sintomas\n"
     ]
    },
    {
     "data": {
      "image/png": "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",
      "text/plain": [
       "<Figure size 432x288 with 1 Axes>"
      ]
     },
     "metadata": {
      "needs_background": "light"
     },
     "output_type": "display_data"
    }
   ],
   "source": [
    "analises.plot_data_sintomas()"
   ]
  },
  {
   "cell_type": "code",
   "execution_count": 64,
   "metadata": {},
   "outputs": [
    {
     "name": "stdout",
     "output_type": "stream",
     "text": [
      "Análises gráficas quantitativa das doenças\n"
     ]
    },
    {
     "data": {
      "image/png": "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",
      "text/plain": [
       "<Figure size 432x288 with 1 Axes>"
      ]
     },
     "metadata": {
      "needs_background": "light"
     },
     "output_type": "display_data"
    }
   ],
   "source": [
    "analises.plot_data_doencas()"
   ]
  },
  {
   "cell_type": "markdown",
   "metadata": {},
   "source": [
    "#### Análise periodo 3 (01/03/2021 até 31/08/2021)"
   ]
  },
  {
   "cell_type": "code",
   "execution_count": 145,
   "metadata": {},
   "outputs": [
    {
     "name": "stdout",
     "output_type": "stream",
     "text": [
      "31.41\n"
     ]
    }
   ],
   "source": [
    "taxa_morte3 = (len(periodo_3[periodo_3['death'] == 1 ]) / len(periodo_3)) * 100\n",
    "print(f'{taxa_morte3:.2f}')"
   ]
  },
  {
   "cell_type": "code",
   "execution_count": 70,
   "metadata": {},
   "outputs": [
    {
     "data": {
      "text/html": [
       "<div>\n",
       "<style scoped>\n",
       "    .dataframe tbody tr th:only-of-type {\n",
       "        vertical-align: middle;\n",
       "    }\n",
       "\n",
       "    .dataframe tbody tr th {\n",
       "        vertical-align: top;\n",
       "    }\n",
       "\n",
       "    .dataframe thead th {\n",
       "        text-align: right;\n",
       "    }\n",
       "</style>\n",
       "<table border=\"1\" class=\"dataframe\">\n",
       "  <thead>\n",
       "    <tr style=\"text-align: right;\">\n",
       "      <th></th>\n",
       "      <th>Sintoma</th>\n",
       "      <th>Count</th>\n",
       "      <th>percentage</th>\n",
       "    </tr>\n",
       "  </thead>\n",
       "  <tbody>\n",
       "    <tr>\n",
       "      <th>0</th>\n",
       "      <td>SYMPTOM_COUGH</td>\n",
       "      <td>7308</td>\n",
       "      <td>83.865045</td>\n",
       "    </tr>\n",
       "    <tr>\n",
       "      <th>1</th>\n",
       "      <td>SYMPTOM_COLD</td>\n",
       "      <td>28</td>\n",
       "      <td>0.321322</td>\n",
       "    </tr>\n",
       "    <tr>\n",
       "      <th>2</th>\n",
       "      <td>SYMPTOM_AIR_INSUFFICIENCY</td>\n",
       "      <td>7242</td>\n",
       "      <td>83.107643</td>\n",
       "    </tr>\n",
       "    <tr>\n",
       "      <th>3</th>\n",
       "      <td>SYMPTOM_FEVER</td>\n",
       "      <td>6667</td>\n",
       "      <td>76.509066</td>\n",
       "    </tr>\n",
       "    <tr>\n",
       "      <th>4</th>\n",
       "      <td>SYMPTOM_LOW_OXYGEN_SATURATION</td>\n",
       "      <td>0</td>\n",
       "      <td>0.000000</td>\n",
       "    </tr>\n",
       "    <tr>\n",
       "      <th>5</th>\n",
       "      <td>SYMPTOM_BREATHING_CONDITION</td>\n",
       "      <td>73</td>\n",
       "      <td>0.837732</td>\n",
       "    </tr>\n",
       "    <tr>\n",
       "      <th>6</th>\n",
       "      <td>SYMPTOM_TORACIC_APERTURE</td>\n",
       "      <td>72</td>\n",
       "      <td>0.826257</td>\n",
       "    </tr>\n",
       "    <tr>\n",
       "      <th>7</th>\n",
       "      <td>SYMPTOM_THROAT_CONDITION</td>\n",
       "      <td>916</td>\n",
       "      <td>10.511820</td>\n",
       "    </tr>\n",
       "    <tr>\n",
       "      <th>8</th>\n",
       "      <td>SYMPTOM_HEADACHE</td>\n",
       "      <td>1263</td>\n",
       "      <td>14.493918</td>\n",
       "    </tr>\n",
       "    <tr>\n",
       "      <th>9</th>\n",
       "      <td>SYMPTOM_BODY_PAIN</td>\n",
       "      <td>1664</td>\n",
       "      <td>19.095708</td>\n",
       "    </tr>\n",
       "    <tr>\n",
       "      <th>10</th>\n",
       "      <td>SYMPTOM_DIARRHEA</td>\n",
       "      <td>844</td>\n",
       "      <td>9.685563</td>\n",
       "    </tr>\n",
       "    <tr>\n",
       "      <th>11</th>\n",
       "      <td>SYMPTOM_RUNNY_NOSE</td>\n",
       "      <td>1135</td>\n",
       "      <td>13.025017</td>\n",
       "    </tr>\n",
       "    <tr>\n",
       "      <th>12</th>\n",
       "      <td>SYMPTOM_NOSE_CONGESTION</td>\n",
       "      <td>2</td>\n",
       "      <td>0.022952</td>\n",
       "    </tr>\n",
       "    <tr>\n",
       "      <th>13</th>\n",
       "      <td>SYMPTOM_WEAKNESS</td>\n",
       "      <td>857</td>\n",
       "      <td>9.834749</td>\n",
       "    </tr>\n",
       "    <tr>\n",
       "      <th>14</th>\n",
       "      <td>SYMPTOM_ANOSMIA_OR_HYPOSMIA</td>\n",
       "      <td>65</td>\n",
       "      <td>0.745926</td>\n",
       "    </tr>\n",
       "    <tr>\n",
       "      <th>15</th>\n",
       "      <td>SYMPTOM_NAUSEA</td>\n",
       "      <td>67</td>\n",
       "      <td>0.768878</td>\n",
       "    </tr>\n",
       "    <tr>\n",
       "      <th>16</th>\n",
       "      <td>SYMPTOM_LACK_OF_APPETITE</td>\n",
       "      <td>88</td>\n",
       "      <td>1.009869</td>\n",
       "    </tr>\n",
       "    <tr>\n",
       "      <th>17</th>\n",
       "      <td>SYMPTOM_ABDOMINAL_PAIN</td>\n",
       "      <td>140</td>\n",
       "      <td>1.606610</td>\n",
       "    </tr>\n",
       "    <tr>\n",
       "      <th>18</th>\n",
       "      <td>SYMPTOM_CONSCIOUSNESS_DEGRADATION</td>\n",
       "      <td>73</td>\n",
       "      <td>0.837732</td>\n",
       "    </tr>\n",
       "  </tbody>\n",
       "</table>\n",
       "</div>"
      ],
      "text/plain": [
       "                              Sintoma  Count  percentage\n",
       "0                       SYMPTOM_COUGH   7308   83.865045\n",
       "1                        SYMPTOM_COLD     28    0.321322\n",
       "2           SYMPTOM_AIR_INSUFFICIENCY   7242   83.107643\n",
       "3                       SYMPTOM_FEVER   6667   76.509066\n",
       "4       SYMPTOM_LOW_OXYGEN_SATURATION      0    0.000000\n",
       "5         SYMPTOM_BREATHING_CONDITION     73    0.837732\n",
       "6            SYMPTOM_TORACIC_APERTURE     72    0.826257\n",
       "7            SYMPTOM_THROAT_CONDITION    916   10.511820\n",
       "8                    SYMPTOM_HEADACHE   1263   14.493918\n",
       "9                   SYMPTOM_BODY_PAIN   1664   19.095708\n",
       "10                   SYMPTOM_DIARRHEA    844    9.685563\n",
       "11                 SYMPTOM_RUNNY_NOSE   1135   13.025017\n",
       "12            SYMPTOM_NOSE_CONGESTION      2    0.022952\n",
       "13                   SYMPTOM_WEAKNESS    857    9.834749\n",
       "14        SYMPTOM_ANOSMIA_OR_HYPOSMIA     65    0.745926\n",
       "15                     SYMPTOM_NAUSEA     67    0.768878\n",
       "16           SYMPTOM_LACK_OF_APPETITE     88    1.009869\n",
       "17             SYMPTOM_ABDOMINAL_PAIN    140    1.606610\n",
       "18  SYMPTOM_CONSCIOUSNESS_DEGRADATION     73    0.837732"
      ]
     },
     "execution_count": 70,
     "metadata": {},
     "output_type": "execute_result"
    }
   ],
   "source": [
    "analises.run_graves(periodo_3)\n",
    "df2_p3 = analises.df2\n",
    "df3_p3 = analises.df3\n",
    "df2_p3"
   ]
  },
  {
   "cell_type": "code",
   "execution_count": 71,
   "metadata": {},
   "outputs": [
    {
     "data": {
      "text/html": [
       "<div>\n",
       "<style scoped>\n",
       "    .dataframe tbody tr th:only-of-type {\n",
       "        vertical-align: middle;\n",
       "    }\n",
       "\n",
       "    .dataframe tbody tr th {\n",
       "        vertical-align: top;\n",
       "    }\n",
       "\n",
       "    .dataframe thead th {\n",
       "        text-align: right;\n",
       "    }\n",
       "</style>\n",
       "<table border=\"1\" class=\"dataframe\">\n",
       "  <thead>\n",
       "    <tr style=\"text-align: right;\">\n",
       "      <th></th>\n",
       "      <th>Doencas_preexistentes</th>\n",
       "      <th>Count</th>\n",
       "      <th>percentage</th>\n",
       "    </tr>\n",
       "  </thead>\n",
       "  <tbody>\n",
       "    <tr>\n",
       "      <th>0</th>\n",
       "      <td>DISEASE_HEART_OR_VASCULAR</td>\n",
       "      <td>54</td>\n",
       "      <td>0.619692</td>\n",
       "    </tr>\n",
       "    <tr>\n",
       "      <th>1</th>\n",
       "      <td>DISEASE_DIABETES</td>\n",
       "      <td>1915</td>\n",
       "      <td>21.976130</td>\n",
       "    </tr>\n",
       "    <tr>\n",
       "      <th>2</th>\n",
       "      <td>DISEASE_HYPERTENSION</td>\n",
       "      <td>796</td>\n",
       "      <td>9.134726</td>\n",
       "    </tr>\n",
       "    <tr>\n",
       "      <th>3</th>\n",
       "      <td>DISEASE_RESPIRATORY</td>\n",
       "      <td>142</td>\n",
       "      <td>1.629562</td>\n",
       "    </tr>\n",
       "    <tr>\n",
       "      <th>4</th>\n",
       "      <td>DISEASE_OBESITY</td>\n",
       "      <td>819</td>\n",
       "      <td>9.398669</td>\n",
       "    </tr>\n",
       "    <tr>\n",
       "      <th>5</th>\n",
       "      <td>DISEASE_KIDNEY</td>\n",
       "      <td>0</td>\n",
       "      <td>0.000000</td>\n",
       "    </tr>\n",
       "    <tr>\n",
       "      <th>6</th>\n",
       "      <td>DISEASE_IMMUNOSUPPRESSION</td>\n",
       "      <td>0</td>\n",
       "      <td>0.000000</td>\n",
       "    </tr>\n",
       "    <tr>\n",
       "      <th>7</th>\n",
       "      <td>DISEASE_TABAGIST</td>\n",
       "      <td>481</td>\n",
       "      <td>5.519853</td>\n",
       "    </tr>\n",
       "    <tr>\n",
       "      <th>8</th>\n",
       "      <td>DISEASE_ETILISM</td>\n",
       "      <td>108</td>\n",
       "      <td>1.239385</td>\n",
       "    </tr>\n",
       "    <tr>\n",
       "      <th>9</th>\n",
       "      <td>DISEASE_LIVER</td>\n",
       "      <td>0</td>\n",
       "      <td>0.000000</td>\n",
       "    </tr>\n",
       "    <tr>\n",
       "      <th>10</th>\n",
       "      <td>DISEASE_NEUROLOGIC</td>\n",
       "      <td>181</td>\n",
       "      <td>2.077117</td>\n",
       "    </tr>\n",
       "  </tbody>\n",
       "</table>\n",
       "</div>"
      ],
      "text/plain": [
       "        Doencas_preexistentes  Count  percentage\n",
       "0   DISEASE_HEART_OR_VASCULAR     54    0.619692\n",
       "1            DISEASE_DIABETES   1915   21.976130\n",
       "2        DISEASE_HYPERTENSION    796    9.134726\n",
       "3         DISEASE_RESPIRATORY    142    1.629562\n",
       "4             DISEASE_OBESITY    819    9.398669\n",
       "5              DISEASE_KIDNEY      0    0.000000\n",
       "6   DISEASE_IMMUNOSUPPRESSION      0    0.000000\n",
       "7            DISEASE_TABAGIST    481    5.519853\n",
       "8             DISEASE_ETILISM    108    1.239385\n",
       "9               DISEASE_LIVER      0    0.000000\n",
       "10         DISEASE_NEUROLOGIC    181    2.077117"
      ]
     },
     "execution_count": 71,
     "metadata": {},
     "output_type": "execute_result"
    }
   ],
   "source": [
    "df3_p3"
   ]
  },
  {
   "cell_type": "code",
   "execution_count": 72,
   "metadata": {},
   "outputs": [
    {
     "name": "stdout",
     "output_type": "stream",
     "text": [
      "Análises gráficas quantitativa dos sintomas\n"
     ]
    },
    {
     "data": {
      "image/png": "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",
      "text/plain": [
       "<Figure size 432x288 with 1 Axes>"
      ]
     },
     "metadata": {
      "needs_background": "light"
     },
     "output_type": "display_data"
    }
   ],
   "source": [
    "analises.plot_data_sintomas()"
   ]
  },
  {
   "cell_type": "code",
   "execution_count": 73,
   "metadata": {},
   "outputs": [
    {
     "name": "stdout",
     "output_type": "stream",
     "text": [
      "Análises gráficas quantitativa das doenças\n"
     ]
    },
    {
     "data": {
      "image/png": "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",
      "text/plain": [
       "<Figure size 432x288 with 1 Axes>"
      ]
     },
     "metadata": {
      "needs_background": "light"
     },
     "output_type": "display_data"
    }
   ],
   "source": [
    "analises.plot_data_doencas()"
   ]
  },
  {
   "cell_type": "markdown",
   "metadata": {},
   "source": [
    "#### Análise periodo 4 (01/09/2021 até 28/02/2022)"
   ]
  },
  {
   "cell_type": "code",
   "execution_count": 146,
   "metadata": {},
   "outputs": [
    {
     "name": "stdout",
     "output_type": "stream",
     "text": [
      "24.69\n"
     ]
    }
   ],
   "source": [
    "taxa_morte4 = (len(periodo_4[periodo_4['death'] == 1 ]) / len(periodo_4)) * 100\n",
    "print(f'{taxa_morte4:.2f}')"
   ]
  },
  {
   "cell_type": "code",
   "execution_count": 74,
   "metadata": {},
   "outputs": [
    {
     "data": {
      "text/html": [
       "<div>\n",
       "<style scoped>\n",
       "    .dataframe tbody tr th:only-of-type {\n",
       "        vertical-align: middle;\n",
       "    }\n",
       "\n",
       "    .dataframe tbody tr th {\n",
       "        vertical-align: top;\n",
       "    }\n",
       "\n",
       "    .dataframe thead th {\n",
       "        text-align: right;\n",
       "    }\n",
       "</style>\n",
       "<table border=\"1\" class=\"dataframe\">\n",
       "  <thead>\n",
       "    <tr style=\"text-align: right;\">\n",
       "      <th></th>\n",
       "      <th>Sintoma</th>\n",
       "      <th>Count</th>\n",
       "      <th>percentage</th>\n",
       "    </tr>\n",
       "  </thead>\n",
       "  <tbody>\n",
       "    <tr>\n",
       "      <th>0</th>\n",
       "      <td>SYMPTOM_COUGH</td>\n",
       "      <td>3272</td>\n",
       "      <td>74.601003</td>\n",
       "    </tr>\n",
       "    <tr>\n",
       "      <th>1</th>\n",
       "      <td>SYMPTOM_COLD</td>\n",
       "      <td>12</td>\n",
       "      <td>0.273598</td>\n",
       "    </tr>\n",
       "    <tr>\n",
       "      <th>2</th>\n",
       "      <td>SYMPTOM_AIR_INSUFFICIENCY</td>\n",
       "      <td>3693</td>\n",
       "      <td>84.199726</td>\n",
       "    </tr>\n",
       "    <tr>\n",
       "      <th>3</th>\n",
       "      <td>SYMPTOM_FEVER</td>\n",
       "      <td>2553</td>\n",
       "      <td>58.207934</td>\n",
       "    </tr>\n",
       "    <tr>\n",
       "      <th>4</th>\n",
       "      <td>SYMPTOM_LOW_OXYGEN_SATURATION</td>\n",
       "      <td>0</td>\n",
       "      <td>0.000000</td>\n",
       "    </tr>\n",
       "    <tr>\n",
       "      <th>5</th>\n",
       "      <td>SYMPTOM_BREATHING_CONDITION</td>\n",
       "      <td>34</td>\n",
       "      <td>0.775194</td>\n",
       "    </tr>\n",
       "    <tr>\n",
       "      <th>6</th>\n",
       "      <td>SYMPTOM_TORACIC_APERTURE</td>\n",
       "      <td>35</td>\n",
       "      <td>0.797994</td>\n",
       "    </tr>\n",
       "    <tr>\n",
       "      <th>7</th>\n",
       "      <td>SYMPTOM_THROAT_CONDITION</td>\n",
       "      <td>434</td>\n",
       "      <td>9.895121</td>\n",
       "    </tr>\n",
       "    <tr>\n",
       "      <th>8</th>\n",
       "      <td>SYMPTOM_HEADACHE</td>\n",
       "      <td>240</td>\n",
       "      <td>5.471956</td>\n",
       "    </tr>\n",
       "    <tr>\n",
       "      <th>9</th>\n",
       "      <td>SYMPTOM_BODY_PAIN</td>\n",
       "      <td>299</td>\n",
       "      <td>6.817145</td>\n",
       "    </tr>\n",
       "    <tr>\n",
       "      <th>10</th>\n",
       "      <td>SYMPTOM_DIARRHEA</td>\n",
       "      <td>216</td>\n",
       "      <td>4.924761</td>\n",
       "    </tr>\n",
       "    <tr>\n",
       "      <th>11</th>\n",
       "      <td>SYMPTOM_RUNNY_NOSE</td>\n",
       "      <td>486</td>\n",
       "      <td>11.080711</td>\n",
       "    </tr>\n",
       "    <tr>\n",
       "      <th>12</th>\n",
       "      <td>SYMPTOM_NOSE_CONGESTION</td>\n",
       "      <td>1</td>\n",
       "      <td>0.022800</td>\n",
       "    </tr>\n",
       "    <tr>\n",
       "      <th>13</th>\n",
       "      <td>SYMPTOM_WEAKNESS</td>\n",
       "      <td>214</td>\n",
       "      <td>4.879161</td>\n",
       "    </tr>\n",
       "    <tr>\n",
       "      <th>14</th>\n",
       "      <td>SYMPTOM_ANOSMIA_OR_HYPOSMIA</td>\n",
       "      <td>7</td>\n",
       "      <td>0.159599</td>\n",
       "    </tr>\n",
       "    <tr>\n",
       "      <th>15</th>\n",
       "      <td>SYMPTOM_NAUSEA</td>\n",
       "      <td>11</td>\n",
       "      <td>0.250798</td>\n",
       "    </tr>\n",
       "    <tr>\n",
       "      <th>16</th>\n",
       "      <td>SYMPTOM_LACK_OF_APPETITE</td>\n",
       "      <td>37</td>\n",
       "      <td>0.843593</td>\n",
       "    </tr>\n",
       "    <tr>\n",
       "      <th>17</th>\n",
       "      <td>SYMPTOM_ABDOMINAL_PAIN</td>\n",
       "      <td>80</td>\n",
       "      <td>1.823985</td>\n",
       "    </tr>\n",
       "    <tr>\n",
       "      <th>18</th>\n",
       "      <td>SYMPTOM_CONSCIOUSNESS_DEGRADATION</td>\n",
       "      <td>106</td>\n",
       "      <td>2.416781</td>\n",
       "    </tr>\n",
       "  </tbody>\n",
       "</table>\n",
       "</div>"
      ],
      "text/plain": [
       "                              Sintoma  Count  percentage\n",
       "0                       SYMPTOM_COUGH   3272   74.601003\n",
       "1                        SYMPTOM_COLD     12    0.273598\n",
       "2           SYMPTOM_AIR_INSUFFICIENCY   3693   84.199726\n",
       "3                       SYMPTOM_FEVER   2553   58.207934\n",
       "4       SYMPTOM_LOW_OXYGEN_SATURATION      0    0.000000\n",
       "5         SYMPTOM_BREATHING_CONDITION     34    0.775194\n",
       "6            SYMPTOM_TORACIC_APERTURE     35    0.797994\n",
       "7            SYMPTOM_THROAT_CONDITION    434    9.895121\n",
       "8                    SYMPTOM_HEADACHE    240    5.471956\n",
       "9                   SYMPTOM_BODY_PAIN    299    6.817145\n",
       "10                   SYMPTOM_DIARRHEA    216    4.924761\n",
       "11                 SYMPTOM_RUNNY_NOSE    486   11.080711\n",
       "12            SYMPTOM_NOSE_CONGESTION      1    0.022800\n",
       "13                   SYMPTOM_WEAKNESS    214    4.879161\n",
       "14        SYMPTOM_ANOSMIA_OR_HYPOSMIA      7    0.159599\n",
       "15                     SYMPTOM_NAUSEA     11    0.250798\n",
       "16           SYMPTOM_LACK_OF_APPETITE     37    0.843593\n",
       "17             SYMPTOM_ABDOMINAL_PAIN     80    1.823985\n",
       "18  SYMPTOM_CONSCIOUSNESS_DEGRADATION    106    2.416781"
      ]
     },
     "execution_count": 74,
     "metadata": {},
     "output_type": "execute_result"
    }
   ],
   "source": [
    "analises.run_graves(periodo_4)\n",
    "df2_p4 = analises.df2\n",
    "df3_p4 = analises.df3\n",
    "df2_p4"
   ]
  },
  {
   "cell_type": "code",
   "execution_count": 75,
   "metadata": {},
   "outputs": [
    {
     "data": {
      "text/html": [
       "<div>\n",
       "<style scoped>\n",
       "    .dataframe tbody tr th:only-of-type {\n",
       "        vertical-align: middle;\n",
       "    }\n",
       "\n",
       "    .dataframe tbody tr th {\n",
       "        vertical-align: top;\n",
       "    }\n",
       "\n",
       "    .dataframe thead th {\n",
       "        text-align: right;\n",
       "    }\n",
       "</style>\n",
       "<table border=\"1\" class=\"dataframe\">\n",
       "  <thead>\n",
       "    <tr style=\"text-align: right;\">\n",
       "      <th></th>\n",
       "      <th>Doencas_preexistentes</th>\n",
       "      <th>Count</th>\n",
       "      <th>percentage</th>\n",
       "    </tr>\n",
       "  </thead>\n",
       "  <tbody>\n",
       "    <tr>\n",
       "      <th>0</th>\n",
       "      <td>DISEASE_HEART_OR_VASCULAR</td>\n",
       "      <td>32</td>\n",
       "      <td>0.729594</td>\n",
       "    </tr>\n",
       "    <tr>\n",
       "      <th>1</th>\n",
       "      <td>DISEASE_DIABETES</td>\n",
       "      <td>1016</td>\n",
       "      <td>23.164615</td>\n",
       "    </tr>\n",
       "    <tr>\n",
       "      <th>2</th>\n",
       "      <td>DISEASE_HYPERTENSION</td>\n",
       "      <td>545</td>\n",
       "      <td>12.425901</td>\n",
       "    </tr>\n",
       "    <tr>\n",
       "      <th>3</th>\n",
       "      <td>DISEASE_RESPIRATORY</td>\n",
       "      <td>216</td>\n",
       "      <td>4.924761</td>\n",
       "    </tr>\n",
       "    <tr>\n",
       "      <th>4</th>\n",
       "      <td>DISEASE_OBESITY</td>\n",
       "      <td>191</td>\n",
       "      <td>4.354765</td>\n",
       "    </tr>\n",
       "    <tr>\n",
       "      <th>5</th>\n",
       "      <td>DISEASE_KIDNEY</td>\n",
       "      <td>1</td>\n",
       "      <td>0.022800</td>\n",
       "    </tr>\n",
       "    <tr>\n",
       "      <th>6</th>\n",
       "      <td>DISEASE_IMMUNOSUPPRESSION</td>\n",
       "      <td>0</td>\n",
       "      <td>0.000000</td>\n",
       "    </tr>\n",
       "    <tr>\n",
       "      <th>7</th>\n",
       "      <td>DISEASE_TABAGIST</td>\n",
       "      <td>315</td>\n",
       "      <td>7.181943</td>\n",
       "    </tr>\n",
       "    <tr>\n",
       "      <th>8</th>\n",
       "      <td>DISEASE_ETILISM</td>\n",
       "      <td>66</td>\n",
       "      <td>1.504788</td>\n",
       "    </tr>\n",
       "    <tr>\n",
       "      <th>9</th>\n",
       "      <td>DISEASE_LIVER</td>\n",
       "      <td>0</td>\n",
       "      <td>0.000000</td>\n",
       "    </tr>\n",
       "    <tr>\n",
       "      <th>10</th>\n",
       "      <td>DISEASE_NEUROLOGIC</td>\n",
       "      <td>132</td>\n",
       "      <td>3.009576</td>\n",
       "    </tr>\n",
       "  </tbody>\n",
       "</table>\n",
       "</div>"
      ],
      "text/plain": [
       "        Doencas_preexistentes  Count  percentage\n",
       "0   DISEASE_HEART_OR_VASCULAR     32    0.729594\n",
       "1            DISEASE_DIABETES   1016   23.164615\n",
       "2        DISEASE_HYPERTENSION    545   12.425901\n",
       "3         DISEASE_RESPIRATORY    216    4.924761\n",
       "4             DISEASE_OBESITY    191    4.354765\n",
       "5              DISEASE_KIDNEY      1    0.022800\n",
       "6   DISEASE_IMMUNOSUPPRESSION      0    0.000000\n",
       "7            DISEASE_TABAGIST    315    7.181943\n",
       "8             DISEASE_ETILISM     66    1.504788\n",
       "9               DISEASE_LIVER      0    0.000000\n",
       "10         DISEASE_NEUROLOGIC    132    3.009576"
      ]
     },
     "execution_count": 75,
     "metadata": {},
     "output_type": "execute_result"
    }
   ],
   "source": [
    "df3_p4"
   ]
  },
  {
   "cell_type": "code",
   "execution_count": 76,
   "metadata": {},
   "outputs": [
    {
     "name": "stdout",
     "output_type": "stream",
     "text": [
      "Análises gráficas quantitativa dos sintomas\n"
     ]
    },
    {
     "data": {
      "image/png": "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",
      "text/plain": [
       "<Figure size 432x288 with 1 Axes>"
      ]
     },
     "metadata": {
      "needs_background": "light"
     },
     "output_type": "display_data"
    }
   ],
   "source": [
    "analises.plot_data_sintomas()"
   ]
  },
  {
   "cell_type": "code",
   "execution_count": 77,
   "metadata": {},
   "outputs": [
    {
     "name": "stdout",
     "output_type": "stream",
     "text": [
      "Análises gráficas quantitativa das doenças\n"
     ]
    },
    {
     "data": {
      "image/png": "iVBORw0KGgoAAAANSUhEUgAAAhIAAAEGCAYAAAAwknyvAAAAOXRFWHRTb2Z0d2FyZQBNYXRwbG90bGliIHZlcnNpb24zLjQuMywgaHR0cHM6Ly9tYXRwbG90bGliLm9yZy/MnkTPAAAACXBIWXMAAAsTAAALEwEAmpwYAAA/7klEQVR4nO3de7wdVX3//9ebAAJCRCRQwJRIRKggBnIqgtxBDYUWERHSKMZaUb+ilSIFG3+CqPUCgkBAioAgDSRCRGmKXKpEoVrlhEsgKJdwK95IRIFADCa8f3/M2jAM57Z3zsntvJ+Px36cvddas+Yzs/PIrL3WmlmyTUREREQn1lrZAURERMTqKw2JiIiI6FgaEhEREdGxNCQiIiKiY2lIRERERMfWXtkBRKxom266qceMGbOyw4iIWK3MmTNnoe1RzfQ0JGLYGTNmDN3d3Ss7jIiI1Yqkh3tKT0Mihp2lCx5nwdf/Y2WHERGxQo36yHuGpN7MkYiIiIiOpSERERERHUtDIiIiIjqWhkRERER0LA2JiIiI6FgaEkNE0jJJt0uaJ+kOScdJWqvk7SNpVnm/uaRZpczdkq4p6WMkLS51tF5H1eofJ8mSJjT2O6Xsc27ZZteSPlvSPbW6ruwj9pMl/aqUu0/SdyS9vpY/W1LXAGJpnYM7JN0qafe+jk3Sz8r7RyQtqOWNkfSQpDtraWeVut5c2+4Xkk7u+EuLiIi25fbPobPY9jgASZsBlwEjgZMa5U4BbrB9Zim7Uy1vfquOHkwEbi5/ry3b7gYcDOxie4mkTYF1a9tMsj3QByicYfu0Uu8RwA8lvcH2goHEUtTPwduBLwJ793Fs3yplJwNdto9pZUgC2Nf2wsY2lwDvtn2HpBHAdgM8voiIGATpkVgBbD8GHA0co3JFrNkCeLRWdm5/9ZU6DgcmA2+VtF6troW2l5S6Ftr+9SDEPwO4Hvj7NmJpGgn8YXlj6cFmwG9KnMts391TIUlHS+qW1P37RU8OQRgREcNTGhIriO0HgBFUF766c4ALJd1YhiW2rOWNbXT/71nSdwcetD0fmA0cVNKvB0ZLulfSuZL25sWm1eo6tc1DuBXYvof03mIBWL/s65fABcDnBnBsfbmxVv7YknYGcI+kqyR9qLeGjO3zbXfZ7nrVhiMHsKuIiBiIDG2sZLavk7QNMAE4ELhN0o4lu7ehjYnA9PJ+OnAUMNP2IknjgT2BfYEZkk60fXEp287QRlOzJ6XPWMrn+tDGbsC3BnBsfXnJ0IbtUyRNA95G1WMyEdinzXojIqJDaUisIKWxsAx4DPirep7tx6nmUFxWJmHuBczppZ4RwGHAIZKmUF3gXyVpI9tP2V5G1TMwW9KdwPuAiwfhEHYGXtQI6S+WxjH+tMzZeMmCL8ur9IZ8XdI3gAWSXmX794O9n4iIeKkMbawAkkYB5wFTbbuRt5+kDcr7jYCxwCN9VLc/MNf2aNtjbG9N1QNwqKTtJG1bKzsO6HGRlTbjP4zqF//lA42lhzq2pxraGdQLvKSDavNOtqVqrP1xMPcRERG9S4/E0Flf0u3AOsBS4FLg9B7KjQemSlpK1bC7wPYtksZQ5hHUyl5E1TNwVaOOmcBHgHnA2ZI2Lvu8n2qSZ8s0SYvL+4W2D+gj/mMlvQd4OXAXsF8Pd2xM7COWb/HCOYCqt+J9tpeV6/5Ljs32WX3EA9UciWXl/VzbRwHvBc6Q9AzVMU8qvTIREbECqPEDOWKNN27rbXzDiaes7DAiIlao5V39U9Ic213N9AxtRERERMcytDGMlQmShzeSr7D9hZURz4qy9qhNlrtlHhERlTQkhrHSYFijGw0RETG0MrQRERERHUtDIiIiIjqWoY0YdpY8dj/zzz5kZYcR0a+xH/veyg4hol/pkYiIiIiOpSERERERHUtDIiIiIjqWhkRERER0LA2JiIiI6NiwakhIWibpdknzJN0h6ThJa5W8fcoS3kjaXNKsUuZuSdeU9DGSFpc6Wq+javWPk2RJExr7nVL2Obdss2tJny3pnlpdV/YR+8mSPtlIe0jSKEk3Szqwln64pGsbx3yXpCtqK40uaxzHiY2Y7pB0Szmmc0qZuxvH/y5JF0t6sJb2k1LPZEnPSdqpFtddZTEyJP2DpDvLOblL0iEl/WJJ7yrv15X0NUn3S7pP0vckvbpWnyV9tfb5k5JO7v9fQkREDJbhdvvnYtvjACRtBlwGjAROapQ7BbjB9pml7E61vPmtOnowEbi5/G1dyHcDDgZ2sb1E0qbAurVtJtnuXo5jMvBh4ApJN1J9p/8GtBoz9WOeVsqeXk/vwSTb3ZLeD5xq+61l+zHArPp2kg4GjrfdUyPoUWAKcEQ9sTQGplCdkyckbQiM6mH7fwM2ArYrq4a+H/iOpF3LcuxLgHdK+qLthb2eoYiIGDLDqkeizvZjVEtsH6OyrnXNFlQXwVbZuf3VV+o4HJgMvFXSerW6FtpeUupaaPvXy38EL7B9F/CfwAnAZ4Bv2Z7fQ9GbgNe2UfVPga2WI7RZwA6StmukbwY8BSwCsL3I9oP1AqXn5P3Asa1lwW1/k6rxsF8pthQ4Hzi2v0AkHS2pW1L344ueXY5DioiIumHbkACw/QAwgurCVncOcKGkG8uwxJa1vLGNIYE9S/ruwIPlAj4bOKikXw+MlnSvpHMl7d3Y17RaXaf2E/Kx9X0D9bg+C/w9cCDwleaGktYueXeWpPUbx3FEcxuqXo3v9hMTwKm1eqbV0p8rsfxro/wdwO+AByV9U9Lf9lDna4FHbD/ZSO8Gdqh9PgeYJOkVfQVo+3zbXba7Ntlw3b6KRkREG4bb0MaA2L5O0jZUF9IDgdsk7ViyexvamAhML++nA0cBM20vkjQe2BPYF5gh6UTbF5ey7QxtnGH7tNYHSQ/VYn5a0gxgUav3o1i/NDqg6pG4sLzva2hjmqR1gQ2B3srU9Ta0AdXw0RRJr6nFukzVPJK/BvYHzpA03vbJA9jXi9h+UtK3gI8Di9vdPiIils+w7pEojYVlwGPNPNuP277M9nuBW4C9+qhnBHAY8JlycT8bmCBpo1LXMtuzbZ8EHFPKDoXnyqtuse1x5fUx2wPp158EbANcQnUsHbO9FPgq1bBLPd22f277i8CRvPSczAf+snUOa8YD8xppXwM+ALx8eWKNiIj2DduGhKRRwHnA1DJxr563X+3uho2AscAjfVS3PzDX9mjbY2xvDcwEDpW0naRta2XHAQ8P4qEMiXJO/j/gzZK2X87qLgYOoEyolLSlpF1q+eNonBPbT1M1ZE4vDTVU3SGzAfDDRtnHgW9TNSYiImIFGm5DG61u/nWoJupdSnUHQ9N4YKqkpVSNrQts31LuWhhbGyoAuAjYGbiqUcdM4CNUv57PlrRx2ef9VJM8W6ZJanXJL7R9QMdH1571G8dxre0T6wVsLy63Vx5P3xfpUyV9uvb5TY16npV0FnBmSVoHOK3MPfkTsIDqbpKmTwGnAfdKeg74JXBos+FXfJWqtyciIlYg9fx/csSa6w1/ubG/e3xzzmvEqierf8aqRNIc213N9GE7tBERERHLb7gNbazyJE2heh5F3RW2v7Ay4lkTvWyz1+aXXkTEIElDYhVTGgxpNERExGohQxsRERHRsTQkIiIiomMZ2ohh54mF9zHrogP7LxhD7uB/+P7KDiEillN6JCIiIqJjaUhEREREx9KQiIiIiI6lIREREREdS0MiIiIiOpaGxBCStEzS7ZLmSbpD0nGS1ip5+0iaVd5vLmlWKXO3pGtK+hhJi0sdrddRtfrHSbKkCY39Tin7nFu22bWkz5Z0T62uK3uJe0qtzLLa+4+X/K9J+lXrWEraZEkLasd7ZWsF1VqZ2yVNb6StLenfJN1X28+UWv6i8nctSWdJukvSnZJukfQaST8r2zxS2//tZYG1iIgYYrn9c2gttj0OQNJmwGXASOCkRrlTgBtsn1nK7lTLm9+qowcTgZvL32vLtrsBBwO72F4iaVNg3do2k2x39xV0/emakhbV918aD4cC/wfsDdxY23SG7WNKucuAI4Bvls9/BYwA9pT08rJMOMDngb8A3mD7T2XZ9uN6COsIYEtgJ9vPSXo18LTtViNpMtDV2n9ERKwY6ZFYQWw/RrV8+DGS1MjeAni0VnZuf/WVOg4HJgNvlbRera6FtpeUuhba/vXyH8Hz9qFaGv3rVA2YnmJbG3g58Ida8kSqZduvBw4p5TYAPgh8zPafSrxP2T65h2q3AH5j+7lS7lHbf+ihXI8kHS2pW1L3E4ueHehmERHRjzQkViDbD1D9Kt+skXUOcKGkG8uwwpa1vLGNoY09S/ruwIO25wOzgYNK+vXAaEn3SjpXUnO97Gm1uk7t4DAmApcDVwEHSVqnlneEpNuBXwGbAP9ZzwOml21bDZDXAo/YfmoA+/028Lcl7q9K2rmdoG2fb7vLdtcrNly3/w0iImJA0pBYBdi+DtgG+AawPXCbpFEle77tcbXXTSV9ItWFmfJ3YqlrETCeqvdjATCjdPu3TKrVdXw7cUpaF/gb4Lu2nwR+Bry9VmRGGQb5C+BO4PiyXRdVL8kjwA+AnSVt0kP97y8Nhf+TNLpxjh4FtgM+BTwH/EDS/u3EHxERgy8NiRVI0jbAMuCxZp7tx21fZvu9wC3AXn3UMwI4DPiMpIeAs4EJZX4BtpfZnm37JOCYUnYwvB3YGLiz7HcPehjesG2q3ojWMUwEti/bzKeaJ3IYcD/wl7W4v1kaIk9Q9dw0611i+/ulAfRvwDsG6bgiIqJDA25ISBor6WXl/T6SPi5p4yGLbA1TehjOA6aWC209b7/WHQ7lojoWeKSP6vYH5toebXuM7a2BmcChkraTtG2t7Djg4UE6jInAP5Z9jgFeQzU/Y4Meyu4BzC+TM99NNZmytd0hwETbzwAXAlNbczxKI+klYw+SdmkN+ZQ6dxrE44qIiA61c9fGTKBL0muB84HvUd2F8DdDEdgaYv0yZ2AdYCnVZMPTeyg3nupiupSqcXeB7VvKLYxjSx0tFwE7U81RqJsJfIRqIuTZpZG3lOpX/9G1ctMkLS7vF9o+YCAHUhoLE4APt9JsPy3pZuBvS9IRkvYox/Ao1UTQPYFfNSZ8/hh4vaQtgCnA54C7JD0FLAYuAZoTRDcDvtFqzAI/B6YOJPaIiBg6avw47r2gdKvtXSQdD/zJ9tmSbrPd1qS3iJVt2zGv8Bmf2X1lhxFk9c+I1YmkOba7muntzJH4s6SJwPuAWSVtnT7KR0RExBqunaGN91N1a3/B9oOSXkPVVR+rsfIUycMbyVeUh1KtkV6x6bb5JRwRMUgGPLQBIGl94C9t3zN0IUUMra6uLnd39/lwz4iIaFjuoQ1JfwvczguPYh4n6epBizAiIiJWO+3MkTgZeBPwRwDbt1M9RCkiIiKGqXbmSPzZ9hONZSKeG+R4Iobc7x6/jzMue3v/BYeJY//+upUdQkSsxtppSMyT9PfAiPLAo48DPxmasCIiImJ10M7QxseAHYAlVA+iegL4p6EIKiIiIlYP7fRIHGR7CtWTCAGQdDhwxaBHFREREauFdnokPjXAtIiIiBgm+m1ISDpQ0tnAVpLOqr0uplrLYY0iaVlZynqepDskHVcWiWotVjarvN9c0qxS5m5J15T0MZIWlzpar6Nq9Y+TZEkTGvudUvY5t2yza0mfLemeWl1X9hH7yZJ+VcrdXZ5E2sq7WNKDtXp+0sZx3C3pPElrlfS7aufjiVLml5JOa8SzqaQ/S/pw+XxOrb76OXqXKp+WdJ+keyXdKGmHWl0PSbqznJ8fSdpa0gclzaiVGSlpvqpVViMiYgUYyNDGr4Fu4O+AObX0p4BjhyKolWxxWcoaSZtRzQcZCZzUKHcKcIPtM0vZnWp581t19GAicHP523omx27AwcAutpdI2pQXr4A5yfZAn6B0hu3TyoTYOZKutP3nkne87WZDpN/jkLQ28EOqZbtvbWx/k+2Dy8PKbpN0le3/KXmHA/9bjvU82x8t+xgDzKqfI0nHALsDb7T9jKS3AVdL2sH2n0qxfW0vlPRZ4NNUi5G9X9IBtv+7HMtFth8Y4LmKiIjl1G9DwvYdwB2SLqtdkIYF249JOhq4RdLJjewtgOtrZef2V5+qe2cPB94K3CRpvXKR3IJqJc4lpa6FgxD7fZKeAV4JPNZH0X6Pw/bS0oPxWl7akGiVWaxqldKtaskTgeOAyyS92vajfcRxArB3WVoc29eXfU6iWmq87qfAx2279HZcJmky1fLq4/vYR0REDLJ25ki8SdINpdv5gdJNvsb/8iu/bkdQLWNddw5wYemCnyJpy1re2MbQxp4lfXfgQdvzgdnAQSX9emB0ObfnStq7sa9ptbpOHUjcknYB7rNdb0ScWqtn2gCOo1XXBlQX6Tv72N8rgW2plghH0mhgC9s/B74NHNHHtiOBl/fQk9BNdadQ0wTgu/B8w+c64AfAx2w/28s+jpbULan76ad6LBIRER1o566NC6mGMuYAy4YmnNWH7evKWPwE4ECqbv0dS3ZvQxsTgenl/XTgKGCm7UWSxgN7AvsCMySdaPviUradoY1jJb0feB3wt428lwxt9HMcY0svg4Hv2f5+GZao21PSHVSNiK/Z/m1JP4KqAdE61ouArw7wGHpzo6RNgEXA/1dLPwc40Pbs3ja0fT5wPsDobV4x8AVmIiKiT+30SDxh+/u2H7P9+9ZryCJbRZSL7DJ6GB6w/bjty2y/F7gF2KuPekYAhwGfkfQQcDYwQdJGpa5ltmfbPgk4ppTtxBm2dyjbXyhpvf426OM45tseZ3tn2yf3svlNtt9I1XPwAUnjSvpEYHI51quBncq8jZ72/yTwdA+TJMcD82qf9wW2plrz5bO19OfIU1YjIlaKdhoSN0o6VdJuknZpvYYsslWApFHAecBUN5ZJlbRf6fKnNAbGAo/0Ud3+wFzbo22Psb01MBM4VNJ2jYvsOODh5Ynd9tVUQwPv66tcB8fR2/4eBL4EnCDpdcCGtrcqxzoG+CJV46I3pwJnlUmbSDoA2INqsmt9P0uBTwBHld6JiIhYidoZ2ti1/K0vIWpgv8ELZ5WwfunOX4fq9tZLgdN7KDcemCppKVWD7ALbt5Su/9aQQMtFwM7AVY06ZgIfofrVfbakjcs+76e6I6FlmqTF5f1C2wcM8FhOoZqI+I3y+VRJn67lv6mf42jXecAnqRoMPR3rjBJTT86mmhh6p6RlwG+BQ2wvbha0/RtJlwMfBT7XQZwRETFI1PihHbHGG73NK/zPn3/zyg5jlZFFuyJiICTNsd3VTB/w0IaqBxddKOn75fPrJX1gMIOMiIiI1cuAeyRKA+KbwBTbbywPKbrN9huGMsB4KUlTqJ5HUXeF7S+sjHhWN11dXe7uHuhNMBERAb33SLQzR2JT29+W9Cl4/iFFw/420JWhNBjSaIiIiJWunbs2npb0KqoJlkh6M9VS4hERETFMtdMj8c9UzwMYK+l/gFG8tHs9IiIihpF2GhLzgL2B7QAB99Bej0bEKuG+Pz7Mgd/78MoOY4X5/iHnrewQImIN1k5D4Ke2l9qeZ/uusoDXT4cqsIiIiFj19dsjIekvqFZ0XF/SzlS9EVAtrb3BEMYWERERq7iBDG28HZgMvJpq0aVWQ+Ip4F+HJqyIiIhYHfTbkLB9CXCJpMNsz1wBMUVERMRqop05Eq+WNFKVCyTdKultQxZZRERErPLaaUj8Q1nu+W3Aq4D3Uq32GG2StEzS7ZLmSbpD0nGS1ip5+0iaVd5vLmlWKXO3pGtK+hhJi0sdrddRtfrHSbKkCY39Tin7nFu22bWkz5Z0T62uK/uJ/2hJvyyvn0vao5ZXr+sXko6u5T0k6c7afs4q6W+W9LPaNieX9MmSppa4W9ssq73/J0k/laRSfoSk2yTtvlxfUEREDFg7t3+25kb8DfAt2/Na/4FH2xbbHgcgaTOqpbJHAic1yp0C3GD7zFJ2p1re/FYdPZgI3Fz+Xlu23Q04GNjF9hJJmwLr1raZZLvf50ZLOhj4ELCH7YWqlpL/rqQ32f5tva6yzPd8SRfbfrbk7Wt7YaPaS4B3275D0giqW4yfV3+Sp6RF9eMux/UB4ALgY0C37Z/0dxwRETE42umRmCPpeqqGxHWSNgKeG5qwhg/bj1EtGX5MDw2zLYBHa2Xn9ldfqeNwqgmyb5W0Xq2uhbaXlLoW2v51ByGfABzfagzYvpWqIfDRHspuCDwN9Pco9c2A35T6ltm+u414jgU+JWkH4JgS30uUXpRuSd3PPvmnNqqPiIi+tNOQ+ABwIvDXtp+h+jX7/iGJapix/QAwguqCWncOcKGkG0v3/pa1vLGNoY09S/ruwIO25wOzgYNK+vXAaEn3SjpX0t6NfU2r1XVqH+HuAMxppHWX9Hpdc6keWvY52/WGxI21/Rxb0s4A7pF0laQP1Ro//bL9G+BrVM80+bztx3spd77tLttd644ccPUREdGPgTxHYnvbvwTGlaRtMqKxYti+TtI2wATgQOA2STuW7N6GNiYC08v76cBRwEzbiySNB/YE9gVmSDrR9sWl7ICGNgaoNbQxCviJpGttP1zyXjK0YfsUSdOo5t/8fTmGfdrY3znAl2rHEhERK8hA5kj8M1XX+1d7yDOw36BGNAyVxsIy4DHgr+p55Rf2ZcBlZRLmXry0R6BVzwjgMOAQVUuNC3iVpI1sP1V6BmYDsyXdCbwPuLjNcO8GxgM/rKWNp3qE+ovYXiDpVmBX4OFmfqPsfODrkr4BLFC1QNyA2H5OkgdaPiIiBs9AniNxdPm779CHM/yUX+3nAVNtu97bI2k/4H9tP1PmpIwFHumjuv2BubbfXqvjEuBQST8DnrN9X8kaRz8X9158BfiypAm2fy9pHNV8jF17OLYNgJ3LNr2SdBBwjW0D21I1qv7YQWwREbGCDfiuDUmfA05ujXdLGgmcaTvzJNq3vqTbgXWApcClwOk9lBsPTJW0lGo+ywW2b5E0hjJHolb2IqqL9lWNOmYCH6HqMThb0sZln/dT9TS1TJO0uLxfaPuAngK3fbWkraiGLEz1hNP3lLkKzbpeBlxsu96DcqOk1pyJubaPorqV+AxJz5TYJtleliG0iIhVn6ofgQMoKH2Ragz7/cDmwFTgbNtThy68iMH3iteO8u5fPWxlh7HCZPXPiBgMkubY7mqmD7hHwvanJP038DPgD8Betu8fxBgjIiJiNdNOj8RewNeB/wDeALwS+ECHzyKIVVyZrHl4I/mK8nCo1VpXV5e7uwfrBpWIiOFhuXskgNOAw1sPC5L0TqqZ+9sPToixKqk/TTIiIqI37TQkdqs/WMj2dyT9aAhiioiIiNVEO0+2HCvpB5LugufXffjI0IQVERERq4N2eiS+ARwP/DtU6z5Iugz4/FAEFjFU7vvDAg6a+e8rO4w+/ddhH1rZIUREDEg7PRIb2P55I23pYAYTERERq5d2GhILJY2leiw2kt5FWbExIiIihqd2hjY+CpwPbC/pV8CDwHuGJKqIiIhYLbTzQKoHgAMkvRxYy/ZTQxdWRERErA4GPLQhaXNJFwJX2n5K0uslfWAIY4uIiIhVXDtzJC4GrgO2LJ/vBT4xyPGsEiQtk3S7pHmS7pB0nKS1St4+ZTnvVuNqVilzt6RrSvoYSYtLHa3XUbX6x0mypAmN/U4p+5xbttm1pM+WdE+triv7iP1kSc9I2qyWtqiHY2u9TizpD0natFaufpyTJS0o5X8p6djGPo8u6b+U9HNJe9TyZkvqapSXpE9Luk/SvZJulLRDLX9DSV+XNF/SrZLmSPpg7dzeVSv7Jkk/LufnNkkXlFVHIyJiBWhnjsSmtr8t6VMAtpfWVnFc0yy2PQ6gXJAvA0YCJzXKnQLcYPvMUnanWt78Vh09mAjcXP5eW7bdDTgY2MX2knJRX7e2zSTbA32u80LgOOCEvo6tTTNsHyPpVcA9kq60/X+SDgY+BOxhe6GkXYDvSnqT7d/2UtdHgd2BN5Yl0t8GXC1pB9t/Ai4AHgC2tf2cqqXW/6FZiaTNgSuAI23/tKS9C9gIeKaDY4yIiDa10yPxdLmItO7aeDPwxJBEtQqx/RjVctvH6KXrWm8BPForO7e/+kodhwOTgbdKWq9W10LbS0pdC5djHZOLgCMkbdLh9r2y/XuqJci3KEknAMfbXljybwUuoWos9OYE4Bjbz5Rtrgd+Akwqdwa9Cfi07edK/gLbX+6hno8Cl7QaEaXslbZ/1yxYek26JXU/++SiZnZERHSonYbEPwNXUz3h8n+AbwEfG5KoVjFloukIYLNG1jnAhaVrfoqkLWt5YxtDCHuW9N2BB23PB2YDB5X064HRpav/XEl7N/Y1rVbXqf2EvIiqMfFPPeSt34jriH7qehFJfwmsB7QaTTsAcxrFukt6T9uPBF5ezmlP2+wA3NFqRPRjxx723SPb59vust217sgNB7JJREQMwICGNiSNAPYur+0AAffY/vMQxrbKs32dpG2ACcCBwG2SdizZvQ1tTASml/fTgaOAmbYXSRoP7AnsC8yQdKLti0vZdoY2AM4Cbpd0WiO9t6GNnpaBracdoWoF2O2pehP+1EYsHdMLq5BuZnvL/spHRMSKNaAeibJY10TbS23Ps33XcGpElMbCMuCxZp7tx21fZvu9wC3AXn3UMwI4DPiMpIeAs4EJkjYqdS2zPdv2ScAxpWxHbP+Ram5HX0MMdb+nWhq+ZROquRYtM2zvRNWj8iVJf1HS7wbGN+oaD8zrJa4nqYbJtullm7uBN6pMbrX9hdLwGdlDdfN62HdERKxA7Qxt/I+kqZL2lLRL6zVkka0iykS/84Cptt3I2691h0BpDIwFHumjuv2BubZH2x5je2tgJnCopO0kbVsrOw54eDnDP51qIuRAep5mA++F5xs87wFubBYqvSKX8sKwyVeAL5f5M0gaRzX/49w+9nUqcJak9cs2BwB7AJfZvp9qmOPzJQ7KPJLm/BSAqcD7VO5uKWXfWSZhRkTECtDOXRvjyt9TamkG9hu0aFYd60u6HViHaj2RS6kuyk3jgamSllI1yi6wfYukMZQ5ErWyFwE7A1c16phJtYrqPOBsSRuXfd5PNcmzZZqkxeX9QtsH9HcQ5S6Kq4D67ZrrN+K61vaJwOeAr0u6g+qifS3wH71U/WXgVkn/ZvtqSVsBP5Fk4CngPbbrj0//L0mtHqyfAu+m6v24s9z581vgENut4/tHqsbG/ZJ+DywG/qWH4/udpCOB08rdNc8BPy6xR0TECqDGj+yINd4rxm7tPb7yrys7jD5l9c+IWNVImmO7q5nezpMtXyXprNoDgs5sdWdHRETE8NTO0MZ0qm7j1gTAScAMoN8u9hh8tbsZ6q6w/YWVEc/qZNtXjsov/oiIQTLgoQ1Jd9nesZF2p+03DElkEUOkq6vL3d3t3EkbERHLPbQBXC/pSElrlde7qdbeiIiIiGGqnYbEB6meS7CkvKYDH5L0lKQnhyK4iIiIWLUNeI6E7Y36yi8LLvX4EKKIVcn9f/gjf3fl9watvqvfdcig1RURsbppp0eiP5cOYl0RERGxGhjMhkRPTx6MiIiINdhgNiTyZKuIiIhhZjAbEhERETHMDGZD4tlBrCsiIiJWA+08Ivstkl5e3r9H0umStm7l237zUAQ4HEhaJul2SfMk3SHpuNYy2pL2kTSrvN9c0qxS5m5J15T0MZIWlzpar6Nq9Y+TZEkTGvudUvY5t2yza0mfLemeWl1X9hH7yZJ+1dj3EbX3i2p1fatxPJMlTe2hzockbTqAGB+RpNp235W0qPNvIiIi2tXOI7K/DrxR0huB44ALgG8Bew9FYMPMYtvjAMoqlpcBI4GTGuVOAW6wfWYpu1Mtb36rjh5MBG4uf68t2+4GHAzsYntJuXCvW9tmUlkyfCDOsH1aI21G2c9s4JOtuiTtM8A6BxLjH4G3ADeXVVO3GGjdERExONoZ2ljq6nnahwBTbZ8D9PlsiWif7ceolg8/pv5ru9gCeLRWdm5/9ZU6DgcmA2+VtF6troW2l5S6Ftr+9fIfwaDqL8bpwJHl/TuB7/RWkaSjJXVL6n72yTw/LSJisLTTkHhK0qeA9wD/Vbre1xmasIY32w8AI4DNGlnnABdKurF0+W9ZyxvbGF7Ys6TvDjxoez4wGziopF8PjJZ0r6RzJTV7lqbV6jq1n5CPrZW9sd3j7UN/Mf4A2EvSCKoGxYzeKrJ9vu0u213rjhw5iCFGRAxv7TQkjqB6NPYHbP8WeDXQ3wUmBpHt64BtgG8A2wO3SRpVsufbHld73VTSJ1L9cqf8nVjqWgSMp+r9WADMkDS5trtJtbqO7ye0M2pl913e42wZQIzLqIZsjgTWt/3QYO07IiIGpp1HZP8WOL32+RGqORIxyCRtQ3WRfAz4q3qe7cep5lBcViYt7gXM6aWeEVTLvh9Slh0X8CpJG9l+yvYyql6K2ZLuBN4HXDwkB9WhAcQ4HbgKOHlFxxYREe3dtfFmSbeUWfjPljsNnhjK4Iaj0sNwHtU8FDfy9pO0QXm/ETAWeKSP6vYH5toebXuM7a2BmcChkraTtG2t7Djg4UE8lOU2wBhvAr4IXL6i4oqIiBe0c9fGVKou5CuALuAo4HVDEdQwtL6k26nmnCylWrfk9B7KjQemSlpK1Qi8wPYtksZQ5kjUyl4E7Ez1a71uJvARYB5wdrnbYSlwP9UQQss0SYvL+4W2D+gj/mMlvaf2+R1tDDNMlvSO2uf6bcQb9hMjpbHVvGMkIiJWEDV+9PZeUOq23SVpru2dStpttnce0ggjBtnGY1/rvb781UGrL6t/RsRwIGmO7a5mejs9Es9IWhe4XdJXgN+QR2xHREQMa+00JN5L1XA4BjgWGE01kS+GgTJZ8/BG8hW2v7Ay4lker33lxulFiIgYJO00JBYCz9r+E/DZckfAy4YmrFjVlAbDatdoiIiIodXO0MQPgA1qn9cH/ntww4mIiIjVSTsNifXKA4KA5x8WtEEf5SMiImIN187QxtOSdrF9K4Ck8cDifraJWOU88IfFHD7zrn7LXXHYjisgmoiI1Vs7DYlPAFdI+jXVExL/guqx2RERETFMtfOI7FskbQ9sV5Lusf3noQkrIiIiVgft9EgA/DUwpmy3iyRsZ72NiIiIYWrADQlJl1Kt7XA71YJSACYLd0VERAxb7dy10QW8xfb/s/2x8vr4QDYsC3zdLmmepDskHSdprZK3T1nFEkmbS5pVytwt6ZqSPkbS4lJH63VUrf5xkixpQmO/U8o+55Ztdi3psyXdU6vryj5iP1nSJxtpD0natHFsrdeJtXKbSvqzpA/3sP2dJa4fSdpa0lVl+/slPVGrb/de4lpX0tdK+fskfU/Sq3s453dJ+s+yXkVvx/iApO0aaV+TdEKH53cdSV8qcd0q6aeSDix5ixp1TJY0tbdz3cm57O04IyJi8LUztHEX1QTL33Swn8W2xwFI2oxqGeyRwEmNcqcAN9g+s5TdqZY3v1VHDyYCN5e/15ZtdwMOBnaxvaRc+NetbTPJdncHx9K0uI+4Dgf+t8R1XiNvX9sLJX0W+LTtQ0vc+wCftH1wP/v9N2AjYDvbyyS9H/iOpF3LQlb1c34J8FF6f6DUdKoF2T5byq8FvAt4S8lv9/x+DtgC2LHkbQ7s3c/x9GfA5xL44HLuKyIiBqidHolNgbslXSfp6tar3R3afoxqBcdjJKmRvQXwaK3s3P7qK3UcDkwG3ippvVpdC20vKXUttP3rduNdThOB44Ct6r0FDT8FtmqnUlVLib8fONb2MgDb3wSWAPt1sI/LefEdOHsBD9t+uN3zW2L7IPCxWt7vbH+7nWPswZCcy4iIWD7tNCROBt5B9Uv4q7VX22w/AIwANmtknQNcKOnG0m2+ZS1vbGMIYc+SvjvwoO35wGzgoJJ+PTBa0r2SzpXU/EU8rVbXqf2EfGx930A9rvUbcR0BIGk0sIXtnwPfpvdbZScA3+1n/02vBR6x/WQjvRvYoZ6g6lHm+wO9Nvps3wk8J+mNJelIqsYFtH9+e4utY4NxLiUdLalbUveSJ/8wWKFFRAx7A25I2P4R8BCwTnl/C3DrYAZj+zpgG+AbwPbAbZJGlez5tsfVXjeV9IlUXfOUvxNLXYuA8VS9HwuAGZIm13Y3qVbX8f2EdkZ930C9Z2NxI64ZJf0Iqovei+KquVHSr4ADeeGiPZjWL42e3wKbAzf0U/5y4EhJa1M1GK8o6Z2e33b0t5b9cp9L2+fb7rLd9bKRr+wwzIiIaBpwQ0LSB4ErgX8vSVvR/i/pVl3bUN358Vgzz/bjti+z/V6qxspefdQzgmoF0s9Iegg4G5ggaaNS1zLbs22fRLVq6YpcrXQiMLnEdTWwk6Rta/n7AltT3QXz2Tbrng/8Zes4a8YD88r71hyJrakeIPbRfuqcDrwbOACYa/t3HZ7f+0tsI3vZz2JVy9G3bEK1IFxfhvJcRkTEcmhnaOOjVJPvngSwfR8vHZroV+lhOA+YWiYF1vP2K2PslIvVWOCRPqrbn+qiN9r2GNtbAzOBQyVt17jYjAMebjfeTkh6HbCh7a1KXGOAL9L4JW17KdUTQ4+StMlA67f9NHAJcHq52KPqLpYNgB82yj4DfBw4rvQ29FbnfKoL+pd44Vd92+e37O9C4MxWg0HSKEmtJch/BLynpK9P1Xi5sbe4hvpcRkTE8mmnIbHE9rOtD+Wi1F+XdEtrHsE8qhVDr6fnX47jgW5Jc6kmzl1g+5aS15wj8XGqi8lVjTpmlvQNgUtU3UY6F3g91TyPlvocieVZxbQ5R+JL/cT1IrZ/Q3Xh7q/HoOlTwJ+AeyXdRzUh8tBm46zs4zZgbk/7b7icakjpO+Vzp+f301TDHXdLuguYRWmAAv8EvLMMu/wvcIXtH9fq/7SkR1uvfmJoHmen5zIiIjqkHq47PReUvgL8ETgK+Bjw/4C7bU8ZsugihsAmY3fw/l+Z0W+5LNoVEfECSXNsdzXT2+mROJHqV+adwIeAa6h+eUZERMQw1c6iXc+VBxv9tCTd01M3+upK0hSq4YG6K2z39hCnFULSVcBrGsknlDtc2q3rDcCljeQltnftNL6IiBje2hna2Idqgt9DVHcBjAbe1xjfjljldXV1ubt7MB5qGhExfPQ2tNHOI7K/CrzN9j2lwtdRTWwbPzghRkRExOqmnTkS67QaEQC27wXWGfyQIiIiYnXRTo9Et6QLgP8onydRPZI5IiIihql2GhIfobo/v7V0+E3AuYMeUURERKw22rlrY4mkS4FLbS8YwpgiIiJiNdHvHAlVTpa0ELgHuEfSAkmfGfrwIiIiYlU2kMmWx1KtsfHXtjexvQmwK/AWSccOaXQRERGxShtIQ+K9wETbD7YSbD9AtfDSUUMVWERERKz6BtKQWMf2S5Z5LvMkcvvnIJG0rLWwmaQ7JB0naa2St4+kWeX95pJmlTJ3S7qmpI+RtLixgNhRtfrHSbKkCY39Tin7nFu22bWkz5Z0T62uK/uI/WRJnyzv15N0g6STy+dFjfhuk/QLST+XNLlWx2RJz0naqZZ2l6Qx5f1Dku6sxXOWpA9KmlErP1LSfFXL1EdExAowkMmWz3aYF+1ZbHscgKTNgMuAkcBJjXKnADfYPrOU3amWN79VRw8mAjeXv9eWbXcDDgZ2KZNpNwXWrW0zyfaAb/Ety4bPBObYPrmHIvNt71zKbgN8R5Jsf7PkPwpMAY7oZRf71hu1kgS8X9IBtv+b6txcVHrMIiJiBRhIj8QbJT3Zw+sp4A1DHeBwZPsx4GjgmHKxrNuC6oLbKju3v/pKHYcDk4G3SlqvVtdC20tKXQtt/7rDsNcGZgD32T6xv8LlYv/PvHA7MVTLje8gabuB7LCs9fJh4GuSuoD9gVN7KivpaEndkroXLMhNRxERg6XfhoTtEbZH9vDayHaGNoZIudCOADZrZJ0DXCjpxjIssWUtb2xjaGPPkr478KDt+cBs4KCSfj0wWtK9ks6VtHdjX9NqdfV4ga75F+BZ259o4zBvBbavfX4O+Arwr72Uv7EWz7HwfEPqOuAHwMds99hLZvt82122u0aNGtVGiBER0Zd2HkgVqwDb15VhgQnAgcBtknYs2b0NbUwEppf306kmyc60vUjSeGBPYF9ghqQTbV9cyrYztHEzsLuk15XHpw9Es7cFqiGdKZKaK55CY2ij5hzgQNuzB7jfiIgYJO2stRErUGksLAMea+bZftz2ZbbfC9wC7NVHPSOAw4DPSHoIOBuYIGmjUtcy27NtnwQcU8p24sfAJ4DvS9pigNvsDPyinmB7KdUCcSe0se/nyisiIlawNCRWQZJGAecBU91Y513SfpI2KO83AsYCj/RR3f7AXNujbY+xvTXVhMhDJW0nadta2XHAw53GbXsmcBpwraSN+ypb7sY4japh03QxcACQMYiIiFVchjZWHetLup3qltqlwKXA6T2UGw9MlbSUqiF4ge1byoV5bKmj5SKqX/1XNeqYSbV2yjzg7HLRXwrcTzXJs2WapMXl/ULbB/R3ELa/Lmlz4GpJb2tkj5V0G7Ae8BRwVm0YpV7Hs5LOAs5sZN0oaVl5P9d2nmMSEbGSqfGDN2KN19XV5e7uLFwbEdEOSXNsdzXTM7QRERERHcvQRgyYpClUz6Oou8L2F1ZGPBERsfKlIREDVhoMaTRERMTzMrQRERERHUtDIiIiIjqWhkRERER0LA2JiIiI6FgaEhEREdGxNCQiIiKiY2lIRERERMfSkIiIiIiODWlDQtIySbdLmifpDknHSVqr5O0jaVZ5v7mkWaXM3ZKuKeljJC0udbReR9XqHyfJkiY09jul7HNu2WbXkj5b0j21uq7sI/aTJX2yvL9Y0jOtpbdL2tfKvjctny3pP2r5a0taUDvG5+urlXmosf1Xa3mflHRy7fPRkn5ZXj+XtEct72BJt9XO34dqcb+rsc9FPZzbuyWdJ2mtNtK/JWmd2nf5RON7OqCf76K3mOvnXZI+Lek+SfdKulHSDo3zN7P2+V2SLu7tO42IiME31E+2XGx7HICkzYDLgJHASY1ypwA32D6zlN2plje/VUcPJgI3l7/Xlm13Aw4GdrG9pFyo161tM8l2Jys23Q8cAvxHaQztB/yqlv80sKOk9W0vBt7ayO/PEuCdkr5oe2E9Q9LBwIeAPWwvlLQL8F1JbwJ+D5wPvMn2o5JeBowZ4D7n2x4naW3gh8A7gFsHkD4CuAF4NzCt1HWT7YMbcff4XZQGyEBi/iiwO/BG28+oWk30akk72P5TKTNe0utt3z3AY46IiEG0woY2bD9GtUT1MZLUyN4CeLRWdm5/9ZU6DgcmA2+VtF6troW2l5S6Ftr+9fIfAdOBI8r7fYD/oVp6u+4a4KDyfiJweRv1L6W6uB7bQ94JwPGtBobtW4FLqC60G1E1CH9f8pbYvqeN/WJ7KfAT4LUDTF8G/BzYqp+qe/suBhrzCcAxtp8p5a4v8UyqlfkqMKW/Yyw9Ot2SuhcsWNBf8YiIGKAVOkfC9gPACGCzRtY5wIWl63qKpC1reWMbXeZ7lvTdgQdtzwdm88IF/HpgdOkKP1fS3o19TavVdWob4d8LjJL0SqpGwvQeykwHjiyNmp2An7VRP1TnYZKkVzTSdwDmNNK6gR1sPw5cDTws6XJJk0qPyYBJ2gDYH7hzgOnrAbtSeoGKPRvf01h6+S4GErOkkcDLy7+Zlxx37fO3gV0kvZY+2D7fdpftrlGjRvVVNCIi2rBKTLa0fR2wDfANYHvgNkmt/+3n2x5Xe91U0usX8+nlM7YXAeOpej8WADMkTa7tblKtruPbDPU7wJFUF9GbmpmlJ2VMieWaZnYvdT6fbvtJ4FvAx9sJyvY/Ul3wfw58Erioj33W08ZKup2qd+W/bH9/gOm/A37T6Dm6qfE9ze/ru+gj5nYtA04FPtXh9hERsRxW6Oqfkrah+o//MeCv6nnlV+plwGWqJijuxUt/hbfqGQEcBhyiamlrAa+StJHtp0rX+2xgtqQ7gfcBFw/CIcwoMV1i+7mXjtAA1S/t06iGP15VS/89VVd/3UbAHxtpX6Oaj/DNWtrdVBfkH9bSxgPzWh9s3wncKelS4EGqIZ/fA69slZG0CVCff9Hb/JM+08tch/+R9He2r+6h3PP6+i56ibm13ZOSnpa0TaNXYjzwo8ZuLqVqSNzVVywRETH4VliPROlhOA+YatuNvP1KNzqq7owYCzzSR3X7A3Ntj7Y9xvbWwEzgUEnbSdq2VnYc8PBgHIPth6nG48/to9hFwGfLRbLux8DfleND0juBO8qFtr6Px6m66z9QS/4K8GVJryrbjqO66J4raUNJ+9TKjuOF450NHCGpNdl0MnBj30fZvzJX40T66QXo7bvoJ+a6U4GzJK1f6jsA2IOqwVmP58/AGfQ8vyQiIobQUPdIrF+6wtehmkx4KXB6D+XGA1MlLaVq3Fxg+xZJY3ihO73lImBn4KpGHTOBj1D9Sj9b0sZln/dTda23TJO0uLxfaPuAdg7I9r/3k/8ocFYP6XMlTQVulmSqXpl/7KWarwLH1La9WtJWwE/Ktk8B77H9m9Iw+RdJ/w4sprp7ZHLZbpak8cAcScuA+cCH2znePnwXOLk2Z2XPxvf0eapehp6+C/UWc8PZVD0qd5b4fwscUu6KaboQ+PTyHVJERLRLjc6BiDVeV1eXu7s7uQM4ImL4kjTHdlczfZWYbBkRERGrpxU62XJVVCZrHt5IvsL2F1ZGPBEREauTYd+QKA2GNBoiIiI6kKGNiIiI6FgaEhEREdGxNCQiIiKiY2lIRERERMfSkIiIiIiOpSERERERHUtDIiIiIjqWhkRERER0LA2J1YikZZJulzRP0h2SjpO0Vsnbpyy/jqTNJc0qZe6WdE1JHyNpcamj9TqqVv84SZY0obHfKWWfc8s2u5b02ZLuqdV1ZR+xnyzpkz2kLyp/H5C0XSPva5JOKMf2RCPuAxrn5C5J/1kWCIuIiBVk2D/ZcjWz2PY4AEmbUS2nPRI4qVHuFOAG22eWsjvV8ua36ujBRODm8vfasu1uwMHALraXSNoUWLe2zSTbg7EC1nTgSOCzZb9rAe8C3gK8BrjJ9sE9bFc/J5cAHyVPKo2IWGHSI7Gasv0Y1ZLcx0hSI3sL4NFa2bn91VfqOJxqOe+3SlqvVtdC20tKXQtt/3r5j+AlLgeOqH3eC3jY9sNt1PFTYKueMiQdLalbUveCBQuWI8yIiKhLQ2I1ZvsBYASwWSPrHOBCSTeWYYkta3ljG0MEe5b03YEHbc8HZgMHlfTrgdGS7pV0rqS9G/uaVqvr1OU4ljuB5yS9sSQdSdW4aNmzEffY+vaSRgD7A1f3Uv/5trtsd40aNarTMCMioiFDG2sg29dJ2gaYABwI3CZpx5Ld29DGRKrhBcrfo4CZthdJGg/sCewLzJB0ou2LS9nBGtqAquFwpKR5wDt48ZBNb0Mb60u6naon4hfADYMUS0REDEB6JFZjpbGwDHismWf7cduX2X4vcAvVUEFv9YwADgM+I+kh4GxggqSNSl3LbM+2fRJwTCk7FKYD7wYOAOba/t0AtmnNkdgaENUciYiIWEHSkFhNSRoFnAdMte1G3n6SNijvNwLGAo/0Ud3+VBfu0bbH2N4amAkcKmk7SdvWyo4D2pm3MGBlWGUh8CVePKwxkG2fAT4OHCcpPW0REStI/sNdvbS68dcBlgKXAqf3UG48MFXSUqrG4gW2b5E0hjJHolb2ImBn4KpGHTOBjwDzgLPLbZVLgfupJnm2TJO0uLxfaPuAPuL/tKRPtD7YfnUPZS6nakh8p5G+ZyPuz9t+0e2mtm+TNJdqmObSPuKIiIhBosaP2Yg1XldXl7u7B2taR0TE8CBpju2uZnqGNiIiIqJjGdqIQSVpCtXzKOqusJ2HREVErIHSkIhBVRoMaTRERAwTmSMRw46kp4B7VnYcK8GmVHfFDEc59uEpxz64trb9kif6pUcihqN7epowtKaT1D0cjxty7Dn24WdFHnsmW0ZERETH0pCIiIiIjqUhEcPR+Ss7gJVkuB435NiHqxz7CpDJlhEREdGx9EhEREREx9KQiIiIiI6lIRHDhqQJku6RdL+kE1d2PINN0mhJN0q6W9I8Sf9U0jeRdIOk+8rfV5Z0STqrnI+5knZZuUewfCSNkHSbpFnl82sk/awc3wxJ65b0l5XP95f8MSs18OUkaWNJV0r6paRfSNptGH3nx5Z/63dJulzSemvq9y7pIkmPSbqrltb29yzpfaX8fZLeNxixpSERw4KkEcA5wIHA64GJkl6/cqMadEuB42y/Hngz8NFyjCcCP7C9LfCD8hmqc7FteR0NfH3Fhzyo/gn4Re3zl4EzbL8W+APwgZL+AeAPJf2MUm51diZwre3tgTdSnYM1/juXtBXwcaDL9o7ACOBI1tzv/WJgQiOtre9Z0ibAScCuwJuAk1qNj+WRhkQMF28C7rf9gO1ngenAISs5pkFl+ze2by3vn6K6oGxFdZyXlGKXAO8o7w8BvuXK/wIbS9pixUY9OCS9GjgIuKB8FrAf0FpqvnncrfNxJbB/Kb/akfQKYC/gQgDbz9r+I8PgOy/WBtaXtDawAfAb1tDv3faPgccbye1+z28HbrD9uO0/ADfw0sZJ29KQiOFiK+D/ap8fLWlrpNJtuzPwM2Bz278pWb8FNi/v16Rz8jXgX4DnyudXAX+0vbR8rh/b88dd8p8o5VdHrwEWAN8swzoXSHo5w+A7t/0r4DTgEaoGxBPAHIbH997S7vc8JN9/GhIRaxhJGwIzgU/YfrKe5+p+7zXqnm9JBwOP2Z6zsmNZCdYGdgG+bntn4Gle6N4G1szvHKB0yR9C1ZjaEng5g/DrenW1Mr/nNCRiuPgVMLr2+dUlbY0iaR2qRsQ0298pyb9rdV+Xv4+V9DXlnLwF+DtJD1ENWe1HNW9g49LlDS8+tuePu+S/Avj9igx4ED0KPGr7Z+XzlVQNizX9Owc4AHjQ9gLbfwa+Q/VvYTh87y3tfs9D8v2nIRHDxS3AtmVG97pUk7KuXskxDaoy3nsh8Avbp9eyrgZas7PfB3yvln5UmeH9ZuCJWjfpasP2p2y/2vYYqu/1h7YnATcC7yrFmsfdOh/vKuVXy1/stn8L/J+k7UrS/sDdrOHfefEI8GZJG5R/+61jX+O/95p2v+frgLdJemXp0XlbSVs+tvPKa1i8gL8B7gXmA1NWdjxDcHx7UHVtzgVuL6+/oRoH/gFwH/DfwCalvKjuZJkP3Ek1+32lH8dynoN9gFnl/TbAz4H7gSuAl5X09crn+0v+Nis77uU85nFAd/nevwu8crh858BngV8CdwGXAi9bU7934HKquSB/puqJ+kAn3zPwD+Uc3A+8fzBiyyOyIyIiomMZ2oiIiIiOpSERERERHUtDIiIiIjqWhkRERER0LA2JiIiI6FgaEhERQ0DSX0iaLmm+pDmSrpH0ukGsfx9Juw9WfRGdSkMiImKQlQckXQXMtj3W9njgU7ywFsJg2AdIQyJWujQkIiIG377An22f10qwfQdws6RTJd0l6U5JR8DzvQuzWmUlTZU0ubx/SNJnJd1attm+LMr2YeBYSbdL2nNFHlxE3dr9F4mIiDbtSLUSZdM7qZ5E+UZgU+AWST8eQH0Lbe8i6f8Bn7T9j5LOAxbZPm2wgo7oRHokIiJWnD2Ay20vs/074EfAXw9gu9YCbHOAMUMUW0RH0pCIiBh884DxbZRfyov/P16vkb+k/F1GepJjFZOGRETE4Psh8DJJR7cSJO0E/BE4QtIISaOAvagWkHoYeL2kl0namGoly/48BWw02IFHtCst24iIQWbbkg4FvibpBOBPwEPAJ4ANgTuoVmr9F1dLgSPp21SrWD4I3DaA3fwncKWkQ4CP2b5psI8jYiCy+mdERER0LEMbERER0bE0JCIiIqJjaUhEREREx9KQiIiIiI6lIREREREdS0MiIiIiOpaGRERERHTs/wfGelMt2KoJuQAAAABJRU5ErkJggg==",
      "text/plain": [
       "<Figure size 432x288 with 1 Axes>"
      ]
     },
     "metadata": {
      "needs_background": "light"
     },
     "output_type": "display_data"
    }
   ],
   "source": [
    "analises.plot_data_doencas()"
   ]
  },
  {
   "cell_type": "markdown",
   "metadata": {},
   "source": [
    "#### Análise periodo 5 (01/03/2022 até 13/06/2022)"
   ]
  },
  {
   "cell_type": "code",
   "execution_count": 147,
   "metadata": {},
   "outputs": [
    {
     "name": "stdout",
     "output_type": "stream",
     "text": [
      "27.06\n"
     ]
    }
   ],
   "source": [
    "taxa_morte5 = (len(periodo_5[periodo_5['death'] == 1 ]) / len(periodo_5)) * 100\n",
    "print(f'{taxa_morte5:.2f}')"
   ]
  },
  {
   "cell_type": "code",
   "execution_count": 78,
   "metadata": {},
   "outputs": [
    {
     "data": {
      "text/html": [
       "<div>\n",
       "<style scoped>\n",
       "    .dataframe tbody tr th:only-of-type {\n",
       "        vertical-align: middle;\n",
       "    }\n",
       "\n",
       "    .dataframe tbody tr th {\n",
       "        vertical-align: top;\n",
       "    }\n",
       "\n",
       "    .dataframe thead th {\n",
       "        text-align: right;\n",
       "    }\n",
       "</style>\n",
       "<table border=\"1\" class=\"dataframe\">\n",
       "  <thead>\n",
       "    <tr style=\"text-align: right;\">\n",
       "      <th></th>\n",
       "      <th>Sintoma</th>\n",
       "      <th>Count</th>\n",
       "      <th>percentage</th>\n",
       "    </tr>\n",
       "  </thead>\n",
       "  <tbody>\n",
       "    <tr>\n",
       "      <th>0</th>\n",
       "      <td>SYMPTOM_COUGH</td>\n",
       "      <td>1200</td>\n",
       "      <td>72.158749</td>\n",
       "    </tr>\n",
       "    <tr>\n",
       "      <th>1</th>\n",
       "      <td>SYMPTOM_COLD</td>\n",
       "      <td>3</td>\n",
       "      <td>0.180397</td>\n",
       "    </tr>\n",
       "    <tr>\n",
       "      <th>2</th>\n",
       "      <td>SYMPTOM_AIR_INSUFFICIENCY</td>\n",
       "      <td>1451</td>\n",
       "      <td>87.251954</td>\n",
       "    </tr>\n",
       "    <tr>\n",
       "      <th>3</th>\n",
       "      <td>SYMPTOM_FEVER</td>\n",
       "      <td>854</td>\n",
       "      <td>51.352977</td>\n",
       "    </tr>\n",
       "    <tr>\n",
       "      <th>4</th>\n",
       "      <td>SYMPTOM_LOW_OXYGEN_SATURATION</td>\n",
       "      <td>0</td>\n",
       "      <td>0.000000</td>\n",
       "    </tr>\n",
       "    <tr>\n",
       "      <th>5</th>\n",
       "      <td>SYMPTOM_BREATHING_CONDITION</td>\n",
       "      <td>9</td>\n",
       "      <td>0.541191</td>\n",
       "    </tr>\n",
       "    <tr>\n",
       "      <th>6</th>\n",
       "      <td>SYMPTOM_TORACIC_APERTURE</td>\n",
       "      <td>5</td>\n",
       "      <td>0.300661</td>\n",
       "    </tr>\n",
       "    <tr>\n",
       "      <th>7</th>\n",
       "      <td>SYMPTOM_THROAT_CONDITION</td>\n",
       "      <td>166</td>\n",
       "      <td>9.981960</td>\n",
       "    </tr>\n",
       "    <tr>\n",
       "      <th>8</th>\n",
       "      <td>SYMPTOM_HEADACHE</td>\n",
       "      <td>46</td>\n",
       "      <td>2.766085</td>\n",
       "    </tr>\n",
       "    <tr>\n",
       "      <th>9</th>\n",
       "      <td>SYMPTOM_BODY_PAIN</td>\n",
       "      <td>72</td>\n",
       "      <td>4.329525</td>\n",
       "    </tr>\n",
       "    <tr>\n",
       "      <th>10</th>\n",
       "      <td>SYMPTOM_DIARRHEA</td>\n",
       "      <td>69</td>\n",
       "      <td>4.149128</td>\n",
       "    </tr>\n",
       "    <tr>\n",
       "      <th>11</th>\n",
       "      <td>SYMPTOM_RUNNY_NOSE</td>\n",
       "      <td>194</td>\n",
       "      <td>11.665664</td>\n",
       "    </tr>\n",
       "    <tr>\n",
       "      <th>12</th>\n",
       "      <td>SYMPTOM_NOSE_CONGESTION</td>\n",
       "      <td>1</td>\n",
       "      <td>0.060132</td>\n",
       "    </tr>\n",
       "    <tr>\n",
       "      <th>13</th>\n",
       "      <td>SYMPTOM_WEAKNESS</td>\n",
       "      <td>29</td>\n",
       "      <td>1.743836</td>\n",
       "    </tr>\n",
       "    <tr>\n",
       "      <th>14</th>\n",
       "      <td>SYMPTOM_ANOSMIA_OR_HYPOSMIA</td>\n",
       "      <td>0</td>\n",
       "      <td>0.000000</td>\n",
       "    </tr>\n",
       "    <tr>\n",
       "      <th>15</th>\n",
       "      <td>SYMPTOM_NAUSEA</td>\n",
       "      <td>0</td>\n",
       "      <td>0.000000</td>\n",
       "    </tr>\n",
       "    <tr>\n",
       "      <th>16</th>\n",
       "      <td>SYMPTOM_LACK_OF_APPETITE</td>\n",
       "      <td>7</td>\n",
       "      <td>0.420926</td>\n",
       "    </tr>\n",
       "    <tr>\n",
       "      <th>17</th>\n",
       "      <td>SYMPTOM_ABDOMINAL_PAIN</td>\n",
       "      <td>32</td>\n",
       "      <td>1.924233</td>\n",
       "    </tr>\n",
       "    <tr>\n",
       "      <th>18</th>\n",
       "      <td>SYMPTOM_CONSCIOUSNESS_DEGRADATION</td>\n",
       "      <td>41</td>\n",
       "      <td>2.465424</td>\n",
       "    </tr>\n",
       "  </tbody>\n",
       "</table>\n",
       "</div>"
      ],
      "text/plain": [
       "                              Sintoma  Count  percentage\n",
       "0                       SYMPTOM_COUGH   1200   72.158749\n",
       "1                        SYMPTOM_COLD      3    0.180397\n",
       "2           SYMPTOM_AIR_INSUFFICIENCY   1451   87.251954\n",
       "3                       SYMPTOM_FEVER    854   51.352977\n",
       "4       SYMPTOM_LOW_OXYGEN_SATURATION      0    0.000000\n",
       "5         SYMPTOM_BREATHING_CONDITION      9    0.541191\n",
       "6            SYMPTOM_TORACIC_APERTURE      5    0.300661\n",
       "7            SYMPTOM_THROAT_CONDITION    166    9.981960\n",
       "8                    SYMPTOM_HEADACHE     46    2.766085\n",
       "9                   SYMPTOM_BODY_PAIN     72    4.329525\n",
       "10                   SYMPTOM_DIARRHEA     69    4.149128\n",
       "11                 SYMPTOM_RUNNY_NOSE    194   11.665664\n",
       "12            SYMPTOM_NOSE_CONGESTION      1    0.060132\n",
       "13                   SYMPTOM_WEAKNESS     29    1.743836\n",
       "14        SYMPTOM_ANOSMIA_OR_HYPOSMIA      0    0.000000\n",
       "15                     SYMPTOM_NAUSEA      0    0.000000\n",
       "16           SYMPTOM_LACK_OF_APPETITE      7    0.420926\n",
       "17             SYMPTOM_ABDOMINAL_PAIN     32    1.924233\n",
       "18  SYMPTOM_CONSCIOUSNESS_DEGRADATION     41    2.465424"
      ]
     },
     "execution_count": 78,
     "metadata": {},
     "output_type": "execute_result"
    }
   ],
   "source": [
    "analises.run_graves(periodo_5)\n",
    "df2_p5 = analises.df2\n",
    "df3_p5 = analises.df3\n",
    "df2_p5"
   ]
  },
  {
   "cell_type": "code",
   "execution_count": 79,
   "metadata": {},
   "outputs": [
    {
     "data": {
      "text/html": [
       "<div>\n",
       "<style scoped>\n",
       "    .dataframe tbody tr th:only-of-type {\n",
       "        vertical-align: middle;\n",
       "    }\n",
       "\n",
       "    .dataframe tbody tr th {\n",
       "        vertical-align: top;\n",
       "    }\n",
       "\n",
       "    .dataframe thead th {\n",
       "        text-align: right;\n",
       "    }\n",
       "</style>\n",
       "<table border=\"1\" class=\"dataframe\">\n",
       "  <thead>\n",
       "    <tr style=\"text-align: right;\">\n",
       "      <th></th>\n",
       "      <th>Doencas_preexistentes</th>\n",
       "      <th>Count</th>\n",
       "      <th>percentage</th>\n",
       "    </tr>\n",
       "  </thead>\n",
       "  <tbody>\n",
       "    <tr>\n",
       "      <th>0</th>\n",
       "      <td>DISEASE_HEART_OR_VASCULAR</td>\n",
       "      <td>13</td>\n",
       "      <td>0.781720</td>\n",
       "    </tr>\n",
       "    <tr>\n",
       "      <th>1</th>\n",
       "      <td>DISEASE_DIABETES</td>\n",
       "      <td>267</td>\n",
       "      <td>16.055322</td>\n",
       "    </tr>\n",
       "    <tr>\n",
       "      <th>2</th>\n",
       "      <td>DISEASE_HYPERTENSION</td>\n",
       "      <td>145</td>\n",
       "      <td>8.719182</td>\n",
       "    </tr>\n",
       "    <tr>\n",
       "      <th>3</th>\n",
       "      <td>DISEASE_RESPIRATORY</td>\n",
       "      <td>86</td>\n",
       "      <td>5.171377</td>\n",
       "    </tr>\n",
       "    <tr>\n",
       "      <th>4</th>\n",
       "      <td>DISEASE_OBESITY</td>\n",
       "      <td>56</td>\n",
       "      <td>3.367408</td>\n",
       "    </tr>\n",
       "    <tr>\n",
       "      <th>5</th>\n",
       "      <td>DISEASE_KIDNEY</td>\n",
       "      <td>0</td>\n",
       "      <td>0.000000</td>\n",
       "    </tr>\n",
       "    <tr>\n",
       "      <th>6</th>\n",
       "      <td>DISEASE_IMMUNOSUPPRESSION</td>\n",
       "      <td>1</td>\n",
       "      <td>0.060132</td>\n",
       "    </tr>\n",
       "    <tr>\n",
       "      <th>7</th>\n",
       "      <td>DISEASE_TABAGIST</td>\n",
       "      <td>82</td>\n",
       "      <td>4.930848</td>\n",
       "    </tr>\n",
       "    <tr>\n",
       "      <th>8</th>\n",
       "      <td>DISEASE_ETILISM</td>\n",
       "      <td>31</td>\n",
       "      <td>1.864101</td>\n",
       "    </tr>\n",
       "    <tr>\n",
       "      <th>9</th>\n",
       "      <td>DISEASE_LIVER</td>\n",
       "      <td>0</td>\n",
       "      <td>0.000000</td>\n",
       "    </tr>\n",
       "    <tr>\n",
       "      <th>10</th>\n",
       "      <td>DISEASE_NEUROLOGIC</td>\n",
       "      <td>35</td>\n",
       "      <td>2.104630</td>\n",
       "    </tr>\n",
       "  </tbody>\n",
       "</table>\n",
       "</div>"
      ],
      "text/plain": [
       "        Doencas_preexistentes  Count  percentage\n",
       "0   DISEASE_HEART_OR_VASCULAR     13    0.781720\n",
       "1            DISEASE_DIABETES    267   16.055322\n",
       "2        DISEASE_HYPERTENSION    145    8.719182\n",
       "3         DISEASE_RESPIRATORY     86    5.171377\n",
       "4             DISEASE_OBESITY     56    3.367408\n",
       "5              DISEASE_KIDNEY      0    0.000000\n",
       "6   DISEASE_IMMUNOSUPPRESSION      1    0.060132\n",
       "7            DISEASE_TABAGIST     82    4.930848\n",
       "8             DISEASE_ETILISM     31    1.864101\n",
       "9               DISEASE_LIVER      0    0.000000\n",
       "10         DISEASE_NEUROLOGIC     35    2.104630"
      ]
     },
     "execution_count": 79,
     "metadata": {},
     "output_type": "execute_result"
    }
   ],
   "source": [
    "df3_p5"
   ]
  },
  {
   "cell_type": "code",
   "execution_count": 80,
   "metadata": {},
   "outputs": [
    {
     "name": "stdout",
     "output_type": "stream",
     "text": [
      "Análises gráficas quantitativa dos sintomas\n"
     ]
    },
    {
     "data": {
      "image/png": "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",
      "text/plain": [
       "<Figure size 432x288 with 1 Axes>"
      ]
     },
     "metadata": {
      "needs_background": "light"
     },
     "output_type": "display_data"
    }
   ],
   "source": [
    "analises.plot_data_sintomas()"
   ]
  },
  {
   "cell_type": "code",
   "execution_count": 81,
   "metadata": {},
   "outputs": [
    {
     "name": "stdout",
     "output_type": "stream",
     "text": [
      "Análises gráficas quantitativa das doenças\n"
     ]
    },
    {
     "data": {
      "image/png": "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",
      "text/plain": [
       "<Figure size 432x288 with 1 Axes>"
      ]
     },
     "metadata": {
      "needs_background": "light"
     },
     "output_type": "display_data"
    }
   ],
   "source": [
    "analises.plot_data_doencas()"
   ]
  },
  {
   "cell_type": "markdown",
   "metadata": {},
   "source": [
    "#### Criando um dataset dos periodos"
   ]
  },
  {
   "cell_type": "markdown",
   "metadata": {},
   "source": [
    "##### Para as doenças "
   ]
  },
  {
   "cell_type": "code",
   "execution_count": 134,
   "metadata": {},
   "outputs": [
    {
     "data": {
      "text/html": [
       "<div>\n",
       "<style scoped>\n",
       "    .dataframe tbody tr th:only-of-type {\n",
       "        vertical-align: middle;\n",
       "    }\n",
       "\n",
       "    .dataframe tbody tr th {\n",
       "        vertical-align: top;\n",
       "    }\n",
       "\n",
       "    .dataframe thead th {\n",
       "        text-align: right;\n",
       "    }\n",
       "</style>\n",
       "<table border=\"1\" class=\"dataframe\">\n",
       "  <thead>\n",
       "    <tr style=\"text-align: right;\">\n",
       "      <th></th>\n",
       "      <th>count_p1</th>\n",
       "      <th>count_p2</th>\n",
       "      <th>count_p3</th>\n",
       "      <th>count_p4</th>\n",
       "      <th>count_p5</th>\n",
       "    </tr>\n",
       "    <tr>\n",
       "      <th>Doencas_preexistentes</th>\n",
       "      <th></th>\n",
       "      <th></th>\n",
       "      <th></th>\n",
       "      <th></th>\n",
       "      <th></th>\n",
       "    </tr>\n",
       "  </thead>\n",
       "  <tbody>\n",
       "    <tr>\n",
       "      <th>DISEASE_DIABETES</th>\n",
       "      <td>1369</td>\n",
       "      <td>1266</td>\n",
       "      <td>1915</td>\n",
       "      <td>1016</td>\n",
       "      <td>267</td>\n",
       "    </tr>\n",
       "    <tr>\n",
       "      <th>DISEASE_HYPERTENSION</th>\n",
       "      <td>536</td>\n",
       "      <td>347</td>\n",
       "      <td>796</td>\n",
       "      <td>545</td>\n",
       "      <td>145</td>\n",
       "    </tr>\n",
       "    <tr>\n",
       "      <th>DISEASE_OBESITY</th>\n",
       "      <td>361</td>\n",
       "      <td>340</td>\n",
       "      <td>819</td>\n",
       "      <td>191</td>\n",
       "      <td>56</td>\n",
       "    </tr>\n",
       "    <tr>\n",
       "      <th>DISEASE_TABAGIST</th>\n",
       "      <td>167</td>\n",
       "      <td>310</td>\n",
       "      <td>481</td>\n",
       "      <td>315</td>\n",
       "      <td>82</td>\n",
       "    </tr>\n",
       "    <tr>\n",
       "      <th>DISEASE_NEUROLOGIC</th>\n",
       "      <td>165</td>\n",
       "      <td>98</td>\n",
       "      <td>181</td>\n",
       "      <td>132</td>\n",
       "      <td>35</td>\n",
       "    </tr>\n",
       "    <tr>\n",
       "      <th>DISEASE_RESPIRATORY</th>\n",
       "      <td>151</td>\n",
       "      <td>116</td>\n",
       "      <td>142</td>\n",
       "      <td>216</td>\n",
       "      <td>86</td>\n",
       "    </tr>\n",
       "    <tr>\n",
       "      <th>DISEASE_ETILISM</th>\n",
       "      <td>90</td>\n",
       "      <td>94</td>\n",
       "      <td>108</td>\n",
       "      <td>66</td>\n",
       "      <td>31</td>\n",
       "    </tr>\n",
       "    <tr>\n",
       "      <th>DISEASE_HEART_OR_VASCULAR</th>\n",
       "      <td>67</td>\n",
       "      <td>26</td>\n",
       "      <td>54</td>\n",
       "      <td>32</td>\n",
       "      <td>13</td>\n",
       "    </tr>\n",
       "    <tr>\n",
       "      <th>DISEASE_KIDNEY</th>\n",
       "      <td>8</td>\n",
       "      <td>1</td>\n",
       "      <td>0</td>\n",
       "      <td>1</td>\n",
       "      <td>0</td>\n",
       "    </tr>\n",
       "    <tr>\n",
       "      <th>DISEASE_IMMUNOSUPPRESSION</th>\n",
       "      <td>2</td>\n",
       "      <td>0</td>\n",
       "      <td>0</td>\n",
       "      <td>0</td>\n",
       "      <td>1</td>\n",
       "    </tr>\n",
       "    <tr>\n",
       "      <th>DISEASE_LIVER</th>\n",
       "      <td>0</td>\n",
       "      <td>0</td>\n",
       "      <td>0</td>\n",
       "      <td>0</td>\n",
       "      <td>0</td>\n",
       "    </tr>\n",
       "  </tbody>\n",
       "</table>\n",
       "</div>"
      ],
      "text/plain": [
       "                           count_p1  count_p2  count_p3  count_p4  count_p5\n",
       "Doencas_preexistentes                                                      \n",
       "DISEASE_DIABETES               1369      1266      1915      1016       267\n",
       "DISEASE_HYPERTENSION            536       347       796       545       145\n",
       "DISEASE_OBESITY                 361       340       819       191        56\n",
       "DISEASE_TABAGIST                167       310       481       315        82\n",
       "DISEASE_NEUROLOGIC              165        98       181       132        35\n",
       "DISEASE_RESPIRATORY             151       116       142       216        86\n",
       "DISEASE_ETILISM                  90        94       108        66        31\n",
       "DISEASE_HEART_OR_VASCULAR        67        26        54        32        13\n",
       "DISEASE_KIDNEY                    8         1         0         1         0\n",
       "DISEASE_IMMUNOSUPPRESSION         2         0         0         0         1\n",
       "DISEASE_LIVER                     0         0         0         0         0"
      ]
     },
     "execution_count": 134,
     "metadata": {},
     "output_type": "execute_result"
    }
   ],
   "source": [
    "d_periodos = pd.DataFrame(df3['Doencas_preexistentes'])\n",
    "d_periodos['count_p1'] = df3_p1['Count']\n",
    "d_periodos['count_p2'] = df3_p2['Count']\n",
    "d_periodos['count_p3'] = df3_p3['Count']\n",
    "d_periodos['count_p4'] = df3_p4['Count']\n",
    "d_periodos['count_p5'] = df3_p5['Count']\n",
    "\n",
    "d_periodos.set_index('Doencas_preexistentes', inplace = True)\n",
    "\n",
    "d_periodos.sort_values(by=['count_p1'], ascending= False)\n"
   ]
  },
  {
   "cell_type": "code",
   "execution_count": 135,
   "metadata": {},
   "outputs": [],
   "source": [
    "principais_doencas = ['DISEASE_DIABETES','DISEASE_HYPERTENSION','DISEASE_OBESITY','DISEASE_TABAGIST','DISEASE_NEUROLOGIC']\n",
    "d_periodos_2 = d_periodos[d_periodos.index.isin(principais_doencas)]"
   ]
  },
  {
   "cell_type": "code",
   "execution_count": 137,
   "metadata": {},
   "outputs": [
    {
     "data": {
      "text/plain": [
       "<AxesSubplot:xlabel='Doencas_preexistentes'>"
      ]
     },
     "execution_count": 137,
     "metadata": {},
     "output_type": "execute_result"
    },
    {
     "data": {
      "image/png": "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",
      "text/plain": [
       "<Figure size 1080x360 with 1 Axes>"
      ]
     },
     "metadata": {
      "needs_background": "light"
     },
     "output_type": "display_data"
    }
   ],
   "source": [
    "d_periodos_2.plot.bar(rot=0,figsize=[15,5])"
   ]
  },
  {
   "cell_type": "markdown",
   "metadata": {},
   "source": [
    "##### Para os sintomas"
   ]
  },
  {
   "cell_type": "code",
   "execution_count": 116,
   "metadata": {},
   "outputs": [
    {
     "data": {
      "text/html": [
       "<div>\n",
       "<style scoped>\n",
       "    .dataframe tbody tr th:only-of-type {\n",
       "        vertical-align: middle;\n",
       "    }\n",
       "\n",
       "    .dataframe tbody tr th {\n",
       "        vertical-align: top;\n",
       "    }\n",
       "\n",
       "    .dataframe thead th {\n",
       "        text-align: right;\n",
       "    }\n",
       "</style>\n",
       "<table border=\"1\" class=\"dataframe\">\n",
       "  <thead>\n",
       "    <tr style=\"text-align: right;\">\n",
       "      <th></th>\n",
       "      <th>count_p1</th>\n",
       "      <th>count_p2</th>\n",
       "      <th>count_p3</th>\n",
       "      <th>count_p4</th>\n",
       "      <th>count_p5</th>\n",
       "    </tr>\n",
       "    <tr>\n",
       "      <th>Sintoma</th>\n",
       "      <th></th>\n",
       "      <th></th>\n",
       "      <th></th>\n",
       "      <th></th>\n",
       "      <th></th>\n",
       "    </tr>\n",
       "  </thead>\n",
       "  <tbody>\n",
       "    <tr>\n",
       "      <th>SYMPTOM_COUGH</th>\n",
       "      <td>10476</td>\n",
       "      <td>4018</td>\n",
       "      <td>7308</td>\n",
       "      <td>3272</td>\n",
       "      <td>1200</td>\n",
       "    </tr>\n",
       "    <tr>\n",
       "      <th>SYMPTOM_FEVER</th>\n",
       "      <td>9200</td>\n",
       "      <td>3353</td>\n",
       "      <td>6667</td>\n",
       "      <td>2553</td>\n",
       "      <td>854</td>\n",
       "    </tr>\n",
       "    <tr>\n",
       "      <th>SYMPTOM_AIR_INSUFFICIENCY</th>\n",
       "      <td>7830</td>\n",
       "      <td>4182</td>\n",
       "      <td>7242</td>\n",
       "      <td>3693</td>\n",
       "      <td>1451</td>\n",
       "    </tr>\n",
       "    <tr>\n",
       "      <th>SYMPTOM_THROAT_CONDITION</th>\n",
       "      <td>3565</td>\n",
       "      <td>496</td>\n",
       "      <td>916</td>\n",
       "      <td>434</td>\n",
       "      <td>166</td>\n",
       "    </tr>\n",
       "    <tr>\n",
       "      <th>SYMPTOM_HEADACHE</th>\n",
       "      <td>1997</td>\n",
       "      <td>592</td>\n",
       "      <td>1263</td>\n",
       "      <td>240</td>\n",
       "      <td>46</td>\n",
       "    </tr>\n",
       "    <tr>\n",
       "      <th>SYMPTOM_DIARRHEA</th>\n",
       "      <td>1596</td>\n",
       "      <td>478</td>\n",
       "      <td>844</td>\n",
       "      <td>216</td>\n",
       "      <td>69</td>\n",
       "    </tr>\n",
       "    <tr>\n",
       "      <th>SYMPTOM_BODY_PAIN</th>\n",
       "      <td>1510</td>\n",
       "      <td>811</td>\n",
       "      <td>1664</td>\n",
       "      <td>299</td>\n",
       "      <td>72</td>\n",
       "    </tr>\n",
       "    <tr>\n",
       "      <th>SYMPTOM_RUNNY_NOSE</th>\n",
       "      <td>1035</td>\n",
       "      <td>570</td>\n",
       "      <td>1135</td>\n",
       "      <td>486</td>\n",
       "      <td>194</td>\n",
       "    </tr>\n",
       "    <tr>\n",
       "      <th>SYMPTOM_WEAKNESS</th>\n",
       "      <td>474</td>\n",
       "      <td>497</td>\n",
       "      <td>857</td>\n",
       "      <td>214</td>\n",
       "      <td>29</td>\n",
       "    </tr>\n",
       "    <tr>\n",
       "      <th>SYMPTOM_ABDOMINAL_PAIN</th>\n",
       "      <td>120</td>\n",
       "      <td>100</td>\n",
       "      <td>140</td>\n",
       "      <td>80</td>\n",
       "      <td>32</td>\n",
       "    </tr>\n",
       "    <tr>\n",
       "      <th>SYMPTOM_LACK_OF_APPETITE</th>\n",
       "      <td>72</td>\n",
       "      <td>51</td>\n",
       "      <td>88</td>\n",
       "      <td>37</td>\n",
       "      <td>7</td>\n",
       "    </tr>\n",
       "    <tr>\n",
       "      <th>SYMPTOM_BREATHING_CONDITION</th>\n",
       "      <td>66</td>\n",
       "      <td>79</td>\n",
       "      <td>73</td>\n",
       "      <td>34</td>\n",
       "      <td>9</td>\n",
       "    </tr>\n",
       "    <tr>\n",
       "      <th>SYMPTOM_CONSCIOUSNESS_DEGRADATION</th>\n",
       "      <td>48</td>\n",
       "      <td>44</td>\n",
       "      <td>73</td>\n",
       "      <td>106</td>\n",
       "      <td>41</td>\n",
       "    </tr>\n",
       "    <tr>\n",
       "      <th>SYMPTOM_TORACIC_APERTURE</th>\n",
       "      <td>38</td>\n",
       "      <td>46</td>\n",
       "      <td>72</td>\n",
       "      <td>35</td>\n",
       "      <td>5</td>\n",
       "    </tr>\n",
       "    <tr>\n",
       "      <th>SYMPTOM_NAUSEA</th>\n",
       "      <td>37</td>\n",
       "      <td>17</td>\n",
       "      <td>67</td>\n",
       "      <td>11</td>\n",
       "      <td>0</td>\n",
       "    </tr>\n",
       "    <tr>\n",
       "      <th>SYMPTOM_COLD</th>\n",
       "      <td>34</td>\n",
       "      <td>8</td>\n",
       "      <td>28</td>\n",
       "      <td>12</td>\n",
       "      <td>3</td>\n",
       "    </tr>\n",
       "    <tr>\n",
       "      <th>SYMPTOM_ANOSMIA_OR_HYPOSMIA</th>\n",
       "      <td>34</td>\n",
       "      <td>36</td>\n",
       "      <td>65</td>\n",
       "      <td>7</td>\n",
       "      <td>0</td>\n",
       "    </tr>\n",
       "    <tr>\n",
       "      <th>SYMPTOM_LOW_OXYGEN_SATURATION</th>\n",
       "      <td>1</td>\n",
       "      <td>0</td>\n",
       "      <td>0</td>\n",
       "      <td>0</td>\n",
       "      <td>0</td>\n",
       "    </tr>\n",
       "    <tr>\n",
       "      <th>SYMPTOM_NOSE_CONGESTION</th>\n",
       "      <td>1</td>\n",
       "      <td>0</td>\n",
       "      <td>2</td>\n",
       "      <td>1</td>\n",
       "      <td>1</td>\n",
       "    </tr>\n",
       "  </tbody>\n",
       "</table>\n",
       "</div>"
      ],
      "text/plain": [
       "                                   count_p1  count_p2  count_p3  count_p4  \\\n",
       "Sintoma                                                                     \n",
       "SYMPTOM_COUGH                         10476      4018      7308      3272   \n",
       "SYMPTOM_FEVER                          9200      3353      6667      2553   \n",
       "SYMPTOM_AIR_INSUFFICIENCY              7830      4182      7242      3693   \n",
       "SYMPTOM_THROAT_CONDITION               3565       496       916       434   \n",
       "SYMPTOM_HEADACHE                       1997       592      1263       240   \n",
       "SYMPTOM_DIARRHEA                       1596       478       844       216   \n",
       "SYMPTOM_BODY_PAIN                      1510       811      1664       299   \n",
       "SYMPTOM_RUNNY_NOSE                     1035       570      1135       486   \n",
       "SYMPTOM_WEAKNESS                        474       497       857       214   \n",
       "SYMPTOM_ABDOMINAL_PAIN                  120       100       140        80   \n",
       "SYMPTOM_LACK_OF_APPETITE                 72        51        88        37   \n",
       "SYMPTOM_BREATHING_CONDITION              66        79        73        34   \n",
       "SYMPTOM_CONSCIOUSNESS_DEGRADATION        48        44        73       106   \n",
       "SYMPTOM_TORACIC_APERTURE                 38        46        72        35   \n",
       "SYMPTOM_NAUSEA                           37        17        67        11   \n",
       "SYMPTOM_COLD                             34         8        28        12   \n",
       "SYMPTOM_ANOSMIA_OR_HYPOSMIA              34        36        65         7   \n",
       "SYMPTOM_LOW_OXYGEN_SATURATION             1         0         0         0   \n",
       "SYMPTOM_NOSE_CONGESTION                   1         0         2         1   \n",
       "\n",
       "                                   count_p5  \n",
       "Sintoma                                      \n",
       "SYMPTOM_COUGH                          1200  \n",
       "SYMPTOM_FEVER                           854  \n",
       "SYMPTOM_AIR_INSUFFICIENCY              1451  \n",
       "SYMPTOM_THROAT_CONDITION                166  \n",
       "SYMPTOM_HEADACHE                         46  \n",
       "SYMPTOM_DIARRHEA                         69  \n",
       "SYMPTOM_BODY_PAIN                        72  \n",
       "SYMPTOM_RUNNY_NOSE                      194  \n",
       "SYMPTOM_WEAKNESS                         29  \n",
       "SYMPTOM_ABDOMINAL_PAIN                   32  \n",
       "SYMPTOM_LACK_OF_APPETITE                  7  \n",
       "SYMPTOM_BREATHING_CONDITION               9  \n",
       "SYMPTOM_CONSCIOUSNESS_DEGRADATION        41  \n",
       "SYMPTOM_TORACIC_APERTURE                  5  \n",
       "SYMPTOM_NAUSEA                            0  \n",
       "SYMPTOM_COLD                              3  \n",
       "SYMPTOM_ANOSMIA_OR_HYPOSMIA               0  \n",
       "SYMPTOM_LOW_OXYGEN_SATURATION             0  \n",
       "SYMPTOM_NOSE_CONGESTION                   1  "
      ]
     },
     "execution_count": 116,
     "metadata": {},
     "output_type": "execute_result"
    }
   ],
   "source": [
    "s_periodos = pd.DataFrame(df2['Sintoma'])\n",
    "s_periodos['count_p1'] = df2_p1['Count']\n",
    "s_periodos['count_p2'] = df2_p2['Count']\n",
    "s_periodos['count_p3'] = df2_p3['Count']\n",
    "s_periodos['count_p4'] = df2_p4['Count']\n",
    "s_periodos['count_p5'] = df2_p5['Count']\n",
    "\n",
    "s_periodos.set_index('Sintoma', inplace = True)\n",
    "\n",
    "s_periodos.sort_values(by=['count_p1'], ascending= False)"
   ]
  },
  {
   "cell_type": "code",
   "execution_count": 129,
   "metadata": {},
   "outputs": [],
   "source": [
    "principais_sintomas = ['SYMPTOM_COUGH','SYMPTOM_FEVER','SYMPTOM_AIR_INSUFFICIENCY','SYMPTOM_THROAT_CONDITION','SYMPTOM_HEADACHE']\n",
    "s_periodos_2 = s_periodos[s_periodos.index.isin(principais_sintomas)]"
   ]
  },
  {
   "cell_type": "code",
   "execution_count": 132,
   "metadata": {},
   "outputs": [
    {
     "data": {
      "text/plain": [
       "<AxesSubplot:xlabel='Sintoma'>"
      ]
     },
     "execution_count": 132,
     "metadata": {},
     "output_type": "execute_result"
    },
    {
     "data": {
      "image/png": "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",
      "text/plain": [
       "<Figure size 1080x360 with 1 Axes>"
      ]
     },
     "metadata": {
      "needs_background": "light"
     },
     "output_type": "display_data"
    }
   ],
   "source": [
    "s_periodos_2.plot.bar(rot=0,figsize=[15,5])"
   ]
  },
  {
   "cell_type": "markdown",
   "metadata": {},
   "source": [
    "##### Para as taxas de morte"
   ]
  },
  {
   "cell_type": "code",
   "execution_count": 156,
   "metadata": {},
   "outputs": [
    {
     "data": {
      "text/html": [
       "<div>\n",
       "<style scoped>\n",
       "    .dataframe tbody tr th:only-of-type {\n",
       "        vertical-align: middle;\n",
       "    }\n",
       "\n",
       "    .dataframe tbody tr th {\n",
       "        vertical-align: top;\n",
       "    }\n",
       "\n",
       "    .dataframe thead th {\n",
       "        text-align: right;\n",
       "    }\n",
       "</style>\n",
       "<table border=\"1\" class=\"dataframe\">\n",
       "  <thead>\n",
       "    <tr style=\"text-align: right;\">\n",
       "      <th></th>\n",
       "      <th>taxa_morte</th>\n",
       "    </tr>\n",
       "    <tr>\n",
       "      <th>periodos</th>\n",
       "      <th></th>\n",
       "    </tr>\n",
       "  </thead>\n",
       "  <tbody>\n",
       "    <tr>\n",
       "      <th>Periodo_1</th>\n",
       "      <td>21.031092</td>\n",
       "    </tr>\n",
       "    <tr>\n",
       "      <th>Periodo_2</th>\n",
       "      <td>31.158849</td>\n",
       "    </tr>\n",
       "    <tr>\n",
       "      <th>Periodo_3</th>\n",
       "      <td>31.409227</td>\n",
       "    </tr>\n",
       "    <tr>\n",
       "      <th>Periodo_4</th>\n",
       "      <td>24.692202</td>\n",
       "    </tr>\n",
       "    <tr>\n",
       "      <th>Periodo_5</th>\n",
       "      <td>27.059531</td>\n",
       "    </tr>\n",
       "  </tbody>\n",
       "</table>\n",
       "</div>"
      ],
      "text/plain": [
       "           taxa_morte\n",
       "periodos             \n",
       "Periodo_1   21.031092\n",
       "Periodo_2   31.158849\n",
       "Periodo_3   31.409227\n",
       "Periodo_4   24.692202\n",
       "Periodo_5   27.059531"
      ]
     },
     "execution_count": 156,
     "metadata": {},
     "output_type": "execute_result"
    }
   ],
   "source": [
    "taxas = {'taxa_morte': [taxa_morte1, taxa_morte2, taxa_morte3, taxa_morte4, taxa_morte5],\n",
    "        'periodos': ['Periodo_1','Periodo_2', 'Periodo_3', 'Periodo_4','Periodo_5'] }\n",
    "\n",
    "df_taxas = pd.DataFrame(taxas)\n",
    "\n",
    "df_taxas.set_index('periodos', inplace = True)\n",
    "df_taxas"
   ]
  },
  {
   "cell_type": "code",
   "execution_count": 159,
   "metadata": {},
   "outputs": [
    {
     "data": {
      "text/plain": [
       "<AxesSubplot:xlabel='periodos'>"
      ]
     },
     "execution_count": 159,
     "metadata": {},
     "output_type": "execute_result"
    },
    {
     "data": {
      "image/png": "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",
      "text/plain": [
       "<Figure size 432x288 with 1 Axes>"
      ]
     },
     "metadata": {
      "needs_background": "light"
     },
     "output_type": "display_data"
    }
   ],
   "source": [
    "df_taxas.plot.bar(rot = 0)"
   ]
  },
  {
   "cell_type": "code",
   "execution_count": null,
   "metadata": {},
   "outputs": [],
   "source": []
  }
 ],
 "metadata": {
  "kernelspec": {
   "display_name": "Python 3.9.13 64-bit (windows store)",
   "language": "python",
   "name": "python3"
  },
  "language_info": {
   "codemirror_mode": {
    "name": "ipython",
    "version": 3
   },
   "file_extension": ".py",
   "mimetype": "text/x-python",
   "name": "python",
   "nbconvert_exporter": "python",
   "pygments_lexer": "ipython3",
   "version": "3.9.13"
  },
  "orig_nbformat": 4,
  "vscode": {
   "interpreter": {
    "hash": "b7f22e608a9410c9a00adbb49e3cb6a72010c497ae6b30c9496ff58de178a89c"
   }
  }
 },
 "nbformat": 4,
 "nbformat_minor": 2
}
