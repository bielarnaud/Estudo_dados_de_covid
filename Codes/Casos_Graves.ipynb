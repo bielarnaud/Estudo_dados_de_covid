{
 "cells": [
  {
   "cell_type": "code",
   "execution_count": 1,
   "metadata": {},
   "outputs": [],
   "source": [
    "from functions.Pre_processing_Casos_Graves import *\n",
    "import matplotlib.pyplot as plt\n",
    "import seaborn as sns"
   ]
  },
  {
   "cell_type": "code",
   "execution_count": 2,
   "metadata": {},
   "outputs": [],
   "source": [
    "casos_graves = Pre_Processing_Casos_Graves()"
   ]
  },
  {
   "cell_type": "code",
   "execution_count": 3,
   "metadata": {},
   "outputs": [
    {
     "name": "stderr",
     "output_type": "stream",
     "text": [
      "c:\\Users\\mcacs\\Desktop\\Estudo_dados_de_covid\\Codes\\functions\\Pre_processing_Casos_Graves.py:282: SettingWithCopyWarning: \n",
      "A value is trying to be set on a copy of a slice from a DataFrame\n",
      "\n",
      "See the caveats in the documentation: https://pandas.pydata.org/pandas-docs/stable/user_guide/indexing.html#returning-a-view-versus-a-copy\n",
      "  self.df[column][i] = 1\n",
      "c:\\Users\\mcacs\\Desktop\\Estudo_dados_de_covid\\Codes\\functions\\Pre_processing_Casos_Graves.py:294: SettingWithCopyWarning: \n",
      "A value is trying to be set on a copy of a slice from a DataFrame\n",
      "\n",
      "See the caveats in the documentation: https://pandas.pydata.org/pandas-docs/stable/user_guide/indexing.html#returning-a-view-versus-a-copy\n",
      "  self.df[column][i] = 1\n"
     ]
    }
   ],
   "source": [
    "casos_graves.run(columns_symptoms,columns_to_drop,columns_dieases,path)"
   ]
  },
  {
   "cell_type": "code",
   "execution_count": 4,
   "metadata": {},
   "outputs": [],
   "source": [
    "df = casos_graves.df\n",
    "df2 = casos_graves.df2\n",
    "df3 = casos_graves.df3"
   ]
  },
  {
   "cell_type": "code",
   "execution_count": 6,
   "metadata": {},
   "outputs": [
    {
     "data": {
      "text/html": [
       "<div>\n",
       "<style scoped>\n",
       "    .dataframe tbody tr th:only-of-type {\n",
       "        vertical-align: middle;\n",
       "    }\n",
       "\n",
       "    .dataframe tbody tr th {\n",
       "        vertical-align: top;\n",
       "    }\n",
       "\n",
       "    .dataframe thead th {\n",
       "        text-align: right;\n",
       "    }\n",
       "</style>\n",
       "<table border=\"1\" class=\"dataframe\">\n",
       "  <thead>\n",
       "    <tr style=\"text-align: right;\">\n",
       "      <th></th>\n",
       "      <th>data_notificacao</th>\n",
       "      <th>sexo</th>\n",
       "      <th>idade</th>\n",
       "      <th>bairro</th>\n",
       "      <th>data_inicio_sintomas</th>\n",
       "      <th>sintomas</th>\n",
       "      <th>outros_sintomas</th>\n",
       "      <th>doencas_preexistentes</th>\n",
       "      <th>outras_doencas_preexistentes</th>\n",
       "      <th>classificacao_final</th>\n",
       "      <th>...</th>\n",
       "      <th>DISEASE_HYPERTENSION</th>\n",
       "      <th>DISEASE_RESPIRATORY</th>\n",
       "      <th>DISEASE_OBESITY</th>\n",
       "      <th>DISEASE_KIDNEY</th>\n",
       "      <th>DISEASE_IMMUNOSUPPRESSION</th>\n",
       "      <th>DISEASE_TABAGIST</th>\n",
       "      <th>DISEASE_ETILISM</th>\n",
       "      <th>DISEASE_LIVER</th>\n",
       "      <th>DISEASE_NEUROLOGIC</th>\n",
       "      <th>death</th>\n",
       "    </tr>\n",
       "  </thead>\n",
       "  <tbody>\n",
       "    <tr>\n",
       "      <th>0</th>\n",
       "      <td>2020-05-30</td>\n",
       "      <td>Masculino</td>\n",
       "      <td>53</td>\n",
       "      <td>SAN MARTIN</td>\n",
       "      <td>2020-05-25</td>\n",
       "      <td>[ALTERAÇÃO/PERDA DE OLFATO E/OU PALADAR, FEBRE...</td>\n",
       "      <td>[]</td>\n",
       "      <td>[]</td>\n",
       "      <td>[]</td>\n",
       "      <td>DESCARTADO</td>\n",
       "      <td>...</td>\n",
       "      <td>0</td>\n",
       "      <td>0</td>\n",
       "      <td>0</td>\n",
       "      <td>0</td>\n",
       "      <td>0</td>\n",
       "      <td>0</td>\n",
       "      <td>0</td>\n",
       "      <td>0</td>\n",
       "      <td>0</td>\n",
       "      <td>0</td>\n",
       "    </tr>\n",
       "    <tr>\n",
       "      <th>1</th>\n",
       "      <td>2020-06-02</td>\n",
       "      <td>Feminino</td>\n",
       "      <td>0</td>\n",
       "      <td>ALTO SANTA TEREZINHA</td>\n",
       "      <td>2020-05-30</td>\n",
       "      <td>[DISPNEIA, FEBRE, SATURAÇÃO O2 &lt; 95, TOSSE]</td>\n",
       "      <td>[]</td>\n",
       "      <td>[]</td>\n",
       "      <td>[]</td>\n",
       "      <td>INCONCLUSIVO</td>\n",
       "      <td>...</td>\n",
       "      <td>0</td>\n",
       "      <td>0</td>\n",
       "      <td>0</td>\n",
       "      <td>0</td>\n",
       "      <td>0</td>\n",
       "      <td>0</td>\n",
       "      <td>0</td>\n",
       "      <td>0</td>\n",
       "      <td>0</td>\n",
       "      <td>0</td>\n",
       "    </tr>\n",
       "    <tr>\n",
       "      <th>2</th>\n",
       "      <td>2020-06-02</td>\n",
       "      <td>Feminino</td>\n",
       "      <td>86</td>\n",
       "      <td>ESPINHEIRO</td>\n",
       "      <td>2020-06-01</td>\n",
       "      <td>[DISPNEIA, SATURAÇÃO O2 &lt; 95]</td>\n",
       "      <td>[]</td>\n",
       "      <td>[]</td>\n",
       "      <td>[]</td>\n",
       "      <td>DESCARTADO</td>\n",
       "      <td>...</td>\n",
       "      <td>0</td>\n",
       "      <td>0</td>\n",
       "      <td>0</td>\n",
       "      <td>0</td>\n",
       "      <td>0</td>\n",
       "      <td>0</td>\n",
       "      <td>0</td>\n",
       "      <td>0</td>\n",
       "      <td>0</td>\n",
       "      <td>0</td>\n",
       "    </tr>\n",
       "    <tr>\n",
       "      <th>3</th>\n",
       "      <td>2020-06-01</td>\n",
       "      <td>Masculino</td>\n",
       "      <td>66</td>\n",
       "      <td>CASA FORTE</td>\n",
       "      <td>2020-05-25</td>\n",
       "      <td>[]</td>\n",
       "      <td>[]</td>\n",
       "      <td>[]</td>\n",
       "      <td>[]</td>\n",
       "      <td>CONFIRMADO</td>\n",
       "      <td>...</td>\n",
       "      <td>0</td>\n",
       "      <td>0</td>\n",
       "      <td>0</td>\n",
       "      <td>0</td>\n",
       "      <td>0</td>\n",
       "      <td>0</td>\n",
       "      <td>0</td>\n",
       "      <td>0</td>\n",
       "      <td>0</td>\n",
       "      <td>0</td>\n",
       "    </tr>\n",
       "    <tr>\n",
       "      <th>4</th>\n",
       "      <td>2020-06-02</td>\n",
       "      <td>Masculino</td>\n",
       "      <td>68</td>\n",
       "      <td>ILHA DO RETIRO</td>\n",
       "      <td>2020-05-30</td>\n",
       "      <td>[DISPNEIA, SATURAÇÃO O2 &lt; 95, TOSSE]</td>\n",
       "      <td>[]</td>\n",
       "      <td>[]</td>\n",
       "      <td>[]</td>\n",
       "      <td>DESCARTADO</td>\n",
       "      <td>...</td>\n",
       "      <td>0</td>\n",
       "      <td>0</td>\n",
       "      <td>0</td>\n",
       "      <td>0</td>\n",
       "      <td>0</td>\n",
       "      <td>0</td>\n",
       "      <td>0</td>\n",
       "      <td>0</td>\n",
       "      <td>0</td>\n",
       "      <td>0</td>\n",
       "    </tr>\n",
       "    <tr>\n",
       "      <th>...</th>\n",
       "      <td>...</td>\n",
       "      <td>...</td>\n",
       "      <td>...</td>\n",
       "      <td>...</td>\n",
       "      <td>...</td>\n",
       "      <td>...</td>\n",
       "      <td>...</td>\n",
       "      <td>...</td>\n",
       "      <td>...</td>\n",
       "      <td>...</td>\n",
       "      <td>...</td>\n",
       "      <td>...</td>\n",
       "      <td>...</td>\n",
       "      <td>...</td>\n",
       "      <td>...</td>\n",
       "      <td>...</td>\n",
       "      <td>...</td>\n",
       "      <td>...</td>\n",
       "      <td>...</td>\n",
       "      <td>...</td>\n",
       "      <td>...</td>\n",
       "    </tr>\n",
       "    <tr>\n",
       "      <th>36430</th>\n",
       "      <td>2022-06-08</td>\n",
       "      <td>Masculino</td>\n",
       "      <td>77</td>\n",
       "      <td>BREJO DA GUABIRABA</td>\n",
       "      <td>2022-06-06</td>\n",
       "      <td>[DISPNEIA]</td>\n",
       "      <td>[]</td>\n",
       "      <td>[]</td>\n",
       "      <td>[HAS]</td>\n",
       "      <td>EM ANÁLISE</td>\n",
       "      <td>...</td>\n",
       "      <td>1</td>\n",
       "      <td>0</td>\n",
       "      <td>0</td>\n",
       "      <td>0</td>\n",
       "      <td>0</td>\n",
       "      <td>0</td>\n",
       "      <td>0</td>\n",
       "      <td>0</td>\n",
       "      <td>0</td>\n",
       "      <td>0</td>\n",
       "    </tr>\n",
       "    <tr>\n",
       "      <th>36431</th>\n",
       "      <td>2022-06-09</td>\n",
       "      <td>Masculino</td>\n",
       "      <td>74</td>\n",
       "      <td>NOVA DESCOBERTA</td>\n",
       "      <td>2022-06-06</td>\n",
       "      <td>[APERTO TORÁCICO, CANSAÇO/FADIGA, DESCONFORTO ...</td>\n",
       "      <td>[]</td>\n",
       "      <td>[]</td>\n",
       "      <td>[]</td>\n",
       "      <td>EM ANÁLISE</td>\n",
       "      <td>...</td>\n",
       "      <td>0</td>\n",
       "      <td>0</td>\n",
       "      <td>0</td>\n",
       "      <td>0</td>\n",
       "      <td>0</td>\n",
       "      <td>0</td>\n",
       "      <td>0</td>\n",
       "      <td>0</td>\n",
       "      <td>0</td>\n",
       "      <td>0</td>\n",
       "    </tr>\n",
       "    <tr>\n",
       "      <th>36432</th>\n",
       "      <td>2022-06-10</td>\n",
       "      <td>Masculino</td>\n",
       "      <td>74</td>\n",
       "      <td>BEBERIBE</td>\n",
       "      <td>2022-06-03</td>\n",
       "      <td>[DISPNEIA, FEBRE, TOSSE]</td>\n",
       "      <td>[]</td>\n",
       "      <td>[DIABETES]</td>\n",
       "      <td>[]</td>\n",
       "      <td>EM ANÁLISE</td>\n",
       "      <td>...</td>\n",
       "      <td>0</td>\n",
       "      <td>0</td>\n",
       "      <td>0</td>\n",
       "      <td>0</td>\n",
       "      <td>0</td>\n",
       "      <td>0</td>\n",
       "      <td>0</td>\n",
       "      <td>0</td>\n",
       "      <td>0</td>\n",
       "      <td>0</td>\n",
       "    </tr>\n",
       "    <tr>\n",
       "      <th>36433</th>\n",
       "      <td>2022-06-12</td>\n",
       "      <td>Feminino</td>\n",
       "      <td>73</td>\n",
       "      <td>ENGENHO DO MEIO</td>\n",
       "      <td>2022-06-11</td>\n",
       "      <td>[APERTO TORÁCICO, DESCONFORTO RESPIRATÓRIO, DI...</td>\n",
       "      <td>[]</td>\n",
       "      <td>[DIABETES, DOENÇAS CARDÍACAS OU VASCULARES]</td>\n",
       "      <td>[AVC]</td>\n",
       "      <td>EM ANÁLISE</td>\n",
       "      <td>...</td>\n",
       "      <td>0</td>\n",
       "      <td>0</td>\n",
       "      <td>0</td>\n",
       "      <td>0</td>\n",
       "      <td>0</td>\n",
       "      <td>0</td>\n",
       "      <td>0</td>\n",
       "      <td>0</td>\n",
       "      <td>0</td>\n",
       "      <td>0</td>\n",
       "    </tr>\n",
       "    <tr>\n",
       "      <th>36434</th>\n",
       "      <td>2022-06-12</td>\n",
       "      <td>Feminino</td>\n",
       "      <td>66</td>\n",
       "      <td>BOA VIAGEM</td>\n",
       "      <td>2022-06-07</td>\n",
       "      <td>[APERTO TORÁCICO, DESCONFORTO RESPIRATÓRIO, DI...</td>\n",
       "      <td>[RNC]</td>\n",
       "      <td>[]</td>\n",
       "      <td>[AVCH]</td>\n",
       "      <td>EM ANÁLISE</td>\n",
       "      <td>...</td>\n",
       "      <td>0</td>\n",
       "      <td>0</td>\n",
       "      <td>0</td>\n",
       "      <td>0</td>\n",
       "      <td>0</td>\n",
       "      <td>0</td>\n",
       "      <td>0</td>\n",
       "      <td>0</td>\n",
       "      <td>0</td>\n",
       "      <td>0</td>\n",
       "    </tr>\n",
       "  </tbody>\n",
       "</table>\n",
       "<p>36435 rows × 44 columns</p>\n",
       "</div>"
      ],
      "text/plain": [
       "      data_notificacao       sexo  idade                bairro  \\\n",
       "0           2020-05-30  Masculino     53            SAN MARTIN   \n",
       "1           2020-06-02   Feminino      0  ALTO SANTA TEREZINHA   \n",
       "2           2020-06-02   Feminino     86            ESPINHEIRO   \n",
       "3           2020-06-01  Masculino     66            CASA FORTE   \n",
       "4           2020-06-02  Masculino     68        ILHA DO RETIRO   \n",
       "...                ...        ...    ...                   ...   \n",
       "36430       2022-06-08  Masculino     77    BREJO DA GUABIRABA   \n",
       "36431       2022-06-09  Masculino     74       NOVA DESCOBERTA   \n",
       "36432       2022-06-10  Masculino     74              BEBERIBE   \n",
       "36433       2022-06-12   Feminino     73       ENGENHO DO MEIO   \n",
       "36434       2022-06-12   Feminino     66            BOA VIAGEM   \n",
       "\n",
       "      data_inicio_sintomas                                           sintomas  \\\n",
       "0               2020-05-25  [ALTERAÇÃO/PERDA DE OLFATO E/OU PALADAR, FEBRE...   \n",
       "1               2020-05-30        [DISPNEIA, FEBRE, SATURAÇÃO O2 < 95, TOSSE]   \n",
       "2               2020-06-01                      [DISPNEIA, SATURAÇÃO O2 < 95]   \n",
       "3               2020-05-25                                                 []   \n",
       "4               2020-05-30               [DISPNEIA, SATURAÇÃO O2 < 95, TOSSE]   \n",
       "...                    ...                                                ...   \n",
       "36430           2022-06-06                                         [DISPNEIA]   \n",
       "36431           2022-06-06  [APERTO TORÁCICO, CANSAÇO/FADIGA, DESCONFORTO ...   \n",
       "36432           2022-06-03                           [DISPNEIA, FEBRE, TOSSE]   \n",
       "36433           2022-06-11  [APERTO TORÁCICO, DESCONFORTO RESPIRATÓRIO, DI...   \n",
       "36434           2022-06-07  [APERTO TORÁCICO, DESCONFORTO RESPIRATÓRIO, DI...   \n",
       "\n",
       "      outros_sintomas                        doencas_preexistentes  \\\n",
       "0                  []                                           []   \n",
       "1                  []                                           []   \n",
       "2                  []                                           []   \n",
       "3                  []                                           []   \n",
       "4                  []                                           []   \n",
       "...               ...                                          ...   \n",
       "36430              []                                           []   \n",
       "36431              []                                           []   \n",
       "36432              []                                   [DIABETES]   \n",
       "36433              []  [DIABETES, DOENÇAS CARDÍACAS OU VASCULARES]   \n",
       "36434           [RNC]                                           []   \n",
       "\n",
       "      outras_doencas_preexistentes  classificacao_final  ...  \\\n",
       "0                                []          DESCARTADO  ...   \n",
       "1                                []        INCONCLUSIVO  ...   \n",
       "2                                []          DESCARTADO  ...   \n",
       "3                                []          CONFIRMADO  ...   \n",
       "4                                []          DESCARTADO  ...   \n",
       "...                             ...                 ...  ...   \n",
       "36430                         [HAS]          EM ANÁLISE  ...   \n",
       "36431                            []          EM ANÁLISE  ...   \n",
       "36432                            []          EM ANÁLISE  ...   \n",
       "36433                         [AVC]          EM ANÁLISE  ...   \n",
       "36434                        [AVCH]          EM ANÁLISE  ...   \n",
       "\n",
       "      DISEASE_HYPERTENSION DISEASE_RESPIRATORY DISEASE_OBESITY  \\\n",
       "0                        0                   0               0   \n",
       "1                        0                   0               0   \n",
       "2                        0                   0               0   \n",
       "3                        0                   0               0   \n",
       "4                        0                   0               0   \n",
       "...                    ...                 ...             ...   \n",
       "36430                    1                   0               0   \n",
       "36431                    0                   0               0   \n",
       "36432                    0                   0               0   \n",
       "36433                    0                   0               0   \n",
       "36434                    0                   0               0   \n",
       "\n",
       "       DISEASE_KIDNEY  DISEASE_IMMUNOSUPPRESSION  DISEASE_TABAGIST  \\\n",
       "0                   0                          0                 0   \n",
       "1                   0                          0                 0   \n",
       "2                   0                          0                 0   \n",
       "3                   0                          0                 0   \n",
       "4                   0                          0                 0   \n",
       "...               ...                        ...               ...   \n",
       "36430               0                          0                 0   \n",
       "36431               0                          0                 0   \n",
       "36432               0                          0                 0   \n",
       "36433               0                          0                 0   \n",
       "36434               0                          0                 0   \n",
       "\n",
       "       DISEASE_ETILISM  DISEASE_LIVER  DISEASE_NEUROLOGIC  death  \n",
       "0                    0              0                   0      0  \n",
       "1                    0              0                   0      0  \n",
       "2                    0              0                   0      0  \n",
       "3                    0              0                   0      0  \n",
       "4                    0              0                   0      0  \n",
       "...                ...            ...                 ...    ...  \n",
       "36430                0              0                   0      0  \n",
       "36431                0              0                   0      0  \n",
       "36432                0              0                   0      0  \n",
       "36433                0              0                   0      0  \n",
       "36434                0              0                   0      0  \n",
       "\n",
       "[36435 rows x 44 columns]"
      ]
     },
     "execution_count": 6,
     "metadata": {},
     "output_type": "execute_result"
    }
   ],
   "source": [
    "df"
   ]
  },
  {
   "cell_type": "code",
   "execution_count": 14,
   "metadata": {},
   "outputs": [
    {
     "data": {
      "text/plain": [
       "Index(['data_notificacao', 'sexo', 'idade', 'bairro', 'data_inicio_sintomas',\n",
       "       'sintomas', 'outros_sintomas', 'doencas_preexistentes',\n",
       "       'outras_doencas_preexistentes ', 'classificacao_final', 'evolucao',\n",
       "       'data_obito', 'age_group', 'SYMPTOM_COUGH', 'SYMPTOM_COLD',\n",
       "       'SYMPTOM_AIR_INSUFFICIENCY', 'SYMPTOM_FEVER',\n",
       "       'SYMPTOM_LOW_OXYGEN_SATURATION', 'SYMPTOM_BREATHING_CONDITION',\n",
       "       'SYMPTOM_TORACIC_APERTURE', 'SYMPTOM_THROAT_CONDITION',\n",
       "       'SYMPTOM_HEADACHE', 'SYMPTOM_BODY_PAIN', 'SYMPTOM_DIARRHEA',\n",
       "       'SYMPTOM_RUNNY_NOSE', 'SYMPTOM_NOSE_CONGESTION', 'SYMPTOM_WEAKNESS',\n",
       "       'SYMPTOM_ANOSMIA_OR_HYPOSMIA', 'SYMPTOM_NAUSEA',\n",
       "       'SYMPTOM_LACK_OF_APPETITE', 'SYMPTOM_ABDOMINAL_PAIN',\n",
       "       'SYMPTOM_CONSCIOUSNESS_DEGRADATION', 'DISEASE_HEART_OR_VASCULAR',\n",
       "       'DISEASE_DIABETES', 'DISEASE_HYPERTENSION', 'DISEASE_RESPIRATORY',\n",
       "       'DISEASE_OBESITY', 'DISEASE_KIDNEY', 'DISEASE_IMMUNOSUPPRESSION',\n",
       "       'DISEASE_TABAGIST', 'DISEASE_ETILISM', 'DISEASE_LIVER',\n",
       "       'DISEASE_NEUROLOGIC', 'death'],\n",
       "      dtype='object')"
      ]
     },
     "execution_count": 14,
     "metadata": {},
     "output_type": "execute_result"
    }
   ],
   "source": [
    "df.columns"
   ]
  },
  {
   "cell_type": "code",
   "execution_count": 7,
   "metadata": {},
   "outputs": [
    {
     "data": {
      "text/html": [
       "<div>\n",
       "<style scoped>\n",
       "    .dataframe tbody tr th:only-of-type {\n",
       "        vertical-align: middle;\n",
       "    }\n",
       "\n",
       "    .dataframe tbody tr th {\n",
       "        vertical-align: top;\n",
       "    }\n",
       "\n",
       "    .dataframe thead th {\n",
       "        text-align: right;\n",
       "    }\n",
       "</style>\n",
       "<table border=\"1\" class=\"dataframe\">\n",
       "  <thead>\n",
       "    <tr style=\"text-align: right;\">\n",
       "      <th></th>\n",
       "      <th>Sintoma</th>\n",
       "      <th>Count</th>\n",
       "      <th>percentage</th>\n",
       "    </tr>\n",
       "  </thead>\n",
       "  <tbody>\n",
       "    <tr>\n",
       "      <th>0</th>\n",
       "      <td>SYMPTOM_COUGH</td>\n",
       "      <td>26442</td>\n",
       "      <td>72.573075</td>\n",
       "    </tr>\n",
       "    <tr>\n",
       "      <th>1</th>\n",
       "      <td>SYMPTOM_COLD</td>\n",
       "      <td>86</td>\n",
       "      <td>0.236037</td>\n",
       "    </tr>\n",
       "    <tr>\n",
       "      <th>2</th>\n",
       "      <td>SYMPTOM_AIR_INSUFFICIENCY</td>\n",
       "      <td>24569</td>\n",
       "      <td>67.432414</td>\n",
       "    </tr>\n",
       "    <tr>\n",
       "      <th>3</th>\n",
       "      <td>SYMPTOM_FEVER</td>\n",
       "      <td>22759</td>\n",
       "      <td>62.464663</td>\n",
       "    </tr>\n",
       "    <tr>\n",
       "      <th>4</th>\n",
       "      <td>SYMPTOM_LOW_OXYGEN_SATURATION</td>\n",
       "      <td>1</td>\n",
       "      <td>0.002745</td>\n",
       "    </tr>\n",
       "    <tr>\n",
       "      <th>5</th>\n",
       "      <td>SYMPTOM_BREATHING_CONDITION</td>\n",
       "      <td>263</td>\n",
       "      <td>0.721833</td>\n",
       "    </tr>\n",
       "    <tr>\n",
       "      <th>6</th>\n",
       "      <td>SYMPTOM_TORACIC_APERTURE</td>\n",
       "      <td>196</td>\n",
       "      <td>0.537944</td>\n",
       "    </tr>\n",
       "    <tr>\n",
       "      <th>7</th>\n",
       "      <td>SYMPTOM_THROAT_CONDITION</td>\n",
       "      <td>5602</td>\n",
       "      <td>15.375326</td>\n",
       "    </tr>\n",
       "    <tr>\n",
       "      <th>8</th>\n",
       "      <td>SYMPTOM_HEADACHE</td>\n",
       "      <td>4156</td>\n",
       "      <td>11.406615</td>\n",
       "    </tr>\n",
       "    <tr>\n",
       "      <th>9</th>\n",
       "      <td>SYMPTOM_BODY_PAIN</td>\n",
       "      <td>4384</td>\n",
       "      <td>12.032386</td>\n",
       "    </tr>\n",
       "    <tr>\n",
       "      <th>10</th>\n",
       "      <td>SYMPTOM_DIARRHEA</td>\n",
       "      <td>3218</td>\n",
       "      <td>8.832167</td>\n",
       "    </tr>\n",
       "    <tr>\n",
       "      <th>11</th>\n",
       "      <td>SYMPTOM_RUNNY_NOSE</td>\n",
       "      <td>3456</td>\n",
       "      <td>9.485385</td>\n",
       "    </tr>\n",
       "    <tr>\n",
       "      <th>12</th>\n",
       "      <td>SYMPTOM_NOSE_CONGESTION</td>\n",
       "      <td>5</td>\n",
       "      <td>0.013723</td>\n",
       "    </tr>\n",
       "    <tr>\n",
       "      <th>13</th>\n",
       "      <td>SYMPTOM_WEAKNESS</td>\n",
       "      <td>2089</td>\n",
       "      <td>5.733498</td>\n",
       "    </tr>\n",
       "    <tr>\n",
       "      <th>14</th>\n",
       "      <td>SYMPTOM_ANOSMIA_OR_HYPOSMIA</td>\n",
       "      <td>143</td>\n",
       "      <td>0.392480</td>\n",
       "    </tr>\n",
       "    <tr>\n",
       "      <th>15</th>\n",
       "      <td>SYMPTOM_NAUSEA</td>\n",
       "      <td>133</td>\n",
       "      <td>0.365034</td>\n",
       "    </tr>\n",
       "    <tr>\n",
       "      <th>16</th>\n",
       "      <td>SYMPTOM_LACK_OF_APPETITE</td>\n",
       "      <td>258</td>\n",
       "      <td>0.708110</td>\n",
       "    </tr>\n",
       "    <tr>\n",
       "      <th>17</th>\n",
       "      <td>SYMPTOM_ABDOMINAL_PAIN</td>\n",
       "      <td>480</td>\n",
       "      <td>1.317415</td>\n",
       "    </tr>\n",
       "    <tr>\n",
       "      <th>18</th>\n",
       "      <td>SYMPTOM_CONSCIOUSNESS_DEGRADATION</td>\n",
       "      <td>315</td>\n",
       "      <td>0.864553</td>\n",
       "    </tr>\n",
       "  </tbody>\n",
       "</table>\n",
       "</div>"
      ],
      "text/plain": [
       "                              Sintoma  Count  percentage\n",
       "0                       SYMPTOM_COUGH  26442   72.573075\n",
       "1                        SYMPTOM_COLD     86    0.236037\n",
       "2           SYMPTOM_AIR_INSUFFICIENCY  24569   67.432414\n",
       "3                       SYMPTOM_FEVER  22759   62.464663\n",
       "4       SYMPTOM_LOW_OXYGEN_SATURATION      1    0.002745\n",
       "5         SYMPTOM_BREATHING_CONDITION    263    0.721833\n",
       "6            SYMPTOM_TORACIC_APERTURE    196    0.537944\n",
       "7            SYMPTOM_THROAT_CONDITION   5602   15.375326\n",
       "8                    SYMPTOM_HEADACHE   4156   11.406615\n",
       "9                   SYMPTOM_BODY_PAIN   4384   12.032386\n",
       "10                   SYMPTOM_DIARRHEA   3218    8.832167\n",
       "11                 SYMPTOM_RUNNY_NOSE   3456    9.485385\n",
       "12            SYMPTOM_NOSE_CONGESTION      5    0.013723\n",
       "13                   SYMPTOM_WEAKNESS   2089    5.733498\n",
       "14        SYMPTOM_ANOSMIA_OR_HYPOSMIA    143    0.392480\n",
       "15                     SYMPTOM_NAUSEA    133    0.365034\n",
       "16           SYMPTOM_LACK_OF_APPETITE    258    0.708110\n",
       "17             SYMPTOM_ABDOMINAL_PAIN    480    1.317415\n",
       "18  SYMPTOM_CONSCIOUSNESS_DEGRADATION    315    0.864553"
      ]
     },
     "execution_count": 7,
     "metadata": {},
     "output_type": "execute_result"
    }
   ],
   "source": [
    "df2"
   ]
  },
  {
   "cell_type": "code",
   "execution_count": 8,
   "metadata": {},
   "outputs": [
    {
     "data": {
      "text/plain": [
       "<AxesSubplot:xlabel='Count', ylabel='Sintoma'>"
      ]
     },
     "execution_count": 8,
     "metadata": {},
     "output_type": "execute_result"
    },
    {
     "data": {
      "image/png": "[encoded data removed]",
      "text/plain": [
       "<Figure size 432x288 with 1 Axes>"
      ]
     },
     "metadata": {
      "needs_background": "light"
     },
     "output_type": "display_data"
    }
   ],
   "source": [
    "sns.barplot(data = df2.sort_values('Count', ascending=False), y=\"Sintoma\", x=\"Count\")"
   ]
  },
  {
   "cell_type": "code",
   "execution_count": 9,
   "metadata": {},
   "outputs": [
    {
     "data": {
      "text/html": [
       "<div>\n",
       "<style scoped>\n",
       "    .dataframe tbody tr th:only-of-type {\n",
       "        vertical-align: middle;\n",
       "    }\n",
       "\n",
       "    .dataframe tbody tr th {\n",
       "        vertical-align: top;\n",
       "    }\n",
       "\n",
       "    .dataframe thead th {\n",
       "        text-align: right;\n",
       "    }\n",
       "</style>\n",
       "<table border=\"1\" class=\"dataframe\">\n",
       "  <thead>\n",
       "    <tr style=\"text-align: right;\">\n",
       "      <th></th>\n",
       "      <th>Doencas_preexistentes</th>\n",
       "      <th>Count</th>\n",
       "      <th>percentage</th>\n",
       "    </tr>\n",
       "  </thead>\n",
       "  <tbody>\n",
       "    <tr>\n",
       "      <th>0</th>\n",
       "      <td>DISEASE_HEART_OR_VASCULAR</td>\n",
       "      <td>193</td>\n",
       "      <td>0.529710</td>\n",
       "    </tr>\n",
       "    <tr>\n",
       "      <th>1</th>\n",
       "      <td>DISEASE_DIABETES</td>\n",
       "      <td>5878</td>\n",
       "      <td>16.132839</td>\n",
       "    </tr>\n",
       "    <tr>\n",
       "      <th>2</th>\n",
       "      <td>DISEASE_HYPERTENSION</td>\n",
       "      <td>2390</td>\n",
       "      <td>6.559627</td>\n",
       "    </tr>\n",
       "    <tr>\n",
       "      <th>3</th>\n",
       "      <td>DISEASE_RESPIRATORY</td>\n",
       "      <td>715</td>\n",
       "      <td>1.962399</td>\n",
       "    </tr>\n",
       "    <tr>\n",
       "      <th>4</th>\n",
       "      <td>DISEASE_OBESITY</td>\n",
       "      <td>1785</td>\n",
       "      <td>4.899135</td>\n",
       "    </tr>\n",
       "    <tr>\n",
       "      <th>5</th>\n",
       "      <td>DISEASE_KIDNEY</td>\n",
       "      <td>10</td>\n",
       "      <td>0.027446</td>\n",
       "    </tr>\n",
       "    <tr>\n",
       "      <th>6</th>\n",
       "      <td>DISEASE_IMMUNOSUPPRESSION</td>\n",
       "      <td>3</td>\n",
       "      <td>0.008234</td>\n",
       "    </tr>\n",
       "    <tr>\n",
       "      <th>7</th>\n",
       "      <td>DISEASE_TABAGIST</td>\n",
       "      <td>1364</td>\n",
       "      <td>3.743653</td>\n",
       "    </tr>\n",
       "    <tr>\n",
       "      <th>8</th>\n",
       "      <td>DISEASE_ETILISM</td>\n",
       "      <td>393</td>\n",
       "      <td>1.078633</td>\n",
       "    </tr>\n",
       "    <tr>\n",
       "      <th>9</th>\n",
       "      <td>DISEASE_LIVER</td>\n",
       "      <td>0</td>\n",
       "      <td>0.000000</td>\n",
       "    </tr>\n",
       "    <tr>\n",
       "      <th>10</th>\n",
       "      <td>DISEASE_NEUROLOGIC</td>\n",
       "      <td>615</td>\n",
       "      <td>1.687937</td>\n",
       "    </tr>\n",
       "  </tbody>\n",
       "</table>\n",
       "</div>"
      ],
      "text/plain": [
       "        Doencas_preexistentes  Count  percentage\n",
       "0   DISEASE_HEART_OR_VASCULAR    193    0.529710\n",
       "1            DISEASE_DIABETES   5878   16.132839\n",
       "2        DISEASE_HYPERTENSION   2390    6.559627\n",
       "3         DISEASE_RESPIRATORY    715    1.962399\n",
       "4             DISEASE_OBESITY   1785    4.899135\n",
       "5              DISEASE_KIDNEY     10    0.027446\n",
       "6   DISEASE_IMMUNOSUPPRESSION      3    0.008234\n",
       "7            DISEASE_TABAGIST   1364    3.743653\n",
       "8             DISEASE_ETILISM    393    1.078633\n",
       "9               DISEASE_LIVER      0    0.000000\n",
       "10         DISEASE_NEUROLOGIC    615    1.687937"
      ]
     },
     "execution_count": 9,
     "metadata": {},
     "output_type": "execute_result"
    }
   ],
   "source": [
    "df3"
   ]
  },
  {
   "cell_type": "code",
   "execution_count": 10,
   "metadata": {},
   "outputs": [
    {
     "data": {
      "text/plain": [
       "<AxesSubplot:xlabel='Count', ylabel='Doencas_preexistentes'>"
      ]
     },
     "execution_count": 10,
     "metadata": {},
     "output_type": "execute_result"
    },
    {
     "data": {
      "image/png": "[encoded data removed]",
      "text/plain": [
       "<Figure size 432x288 with 1 Axes>"
      ]
     },
     "metadata": {
      "needs_background": "light"
     },
     "output_type": "display_data"
    }
   ],
   "source": [
    "sns.barplot(data = df3.sort_values('Count', ascending=False), y=\"Doencas_preexistentes\", x=\"Count\")"
   ]
  },
  {
   "cell_type": "code",
   "execution_count": 11,
   "metadata": {},
   "outputs": [
    {
     "data": {
      "text/plain": [
       "array(['data_notificacao', 'sexo', 'idade', 'bairro',\n",
       "       'data_inicio_sintomas', 'sintomas', 'outros_sintomas',\n",
       "       'doencas_preexistentes', 'outras_doencas_preexistentes ',\n",
       "       'classificacao_final', 'evolucao', 'data_obito', 'age_group',\n",
       "       'SYMPTOM_COUGH', 'SYMPTOM_COLD', 'SYMPTOM_AIR_INSUFFICIENCY',\n",
       "       'SYMPTOM_FEVER', 'SYMPTOM_LOW_OXYGEN_SATURATION',\n",
       "       'SYMPTOM_BREATHING_CONDITION', 'SYMPTOM_TORACIC_APERTURE',\n",
       "       'SYMPTOM_THROAT_CONDITION', 'SYMPTOM_HEADACHE',\n",
       "       'SYMPTOM_BODY_PAIN', 'SYMPTOM_DIARRHEA', 'SYMPTOM_RUNNY_NOSE',\n",
       "       'SYMPTOM_NOSE_CONGESTION', 'SYMPTOM_WEAKNESS',\n",
       "       'SYMPTOM_ANOSMIA_OR_HYPOSMIA', 'SYMPTOM_NAUSEA',\n",
       "       'SYMPTOM_LACK_OF_APPETITE', 'SYMPTOM_ABDOMINAL_PAIN',\n",
       "       'SYMPTOM_CONSCIOUSNESS_DEGRADATION', 'DISEASE_HEART_OR_VASCULAR',\n",
       "       'DISEASE_DIABETES', 'DISEASE_HYPERTENSION', 'DISEASE_RESPIRATORY',\n",
       "       'DISEASE_OBESITY', 'DISEASE_KIDNEY', 'DISEASE_IMMUNOSUPPRESSION',\n",
       "       'DISEASE_TABAGIST', 'DISEASE_ETILISM', 'DISEASE_LIVER',\n",
       "       'DISEASE_NEUROLOGIC', 'death'], dtype=object)"
      ]
     },
     "execution_count": 11,
     "metadata": {},
     "output_type": "execute_result"
    }
   ],
   "source": [
    "df.columns.values"
   ]
  },
  {
   "cell_type": "code",
   "execution_count": 12,
   "metadata": {},
   "outputs": [],
   "source": [
    "def barplot(x_axis):\n",
    "    print('-'*40)\n",
    "    print(df.groupby(x_axis).death.value_counts())\n",
    "    sns.barplot(x = x_axis, y ='death', ci = None, data = df)\n",
    "    plt.title(x_axis)\n",
    "    plt.show()"
   ]
  },
  {
   "cell_type": "code",
   "execution_count": 13,
   "metadata": {},
   "outputs": [
    {
     "name": "stdout",
     "output_type": "stream",
     "text": [
      "########################################\n",
      "----------------------------------------\n",
      "sexo       death\n",
      "Feminino   0        14074\n",
      "           1         4569\n",
      "Ignorado   0            2\n",
      "Masculino  0        13015\n",
      "           1         4775\n",
      "Name: death, dtype: int64\n"
     ]
    },
    {
     "data": {
      "image/png": "[encoded data removed]",
      "text/plain": [
       "<Figure size 432x288 with 1 Axes>"
      ]
     },
     "metadata": {
      "needs_background": "light"
     },
     "output_type": "display_data"
    },
    {
     "name": "stdout",
     "output_type": "stream",
     "text": [
      "----------------------------------------\n",
      "age_group  death\n",
      "0 - 5      0        2574\n",
      "           1          59\n",
      "16 - 25    0        1122\n",
      "           1          71\n",
      "26 - 40    0        5141\n",
      "           1         440\n",
      "41 - 60    0        8642\n",
      "           1        2204\n",
      "6 - 15     0         702\n",
      "           1          12\n",
      "61 - 80    0        6596\n",
      "           1        4253\n",
      ">80        0        2314\n",
      "           1        2305\n",
      "Name: death, dtype: int64\n"
     ]
    },
    {
     "data": {
      "image/png": "[encoded data removed]",
      "text/plain": [
       "<Figure size 432x288 with 1 Axes>"
      ]
     },
     "metadata": {
      "needs_background": "light"
     },
     "output_type": "display_data"
    },
    {
     "name": "stdout",
     "output_type": "stream",
     "text": [
      "########################################\n",
      "----------------------------------------\n",
      "SYMPTOM_COUGH  death\n",
      "0              0         6770\n",
      "               1         3223\n",
      "1              0        20321\n",
      "               1         6121\n",
      "Name: death, dtype: int64\n"
     ]
    },
    {
     "data": {
      "image/png": "[encoded data removed]",
      "text/plain": [
       "<Figure size 432x288 with 1 Axes>"
      ]
     },
     "metadata": {
      "needs_background": "light"
     },
     "output_type": "display_data"
    },
    {
     "name": "stdout",
     "output_type": "stream",
     "text": [
      "----------------------------------------\n",
      "SYMPTOM_AIR_INSUFFICIENCY  death\n",
      "0                          0        10032\n",
      "                           1         1834\n",
      "1                          0        17059\n",
      "                           1         7510\n",
      "Name: death, dtype: int64\n"
     ]
    },
    {
     "data": {
      "image/png": "[encoded data removed]",
      "text/plain": [
       "<Figure size 432x288 with 1 Axes>"
      ]
     },
     "metadata": {
      "needs_background": "light"
     },
     "output_type": "display_data"
    },
    {
     "name": "stdout",
     "output_type": "stream",
     "text": [
      "----------------------------------------\n",
      "SYMPTOM_FEVER  death\n",
      "0              0         9704\n",
      "               1         3972\n",
      "1              0        17387\n",
      "               1         5372\n",
      "Name: death, dtype: int64\n"
     ]
    },
    {
     "data": {
      "image/png": "[encoded data removed]",
      "text/plain": [
       "<Figure size 432x288 with 1 Axes>"
      ]
     },
     "metadata": {
      "needs_background": "light"
     },
     "output_type": "display_data"
    },
    {
     "name": "stdout",
     "output_type": "stream",
     "text": [
      "########################################\n",
      "----------------------------------------\n",
      "DISEASE_DIABETES  death\n",
      "0                 0        23933\n",
      "                  1         6624\n",
      "1                 0         3158\n",
      "                  1         2720\n",
      "Name: death, dtype: int64\n"
     ]
    },
    {
     "data": {
      "image/png": "[encoded data removed]",
      "text/plain": [
       "<Figure size 432x288 with 1 Axes>"
      ]
     },
     "metadata": {
      "needs_background": "light"
     },
     "output_type": "display_data"
    },
    {
     "name": "stdout",
     "output_type": "stream",
     "text": [
      "----------------------------------------\n",
      "DISEASE_HYPERTENSION  death\n",
      "0                     0        25743\n",
      "                      1         8302\n",
      "1                     0         1348\n",
      "                      1         1042\n",
      "Name: death, dtype: int64\n"
     ]
    },
    {
     "data": {
      "image/png": "[encoded data removed]",
      "text/plain": [
       "<Figure size 432x288 with 1 Axes>"
      ]
     },
     "metadata": {
      "needs_background": "light"
     },
     "output_type": "display_data"
    },
    {
     "name": "stdout",
     "output_type": "stream",
     "text": [
      "----------------------------------------\n",
      "DISEASE_OBESITY  death\n",
      "0                0        26119\n",
      "                 1         8531\n",
      "1                0          972\n",
      "                 1          813\n",
      "Name: death, dtype: int64\n"
     ]
    },
    {
     "data": {
      "image/png": "[encoded data removed]",
      "text/plain": [
       "<Figure size 432x288 with 1 Axes>"
      ]
     },
     "metadata": {
      "needs_background": "light"
     },
     "output_type": "display_data"
    },
    {
     "name": "stdout",
     "output_type": "stream",
     "text": [
      "----------------------------------------\n",
      "DISEASE_RESPIRATORY  death\n",
      "0                    0        26577\n",
      "                     1         9143\n",
      "1                    0          514\n",
      "                     1          201\n",
      "Name: death, dtype: int64\n"
     ]
    },
    {
     "data": {
      "image/png": "[encoded data removed]",
      "text/plain": [
       "<Figure size 432x288 with 1 Axes>"
      ]
     },
     "metadata": {
      "needs_background": "light"
     },
     "output_type": "display_data"
    },
    {
     "name": "stdout",
     "output_type": "stream",
     "text": [
      "########################################\n"
     ]
    }
   ],
   "source": [
    "print('#'*40)\n",
    "\n",
    "barplot('sexo')\n",
    "#barplot('idade')\n",
    "barplot('age_group')\n",
    "\n",
    "print('#'*40)\n",
    "\n",
    "barplot('SYMPTOM_COUGH')\n",
    "barplot('SYMPTOM_AIR_INSUFFICIENCY')\n",
    "barplot('SYMPTOM_FEVER')\n",
    "\n",
    "print('#'*40)\n",
    "\n",
    "barplot('DISEASE_DIABETES')\n",
    "barplot('DISEASE_HYPERTENSION')\n",
    "barplot('DISEASE_OBESITY')\n",
    "barplot('DISEASE_RESPIRATORY')\n",
    "\n",
    "print('#'*40)"
   ]
  },
  {
   "cell_type": "code",
   "execution_count": 24,
   "metadata": {},
   "outputs": [
    {
     "name": "stderr",
     "output_type": "stream",
     "text": [
      "C:\\Users\\gabri\\AppData\\Local\\Packages\\PythonSoftwareFoundation.Python.3.9_qbz5n2kfra8p0\\LocalCache\\local-packages\\Python39\\site-packages\\seaborn\\distributions.py:2619: FutureWarning: `distplot` is a deprecated function and will be removed in a future version. Please adapt your code to use either `displot` (a figure-level function with similar flexibility) or `histplot` (an axes-level function for histograms).\n",
      "  warnings.warn(msg, FutureWarning)\n"
     ]
    },
    {
     "data": {
      "text/plain": [
       "<matplotlib.legend.Legend at 0x15297164ee0>"
      ]
     },
     "execution_count": 24,
     "metadata": {},
     "output_type": "execute_result"
    },
    {
     "data": {
      "image/png": "[encoded data removed]",
      "text/plain": [
       "<Figure size 1080x360 with 1 Axes>"
      ]
     },
     "metadata": {
      "needs_background": "light"
     },
     "output_type": "display_data"
    }
   ],
   "source": [
    "total_survived = df[df['death'] == 0]\n",
    "total_not_survived = df[df['death'] == 1]\n",
    "\n",
    "plt.figure(figsize=[15,5])\n",
    "plt.subplot(111)\n",
    "sns.distplot(total_survived['idade'].dropna().values, kde=False, color='blue', label='Survived')\n",
    "sns.distplot(total_not_survived['idade'].dropna().values, kde=False, color='red', axlabel='Age', label='Not Survived')\n",
    "plt.legend()"
   ]
  },
  {
   "cell_type": "code",
   "execution_count": null,
   "metadata": {},
   "outputs": [],
   "source": []
  }
 ],
 "metadata": {
  "kernelspec": {
   "display_name": "Python 3.9.7 ('base')",
   "language": "python",
   "name": "python3"
  },
  "language_info": {
   "codemirror_mode": {
    "name": "ipython",
    "version": 3
   },
   "file_extension": ".py",
   "mimetype": "text/x-python",
   "name": "python",
   "nbconvert_exporter": "python",
   "pygments_lexer": "ipython3",
   "version": "3.9.7"
  },
  "orig_nbformat": 4,
  "vscode": {
   "interpreter": {
    "hash": "9fde1669c1a05739fd0af99f221b2b4143a65077b9c686f9092387c21ae7f624"
   }
  }
 },
 "nbformat": 4,
 "nbformat_minor": 2
}
