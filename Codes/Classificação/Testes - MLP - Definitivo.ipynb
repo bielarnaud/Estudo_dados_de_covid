{
 "cells": [
  {
   "cell_type": "code",
   "execution_count": 1,
   "metadata": {},
   "outputs": [],
   "source": [
    "import pandas as pd\n",
    "import numpy as np\n",
    "import matplotlib.pyplot as plt\n",
    "import seaborn as sns\n",
    "\n",
    "from sklearn.neural_network import MLPClassifier\n",
    "from sklearn.inspection import permutation_importance\n",
    "\n",
    "from imblearn.over_sampling import RandomOverSampler \n",
    "\n",
    "from functions.Pre_processing_Casos_Graves import *\n",
    "from functions.Pre_processing_models import *\n",
    "\n",
    "from sklearn.model_selection import GridSearchCV\n",
    "from sklearn.model_selection import RepeatedKFold\n",
    "from sklearn.model_selection._split import StratifiedKFold\n",
    "\n",
    "from sklearn import metrics\n",
    "from sklearn.metrics import f1_score, precision_score, recall_score, accuracy_score\n",
    "from sklearn.metrics import confusion_matrix\n",
    "from sklearn.metrics import plot_confusion_matrix\n",
    "from sklearn.metrics import classification_report\n",
    "from sklearn.metrics import roc_auc_score"
   ]
  },
  {
   "cell_type": "markdown",
   "metadata": {},
   "source": [
    "## Criação das funções para viabilizar a aplicação do modelo:"
   ]
  },
  {
   "cell_type": "markdown",
   "metadata": {},
   "source": [
    "#### Função para instanciar o modelo:"
   ]
  },
  {
   "cell_type": "code",
   "execution_count": 2,
   "metadata": {},
   "outputs": [],
   "source": [
    "from sklearn.neural_network import MLPClassifier\n",
    "\n",
    "def instantiate_MLP_model (X_train, y_train):\n",
    "\n",
    "    param_grid = {\n",
    "        \"hidden_layer_sizes\": [(1000, 500, 250), (1000, 500)],\n",
    "        \"activation\": [\"logistic\", \"tanh\", \"identity\", \"relu\"],\n",
    "        \"solver\": [\"lbfgs\", \"sgd\", \"adam\"],\n",
    "        #\"solver\": [\"sgd\", \"adam\"],\n",
    "        \"max_iter\": [500]\n",
    "    }\n",
    "    \n",
    "    # Init classifier\n",
    "    mlp_cl = MLPClassifier()\n",
    "\n",
    "    # prepare the cross-validation procedure\n",
    "    cv = RepeatedKFold(n_splits = 5, n_repeats = 10, random_state = 1)\n",
    "\n",
    "    # Init Grid Search\n",
    "    grid_cv = GridSearchCV(mlp_cl, param_grid, n_jobs = -1, cv=5, scoring = \"roc_auc\")\n",
    "\n",
    "    # Fit \n",
    "    grid_cv.fit(X_train, y_train)\n",
    "\n",
    "    mean_test_score = grid_cv.cv_results_['mean_test_score'].mean()\n",
    "    std_test_score = grid_cv.cv_results_['std_test_score'].mean()\n",
    "    best_score = grid_cv.best_score_\n",
    "    best_params = grid_cv.best_params_\n",
    "\n",
    "    #print(f\"mean_test_score: {grid_cv.cv_results_['mean_test_score']}\")\n",
    "    #print(f\"std_test_score: {grid_cv.cv_results_['std_test_score']}\")\n",
    "    #print('')\n",
    "\n",
    "    print('#'*40)\n",
    "    #print(f\"mean_test_score: {grid_cv.cv_results_['mean_test_score'].mean()}\")\n",
    "    #print(f\"std_test_score: {grid_cv.cv_results_['std_test_score'].mean()}\")\n",
    "    print('')\n",
    "    print(f'best_score: {grid_cv.best_score_}')\n",
    "    print(f'best_params_: {grid_cv.best_params_}')\n",
    "    print('#'*40)\n",
    "    print('')\n",
    "\n",
    "    return mean_test_score, std_test_score, best_score, best_params"
   ]
  },
  {
   "cell_type": "markdown",
   "metadata": {},
   "source": [
    "#### Criação de uma função para predição do classificador final:"
   ]
  },
  {
   "cell_type": "code",
   "execution_count": 3,
   "metadata": {},
   "outputs": [],
   "source": [
    "from sklearn.neural_network import MLPClassifier\n",
    "\n",
    "def create_final_cl(X_over, y_over, X_test, y_test, hidden_layer_sizes, activation, solver, max_iter):\n",
    "\n",
    "    result_accuracy = []\n",
    "    result_f1 = []\n",
    "    result_precision = []\n",
    "    result_recall = []\n",
    "    result_roc_auc = []\n",
    "\n",
    "    # parametrizando o modelo final\n",
    "    final_cl = MLPClassifier(hidden_layer_sizes=hidden_layer_sizes, activation=activation, solver=solver, max_iter=max_iter)\n",
    "\n",
    "    #treinando o modelo final\n",
    "    final_cl.fit(X_over, y_over)\n",
    "\n",
    "    preds = final_cl.predict(X_test)\n",
    "\n",
    "    accuracy_score(y_test, preds)\n",
    "\n",
    "    print('\"\"\"Accuracy\"\"\"')\n",
    "    print('accuracy_score:', accuracy_score(y_test, preds))\n",
    "    print('#'*40)\n",
    "    print('\"\"\"Métricas f1_score:\"\"\"')\n",
    "    print('f1: ', f1_score(y_test, preds))\n",
    "    print('macro: ', f1_score(y_test, preds, average='macro'))\n",
    "    print('micro: ', f1_score(y_test, preds, average='micro'))\n",
    "    print('weighted: ', f1_score(y_test, preds, average='weighted'))\n",
    "    print('#'*40)\n",
    "    print('\"\"\"Métricas precision_score:\"\"\"')\n",
    "    print('Precision: ', precision_score(y_test, preds))\n",
    "    print('macro: ', precision_score(y_test, preds, average='macro'))\n",
    "    print('micro: ', precision_score(y_test, preds, average='micro'))\n",
    "    print('weighted: ', precision_score(y_test, preds, average='weighted'))\n",
    "    print('#'*40)\n",
    "    print('\"\"\"Métricas recall_score:\"\"\"')\n",
    "    print('Recall: ', recall_score(y_test, preds))\n",
    "    print('macro: ', recall_score(y_test, preds, average='macro'))\n",
    "    print('micro: ', recall_score(y_test, preds, average='micro'))\n",
    "    print('weighted: ', recall_score(y_test, preds, average='weighted'))\n",
    "    print('#'*40)\n",
    "    print('\"\"\"ROC_AUC Score:\"\"\"')\n",
    "    print('roc_auc_score: ', roc_auc_score(y_test, preds, multi_class='ovr'))\n",
    "\n",
    "    result_accuracy.append(accuracy_score(y_test, preds))\n",
    "\n",
    "    result_f1.append(f1_score(y_test, preds))\n",
    "    result_f1.append(f1_score(y_test, preds, average='macro'))\n",
    "    result_f1.append(f1_score(y_test, preds, average='micro'))\n",
    "    result_f1.append(f1_score(y_test, preds, average='micro'))\n",
    "\n",
    "    result_precision.append(precision_score(y_test, preds))\n",
    "    result_precision.append(precision_score(y_test, preds, average='macro'))\n",
    "    result_precision.append(precision_score(y_test, preds, average='micro'))\n",
    "    result_precision.append(precision_score(y_test, preds, average='weighted'))\n",
    "\n",
    "    result_recall.append(precision_score(y_test, preds))\n",
    "    result_recall.append(precision_score(y_test, preds, average='macro'))\n",
    "    result_recall.append(precision_score(y_test, preds, average='micro'))\n",
    "    result_recall.append(precision_score(y_test, preds, average='weighted'))\n",
    "\n",
    "    result_roc_auc.append(roc_auc_score(y_test, preds, multi_class='ovr'))\n",
    "\n",
    "    return preds, final_cl, result_accuracy, result_f1, result_precision, result_recall, result_roc_auc"
   ]
  },
  {
   "cell_type": "markdown",
   "metadata": {},
   "source": [
    "#### Criação de funções para plotagem de métricas:"
   ]
  },
  {
   "cell_type": "code",
   "execution_count": 4,
   "metadata": {},
   "outputs": [],
   "source": [
    "def plot_conf_matrix (X_test, y_test, preds, final_cl):\n",
    "\n",
    "    confusion_matrix(y_test, preds)\n",
    "    matrix = plot_confusion_matrix(final_cl, X_test, y_test, cmap=plt.cm.Blues)\n",
    "    plt.show()\n",
    "    print(classification_report(y_test, preds))\n",
    "\n",
    "\n",
    "def plot_roc_curve(y_test, preds):\n",
    "    \n",
    "    print('roc_auc_score: ', roc_auc_score(y_test, preds, multi_class='ovr'))\n",
    "\n",
    "    fpr, tpr, _ = metrics.roc_curve(y_test,  preds)\n",
    "    auc = metrics.roc_auc_score(y_test, preds)\n",
    "    plt.plot(fpr,tpr,label=\"data 1, auc=\"+str(auc))\n",
    "    plt.legend(loc=4)\n",
    "    plt.show()\n",
    "\n",
    "def plot_permutation_importance(final_cl, X_test, y_test):\n",
    "    perm_importance = permutation_importance(final_cl, X_test, y_test)\n",
    "\n",
    "    sorted_idx = perm_importance.importances_mean.argsort()\n",
    "    plt.figure(figsize=(10,10))\n",
    "    plt.barh(features[sorted_idx], perm_importance.importances_mean[sorted_idx], height=0.8)\n",
    "    plt.xlabel(\"Permutation Importance\")\n",
    "    plt.show()"
   ]
  },
  {
   "cell_type": "markdown",
   "metadata": {},
   "source": [
    "#### Criação de uma função para aplicar o modelo para o período de tempo escolhido:"
   ]
  },
  {
   "cell_type": "code",
   "execution_count": 5,
   "metadata": {},
   "outputs": [],
   "source": [
    "def apply_periodos (d, df):\n",
    "    \n",
    "    results_accuracy = []\n",
    "    results_f1 = []\n",
    "    results_precision = []\n",
    "    results_recall = []\n",
    "    results_roc_auc = []\n",
    "\n",
    "    if d == 90:\n",
    "\n",
    "        for i in range (0,758,30):\n",
    "    \n",
    "            #treino!\n",
    "            data_inicio = df['data_notificacao'][0] + pd.Timedelta(days = i)\n",
    "            data_fim_treino = data_inicio + pd.Timedelta(days = int(d/2))\n",
    "            data_fim = data_inicio + pd.Timedelta(days = d)\n",
    "        \n",
    "            treino = df[(df['data_notificacao'] >= data_inicio) & (df['data_notificacao'] <= data_fim_treino )]\n",
    "            X_train = treino.drop(labels=['death', 'data_notificacao'], axis=1)\n",
    "            y_train = treino['death']\n",
    "\n",
    "            #teste!\n",
    "            teste = df[(df['data_notificacao'] > data_fim_treino) & (df['data_notificacao'] <= data_fim )]\n",
    "            X_test = teste.drop(labels=['death', 'data_notificacao'], axis=1)\n",
    "            y_test = teste['death']\n",
    "\n",
    "            oversample = RandomOverSampler(sampling_strategy='minority')\n",
    "            X_over, y_over = oversample.fit_resample(X_train, y_train)\n",
    "\n",
    "            print('Início do período: ', data_inicio)\n",
    "            print('Final do período: ', data_fim)\n",
    "\n",
    "            ####################################################\n",
    "            #              APLICANDO O MODELO                  #\n",
    "            ####################################################\n",
    "\n",
    "            list_random_states = [0, 12, 42, 50, 54, 68, 79, 81, 92, 112]\n",
    "\n",
    "            mean_test_scores = []\n",
    "            std_test_scores = []\n",
    "            best_scores = []\n",
    "            best_params = []\n",
    "\n",
    "            for random_state in list_random_states:\n",
    "\n",
    "                mean_test_score, std_test_score, best_score, best_param = instantiate_MLP_model(X_over, y_over)\n",
    "\n",
    "                mean_test_scores.append(mean_test_score)\n",
    "                std_test_scores.append(std_test_score)\n",
    "                best_scores.append(best_score)\n",
    "                best_params.append(best_param)\n",
    "\n",
    "            idx = best_scores.index(max(best_scores))\n",
    "            best_param = best_params[idx]\n",
    "        \n",
    "            preds, final_cl, result_accuracy, result_f1, result_precision, result_recall, result_roc_auc = create_final_cl(X_over, y_over, X_test, y_test, best_param['hidden_layer_sizes'], best_param['activation'], best_param['solver'], best_param['max_iter'])\n",
    "        \n",
    "            results_accuracy.append(result_accuracy)\n",
    "            results_f1.append(result_f1)\n",
    "            results_precision.append(result_precision)\n",
    "            results_recall.append(result_recall)\n",
    "            results_roc_auc.append(result_roc_auc)\n",
    "\n",
    "            plot_conf_matrix (X_test, y_test, preds, final_cl)\n",
    "\n",
    "            plot_roc_curve(y_test, preds)\n",
    "\n",
    "            plot_permutation_importance(final_cl, X_test, y_test)\n",
    "\n",
    "        return results_accuracy, results_f1, results_precision, results_recall, results_roc_auc\n",
    "\n",
    "    if d == 120:\n",
    "\n",
    "        for i in range(0,728,30):\n",
    "\n",
    "            #treino!\n",
    "            data_inicio = df['data_notificacao'][0] + pd.Timedelta(days = i)\n",
    "            data_fim_treino = data_inicio + pd.Timedelta(days = int(d/2))\n",
    "            data_fim = data_inicio + pd.Timedelta(days = d)\n",
    "\n",
    "            treino = df[(df['data_notificacao'] >= data_inicio) & (df['data_notificacao'] <= data_fim_treino )]\n",
    "            X_train = treino.drop(labels=['death', 'data_notificacao'], axis=1)\n",
    "            y_train = treino['death']\n",
    "\n",
    "            #teste!\n",
    "            teste = df[(df['data_notificacao'] >= data_fim_treino) & (df['data_notificacao'] <= data_fim )]\n",
    "            X_test = teste.drop(labels=['death', 'data_notificacao'], axis=1)\n",
    "            y_test = teste['death']\n",
    "\n",
    "            oversample = RandomOverSampler(sampling_strategy='minority')\n",
    "            X_over, y_over = oversample.fit_resample(X_train, y_train)\n",
    "\n",
    "            print('Início do período: ', data_inicio)\n",
    "            print('Final do período: ', data_fim)\n",
    "\n",
    "            ####################################################\n",
    "            #              APLICANDO O MODELO                  #\n",
    "            ####################################################\n",
    "\n",
    "            list_random_states = [0, 12, 42, 50, 54, 68, 79, 81, 92, 112]\n",
    "\n",
    "            mean_test_scores = []\n",
    "            std_test_scores = []\n",
    "            best_scores = []\n",
    "            best_params = []\n",
    "\n",
    "            for random_state in list_random_states:\n",
    "\n",
    "                mean_test_score, std_test_score, best_score, best_param = instantiate_MLP_model(X_over, y_over)\n",
    "\n",
    "                mean_test_scores.append(mean_test_score)\n",
    "                std_test_scores.append(std_test_score)\n",
    "                best_scores.append(best_score)\n",
    "                best_params.append(best_param)\n",
    "                \n",
    "            idx = best_scores.index(max(best_scores))\n",
    "            best_param = best_params[idx]\n",
    "        \n",
    "            preds, final_cl, result_accuracy, result_f1, result_precision, result_recall, result_roc_auc = create_final_cl(X_over, y_over, X_test, y_test, best_param['hidden_layer_sizes'], best_param['activation'], best_param['solver'], best_param['max_iter'])\n",
    "        \n",
    "            results_accuracy.append(result_accuracy)\n",
    "            results_f1.append(result_f1)\n",
    "            results_precision.append(result_precision)\n",
    "            results_recall.append(result_recall)\n",
    "            results_roc_auc.append(result_roc_auc)\n",
    "\n",
    "            plot_conf_matrix (X_test, y_test, preds, final_cl)\n",
    "\n",
    "            plot_roc_curve(y_test, preds)\n",
    "\n",
    "            plot_permutation_importance(final_cl, X_test, y_test)\n",
    "        \n",
    "        return results_accuracy, results_f1, results_precision, results_recall, results_roc_auc"
   ]
  },
  {
   "cell_type": "markdown",
   "metadata": {},
   "source": [
    "## Lendo o dataset:"
   ]
  },
  {
   "cell_type": "code",
   "execution_count": 6,
   "metadata": {},
   "outputs": [],
   "source": [
    "df = pd.read_csv('..\\..\\Data\\Casos Graves\\df_casos_graves')"
   ]
  },
  {
   "cell_type": "markdown",
   "metadata": {},
   "source": [
    "### Utilizando a class de pré-processamento para preparar o dataset:"
   ]
  },
  {
   "cell_type": "code",
   "execution_count": 7,
   "metadata": {},
   "outputs": [],
   "source": [
    "list_features = [\"SYMPTOM_COUGH\",'SYMPTOM_COLD','SYMPTOM_AIR_INSUFFICIENCY','SYMPTOM_FEVER','SYMPTOM_LOW_OXYGEN_SATURATION','SYMPTOM_BREATHING_CONDITION','SYMPTOM_TORACIC_APERTURE','SYMPTOM_THROAT_CONDITION',\n",
    "                'SYMPTOM_HEADACHE','SYMPTOM_BODY_PAIN','SYMPTOM_DIARRHEA','SYMPTOM_RUNNY_NOSE','SYMPTOM_NOSE_CONGESTION','SYMPTOM_WEAKNESS','SYMPTOM_ANOSMIA_OR_HYPOSMIA','SYMPTOM_NAUSEA','SYMPTOM_LACK_OF_APPETITE',\n",
    "                'SYMPTOM_ABDOMINAL_PAIN','SYMPTOM_CONSCIOUSNESS_DEGRADATION','DISEASE_HEART_OR_VASCULAR','DISEASE_DIABETES','DISEASE_HYPERTENSION','DISEASE_RESPIRATORY','DISEASE_OBESITY','DISEASE_KIDNEY','DISEASE_IMMUNOSUPPRESSION',\n",
    "                'DISEASE_TABAGIST','DISEASE_ETILISM','DISEASE_LIVER','DISEASE_NEUROLOGIC','death', 'idade', 'sexo_Feminino','sexo_Masculino', 'data_notificacao']\n",
    "features = np.array(list_features)"
   ]
  },
  {
   "cell_type": "code",
   "execution_count": 8,
   "metadata": {},
   "outputs": [
    {
     "name": "stderr",
     "output_type": "stream",
     "text": [
      "C:\\Users\\maril\\AppData\\Local\\Temp\\ipykernel_74600\\3432879523.py:6: SettingWithCopyWarning: \n",
      "A value is trying to be set on a copy of a slice from a DataFrame.\n",
      "Try using .loc[row_indexer,col_indexer] = value instead\n",
      "\n",
      "See the caveats in the documentation: https://pandas.pydata.org/pandas-docs/stable/user_guide/indexing.html#returning-a-view-versus-a-copy\n",
      "  df['data_notificacao'] = pd.to_datetime(df['data_notificacao'])\n"
     ]
    },
    {
     "data": {
      "text/html": [
       "<div>\n",
       "<style scoped>\n",
       "    .dataframe tbody tr th:only-of-type {\n",
       "        vertical-align: middle;\n",
       "    }\n",
       "\n",
       "    .dataframe tbody tr th {\n",
       "        vertical-align: top;\n",
       "    }\n",
       "\n",
       "    .dataframe thead th {\n",
       "        text-align: right;\n",
       "    }\n",
       "</style>\n",
       "<table border=\"1\" class=\"dataframe\">\n",
       "  <thead>\n",
       "    <tr style=\"text-align: right;\">\n",
       "      <th></th>\n",
       "      <th>SYMPTOM_COUGH</th>\n",
       "      <th>SYMPTOM_COLD</th>\n",
       "      <th>SYMPTOM_AIR_INSUFFICIENCY</th>\n",
       "      <th>SYMPTOM_FEVER</th>\n",
       "      <th>SYMPTOM_LOW_OXYGEN_SATURATION</th>\n",
       "      <th>SYMPTOM_BREATHING_CONDITION</th>\n",
       "      <th>SYMPTOM_TORACIC_APERTURE</th>\n",
       "      <th>SYMPTOM_THROAT_CONDITION</th>\n",
       "      <th>SYMPTOM_HEADACHE</th>\n",
       "      <th>SYMPTOM_BODY_PAIN</th>\n",
       "      <th>...</th>\n",
       "      <th>DISEASE_IMMUNOSUPPRESSION</th>\n",
       "      <th>DISEASE_TABAGIST</th>\n",
       "      <th>DISEASE_ETILISM</th>\n",
       "      <th>DISEASE_LIVER</th>\n",
       "      <th>DISEASE_NEUROLOGIC</th>\n",
       "      <th>death</th>\n",
       "      <th>idade</th>\n",
       "      <th>sexo_Feminino</th>\n",
       "      <th>sexo_Masculino</th>\n",
       "      <th>data_notificacao</th>\n",
       "    </tr>\n",
       "  </thead>\n",
       "  <tbody>\n",
       "    <tr>\n",
       "      <th>0</th>\n",
       "      <td>0</td>\n",
       "      <td>0</td>\n",
       "      <td>0</td>\n",
       "      <td>1</td>\n",
       "      <td>0</td>\n",
       "      <td>0</td>\n",
       "      <td>0</td>\n",
       "      <td>1</td>\n",
       "      <td>0</td>\n",
       "      <td>0</td>\n",
       "      <td>...</td>\n",
       "      <td>0</td>\n",
       "      <td>0</td>\n",
       "      <td>0</td>\n",
       "      <td>0</td>\n",
       "      <td>0</td>\n",
       "      <td>0</td>\n",
       "      <td>0.356522</td>\n",
       "      <td>0</td>\n",
       "      <td>1</td>\n",
       "      <td>2020-02-26</td>\n",
       "    </tr>\n",
       "    <tr>\n",
       "      <th>1</th>\n",
       "      <td>0</td>\n",
       "      <td>0</td>\n",
       "      <td>0</td>\n",
       "      <td>1</td>\n",
       "      <td>0</td>\n",
       "      <td>0</td>\n",
       "      <td>0</td>\n",
       "      <td>1</td>\n",
       "      <td>0</td>\n",
       "      <td>0</td>\n",
       "      <td>...</td>\n",
       "      <td>0</td>\n",
       "      <td>0</td>\n",
       "      <td>0</td>\n",
       "      <td>0</td>\n",
       "      <td>0</td>\n",
       "      <td>0</td>\n",
       "      <td>0.278261</td>\n",
       "      <td>0</td>\n",
       "      <td>1</td>\n",
       "      <td>2020-02-26</td>\n",
       "    </tr>\n",
       "    <tr>\n",
       "      <th>2</th>\n",
       "      <td>1</td>\n",
       "      <td>0</td>\n",
       "      <td>1</td>\n",
       "      <td>1</td>\n",
       "      <td>0</td>\n",
       "      <td>0</td>\n",
       "      <td>0</td>\n",
       "      <td>1</td>\n",
       "      <td>0</td>\n",
       "      <td>0</td>\n",
       "      <td>...</td>\n",
       "      <td>0</td>\n",
       "      <td>0</td>\n",
       "      <td>0</td>\n",
       "      <td>0</td>\n",
       "      <td>0</td>\n",
       "      <td>0</td>\n",
       "      <td>0.217391</td>\n",
       "      <td>1</td>\n",
       "      <td>0</td>\n",
       "      <td>2020-02-27</td>\n",
       "    </tr>\n",
       "    <tr>\n",
       "      <th>3</th>\n",
       "      <td>1</td>\n",
       "      <td>0</td>\n",
       "      <td>1</td>\n",
       "      <td>1</td>\n",
       "      <td>0</td>\n",
       "      <td>0</td>\n",
       "      <td>0</td>\n",
       "      <td>1</td>\n",
       "      <td>1</td>\n",
       "      <td>0</td>\n",
       "      <td>...</td>\n",
       "      <td>0</td>\n",
       "      <td>0</td>\n",
       "      <td>0</td>\n",
       "      <td>0</td>\n",
       "      <td>0</td>\n",
       "      <td>0</td>\n",
       "      <td>0.278261</td>\n",
       "      <td>0</td>\n",
       "      <td>1</td>\n",
       "      <td>2020-02-27</td>\n",
       "    </tr>\n",
       "    <tr>\n",
       "      <th>4</th>\n",
       "      <td>1</td>\n",
       "      <td>0</td>\n",
       "      <td>1</td>\n",
       "      <td>1</td>\n",
       "      <td>0</td>\n",
       "      <td>0</td>\n",
       "      <td>0</td>\n",
       "      <td>0</td>\n",
       "      <td>1</td>\n",
       "      <td>0</td>\n",
       "      <td>...</td>\n",
       "      <td>0</td>\n",
       "      <td>0</td>\n",
       "      <td>0</td>\n",
       "      <td>0</td>\n",
       "      <td>0</td>\n",
       "      <td>0</td>\n",
       "      <td>0.260870</td>\n",
       "      <td>1</td>\n",
       "      <td>0</td>\n",
       "      <td>2020-02-27</td>\n",
       "    </tr>\n",
       "    <tr>\n",
       "      <th>...</th>\n",
       "      <td>...</td>\n",
       "      <td>...</td>\n",
       "      <td>...</td>\n",
       "      <td>...</td>\n",
       "      <td>...</td>\n",
       "      <td>...</td>\n",
       "      <td>...</td>\n",
       "      <td>...</td>\n",
       "      <td>...</td>\n",
       "      <td>...</td>\n",
       "      <td>...</td>\n",
       "      <td>...</td>\n",
       "      <td>...</td>\n",
       "      <td>...</td>\n",
       "      <td>...</td>\n",
       "      <td>...</td>\n",
       "      <td>...</td>\n",
       "      <td>...</td>\n",
       "      <td>...</td>\n",
       "      <td>...</td>\n",
       "      <td>...</td>\n",
       "    </tr>\n",
       "    <tr>\n",
       "      <th>36430</th>\n",
       "      <td>1</td>\n",
       "      <td>0</td>\n",
       "      <td>1</td>\n",
       "      <td>1</td>\n",
       "      <td>0</td>\n",
       "      <td>0</td>\n",
       "      <td>0</td>\n",
       "      <td>0</td>\n",
       "      <td>0</td>\n",
       "      <td>0</td>\n",
       "      <td>...</td>\n",
       "      <td>0</td>\n",
       "      <td>0</td>\n",
       "      <td>0</td>\n",
       "      <td>0</td>\n",
       "      <td>0</td>\n",
       "      <td>0</td>\n",
       "      <td>0.000000</td>\n",
       "      <td>1</td>\n",
       "      <td>0</td>\n",
       "      <td>2022-06-12</td>\n",
       "    </tr>\n",
       "    <tr>\n",
       "      <th>36431</th>\n",
       "      <td>1</td>\n",
       "      <td>0</td>\n",
       "      <td>1</td>\n",
       "      <td>0</td>\n",
       "      <td>0</td>\n",
       "      <td>0</td>\n",
       "      <td>0</td>\n",
       "      <td>0</td>\n",
       "      <td>0</td>\n",
       "      <td>0</td>\n",
       "      <td>...</td>\n",
       "      <td>0</td>\n",
       "      <td>0</td>\n",
       "      <td>0</td>\n",
       "      <td>0</td>\n",
       "      <td>0</td>\n",
       "      <td>0</td>\n",
       "      <td>0.556522</td>\n",
       "      <td>0</td>\n",
       "      <td>1</td>\n",
       "      <td>2022-06-12</td>\n",
       "    </tr>\n",
       "    <tr>\n",
       "      <th>36432</th>\n",
       "      <td>1</td>\n",
       "      <td>0</td>\n",
       "      <td>1</td>\n",
       "      <td>0</td>\n",
       "      <td>0</td>\n",
       "      <td>0</td>\n",
       "      <td>0</td>\n",
       "      <td>0</td>\n",
       "      <td>0</td>\n",
       "      <td>0</td>\n",
       "      <td>...</td>\n",
       "      <td>0</td>\n",
       "      <td>0</td>\n",
       "      <td>0</td>\n",
       "      <td>0</td>\n",
       "      <td>0</td>\n",
       "      <td>0</td>\n",
       "      <td>0.573913</td>\n",
       "      <td>1</td>\n",
       "      <td>0</td>\n",
       "      <td>2022-06-12</td>\n",
       "    </tr>\n",
       "    <tr>\n",
       "      <th>36433</th>\n",
       "      <td>1</td>\n",
       "      <td>0</td>\n",
       "      <td>1</td>\n",
       "      <td>0</td>\n",
       "      <td>0</td>\n",
       "      <td>0</td>\n",
       "      <td>0</td>\n",
       "      <td>0</td>\n",
       "      <td>0</td>\n",
       "      <td>0</td>\n",
       "      <td>...</td>\n",
       "      <td>0</td>\n",
       "      <td>0</td>\n",
       "      <td>0</td>\n",
       "      <td>0</td>\n",
       "      <td>0</td>\n",
       "      <td>0</td>\n",
       "      <td>0.000000</td>\n",
       "      <td>0</td>\n",
       "      <td>1</td>\n",
       "      <td>2022-06-13</td>\n",
       "    </tr>\n",
       "    <tr>\n",
       "      <th>36434</th>\n",
       "      <td>1</td>\n",
       "      <td>0</td>\n",
       "      <td>1</td>\n",
       "      <td>0</td>\n",
       "      <td>0</td>\n",
       "      <td>0</td>\n",
       "      <td>0</td>\n",
       "      <td>0</td>\n",
       "      <td>0</td>\n",
       "      <td>0</td>\n",
       "      <td>...</td>\n",
       "      <td>0</td>\n",
       "      <td>0</td>\n",
       "      <td>0</td>\n",
       "      <td>0</td>\n",
       "      <td>0</td>\n",
       "      <td>0</td>\n",
       "      <td>0.556522</td>\n",
       "      <td>0</td>\n",
       "      <td>1</td>\n",
       "      <td>2022-06-13</td>\n",
       "    </tr>\n",
       "  </tbody>\n",
       "</table>\n",
       "<p>36435 rows × 35 columns</p>\n",
       "</div>"
      ],
      "text/plain": [
       "       SYMPTOM_COUGH  SYMPTOM_COLD  SYMPTOM_AIR_INSUFFICIENCY  SYMPTOM_FEVER  \\\n",
       "0                  0             0                          0              1   \n",
       "1                  0             0                          0              1   \n",
       "2                  1             0                          1              1   \n",
       "3                  1             0                          1              1   \n",
       "4                  1             0                          1              1   \n",
       "...              ...           ...                        ...            ...   \n",
       "36430              1             0                          1              1   \n",
       "36431              1             0                          1              0   \n",
       "36432              1             0                          1              0   \n",
       "36433              1             0                          1              0   \n",
       "36434              1             0                          1              0   \n",
       "\n",
       "       SYMPTOM_LOW_OXYGEN_SATURATION  SYMPTOM_BREATHING_CONDITION  \\\n",
       "0                                  0                            0   \n",
       "1                                  0                            0   \n",
       "2                                  0                            0   \n",
       "3                                  0                            0   \n",
       "4                                  0                            0   \n",
       "...                              ...                          ...   \n",
       "36430                              0                            0   \n",
       "36431                              0                            0   \n",
       "36432                              0                            0   \n",
       "36433                              0                            0   \n",
       "36434                              0                            0   \n",
       "\n",
       "       SYMPTOM_TORACIC_APERTURE  SYMPTOM_THROAT_CONDITION  SYMPTOM_HEADACHE  \\\n",
       "0                             0                         1                 0   \n",
       "1                             0                         1                 0   \n",
       "2                             0                         1                 0   \n",
       "3                             0                         1                 1   \n",
       "4                             0                         0                 1   \n",
       "...                         ...                       ...               ...   \n",
       "36430                         0                         0                 0   \n",
       "36431                         0                         0                 0   \n",
       "36432                         0                         0                 0   \n",
       "36433                         0                         0                 0   \n",
       "36434                         0                         0                 0   \n",
       "\n",
       "       SYMPTOM_BODY_PAIN  ...  DISEASE_IMMUNOSUPPRESSION  DISEASE_TABAGIST  \\\n",
       "0                      0  ...                          0                 0   \n",
       "1                      0  ...                          0                 0   \n",
       "2                      0  ...                          0                 0   \n",
       "3                      0  ...                          0                 0   \n",
       "4                      0  ...                          0                 0   \n",
       "...                  ...  ...                        ...               ...   \n",
       "36430                  0  ...                          0                 0   \n",
       "36431                  0  ...                          0                 0   \n",
       "36432                  0  ...                          0                 0   \n",
       "36433                  0  ...                          0                 0   \n",
       "36434                  0  ...                          0                 0   \n",
       "\n",
       "       DISEASE_ETILISM  DISEASE_LIVER  DISEASE_NEUROLOGIC  death     idade  \\\n",
       "0                    0              0                   0      0  0.356522   \n",
       "1                    0              0                   0      0  0.278261   \n",
       "2                    0              0                   0      0  0.217391   \n",
       "3                    0              0                   0      0  0.278261   \n",
       "4                    0              0                   0      0  0.260870   \n",
       "...                ...            ...                 ...    ...       ...   \n",
       "36430                0              0                   0      0  0.000000   \n",
       "36431                0              0                   0      0  0.556522   \n",
       "36432                0              0                   0      0  0.573913   \n",
       "36433                0              0                   0      0  0.000000   \n",
       "36434                0              0                   0      0  0.556522   \n",
       "\n",
       "       sexo_Feminino  sexo_Masculino  data_notificacao  \n",
       "0                  0               1        2020-02-26  \n",
       "1                  0               1        2020-02-26  \n",
       "2                  1               0        2020-02-27  \n",
       "3                  0               1        2020-02-27  \n",
       "4                  1               0        2020-02-27  \n",
       "...              ...             ...               ...  \n",
       "36430              1               0        2022-06-12  \n",
       "36431              0               1        2022-06-12  \n",
       "36432              1               0        2022-06-12  \n",
       "36433              0               1        2022-06-13  \n",
       "36434              0               1        2022-06-13  \n",
       "\n",
       "[36435 rows x 35 columns]"
      ]
     },
     "execution_count": 8,
     "metadata": {},
     "output_type": "execute_result"
    }
   ],
   "source": [
    "Pre_processing_models_df = Pre_processing_models(df)\n",
    "Pre_processing_models_df.run_graves()\n",
    "\n",
    "df = Pre_processing_models_df.df\n",
    "df = df[list_features]\n",
    "df['data_notificacao'] = pd.to_datetime(df['data_notificacao'])\n",
    "df = df.sort_values(by='data_notificacao', ascending=True)\n",
    "df = df.reset_index()\n",
    "df = df.drop(\"index\", axis=1)\n",
    "df"
   ]
  },
  {
   "cell_type": "markdown",
   "metadata": {},
   "source": [
    "### Aplicação do modelo considerando períodos de 90 dias, deslocando cada período em 30 dias:"
   ]
  },
  {
   "cell_type": "code",
   "execution_count": 9,
   "metadata": {},
   "outputs": [
    {
     "name": "stdout",
     "output_type": "stream",
     "text": [
      "Início do período:  2020-02-26 00:00:00\n",
      "Final do período:  2020-05-26 00:00:00\n"
     ]
    },
    {
     "name": "stderr",
     "output_type": "stream",
     "text": [
      "c:\\Users\\maril\\anaconda3\\lib\\site-packages\\sklearn\\neural_network\\_multilayer_perceptron.py:559: ConvergenceWarning: lbfgs failed to converge (status=1):\n",
      "STOP: TOTAL NO. of ITERATIONS REACHED LIMIT.\n",
      "\n",
      "Increase the number of iterations (max_iter) or scale the data as shown in:\n",
      "    https://scikit-learn.org/stable/modules/preprocessing.html\n",
      "  self.n_iter_ = _check_optimize_result(\"lbfgs\", opt_res, self.max_iter)\n"
     ]
    },
    {
     "name": "stdout",
     "output_type": "stream",
     "text": [
      "########################################\n",
      "\n",
      "best_score: 0.9373564551177992\n",
      "best_params_: {'activation': 'tanh', 'hidden_layer_sizes': (1000, 500), 'max_iter': 500, 'solver': 'lbfgs'}\n",
      "########################################\n",
      "\n",
      "########################################\n",
      "\n",
      "best_score: 0.9305656225828891\n",
      "best_params_: {'activation': 'tanh', 'hidden_layer_sizes': (1000, 500, 250), 'max_iter': 500, 'solver': 'adam'}\n",
      "########################################\n",
      "\n"
     ]
    },
    {
     "name": "stderr",
     "output_type": "stream",
     "text": [
      "c:\\Users\\maril\\anaconda3\\lib\\site-packages\\sklearn\\neural_network\\_multilayer_perceptron.py:559: ConvergenceWarning: lbfgs failed to converge (status=1):\n",
      "STOP: TOTAL NO. of ITERATIONS REACHED LIMIT.\n",
      "\n",
      "Increase the number of iterations (max_iter) or scale the data as shown in:\n",
      "    https://scikit-learn.org/stable/modules/preprocessing.html\n",
      "  self.n_iter_ = _check_optimize_result(\"lbfgs\", opt_res, self.max_iter)\n"
     ]
    },
    {
     "name": "stdout",
     "output_type": "stream",
     "text": [
      "########################################\n",
      "\n",
      "best_score: 0.9314309962728015\n",
      "best_params_: {'activation': 'tanh', 'hidden_layer_sizes': (1000, 500, 250), 'max_iter': 500, 'solver': 'lbfgs'}\n",
      "########################################\n",
      "\n"
     ]
    },
    {
     "name": "stderr",
     "output_type": "stream",
     "text": [
      "c:\\Users\\maril\\anaconda3\\lib\\site-packages\\sklearn\\neural_network\\_multilayer_perceptron.py:559: ConvergenceWarning: lbfgs failed to converge (status=1):\n",
      "STOP: TOTAL NO. of ITERATIONS REACHED LIMIT.\n",
      "\n",
      "Increase the number of iterations (max_iter) or scale the data as shown in:\n",
      "    https://scikit-learn.org/stable/modules/preprocessing.html\n",
      "  self.n_iter_ = _check_optimize_result(\"lbfgs\", opt_res, self.max_iter)\n"
     ]
    },
    {
     "name": "stdout",
     "output_type": "stream",
     "text": [
      "########################################\n",
      "\n",
      "best_score: 0.9289001718273555\n",
      "best_params_: {'activation': 'relu', 'hidden_layer_sizes': (1000, 500, 250), 'max_iter': 500, 'solver': 'lbfgs'}\n",
      "########################################\n",
      "\n"
     ]
    },
    {
     "name": "stderr",
     "output_type": "stream",
     "text": [
      "c:\\Users\\maril\\anaconda3\\lib\\site-packages\\sklearn\\neural_network\\_multilayer_perceptron.py:559: ConvergenceWarning: lbfgs failed to converge (status=1):\n",
      "STOP: TOTAL NO. of ITERATIONS REACHED LIMIT.\n",
      "\n",
      "Increase the number of iterations (max_iter) or scale the data as shown in:\n",
      "    https://scikit-learn.org/stable/modules/preprocessing.html\n",
      "  self.n_iter_ = _check_optimize_result(\"lbfgs\", opt_res, self.max_iter)\n"
     ]
    },
    {
     "name": "stdout",
     "output_type": "stream",
     "text": [
      "########################################\n",
      "\n",
      "best_score: 0.9322426898957161\n",
      "best_params_: {'activation': 'relu', 'hidden_layer_sizes': (1000, 500, 250), 'max_iter': 500, 'solver': 'lbfgs'}\n",
      "########################################\n",
      "\n"
     ]
    },
    {
     "name": "stderr",
     "output_type": "stream",
     "text": [
      "c:\\Users\\maril\\anaconda3\\lib\\site-packages\\sklearn\\neural_network\\_multilayer_perceptron.py:559: ConvergenceWarning: lbfgs failed to converge (status=1):\n",
      "STOP: TOTAL NO. of ITERATIONS REACHED LIMIT.\n",
      "\n",
      "Increase the number of iterations (max_iter) or scale the data as shown in:\n",
      "    https://scikit-learn.org/stable/modules/preprocessing.html\n",
      "  self.n_iter_ = _check_optimize_result(\"lbfgs\", opt_res, self.max_iter)\n"
     ]
    },
    {
     "name": "stdout",
     "output_type": "stream",
     "text": [
      "########################################\n",
      "\n",
      "best_score: 0.9368262241051741\n",
      "best_params_: {'activation': 'tanh', 'hidden_layer_sizes': (1000, 500), 'max_iter': 500, 'solver': 'lbfgs'}\n",
      "########################################\n",
      "\n",
      "########################################\n",
      "\n",
      "best_score: 0.936050502962345\n",
      "best_params_: {'activation': 'tanh', 'hidden_layer_sizes': (1000, 500, 250), 'max_iter': 500, 'solver': 'adam'}\n",
      "########################################\n",
      "\n"
     ]
    },
    {
     "name": "stderr",
     "output_type": "stream",
     "text": [
      "c:\\Users\\maril\\anaconda3\\lib\\site-packages\\sklearn\\neural_network\\_multilayer_perceptron.py:559: ConvergenceWarning: lbfgs failed to converge (status=1):\n",
      "STOP: TOTAL NO. of ITERATIONS REACHED LIMIT.\n",
      "\n",
      "Increase the number of iterations (max_iter) or scale the data as shown in:\n",
      "    https://scikit-learn.org/stable/modules/preprocessing.html\n",
      "  self.n_iter_ = _check_optimize_result(\"lbfgs\", opt_res, self.max_iter)\n"
     ]
    },
    {
     "name": "stdout",
     "output_type": "stream",
     "text": [
      "########################################\n",
      "\n",
      "best_score: 0.9375404907586493\n",
      "best_params_: {'activation': 'tanh', 'hidden_layer_sizes': (1000, 500, 250), 'max_iter': 500, 'solver': 'lbfgs'}\n",
      "########################################\n",
      "\n"
     ]
    },
    {
     "name": "stderr",
     "output_type": "stream",
     "text": [
      "c:\\Users\\maril\\anaconda3\\lib\\site-packages\\sklearn\\neural_network\\_multilayer_perceptron.py:559: ConvergenceWarning: lbfgs failed to converge (status=1):\n",
      "STOP: TOTAL NO. of ITERATIONS REACHED LIMIT.\n",
      "\n",
      "Increase the number of iterations (max_iter) or scale the data as shown in:\n",
      "    https://scikit-learn.org/stable/modules/preprocessing.html\n",
      "  self.n_iter_ = _check_optimize_result(\"lbfgs\", opt_res, self.max_iter)\n"
     ]
    },
    {
     "name": "stdout",
     "output_type": "stream",
     "text": [
      "########################################\n",
      "\n",
      "best_score: 0.9310453911526123\n",
      "best_params_: {'activation': 'tanh', 'hidden_layer_sizes': (1000, 500, 250), 'max_iter': 500, 'solver': 'lbfgs'}\n",
      "########################################\n",
      "\n"
     ]
    },
    {
     "name": "stderr",
     "output_type": "stream",
     "text": [
      "c:\\Users\\maril\\anaconda3\\lib\\site-packages\\sklearn\\neural_network\\_multilayer_perceptron.py:559: ConvergenceWarning: lbfgs failed to converge (status=1):\n",
      "STOP: TOTAL NO. of ITERATIONS REACHED LIMIT.\n",
      "\n",
      "Increase the number of iterations (max_iter) or scale the data as shown in:\n",
      "    https://scikit-learn.org/stable/modules/preprocessing.html\n",
      "  self.n_iter_ = _check_optimize_result(\"lbfgs\", opt_res, self.max_iter)\n"
     ]
    },
    {
     "name": "stdout",
     "output_type": "stream",
     "text": [
      "########################################\n",
      "\n",
      "best_score: 0.9342809015012323\n",
      "best_params_: {'activation': 'tanh', 'hidden_layer_sizes': (1000, 500, 250), 'max_iter': 500, 'solver': 'lbfgs'}\n",
      "########################################\n",
      "\n"
     ]
    },
    {
     "name": "stderr",
     "output_type": "stream",
     "text": [
      "c:\\Users\\maril\\anaconda3\\lib\\site-packages\\sklearn\\neural_network\\_multilayer_perceptron.py:559: ConvergenceWarning: lbfgs failed to converge (status=1):\n",
      "STOP: TOTAL NO. of ITERATIONS REACHED LIMIT.\n",
      "\n",
      "Increase the number of iterations (max_iter) or scale the data as shown in:\n",
      "    https://scikit-learn.org/stable/modules/preprocessing.html\n",
      "  self.n_iter_ = _check_optimize_result(\"lbfgs\", opt_res, self.max_iter)\n"
     ]
    },
    {
     "name": "stdout",
     "output_type": "stream",
     "text": [
      "\"\"\"Accuracy\"\"\"\n",
      "accuracy_score: 0.7682247242124417\n",
      "########################################\n",
      "\"\"\"Métricas f1_score:\"\"\"\n",
      "f1:  0.5304147465437787\n",
      "macro:  0.6882784890804354\n",
      "micro:  0.7682247242124417\n",
      "weighted:  0.7735030069721116\n",
      "########################################\n",
      "\"\"\"Métricas precision_score:\"\"\"\n",
      "Precision:  0.4967630556754424\n",
      "macro:  0.6810560182639102\n",
      "micro:  0.7682247242124417\n",
      "weighted:  0.7805486480156963\n",
      "########################################\n",
      "\"\"\"Métricas recall_score:\"\"\"\n",
      "Recall:  0.5689569945625309\n",
      "macro:  0.6983632831010587\n",
      "micro:  0.7682247242124417\n",
      "weighted:  0.7682247242124417\n",
      "########################################\n",
      "\"\"\"ROC_AUC Score:\"\"\"\n",
      "roc_auc_score:  0.6983632831010587\n"
     ]
    },
    {
     "name": "stderr",
     "output_type": "stream",
     "text": [
      "c:\\Users\\maril\\anaconda3\\lib\\site-packages\\sklearn\\utils\\deprecation.py:87: FutureWarning: Function plot_confusion_matrix is deprecated; Function `plot_confusion_matrix` is deprecated in 1.0 and will be removed in 1.2. Use one of the class methods: ConfusionMatrixDisplay.from_predictions or ConfusionMatrixDisplay.from_estimator.\n",
      "  warnings.warn(msg, category=FutureWarning)\n"
     ]
    },
    {
     "data": {
      "image/png": "[encoded data removed]",
      "text/plain": [
       "<Figure size 432x288 with 2 Axes>"
      ]
     },
     "metadata": {
      "needs_background": "light"
     },
     "output_type": "display_data"
    },
    {
     "name": "stdout",
     "output_type": "stream",
     "text": [
      "              precision    recall  f1-score   support\n",
      "\n",
      "           0       0.87      0.83      0.85      6770\n",
      "           1       0.50      0.57      0.53      2023\n",
      "\n",
      "    accuracy                           0.77      8793\n",
      "   macro avg       0.68      0.70      0.69      8793\n",
      "weighted avg       0.78      0.77      0.77      8793\n",
      "\n",
      "roc_auc_score:  0.6983632831010587\n"
     ]
    },
    {
     "data": {
      "image/png": "[encoded data removed]",
      "text/plain": [
       "<Figure size 432x288 with 1 Axes>"
      ]
     },
     "metadata": {
      "needs_background": "light"
     },
     "output_type": "display_data"
    },
    {
     "data": {
      "image/png": "[encoded data removed]",
      "text/plain": [
       "<Figure size 720x720 with 1 Axes>"
      ]
     },
     "metadata": {
      "needs_background": "light"
     },
     "output_type": "display_data"
    },
    {
     "name": "stdout",
     "output_type": "stream",
     "text": [
      "Início do período:  2020-03-27 00:00:00\n",
      "Final do período:  2020-06-25 00:00:00\n"
     ]
    },
    {
     "name": "stderr",
     "output_type": "stream",
     "text": [
      "c:\\Users\\maril\\anaconda3\\lib\\site-packages\\sklearn\\neural_network\\_multilayer_perceptron.py:559: ConvergenceWarning: lbfgs failed to converge (status=1):\n",
      "STOP: TOTAL NO. of ITERATIONS REACHED LIMIT.\n",
      "\n",
      "Increase the number of iterations (max_iter) or scale the data as shown in:\n",
      "    https://scikit-learn.org/stable/modules/preprocessing.html\n",
      "  self.n_iter_ = _check_optimize_result(\"lbfgs\", opt_res, self.max_iter)\n"
     ]
    },
    {
     "name": "stdout",
     "output_type": "stream",
     "text": [
      "########################################\n",
      "\n",
      "best_score: 0.9244886119186727\n",
      "best_params_: {'activation': 'tanh', 'hidden_layer_sizes': (1000, 500, 250), 'max_iter': 500, 'solver': 'lbfgs'}\n",
      "########################################\n",
      "\n"
     ]
    },
    {
     "name": "stderr",
     "output_type": "stream",
     "text": [
      "c:\\Users\\maril\\anaconda3\\lib\\site-packages\\sklearn\\neural_network\\_multilayer_perceptron.py:559: ConvergenceWarning: lbfgs failed to converge (status=1):\n",
      "STOP: TOTAL NO. of ITERATIONS REACHED LIMIT.\n",
      "\n",
      "Increase the number of iterations (max_iter) or scale the data as shown in:\n",
      "    https://scikit-learn.org/stable/modules/preprocessing.html\n",
      "  self.n_iter_ = _check_optimize_result(\"lbfgs\", opt_res, self.max_iter)\n"
     ]
    },
    {
     "name": "stdout",
     "output_type": "stream",
     "text": [
      "########################################\n",
      "\n",
      "best_score: 0.9241254690346082\n",
      "best_params_: {'activation': 'tanh', 'hidden_layer_sizes': (1000, 500, 250), 'max_iter': 500, 'solver': 'lbfgs'}\n",
      "########################################\n",
      "\n"
     ]
    },
    {
     "name": "stderr",
     "output_type": "stream",
     "text": [
      "c:\\Users\\maril\\anaconda3\\lib\\site-packages\\sklearn\\neural_network\\_multilayer_perceptron.py:559: ConvergenceWarning: lbfgs failed to converge (status=1):\n",
      "STOP: TOTAL NO. of ITERATIONS REACHED LIMIT.\n",
      "\n",
      "Increase the number of iterations (max_iter) or scale the data as shown in:\n",
      "    https://scikit-learn.org/stable/modules/preprocessing.html\n",
      "  self.n_iter_ = _check_optimize_result(\"lbfgs\", opt_res, self.max_iter)\n"
     ]
    },
    {
     "name": "stdout",
     "output_type": "stream",
     "text": [
      "########################################\n",
      "\n",
      "best_score: 0.9266783600947942\n",
      "best_params_: {'activation': 'tanh', 'hidden_layer_sizes': (1000, 500, 250), 'max_iter': 500, 'solver': 'lbfgs'}\n",
      "########################################\n",
      "\n"
     ]
    },
    {
     "name": "stderr",
     "output_type": "stream",
     "text": [
      "c:\\Users\\maril\\anaconda3\\lib\\site-packages\\sklearn\\neural_network\\_multilayer_perceptron.py:559: ConvergenceWarning: lbfgs failed to converge (status=1):\n",
      "STOP: TOTAL NO. of ITERATIONS REACHED LIMIT.\n",
      "\n",
      "Increase the number of iterations (max_iter) or scale the data as shown in:\n",
      "    https://scikit-learn.org/stable/modules/preprocessing.html\n",
      "  self.n_iter_ = _check_optimize_result(\"lbfgs\", opt_res, self.max_iter)\n"
     ]
    },
    {
     "name": "stdout",
     "output_type": "stream",
     "text": [
      "########################################\n",
      "\n",
      "best_score: 0.9249526879148853\n",
      "best_params_: {'activation': 'tanh', 'hidden_layer_sizes': (1000, 500, 250), 'max_iter': 500, 'solver': 'lbfgs'}\n",
      "########################################\n",
      "\n",
      "########################################\n",
      "\n",
      "best_score: 0.9255030516777888\n",
      "best_params_: {'activation': 'tanh', 'hidden_layer_sizes': (1000, 500, 250), 'max_iter': 500, 'solver': 'adam'}\n",
      "########################################\n",
      "\n"
     ]
    }
   ],
   "source": [
    "results_accuracy_90_mlp, results_f1_90_mlp, results_precision_90_mlp, results_recall_90_mlp, results_roc_auc_90_mlp = apply_periodos(90, df)"
   ]
  },
  {
   "cell_type": "markdown",
   "metadata": {},
   "source": [
    "### Lista com as métricas de cada período:"
   ]
  },
  {
   "cell_type": "code",
   "execution_count": null,
   "metadata": {},
   "outputs": [],
   "source": [
    "list_periodos_90 = [['26/02/2020 até 26/05/2020'], ['27/03/2020 até 25/06/2020'], ['26/04/2020 até 25/07/2020'], ['26/05/2020 até 24/08/2020'], \n",
    "['25/06/2020 até 23/09/2020'], ['25/07/2020 até 23/10/2020'], ['24/08/2020 até 22/11/2020'], ['23/09/2020 até 22/12/2020'], ['23/10/2020 até 21/01/2021'], \n",
    "['22/11/2020 até 20/02/2021'], ['22/12/2020 até 22/03/2021'], ['21/01/2021 até 21/04/2021'], ['20/02/2021 até 21/05/2021'], ['22/03/2021 até 20/06/2021'], \n",
    "['21/04/2021 até 20/07/2021'], ['21/05/2021 até 19/08/2021'], ['20/06/2021 até 18/09/2021'], ['20/07/2021 até 18/10/2021'], ['19/08/2021 até 17/11/2021'], \n",
    "['18/09/2021 até 17/12/2021'], ['18/10/2021 até 16/01/2022'], ['17/11/2021 até 15/02/2022'], ['17/12/2021 até 17/03/2022'], ['16/01/2022 até 16/04/2022'], \n",
    "['15/02/2022 até 16/05/2022'], ['17/03/2022 até 15/06/2022']]"
   ]
  },
  {
   "cell_type": "code",
   "execution_count": null,
   "metadata": {},
   "outputs": [],
   "source": [
    "metricas_accuracy_90_mlp = pd.DataFrame(results_accuracy_90_mlp)\n",
    "metricas_accuracy_90_mlp.columns = ['accuracy score']\n",
    "#metricas_accuracy_90_mlp\n",
    "metricas_f1_90_mlp = pd.DataFrame(results_f1_90_mlp)\n",
    "metricas_f1_90_mlp.columns = ['f1 score', 'f1 score macro', 'f1 score micro', 'f1 score weighted']\n",
    "#metricas_f1_90_mlp\n",
    "metricas_precision_90_mlp = pd.DataFrame(results_precision_90_mlp)\n",
    "metricas_precision_90_mlp.columns = ['precision score', 'precision score macro', 'precision score micro', 'precision score weighted']\n",
    "#metricas_precision_90_mlp\n",
    "metricas_recall_90_mlp = pd.DataFrame(results_recall_90_mlp)\n",
    "metricas_recall_90_mlp.columns = ['recall score', 'recall score macro', 'recall score micro', 'recall score weighted']\n",
    "#metricas_recall_90_mlp\n",
    "metricas_roc_auc_90_mlp = pd.DataFrame(results_roc_auc_90_mlp)\n",
    "metricas_roc_auc_90_mlp.columns = ['roc_auc score']\n",
    "#metricas_roc_auc_90_mlp\n",
    "metricas_90_mlp = pd.concat([metricas_accuracy_90_mlp, metricas_f1_90_mlp, metricas_precision_90_mlp, metricas_recall_90_mlp, metricas_roc_auc_90_mlp], axis=1)\n",
    "metricas_90_mlp"
   ]
  },
  {
   "cell_type": "code",
   "execution_count": null,
   "metadata": {},
   "outputs": [],
   "source": [
    "coluna_periodos90 = pd.DataFrame(list_periodos_90)\n",
    "coluna_periodos90.columns = ['Períodos']\n",
    "#coluna_periodos90\n",
    "metricas_90_mlp_final = pd.concat([coluna_periodos90, metricas_90_mlp], axis=1)\n",
    "metricas_90_mlp_final"
   ]
  },
  {
   "cell_type": "code",
   "execution_count": null,
   "metadata": {},
   "outputs": [],
   "source": [
    "metricas_90_mlp_final.sort_values(by=['roc_auc score'], ascending=False)"
   ]
  },
  {
   "cell_type": "code",
   "execution_count": null,
   "metadata": {},
   "outputs": [],
   "source": [
    "metricas_90_mlp_final.sort_values(by=['f1 score macro', 'roc_auc score'], ascending=False)"
   ]
  },
  {
   "cell_type": "code",
   "execution_count": null,
   "metadata": {},
   "outputs": [],
   "source": [
    "metricas_90_mlp_final.to_csv('metricas_90_mlp_final.csv', index=False)"
   ]
  },
  {
   "cell_type": "markdown",
   "metadata": {},
   "source": [
    "### Aplicação do modelo considerando períodos de 120 dias, deslocando cada período em 30 dias:"
   ]
  },
  {
   "cell_type": "code",
   "execution_count": null,
   "metadata": {},
   "outputs": [],
   "source": [
    "results_accuracy_120_mlp, results_f1_120_mlp, results_precision_120_mlp, results_recall_120_mlp, results_roc_auc_120_mlp = apply_periodos(120, df)"
   ]
  },
  {
   "cell_type": "markdown",
   "metadata": {},
   "source": [
    "### Lista com as métricas de cada período:"
   ]
  },
  {
   "cell_type": "code",
   "execution_count": null,
   "metadata": {},
   "outputs": [],
   "source": [
    "list_periodos_120 = [['26/02/2020 até 25/06/2020'], ['27/03/2020 até 25/07/2020'], ['26/04/2020 até 24/08/2020'], ['26/05/2020 até 23/09/2020'], \n",
    "['25/06/2020 até 23/10/2020'], ['25/07/2020 até 22/11/2020'], ['24/08/2020 até 22/12/2020'], ['23/09/2020 até 21/01/2021'], ['23/10/2020 até 20/02/2021'], \n",
    "['22/11/2020 até 22/03/2021'], ['22/12/2020 até 21/04/2021'], ['21/01/2021 até 21/05/2021'], ['20/02/2021 até 20/06/2021'], ['22/03/2021 até 20/07/2021'], \n",
    "['21/04/2021 até 19/08/2021'], ['21/05/2021 até 18/09/2021'], ['20/06/2021 até 18/10/2021'], ['20/07/2021 até 17/11/2021'], ['19/08/2021 até 17/12/2021'], \n",
    "['18/09/2021 até 16/01/2022'], ['18/10/2021 até 15/02/2022'], ['17/11/2021 até 17/03/2022'], ['17/12/2021 até 16/04/2022'], ['16/01/2022 até 16/05/2022'], \n",
    "['15/02/2022 até 15/06/2022']]"
   ]
  },
  {
   "cell_type": "code",
   "execution_count": null,
   "metadata": {},
   "outputs": [],
   "source": [
    "metricas_accuracy_120_mlp = pd.DataFrame(results_accuracy_120_mlp)\n",
    "metricas_accuracy_120_mlp.columns = ['accuracy score']\n",
    "#metricas_accuracy_120_mlp\n",
    "metricas_f1_120_mlp = pd.DataFrame(results_f1_120_mlp)\n",
    "metricas_f1_120_mlp.columns = ['f1 score', 'f1 score macro', 'f1 score micro', 'f1 score weighted']\n",
    "#metricas_f1_120_mlp\n",
    "metricas_precision_120_mlp = pd.DataFrame(results_precision_120_mlp)\n",
    "metricas_precision_120_mlp.columns = ['precision score', 'precision score macro', 'precision score micro', 'precision score weighted']\n",
    "#metricas_precision_120_mlp\n",
    "metricas_recall_120_mlp = pd.DataFrame(results_recall_120_mlp)\n",
    "metricas_recall_120_mlp.columns = ['recall score', 'recall score macro', 'recall score micro', 'recall score weighted']\n",
    "#metricas_recall_120_mlp\n",
    "metricas_roc_auc_120_mlp = pd.DataFrame(results_roc_auc_120_mlp)\n",
    "metricas_roc_auc_120_mlp.columns = ['roc_auc score']\n",
    "#metricas_roc_auc_120_mlp\n",
    "metricas_120_mlp = pd.concat([metricas_accuracy_120_mlp, metricas_f1_120_mlp, metricas_precision_120_mlp, metricas_recall_120_mlp, metricas_roc_auc_120_mlp], axis=1)\n",
    "metricas_120_mlp"
   ]
  },
  {
   "cell_type": "code",
   "execution_count": null,
   "metadata": {},
   "outputs": [],
   "source": [
    "coluna_periodos120 = pd.DataFrame(list_periodos_120)\n",
    "coluna_periodos120.columns = ['Períodos']\n",
    "#coluna_periodos120.columns\n",
    "metricas_120_mlp_final = pd.concat([coluna_periodos120, metricas_120_mlp], axis=1)\n",
    "metricas_120_mlp_final"
   ]
  },
  {
   "cell_type": "code",
   "execution_count": null,
   "metadata": {},
   "outputs": [],
   "source": [
    "metricas_120_mlp_final.sort_values(by=['roc_auc score'], ascending=False)"
   ]
  },
  {
   "cell_type": "code",
   "execution_count": null,
   "metadata": {},
   "outputs": [],
   "source": [
    "metricas_120_mlp_final.sort_values(by=['f1 score macro', 'roc_auc score'], ascending=False)"
   ]
  },
  {
   "cell_type": "code",
   "execution_count": null,
   "metadata": {},
   "outputs": [],
   "source": [
    "metricas_120_mlp_final.to_csv('metricas_120_mlp_final.csv', index=False)"
   ]
  }
 ],
 "metadata": {
  "kernelspec": {
   "display_name": "Python 3.9.12 ('base')",
   "language": "python",
   "name": "python3"
  },
  "language_info": {
   "codemirror_mode": {
    "name": "ipython",
    "version": 3
   },
   "file_extension": ".py",
   "mimetype": "text/x-python",
   "name": "python",
   "nbconvert_exporter": "python",
   "pygments_lexer": "ipython3",
   "version": "3.9.12"
  },
  "orig_nbformat": 4,
  "vscode": {
   "interpreter": {
    "hash": "0aaeb22c71f2ae0b9c043eccdf97f0c7955bdacc8e8a30a0863aaa920d0fd752"
   }
  }
 },
 "nbformat": 4,
 "nbformat_minor": 2
}
