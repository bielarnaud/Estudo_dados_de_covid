{
 "cells": [
  {
   "cell_type": "code",
   "execution_count": 1,
   "metadata": {},
   "outputs": [],
   "source": [
    "import pandas as pd\n",
    "import numpy as np\n",
    "import matplotlib.pyplot as plt\n",
    "import seaborn as sns\n",
    "\n",
    "from sklearn.ensemble import GradientBoostingClassifier\n",
    "\n",
    "from imblearn.over_sampling import RandomOverSampler \n",
    "\n",
    "from functions.Pre_processing_Casos_Graves import *\n",
    "from functions.Pre_processing_models import *\n",
    "\n",
    "from sklearn.model_selection import GridSearchCV\n",
    "from sklearn.model_selection import RepeatedKFold\n",
    "from sklearn.model_selection._split import StratifiedKFold\n",
    "\n",
    "from sklearn.pipeline import make_pipeline\n",
    "from sklearn.preprocessing import StandardScaler\n",
    "\n",
    "from sklearn import metrics\n",
    "from sklearn.metrics import f1_score, precision_score, recall_score, accuracy_score\n",
    "from sklearn.metrics import confusion_matrix\n",
    "from sklearn.metrics import plot_confusion_matrix\n",
    "from sklearn.metrics import classification_report\n",
    "from sklearn.metrics import roc_auc_score\n",
    "\n",
    "from sklearn.model_selection import TimeSeriesSplit\n",
    "from sklearn.model_selection import train_test_split, cross_validate, cross_val_score\n",
    "from sklearn.feature_selection import SelectKBest, chi2, mutual_info_classif, SelectFdr"
   ]
  },
  {
   "cell_type": "markdown",
   "metadata": {},
   "source": [
    "#### Lendo o dataset:"
   ]
  },
  {
   "cell_type": "code",
   "execution_count": 2,
   "metadata": {},
   "outputs": [],
   "source": [
    "df = pd.read_csv('..\\Data\\Casos Graves\\df_casos_graves')"
   ]
  },
  {
   "cell_type": "markdown",
   "metadata": {},
   "source": [
    "#### Utilizando a class de pré-processamento para preparar o dataset:"
   ]
  },
  {
   "cell_type": "code",
   "execution_count": 3,
   "metadata": {},
   "outputs": [],
   "source": [
    "list_features = [\"SYMPTOM_COUGH\",'SYMPTOM_COLD','SYMPTOM_AIR_INSUFFICIENCY','SYMPTOM_FEVER','SYMPTOM_LOW_OXYGEN_SATURATION','SYMPTOM_BREATHING_CONDITION','SYMPTOM_TORACIC_APERTURE','SYMPTOM_THROAT_CONDITION',\n",
    "                'SYMPTOM_HEADACHE','SYMPTOM_BODY_PAIN','SYMPTOM_DIARRHEA','SYMPTOM_RUNNY_NOSE','SYMPTOM_NOSE_CONGESTION','SYMPTOM_WEAKNESS','SYMPTOM_ANOSMIA_OR_HYPOSMIA','SYMPTOM_NAUSEA','SYMPTOM_LACK_OF_APPETITE',\n",
    "                'SYMPTOM_ABDOMINAL_PAIN','SYMPTOM_CONSCIOUSNESS_DEGRADATION','DISEASE_HEART_OR_VASCULAR','DISEASE_DIABETES','DISEASE_HYPERTENSION','DISEASE_RESPIRATORY','DISEASE_OBESITY','DISEASE_KIDNEY','DISEASE_IMMUNOSUPPRESSION',\n",
    "                'DISEASE_TABAGIST','DISEASE_ETILISM','DISEASE_LIVER','DISEASE_NEUROLOGIC','death', 'idade', 'sexo_Feminino','sexo_Masculino', 'data_notificacao']"
   ]
  },
  {
   "cell_type": "code",
   "execution_count": 4,
   "metadata": {},
   "outputs": [
    {
     "name": "stderr",
     "output_type": "stream",
     "text": [
      "C:\\Users\\maril\\AppData\\Local\\Temp\\ipykernel_55960\\3432879523.py:6: SettingWithCopyWarning: \n",
      "A value is trying to be set on a copy of a slice from a DataFrame.\n",
      "Try using .loc[row_indexer,col_indexer] = value instead\n",
      "\n",
      "See the caveats in the documentation: https://pandas.pydata.org/pandas-docs/stable/user_guide/indexing.html#returning-a-view-versus-a-copy\n",
      "  df['data_notificacao'] = pd.to_datetime(df['data_notificacao'])\n"
     ]
    },
    {
     "data": {
      "text/html": [
       "<div>\n",
       "<style scoped>\n",
       "    .dataframe tbody tr th:only-of-type {\n",
       "        vertical-align: middle;\n",
       "    }\n",
       "\n",
       "    .dataframe tbody tr th {\n",
       "        vertical-align: top;\n",
       "    }\n",
       "\n",
       "    .dataframe thead th {\n",
       "        text-align: right;\n",
       "    }\n",
       "</style>\n",
       "<table border=\"1\" class=\"dataframe\">\n",
       "  <thead>\n",
       "    <tr style=\"text-align: right;\">\n",
       "      <th></th>\n",
       "      <th>SYMPTOM_COUGH</th>\n",
       "      <th>SYMPTOM_COLD</th>\n",
       "      <th>SYMPTOM_AIR_INSUFFICIENCY</th>\n",
       "      <th>SYMPTOM_FEVER</th>\n",
       "      <th>SYMPTOM_LOW_OXYGEN_SATURATION</th>\n",
       "      <th>SYMPTOM_BREATHING_CONDITION</th>\n",
       "      <th>SYMPTOM_TORACIC_APERTURE</th>\n",
       "      <th>SYMPTOM_THROAT_CONDITION</th>\n",
       "      <th>SYMPTOM_HEADACHE</th>\n",
       "      <th>SYMPTOM_BODY_PAIN</th>\n",
       "      <th>...</th>\n",
       "      <th>DISEASE_IMMUNOSUPPRESSION</th>\n",
       "      <th>DISEASE_TABAGIST</th>\n",
       "      <th>DISEASE_ETILISM</th>\n",
       "      <th>DISEASE_LIVER</th>\n",
       "      <th>DISEASE_NEUROLOGIC</th>\n",
       "      <th>death</th>\n",
       "      <th>idade</th>\n",
       "      <th>sexo_Feminino</th>\n",
       "      <th>sexo_Masculino</th>\n",
       "      <th>data_notificacao</th>\n",
       "    </tr>\n",
       "  </thead>\n",
       "  <tbody>\n",
       "    <tr>\n",
       "      <th>0</th>\n",
       "      <td>0</td>\n",
       "      <td>0</td>\n",
       "      <td>0</td>\n",
       "      <td>1</td>\n",
       "      <td>0</td>\n",
       "      <td>0</td>\n",
       "      <td>0</td>\n",
       "      <td>1</td>\n",
       "      <td>0</td>\n",
       "      <td>0</td>\n",
       "      <td>...</td>\n",
       "      <td>0</td>\n",
       "      <td>0</td>\n",
       "      <td>0</td>\n",
       "      <td>0</td>\n",
       "      <td>0</td>\n",
       "      <td>0</td>\n",
       "      <td>0.356522</td>\n",
       "      <td>0</td>\n",
       "      <td>1</td>\n",
       "      <td>2020-02-26</td>\n",
       "    </tr>\n",
       "    <tr>\n",
       "      <th>1</th>\n",
       "      <td>0</td>\n",
       "      <td>0</td>\n",
       "      <td>0</td>\n",
       "      <td>1</td>\n",
       "      <td>0</td>\n",
       "      <td>0</td>\n",
       "      <td>0</td>\n",
       "      <td>1</td>\n",
       "      <td>0</td>\n",
       "      <td>0</td>\n",
       "      <td>...</td>\n",
       "      <td>0</td>\n",
       "      <td>0</td>\n",
       "      <td>0</td>\n",
       "      <td>0</td>\n",
       "      <td>0</td>\n",
       "      <td>0</td>\n",
       "      <td>0.278261</td>\n",
       "      <td>0</td>\n",
       "      <td>1</td>\n",
       "      <td>2020-02-26</td>\n",
       "    </tr>\n",
       "    <tr>\n",
       "      <th>2</th>\n",
       "      <td>1</td>\n",
       "      <td>0</td>\n",
       "      <td>1</td>\n",
       "      <td>1</td>\n",
       "      <td>0</td>\n",
       "      <td>0</td>\n",
       "      <td>0</td>\n",
       "      <td>1</td>\n",
       "      <td>0</td>\n",
       "      <td>0</td>\n",
       "      <td>...</td>\n",
       "      <td>0</td>\n",
       "      <td>0</td>\n",
       "      <td>0</td>\n",
       "      <td>0</td>\n",
       "      <td>0</td>\n",
       "      <td>0</td>\n",
       "      <td>0.217391</td>\n",
       "      <td>1</td>\n",
       "      <td>0</td>\n",
       "      <td>2020-02-27</td>\n",
       "    </tr>\n",
       "    <tr>\n",
       "      <th>3</th>\n",
       "      <td>1</td>\n",
       "      <td>0</td>\n",
       "      <td>1</td>\n",
       "      <td>1</td>\n",
       "      <td>0</td>\n",
       "      <td>0</td>\n",
       "      <td>0</td>\n",
       "      <td>1</td>\n",
       "      <td>1</td>\n",
       "      <td>0</td>\n",
       "      <td>...</td>\n",
       "      <td>0</td>\n",
       "      <td>0</td>\n",
       "      <td>0</td>\n",
       "      <td>0</td>\n",
       "      <td>0</td>\n",
       "      <td>0</td>\n",
       "      <td>0.278261</td>\n",
       "      <td>0</td>\n",
       "      <td>1</td>\n",
       "      <td>2020-02-27</td>\n",
       "    </tr>\n",
       "    <tr>\n",
       "      <th>4</th>\n",
       "      <td>1</td>\n",
       "      <td>0</td>\n",
       "      <td>1</td>\n",
       "      <td>1</td>\n",
       "      <td>0</td>\n",
       "      <td>0</td>\n",
       "      <td>0</td>\n",
       "      <td>0</td>\n",
       "      <td>1</td>\n",
       "      <td>0</td>\n",
       "      <td>...</td>\n",
       "      <td>0</td>\n",
       "      <td>0</td>\n",
       "      <td>0</td>\n",
       "      <td>0</td>\n",
       "      <td>0</td>\n",
       "      <td>0</td>\n",
       "      <td>0.260870</td>\n",
       "      <td>1</td>\n",
       "      <td>0</td>\n",
       "      <td>2020-02-27</td>\n",
       "    </tr>\n",
       "    <tr>\n",
       "      <th>...</th>\n",
       "      <td>...</td>\n",
       "      <td>...</td>\n",
       "      <td>...</td>\n",
       "      <td>...</td>\n",
       "      <td>...</td>\n",
       "      <td>...</td>\n",
       "      <td>...</td>\n",
       "      <td>...</td>\n",
       "      <td>...</td>\n",
       "      <td>...</td>\n",
       "      <td>...</td>\n",
       "      <td>...</td>\n",
       "      <td>...</td>\n",
       "      <td>...</td>\n",
       "      <td>...</td>\n",
       "      <td>...</td>\n",
       "      <td>...</td>\n",
       "      <td>...</td>\n",
       "      <td>...</td>\n",
       "      <td>...</td>\n",
       "      <td>...</td>\n",
       "    </tr>\n",
       "    <tr>\n",
       "      <th>36430</th>\n",
       "      <td>1</td>\n",
       "      <td>0</td>\n",
       "      <td>1</td>\n",
       "      <td>1</td>\n",
       "      <td>0</td>\n",
       "      <td>0</td>\n",
       "      <td>0</td>\n",
       "      <td>0</td>\n",
       "      <td>0</td>\n",
       "      <td>0</td>\n",
       "      <td>...</td>\n",
       "      <td>0</td>\n",
       "      <td>0</td>\n",
       "      <td>0</td>\n",
       "      <td>0</td>\n",
       "      <td>0</td>\n",
       "      <td>0</td>\n",
       "      <td>0.000000</td>\n",
       "      <td>1</td>\n",
       "      <td>0</td>\n",
       "      <td>2022-06-12</td>\n",
       "    </tr>\n",
       "    <tr>\n",
       "      <th>36431</th>\n",
       "      <td>1</td>\n",
       "      <td>0</td>\n",
       "      <td>1</td>\n",
       "      <td>0</td>\n",
       "      <td>0</td>\n",
       "      <td>0</td>\n",
       "      <td>0</td>\n",
       "      <td>0</td>\n",
       "      <td>0</td>\n",
       "      <td>0</td>\n",
       "      <td>...</td>\n",
       "      <td>0</td>\n",
       "      <td>0</td>\n",
       "      <td>0</td>\n",
       "      <td>0</td>\n",
       "      <td>0</td>\n",
       "      <td>0</td>\n",
       "      <td>0.556522</td>\n",
       "      <td>0</td>\n",
       "      <td>1</td>\n",
       "      <td>2022-06-12</td>\n",
       "    </tr>\n",
       "    <tr>\n",
       "      <th>36432</th>\n",
       "      <td>1</td>\n",
       "      <td>0</td>\n",
       "      <td>1</td>\n",
       "      <td>0</td>\n",
       "      <td>0</td>\n",
       "      <td>0</td>\n",
       "      <td>0</td>\n",
       "      <td>0</td>\n",
       "      <td>0</td>\n",
       "      <td>0</td>\n",
       "      <td>...</td>\n",
       "      <td>0</td>\n",
       "      <td>0</td>\n",
       "      <td>0</td>\n",
       "      <td>0</td>\n",
       "      <td>0</td>\n",
       "      <td>0</td>\n",
       "      <td>0.573913</td>\n",
       "      <td>1</td>\n",
       "      <td>0</td>\n",
       "      <td>2022-06-12</td>\n",
       "    </tr>\n",
       "    <tr>\n",
       "      <th>36433</th>\n",
       "      <td>1</td>\n",
       "      <td>0</td>\n",
       "      <td>1</td>\n",
       "      <td>0</td>\n",
       "      <td>0</td>\n",
       "      <td>0</td>\n",
       "      <td>0</td>\n",
       "      <td>0</td>\n",
       "      <td>0</td>\n",
       "      <td>0</td>\n",
       "      <td>...</td>\n",
       "      <td>0</td>\n",
       "      <td>0</td>\n",
       "      <td>0</td>\n",
       "      <td>0</td>\n",
       "      <td>0</td>\n",
       "      <td>0</td>\n",
       "      <td>0.000000</td>\n",
       "      <td>0</td>\n",
       "      <td>1</td>\n",
       "      <td>2022-06-13</td>\n",
       "    </tr>\n",
       "    <tr>\n",
       "      <th>36434</th>\n",
       "      <td>1</td>\n",
       "      <td>0</td>\n",
       "      <td>1</td>\n",
       "      <td>0</td>\n",
       "      <td>0</td>\n",
       "      <td>0</td>\n",
       "      <td>0</td>\n",
       "      <td>0</td>\n",
       "      <td>0</td>\n",
       "      <td>0</td>\n",
       "      <td>...</td>\n",
       "      <td>0</td>\n",
       "      <td>0</td>\n",
       "      <td>0</td>\n",
       "      <td>0</td>\n",
       "      <td>0</td>\n",
       "      <td>0</td>\n",
       "      <td>0.556522</td>\n",
       "      <td>0</td>\n",
       "      <td>1</td>\n",
       "      <td>2022-06-13</td>\n",
       "    </tr>\n",
       "  </tbody>\n",
       "</table>\n",
       "<p>36435 rows × 35 columns</p>\n",
       "</div>"
      ],
      "text/plain": [
       "       SYMPTOM_COUGH  SYMPTOM_COLD  SYMPTOM_AIR_INSUFFICIENCY  SYMPTOM_FEVER  \\\n",
       "0                  0             0                          0              1   \n",
       "1                  0             0                          0              1   \n",
       "2                  1             0                          1              1   \n",
       "3                  1             0                          1              1   \n",
       "4                  1             0                          1              1   \n",
       "...              ...           ...                        ...            ...   \n",
       "36430              1             0                          1              1   \n",
       "36431              1             0                          1              0   \n",
       "36432              1             0                          1              0   \n",
       "36433              1             0                          1              0   \n",
       "36434              1             0                          1              0   \n",
       "\n",
       "       SYMPTOM_LOW_OXYGEN_SATURATION  SYMPTOM_BREATHING_CONDITION  \\\n",
       "0                                  0                            0   \n",
       "1                                  0                            0   \n",
       "2                                  0                            0   \n",
       "3                                  0                            0   \n",
       "4                                  0                            0   \n",
       "...                              ...                          ...   \n",
       "36430                              0                            0   \n",
       "36431                              0                            0   \n",
       "36432                              0                            0   \n",
       "36433                              0                            0   \n",
       "36434                              0                            0   \n",
       "\n",
       "       SYMPTOM_TORACIC_APERTURE  SYMPTOM_THROAT_CONDITION  SYMPTOM_HEADACHE  \\\n",
       "0                             0                         1                 0   \n",
       "1                             0                         1                 0   \n",
       "2                             0                         1                 0   \n",
       "3                             0                         1                 1   \n",
       "4                             0                         0                 1   \n",
       "...                         ...                       ...               ...   \n",
       "36430                         0                         0                 0   \n",
       "36431                         0                         0                 0   \n",
       "36432                         0                         0                 0   \n",
       "36433                         0                         0                 0   \n",
       "36434                         0                         0                 0   \n",
       "\n",
       "       SYMPTOM_BODY_PAIN  ...  DISEASE_IMMUNOSUPPRESSION  DISEASE_TABAGIST  \\\n",
       "0                      0  ...                          0                 0   \n",
       "1                      0  ...                          0                 0   \n",
       "2                      0  ...                          0                 0   \n",
       "3                      0  ...                          0                 0   \n",
       "4                      0  ...                          0                 0   \n",
       "...                  ...  ...                        ...               ...   \n",
       "36430                  0  ...                          0                 0   \n",
       "36431                  0  ...                          0                 0   \n",
       "36432                  0  ...                          0                 0   \n",
       "36433                  0  ...                          0                 0   \n",
       "36434                  0  ...                          0                 0   \n",
       "\n",
       "       DISEASE_ETILISM  DISEASE_LIVER  DISEASE_NEUROLOGIC  death     idade  \\\n",
       "0                    0              0                   0      0  0.356522   \n",
       "1                    0              0                   0      0  0.278261   \n",
       "2                    0              0                   0      0  0.217391   \n",
       "3                    0              0                   0      0  0.278261   \n",
       "4                    0              0                   0      0  0.260870   \n",
       "...                ...            ...                 ...    ...       ...   \n",
       "36430                0              0                   0      0  0.000000   \n",
       "36431                0              0                   0      0  0.556522   \n",
       "36432                0              0                   0      0  0.573913   \n",
       "36433                0              0                   0      0  0.000000   \n",
       "36434                0              0                   0      0  0.556522   \n",
       "\n",
       "       sexo_Feminino  sexo_Masculino  data_notificacao  \n",
       "0                  0               1        2020-02-26  \n",
       "1                  0               1        2020-02-26  \n",
       "2                  1               0        2020-02-27  \n",
       "3                  0               1        2020-02-27  \n",
       "4                  1               0        2020-02-27  \n",
       "...              ...             ...               ...  \n",
       "36430              1               0        2022-06-12  \n",
       "36431              0               1        2022-06-12  \n",
       "36432              1               0        2022-06-12  \n",
       "36433              0               1        2022-06-13  \n",
       "36434              0               1        2022-06-13  \n",
       "\n",
       "[36435 rows x 35 columns]"
      ]
     },
     "execution_count": 4,
     "metadata": {},
     "output_type": "execute_result"
    }
   ],
   "source": [
    "Pre_processing_models_df = Pre_processing_models(df)\n",
    "Pre_processing_models_df.run_graves()\n",
    "\n",
    "df = Pre_processing_models_df.df\n",
    "df = df[list_features]\n",
    "df['data_notificacao'] = pd.to_datetime(df['data_notificacao'])\n",
    "df = df.sort_values(by='data_notificacao', ascending=True)\n",
    "df = df.reset_index()\n",
    "df = df.drop(\"index\", axis=1)\n",
    "df"
   ]
  },
  {
   "cell_type": "markdown",
   "metadata": {},
   "source": [
    "### Criação de uma função para configuração do modelo:"
   ]
  },
  {
   "cell_type": "code",
   "execution_count": 5,
   "metadata": {},
   "outputs": [],
   "source": [
    "from sklearn.ensemble import GradientBoostingClassifier\n",
    "\n",
    "\n",
    "def instantiate_GradientBoosting_model (X_train, y_train):\n",
    "\n",
    "    param_grid = {'learning_rate': [0.1, 0.3, 0.5, 0.01],\n",
    "                  'subsample'    : [0.1, 0.2, 0.4, 0.6],\n",
    "                  'n_estimators' : [200, 500, 800],\n",
    "                  'max_depth'    : [4, 6, 8]\n",
    "                 }\n",
    "    \n",
    "    \"\"\"param_grid = {'learning_rate': [0.01,0.02,0.03,0.04],\n",
    "                  'subsample'    : [0.9, 0.5, 0.2, 0.1],\n",
    "                  'n_estimators' : [100,500,1000, 1500],\n",
    "                  'max_depth'    : [4,6,8,10]\n",
    "                 }\"\"\"\n",
    "\n",
    "    # Init classifier\n",
    "    gb_cl = GradientBoostingClassifier()\n",
    "    #gb_cl = GradientBoostingClassifier(max_depth=2, n_estimators=200, learning_rate=0.1)\n",
    "\n",
    "    # prepare the cross-validation procedure\n",
    "    cv = RepeatedKFold(n_splits = 5, n_repeats = 10, random_state = 1)\n",
    "\n",
    "    # Init Grid Search\n",
    "    grid_cv = GridSearchCV(gb_cl, param_grid, n_jobs = -1, cv=5, scoring = \"roc_auc\")\n",
    "\n",
    "    # Fit \n",
    "    grid_cv.fit(X_train, y_train)\n",
    "\n",
    "    mean_test_score = grid_cv.cv_results_['mean_test_score'].mean()\n",
    "    std_test_score = grid_cv.cv_results_['std_test_score'].mean()\n",
    "    best_score = grid_cv.best_score_\n",
    "    best_params = grid_cv.best_params_\n",
    "\n",
    "    #print(f\"mean_test_score: {grid_cv.cv_results_['mean_test_score']}\")\n",
    "    #print(f\"std_test_score: {grid_cv.cv_results_['std_test_score']}\")\n",
    "    #print('')\n",
    "\n",
    "    print('#'*40)\n",
    "    #print(f\"mean_test_score: {grid_cv.cv_results_['mean_test_score'].mean()}\")\n",
    "    #print(f\"std_test_score: {grid_cv.cv_results_['std_test_score'].mean()}\")\n",
    "    print('')\n",
    "    print(f'best_score: {grid_cv.best_score_}')\n",
    "    print(f'best_params_: {grid_cv.best_params_}')\n",
    "    print('#'*40)\n",
    "    print('')\n",
    "\n",
    "    return mean_test_score, std_test_score, best_score, best_params"
   ]
  },
  {
   "cell_type": "code",
   "execution_count": 62,
   "metadata": {},
   "outputs": [
    {
     "data": {
      "text/plain": [
       "3"
      ]
     },
     "execution_count": 62,
     "metadata": {},
     "output_type": "execute_result"
    }
   ],
   "source": [
    "dictest = {5 , 6 , 4 , 7}\n",
    "dictest = list(dictest)\n",
    "\n",
    "dictest.index(max(dictest))"
   ]
  },
  {
   "cell_type": "markdown",
   "metadata": {},
   "source": [
    "### Criação de uma função para aplicação do modelo:"
   ]
  },
  {
   "cell_type": "code",
   "execution_count": 17,
   "metadata": {},
   "outputs": [],
   "source": [
    "def apply_periodos (d, df):\n",
    "    for i in range (0,838,30):\n",
    "    \n",
    "        #treino!\n",
    "        data_inicio = df['data_notificacao'][0] + pd.Timedelta(days = i)\n",
    "        data_fim_treino = data_inicio + pd.Timedelta(days = int(d/2))\n",
    "        data_fim = data_inicio + pd.Timedelta(days = d)\n",
    "        \n",
    "        treino = df[(df['data_notificacao'] >= data_inicio) & (df['data_notificacao'] <= data_fim_treino )]\n",
    "        X_train = treino.drop(labels=['death', 'data_notificacao'], axis=1)\n",
    "        y_train = treino['death']\n",
    "\n",
    "        #teste!\n",
    "        teste = df[(df['data_notificacao'] >= data_fim_treino) & (df['data_notificacao'] <= data_fim )]\n",
    "        X_test = teste.drop(labels=['death', 'data_notificacao'], axis=1)\n",
    "        y_test = teste['death']\n",
    "\n",
    "        oversample = RandomOverSampler(sampling_strategy='minority')\n",
    "        X_over, y_over = oversample.fit_resample(X_train, y_train)\n",
    "\n",
    "        print('Inicio do periodo: ', data_inicio)\n",
    "        print('Final do periodo: ', data_fim)\n",
    "\n",
    "        ####################################################\n",
    "        #              APLICANDO O MODELO                  #\n",
    "        ####################################################\n",
    "\n",
    "        list_random_states = [0, 42]\n",
    "        #list_random_states = [0,12,42,50,54,68,79,81,92,112]\n",
    "\n",
    "        mean_test_scores = []\n",
    "        std_test_scores = []\n",
    "        best_scores = []\n",
    "        best_params = []\n",
    "\n",
    "        for random_state in list_random_states:\n",
    "\n",
    "            mean_test_score, std_test_score, best_score, best_param = instantiate_GradientBoosting_model(X_over, y_over)\n",
    "\n",
    "            mean_test_scores.append(mean_test_score)\n",
    "            std_test_scores.append(std_test_score)\n",
    "            best_scores.append(best_score)\n",
    "            best_params.append(best_param)\n",
    "\n",
    "        idx = best_scores.index(max(best_scores))\n",
    "        best_param = best_params[idx]\n",
    "        \n",
    "        preds, final_cl = create_final_cl(X_over, y_over, X_test, y_test, best_param['max_depth'], best_param['n_estimators'], best_param['learning_rate'], best_param['subsample'])\n",
    "        \n",
    "        plot_conf_matrix (X_test, y_test, preds, final_cl)\n",
    "\n",
    "        plot_roc_curve(y_test, preds)\n",
    "\n",
    "        plot_feature_importance(final_cl, list_features)\n",
    "\n",
    "        \n",
    "        \n"
   ]
  },
  {
   "cell_type": "code",
   "execution_count": 64,
   "metadata": {},
   "outputs": [],
   "source": [
    "best_param = {'learning_rate': 0.01, 'max_depth': 8, 'n_estimators': 800, 'subsample': 0.6}"
   ]
  },
  {
   "cell_type": "code",
   "execution_count": 65,
   "metadata": {},
   "outputs": [
    {
     "data": {
      "text/plain": [
       "0.01"
      ]
     },
     "execution_count": 65,
     "metadata": {},
     "output_type": "execute_result"
    }
   ],
   "source": [
    "best_param['learning_rate']"
   ]
  },
  {
   "cell_type": "code",
   "execution_count": 16,
   "metadata": {},
   "outputs": [],
   "source": [
    "def apply_model_gradientboosting(X_over, y_over):\n",
    "    #list_random_states = [0, 42]\n",
    "    list_random_states = [0,12,42,50,54,68,79,81,92,112]\n",
    "\n",
    "    mean_test_scores = []\n",
    "    std_test_scores = []\n",
    "    best_scores = []\n",
    "    best_params = []\n",
    "\n",
    "    for random_state in list_random_states:\n",
    "\n",
    "        mean_test_score, std_test_score, best_score, best_param = instantiate_GradientBoosting_model(X_over, y_over)\n",
    "\n",
    "        mean_test_scores.append(mean_test_score)\n",
    "        std_test_scores.append(std_test_score)\n",
    "        best_scores.append(best_score)\n",
    "        best_params.append(best_param)\n",
    "\n",
    "    return (mean_test_scores, std_test_scores, best_scores, best_params)"
   ]
  },
  {
   "cell_type": "markdown",
   "metadata": {},
   "source": [
    "### Criação de uma função para imprimir as métricas do classificador final de cada modelo:"
   ]
  },
  {
   "cell_type": "code",
   "execution_count": 8,
   "metadata": {},
   "outputs": [],
   "source": [
    "from sklearn.ensemble import GradientBoostingClassifier\n",
    "\n",
    "def create_final_cl(X_over, y_over, X_test, y_test, max_depth, n_estimators, learning_rate, subsample):\n",
    "\n",
    "    # parametrizando o modelo final\n",
    "    final_cl = GradientBoostingClassifier(max_depth=max_depth, n_estimators=n_estimators, learning_rate=learning_rate, subsample=subsample)\n",
    "    #treinando o modelo final\n",
    "    final_cl.fit(X_over, y_over)\n",
    "    preds = final_cl.predict(X_test)\n",
    "    accuracy_score(y_test, preds)\n",
    "\n",
    "    print('accuracy_score:', accuracy_score(y_test, preds))\n",
    "    print('#'*40)\n",
    "\n",
    "    print('\"\"\"Métricas f1_score:\"\"\"')\n",
    "    print('f1: ', f1_score(y_test, preds))\n",
    "    print('Macro: ', f1_score(y_test, preds, average='macro'))\n",
    "    print('Micro: ', f1_score(y_test, preds, average='micro'))\n",
    "    print('weighted: ', f1_score(y_test, preds, average='weighted'))\n",
    "    print('#'*40)\n",
    "    print('\"\"\"Métricas precision_score:\"\"\"')\n",
    "    print('Precision: ', precision_score(y_test, preds))\n",
    "    print('Macro: ', precision_score(y_test, preds, average='macro'))\n",
    "    print('Micro: ', precision_score(y_test, preds, average='micro'))\n",
    "    print('weighted: ', precision_score(y_test, preds, average='weighted'))\n",
    "\n",
    "    return preds, final_cl"
   ]
  },
  {
   "cell_type": "markdown",
   "metadata": {},
   "source": [
    "### Criação de funções para gerar a matriz de confusão e classification report:"
   ]
  },
  {
   "cell_type": "code",
   "execution_count": 14,
   "metadata": {},
   "outputs": [],
   "source": [
    "def plot_conf_matrix (X_test, y_test, preds, final_cl):\n",
    "\n",
    "    confusion_matrix(y_test, preds)\n",
    "    matrix = plot_confusion_matrix(final_cl, X_test, y_test, cmap=plt.cm.Blues)\n",
    "    plt.show()\n",
    "    print(classification_report(y_test, preds))\n",
    "\n",
    "\n",
    "def plot_roc_curve(y_test, preds):\n",
    "    \n",
    "    print('roc_auc_score: ', roc_auc_score(y_test, preds, multi_class='ovr'))\n",
    "\n",
    "    fpr, tpr, _ = metrics.roc_curve(y_test,  preds)\n",
    "    auc = metrics.roc_auc_score(y_test, preds)\n",
    "    plt.plot(fpr,tpr,label=\"data 1, auc=\"+str(auc))\n",
    "    plt.legend(loc=4)\n",
    "    plt.show()\n",
    "\n",
    "def plot_feature_importance(final_cl, list_features):\n",
    "    # plot feature importance\n",
    "    imp_features = final_cl.feature_importances_\n",
    "    df_imp_features = pd.DataFrame({\"features\":list_features}).join(pd.DataFrame({\"weights\":imp_features}))\n",
    "    df_imp_features = df_imp_features.sort_values(by=['weights'], ascending=False)\n",
    "    df_imp_features.plot(x=\"features\", y=\"weights\", kind=\"bar\", figsize=(8, 4))\n",
    "    plt.show()\n"
   ]
  },
  {
   "cell_type": "code",
   "execution_count": 18,
   "metadata": {},
   "outputs": [
    {
     "name": "stdout",
     "output_type": "stream",
     "text": [
      "Inicio do periodo:  2020-02-26 00:00:00\n",
      "Final do periodo:  2020-05-26 00:00:00\n",
      "########################################\n",
      "\n",
      "best_score: 0.9692856799106895\n",
      "best_params_: {'learning_rate': 0.01, 'max_depth': 8, 'n_estimators': 800, 'subsample': 0.6}\n",
      "########################################\n",
      "\n",
      "########################################\n",
      "\n",
      "best_score: 0.9696366091074202\n",
      "best_params_: {'learning_rate': 0.01, 'max_depth': 8, 'n_estimators': 800, 'subsample': 0.6}\n",
      "########################################\n",
      "\n",
      "accuracy_score: 0.769170579029734\n",
      "########################################\n",
      "\"\"\"Métricas f1_score:\"\"\"\n",
      "f1:  0.5065710872162484\n",
      "Macro:  0.6779590680846691\n",
      "Micro:  0.7691705790297338\n",
      "weighted:  0.7709905944760229\n",
      "########################################\n",
      "\"\"\"Métricas precision_score:\"\"\"\n",
      "Precision:  0.4953271028037383\n",
      "Macro:  0.6753009301852956\n",
      "Micro:  0.769170579029734\n",
      "weighted:  0.7729929607872229\n"
     ]
    },
    {
     "name": "stderr",
     "output_type": "stream",
     "text": [
      "c:\\Users\\maril\\anaconda3\\lib\\site-packages\\sklearn\\utils\\deprecation.py:87: FutureWarning: Function plot_confusion_matrix is deprecated; Function `plot_confusion_matrix` is deprecated in 1.0 and will be removed in 1.2. Use one of the class methods: ConfusionMatrixDisplay.from_predictions or ConfusionMatrixDisplay.from_estimator.\n",
      "  warnings.warn(msg, category=FutureWarning)\n"
     ]
    },
    {
     "data": {
      "image/png": "[encoded data removed]",
      "text/plain": [
       "<Figure size 432x288 with 2 Axes>"
      ]
     },
     "metadata": {
      "needs_background": "light"
     },
     "output_type": "display_data"
    },
    {
     "name": "stdout",
     "output_type": "stream",
     "text": [
      "              precision    recall  f1-score   support\n",
      "\n",
      "           0       0.86      0.84      0.85      6901\n",
      "           1       0.50      0.52      0.51      2045\n",
      "\n",
      "    accuracy                           0.77      8946\n",
      "   macro avg       0.68      0.68      0.68      8946\n",
      "weighted avg       0.77      0.77      0.77      8946\n",
      "\n",
      "roc_auc_score:  0.6809191751027189\n"
     ]
    },
    {
     "data": {
      "image/png": "[encoded data removed]",
      "text/plain": [
       "<Figure size 432x288 with 1 Axes>"
      ]
     },
     "metadata": {
      "needs_background": "light"
     },
     "output_type": "display_data"
    },
    {
     "data": {
      "image/png": "[encoded data removed]",
      "text/plain": [
       "<Figure size 576x288 with 1 Axes>"
      ]
     },
     "metadata": {
      "needs_background": "light"
     },
     "output_type": "display_data"
    },
    {
     "name": "stdout",
     "output_type": "stream",
     "text": [
      "Inicio do periodo:  2020-03-27 00:00:00\n",
      "Final do periodo:  2020-06-25 00:00:00\n",
      "########################################\n",
      "\n",
      "best_score: 0.943188071781347\n",
      "best_params_: {'learning_rate': 0.1, 'max_depth': 8, 'n_estimators': 200, 'subsample': 0.6}\n",
      "########################################\n",
      "\n"
     ]
    },
    {
     "ename": "KeyboardInterrupt",
     "evalue": "",
     "output_type": "error",
     "traceback": [
      "\u001b[1;31m---------------------------------------------------------------------------\u001b[0m",
      "\u001b[1;31mKeyboardInterrupt\u001b[0m                         Traceback (most recent call last)",
      "\u001b[1;32mc:\\Users\\maril\\OneDrive\\Área de Trabalho\\Estudo_dados_de_covid\\Codes\\Teste - Gradient Boosting - Sampling - Copia.ipynb Célula: 19\u001b[0m in \u001b[0;36m<cell line: 1>\u001b[1;34m()\u001b[0m\n\u001b[1;32m----> <a href='vscode-notebook-cell:/c%3A/Users/maril/OneDrive/%C3%81rea%20de%20Trabalho/Estudo_dados_de_covid/Codes/Teste%20-%20Gradient%20Boosting%20-%20Sampling%20-%20Copia.ipynb#X24sZmlsZQ%3D%3D?line=0'>1</a>\u001b[0m apply_periodos(\u001b[39m90\u001b[39;49m, df)\n",
      "\u001b[1;32mc:\\Users\\maril\\OneDrive\\Área de Trabalho\\Estudo_dados_de_covid\\Codes\\Teste - Gradient Boosting - Sampling - Copia.ipynb Célula: 19\u001b[0m in \u001b[0;36mapply_periodos\u001b[1;34m(d, df)\u001b[0m\n\u001b[0;32m     <a href='vscode-notebook-cell:/c%3A/Users/maril/OneDrive/%C3%81rea%20de%20Trabalho/Estudo_dados_de_covid/Codes/Teste%20-%20Gradient%20Boosting%20-%20Sampling%20-%20Copia.ipynb#X24sZmlsZQ%3D%3D?line=33'>34</a>\u001b[0m best_params \u001b[39m=\u001b[39m []\n\u001b[0;32m     <a href='vscode-notebook-cell:/c%3A/Users/maril/OneDrive/%C3%81rea%20de%20Trabalho/Estudo_dados_de_covid/Codes/Teste%20-%20Gradient%20Boosting%20-%20Sampling%20-%20Copia.ipynb#X24sZmlsZQ%3D%3D?line=35'>36</a>\u001b[0m \u001b[39mfor\u001b[39;00m random_state \u001b[39min\u001b[39;00m list_random_states:\n\u001b[1;32m---> <a href='vscode-notebook-cell:/c%3A/Users/maril/OneDrive/%C3%81rea%20de%20Trabalho/Estudo_dados_de_covid/Codes/Teste%20-%20Gradient%20Boosting%20-%20Sampling%20-%20Copia.ipynb#X24sZmlsZQ%3D%3D?line=37'>38</a>\u001b[0m     mean_test_score, std_test_score, best_score, best_param \u001b[39m=\u001b[39m instantiate_GradientBoosting_model(X_over, y_over)\n\u001b[0;32m     <a href='vscode-notebook-cell:/c%3A/Users/maril/OneDrive/%C3%81rea%20de%20Trabalho/Estudo_dados_de_covid/Codes/Teste%20-%20Gradient%20Boosting%20-%20Sampling%20-%20Copia.ipynb#X24sZmlsZQ%3D%3D?line=39'>40</a>\u001b[0m     mean_test_scores\u001b[39m.\u001b[39mappend(mean_test_score)\n\u001b[0;32m     <a href='vscode-notebook-cell:/c%3A/Users/maril/OneDrive/%C3%81rea%20de%20Trabalho/Estudo_dados_de_covid/Codes/Teste%20-%20Gradient%20Boosting%20-%20Sampling%20-%20Copia.ipynb#X24sZmlsZQ%3D%3D?line=40'>41</a>\u001b[0m     std_test_scores\u001b[39m.\u001b[39mappend(std_test_score)\n",
      "\u001b[1;32mc:\\Users\\maril\\OneDrive\\Área de Trabalho\\Estudo_dados_de_covid\\Codes\\Teste - Gradient Boosting - Sampling - Copia.ipynb Célula: 19\u001b[0m in \u001b[0;36minstantiate_GradientBoosting_model\u001b[1;34m(X_train, y_train)\u001b[0m\n\u001b[0;32m     <a href='vscode-notebook-cell:/c%3A/Users/maril/OneDrive/%C3%81rea%20de%20Trabalho/Estudo_dados_de_covid/Codes/Teste%20-%20Gradient%20Boosting%20-%20Sampling%20-%20Copia.ipynb#X24sZmlsZQ%3D%3D?line=25'>26</a>\u001b[0m grid_cv \u001b[39m=\u001b[39m GridSearchCV(gb_cl, param_grid, n_jobs \u001b[39m=\u001b[39m \u001b[39m-\u001b[39m\u001b[39m1\u001b[39m, cv\u001b[39m=\u001b[39m\u001b[39m5\u001b[39m, scoring \u001b[39m=\u001b[39m \u001b[39m\"\u001b[39m\u001b[39mroc_auc\u001b[39m\u001b[39m\"\u001b[39m)\n\u001b[0;32m     <a href='vscode-notebook-cell:/c%3A/Users/maril/OneDrive/%C3%81rea%20de%20Trabalho/Estudo_dados_de_covid/Codes/Teste%20-%20Gradient%20Boosting%20-%20Sampling%20-%20Copia.ipynb#X24sZmlsZQ%3D%3D?line=27'>28</a>\u001b[0m \u001b[39m# Fit \u001b[39;00m\n\u001b[1;32m---> <a href='vscode-notebook-cell:/c%3A/Users/maril/OneDrive/%C3%81rea%20de%20Trabalho/Estudo_dados_de_covid/Codes/Teste%20-%20Gradient%20Boosting%20-%20Sampling%20-%20Copia.ipynb#X24sZmlsZQ%3D%3D?line=28'>29</a>\u001b[0m grid_cv\u001b[39m.\u001b[39;49mfit(X_train, y_train)\n\u001b[0;32m     <a href='vscode-notebook-cell:/c%3A/Users/maril/OneDrive/%C3%81rea%20de%20Trabalho/Estudo_dados_de_covid/Codes/Teste%20-%20Gradient%20Boosting%20-%20Sampling%20-%20Copia.ipynb#X24sZmlsZQ%3D%3D?line=30'>31</a>\u001b[0m mean_test_score \u001b[39m=\u001b[39m grid_cv\u001b[39m.\u001b[39mcv_results_[\u001b[39m'\u001b[39m\u001b[39mmean_test_score\u001b[39m\u001b[39m'\u001b[39m]\u001b[39m.\u001b[39mmean()\n\u001b[0;32m     <a href='vscode-notebook-cell:/c%3A/Users/maril/OneDrive/%C3%81rea%20de%20Trabalho/Estudo_dados_de_covid/Codes/Teste%20-%20Gradient%20Boosting%20-%20Sampling%20-%20Copia.ipynb#X24sZmlsZQ%3D%3D?line=31'>32</a>\u001b[0m std_test_score \u001b[39m=\u001b[39m grid_cv\u001b[39m.\u001b[39mcv_results_[\u001b[39m'\u001b[39m\u001b[39mstd_test_score\u001b[39m\u001b[39m'\u001b[39m]\u001b[39m.\u001b[39mmean()\n",
      "File \u001b[1;32mc:\\Users\\maril\\anaconda3\\lib\\site-packages\\sklearn\\model_selection\\_search.py:875\u001b[0m, in \u001b[0;36mBaseSearchCV.fit\u001b[1;34m(self, X, y, groups, **fit_params)\u001b[0m\n\u001b[0;32m    869\u001b[0m     results \u001b[39m=\u001b[39m \u001b[39mself\u001b[39m\u001b[39m.\u001b[39m_format_results(\n\u001b[0;32m    870\u001b[0m         all_candidate_params, n_splits, all_out, all_more_results\n\u001b[0;32m    871\u001b[0m     )\n\u001b[0;32m    873\u001b[0m     \u001b[39mreturn\u001b[39;00m results\n\u001b[1;32m--> 875\u001b[0m \u001b[39mself\u001b[39;49m\u001b[39m.\u001b[39;49m_run_search(evaluate_candidates)\n\u001b[0;32m    877\u001b[0m \u001b[39m# multimetric is determined here because in the case of a callable\u001b[39;00m\n\u001b[0;32m    878\u001b[0m \u001b[39m# self.scoring the return type is only known after calling\u001b[39;00m\n\u001b[0;32m    879\u001b[0m first_test_score \u001b[39m=\u001b[39m all_out[\u001b[39m0\u001b[39m][\u001b[39m\"\u001b[39m\u001b[39mtest_scores\u001b[39m\u001b[39m\"\u001b[39m]\n",
      "File \u001b[1;32mc:\\Users\\maril\\anaconda3\\lib\\site-packages\\sklearn\\model_selection\\_search.py:1379\u001b[0m, in \u001b[0;36mGridSearchCV._run_search\u001b[1;34m(self, evaluate_candidates)\u001b[0m\n\u001b[0;32m   1377\u001b[0m \u001b[39mdef\u001b[39;00m \u001b[39m_run_search\u001b[39m(\u001b[39mself\u001b[39m, evaluate_candidates):\n\u001b[0;32m   1378\u001b[0m     \u001b[39m\"\"\"Search all candidates in param_grid\"\"\"\u001b[39;00m\n\u001b[1;32m-> 1379\u001b[0m     evaluate_candidates(ParameterGrid(\u001b[39mself\u001b[39;49m\u001b[39m.\u001b[39;49mparam_grid))\n",
      "File \u001b[1;32mc:\\Users\\maril\\anaconda3\\lib\\site-packages\\sklearn\\model_selection\\_search.py:822\u001b[0m, in \u001b[0;36mBaseSearchCV.fit.<locals>.evaluate_candidates\u001b[1;34m(candidate_params, cv, more_results)\u001b[0m\n\u001b[0;32m    814\u001b[0m \u001b[39mif\u001b[39;00m \u001b[39mself\u001b[39m\u001b[39m.\u001b[39mverbose \u001b[39m>\u001b[39m \u001b[39m0\u001b[39m:\n\u001b[0;32m    815\u001b[0m     \u001b[39mprint\u001b[39m(\n\u001b[0;32m    816\u001b[0m         \u001b[39m\"\u001b[39m\u001b[39mFitting \u001b[39m\u001b[39m{0}\u001b[39;00m\u001b[39m folds for each of \u001b[39m\u001b[39m{1}\u001b[39;00m\u001b[39m candidates,\u001b[39m\u001b[39m\"\u001b[39m\n\u001b[0;32m    817\u001b[0m         \u001b[39m\"\u001b[39m\u001b[39m totalling \u001b[39m\u001b[39m{2}\u001b[39;00m\u001b[39m fits\u001b[39m\u001b[39m\"\u001b[39m\u001b[39m.\u001b[39mformat(\n\u001b[0;32m    818\u001b[0m             n_splits, n_candidates, n_candidates \u001b[39m*\u001b[39m n_splits\n\u001b[0;32m    819\u001b[0m         )\n\u001b[0;32m    820\u001b[0m     )\n\u001b[1;32m--> 822\u001b[0m out \u001b[39m=\u001b[39m parallel(\n\u001b[0;32m    823\u001b[0m     delayed(_fit_and_score)(\n\u001b[0;32m    824\u001b[0m         clone(base_estimator),\n\u001b[0;32m    825\u001b[0m         X,\n\u001b[0;32m    826\u001b[0m         y,\n\u001b[0;32m    827\u001b[0m         train\u001b[39m=\u001b[39;49mtrain,\n\u001b[0;32m    828\u001b[0m         test\u001b[39m=\u001b[39;49mtest,\n\u001b[0;32m    829\u001b[0m         parameters\u001b[39m=\u001b[39;49mparameters,\n\u001b[0;32m    830\u001b[0m         split_progress\u001b[39m=\u001b[39;49m(split_idx, n_splits),\n\u001b[0;32m    831\u001b[0m         candidate_progress\u001b[39m=\u001b[39;49m(cand_idx, n_candidates),\n\u001b[0;32m    832\u001b[0m         \u001b[39m*\u001b[39;49m\u001b[39m*\u001b[39;49mfit_and_score_kwargs,\n\u001b[0;32m    833\u001b[0m     )\n\u001b[0;32m    834\u001b[0m     \u001b[39mfor\u001b[39;49;00m (cand_idx, parameters), (split_idx, (train, test)) \u001b[39min\u001b[39;49;00m product(\n\u001b[0;32m    835\u001b[0m         \u001b[39menumerate\u001b[39;49m(candidate_params), \u001b[39menumerate\u001b[39;49m(cv\u001b[39m.\u001b[39;49msplit(X, y, groups))\n\u001b[0;32m    836\u001b[0m     )\n\u001b[0;32m    837\u001b[0m )\n\u001b[0;32m    839\u001b[0m \u001b[39mif\u001b[39;00m \u001b[39mlen\u001b[39m(out) \u001b[39m<\u001b[39m \u001b[39m1\u001b[39m:\n\u001b[0;32m    840\u001b[0m     \u001b[39mraise\u001b[39;00m \u001b[39mValueError\u001b[39;00m(\n\u001b[0;32m    841\u001b[0m         \u001b[39m\"\u001b[39m\u001b[39mNo fits were performed. \u001b[39m\u001b[39m\"\u001b[39m\n\u001b[0;32m    842\u001b[0m         \u001b[39m\"\u001b[39m\u001b[39mWas the CV iterator empty? \u001b[39m\u001b[39m\"\u001b[39m\n\u001b[0;32m    843\u001b[0m         \u001b[39m\"\u001b[39m\u001b[39mWere there no candidates?\u001b[39m\u001b[39m\"\u001b[39m\n\u001b[0;32m    844\u001b[0m     )\n",
      "File \u001b[1;32mc:\\Users\\maril\\anaconda3\\lib\\site-packages\\joblib\\parallel.py:1056\u001b[0m, in \u001b[0;36mParallel.__call__\u001b[1;34m(self, iterable)\u001b[0m\n\u001b[0;32m   1053\u001b[0m     \u001b[39mself\u001b[39m\u001b[39m.\u001b[39m_iterating \u001b[39m=\u001b[39m \u001b[39mFalse\u001b[39;00m\n\u001b[0;32m   1055\u001b[0m \u001b[39mwith\u001b[39;00m \u001b[39mself\u001b[39m\u001b[39m.\u001b[39m_backend\u001b[39m.\u001b[39mretrieval_context():\n\u001b[1;32m-> 1056\u001b[0m     \u001b[39mself\u001b[39;49m\u001b[39m.\u001b[39;49mretrieve()\n\u001b[0;32m   1057\u001b[0m \u001b[39m# Make sure that we get a last message telling us we are done\u001b[39;00m\n\u001b[0;32m   1058\u001b[0m elapsed_time \u001b[39m=\u001b[39m time\u001b[39m.\u001b[39mtime() \u001b[39m-\u001b[39m \u001b[39mself\u001b[39m\u001b[39m.\u001b[39m_start_time\n",
      "File \u001b[1;32mc:\\Users\\maril\\anaconda3\\lib\\site-packages\\joblib\\parallel.py:935\u001b[0m, in \u001b[0;36mParallel.retrieve\u001b[1;34m(self)\u001b[0m\n\u001b[0;32m    933\u001b[0m \u001b[39mtry\u001b[39;00m:\n\u001b[0;32m    934\u001b[0m     \u001b[39mif\u001b[39;00m \u001b[39mgetattr\u001b[39m(\u001b[39mself\u001b[39m\u001b[39m.\u001b[39m_backend, \u001b[39m'\u001b[39m\u001b[39msupports_timeout\u001b[39m\u001b[39m'\u001b[39m, \u001b[39mFalse\u001b[39;00m):\n\u001b[1;32m--> 935\u001b[0m         \u001b[39mself\u001b[39m\u001b[39m.\u001b[39m_output\u001b[39m.\u001b[39mextend(job\u001b[39m.\u001b[39;49mget(timeout\u001b[39m=\u001b[39;49m\u001b[39mself\u001b[39;49m\u001b[39m.\u001b[39;49mtimeout))\n\u001b[0;32m    936\u001b[0m     \u001b[39melse\u001b[39;00m:\n\u001b[0;32m    937\u001b[0m         \u001b[39mself\u001b[39m\u001b[39m.\u001b[39m_output\u001b[39m.\u001b[39mextend(job\u001b[39m.\u001b[39mget())\n",
      "File \u001b[1;32mc:\\Users\\maril\\anaconda3\\lib\\site-packages\\joblib\\_parallel_backends.py:542\u001b[0m, in \u001b[0;36mLokyBackend.wrap_future_result\u001b[1;34m(future, timeout)\u001b[0m\n\u001b[0;32m    539\u001b[0m \u001b[39m\"\"\"Wrapper for Future.result to implement the same behaviour as\u001b[39;00m\n\u001b[0;32m    540\u001b[0m \u001b[39mAsyncResults.get from multiprocessing.\"\"\"\u001b[39;00m\n\u001b[0;32m    541\u001b[0m \u001b[39mtry\u001b[39;00m:\n\u001b[1;32m--> 542\u001b[0m     \u001b[39mreturn\u001b[39;00m future\u001b[39m.\u001b[39;49mresult(timeout\u001b[39m=\u001b[39;49mtimeout)\n\u001b[0;32m    543\u001b[0m \u001b[39mexcept\u001b[39;00m CfTimeoutError \u001b[39mas\u001b[39;00m e:\n\u001b[0;32m    544\u001b[0m     \u001b[39mraise\u001b[39;00m \u001b[39mTimeoutError\u001b[39;00m \u001b[39mfrom\u001b[39;00m \u001b[39me\u001b[39;00m\n",
      "File \u001b[1;32mc:\\Users\\maril\\anaconda3\\lib\\concurrent\\futures\\_base.py:441\u001b[0m, in \u001b[0;36mFuture.result\u001b[1;34m(self, timeout)\u001b[0m\n\u001b[0;32m    438\u001b[0m \u001b[39melif\u001b[39;00m \u001b[39mself\u001b[39m\u001b[39m.\u001b[39m_state \u001b[39m==\u001b[39m FINISHED:\n\u001b[0;32m    439\u001b[0m     \u001b[39mreturn\u001b[39;00m \u001b[39mself\u001b[39m\u001b[39m.\u001b[39m__get_result()\n\u001b[1;32m--> 441\u001b[0m \u001b[39mself\u001b[39;49m\u001b[39m.\u001b[39;49m_condition\u001b[39m.\u001b[39;49mwait(timeout)\n\u001b[0;32m    443\u001b[0m \u001b[39mif\u001b[39;00m \u001b[39mself\u001b[39m\u001b[39m.\u001b[39m_state \u001b[39min\u001b[39;00m [CANCELLED, CANCELLED_AND_NOTIFIED]:\n\u001b[0;32m    444\u001b[0m     \u001b[39mraise\u001b[39;00m CancelledError()\n",
      "File \u001b[1;32mc:\\Users\\maril\\anaconda3\\lib\\threading.py:312\u001b[0m, in \u001b[0;36mCondition.wait\u001b[1;34m(self, timeout)\u001b[0m\n\u001b[0;32m    310\u001b[0m \u001b[39mtry\u001b[39;00m:    \u001b[39m# restore state no matter what (e.g., KeyboardInterrupt)\u001b[39;00m\n\u001b[0;32m    311\u001b[0m     \u001b[39mif\u001b[39;00m timeout \u001b[39mis\u001b[39;00m \u001b[39mNone\u001b[39;00m:\n\u001b[1;32m--> 312\u001b[0m         waiter\u001b[39m.\u001b[39;49macquire()\n\u001b[0;32m    313\u001b[0m         gotit \u001b[39m=\u001b[39m \u001b[39mTrue\u001b[39;00m\n\u001b[0;32m    314\u001b[0m     \u001b[39melse\u001b[39;00m:\n",
      "\u001b[1;31mKeyboardInterrupt\u001b[0m: "
     ]
    }
   ],
   "source": [
    "apply_periodos(90, df)"
   ]
  },
  {
   "cell_type": "markdown",
   "metadata": {},
   "source": [
    "### Teste com o Período 1 (26/02/2020 até 25/05/2020):"
   ]
  },
  {
   "cell_type": "code",
   "execution_count": null,
   "metadata": {},
   "outputs": [
    {
     "data": {
      "text/html": [
       "<div>\n",
       "<style scoped>\n",
       "    .dataframe tbody tr th:only-of-type {\n",
       "        vertical-align: middle;\n",
       "    }\n",
       "\n",
       "    .dataframe tbody tr th {\n",
       "        vertical-align: top;\n",
       "    }\n",
       "\n",
       "    .dataframe thead th {\n",
       "        text-align: right;\n",
       "    }\n",
       "</style>\n",
       "<table border=\"1\" class=\"dataframe\">\n",
       "  <thead>\n",
       "    <tr style=\"text-align: right;\">\n",
       "      <th></th>\n",
       "      <th>SYMPTOM_COUGH</th>\n",
       "      <th>SYMPTOM_COLD</th>\n",
       "      <th>SYMPTOM_AIR_INSUFFICIENCY</th>\n",
       "      <th>SYMPTOM_FEVER</th>\n",
       "      <th>SYMPTOM_LOW_OXYGEN_SATURATION</th>\n",
       "      <th>SYMPTOM_BREATHING_CONDITION</th>\n",
       "      <th>SYMPTOM_TORACIC_APERTURE</th>\n",
       "      <th>SYMPTOM_THROAT_CONDITION</th>\n",
       "      <th>SYMPTOM_HEADACHE</th>\n",
       "      <th>SYMPTOM_BODY_PAIN</th>\n",
       "      <th>...</th>\n",
       "      <th>DISEASE_IMMUNOSUPPRESSION</th>\n",
       "      <th>DISEASE_TABAGIST</th>\n",
       "      <th>DISEASE_ETILISM</th>\n",
       "      <th>DISEASE_LIVER</th>\n",
       "      <th>DISEASE_NEUROLOGIC</th>\n",
       "      <th>death</th>\n",
       "      <th>idade</th>\n",
       "      <th>sexo_Feminino</th>\n",
       "      <th>sexo_Masculino</th>\n",
       "      <th>data_notificacao</th>\n",
       "    </tr>\n",
       "  </thead>\n",
       "  <tbody>\n",
       "    <tr>\n",
       "      <th>0</th>\n",
       "      <td>0</td>\n",
       "      <td>0</td>\n",
       "      <td>0</td>\n",
       "      <td>1</td>\n",
       "      <td>0</td>\n",
       "      <td>0</td>\n",
       "      <td>0</td>\n",
       "      <td>1</td>\n",
       "      <td>0</td>\n",
       "      <td>0</td>\n",
       "      <td>...</td>\n",
       "      <td>0</td>\n",
       "      <td>0</td>\n",
       "      <td>0</td>\n",
       "      <td>0</td>\n",
       "      <td>0</td>\n",
       "      <td>0</td>\n",
       "      <td>0.356522</td>\n",
       "      <td>0</td>\n",
       "      <td>1</td>\n",
       "      <td>2020-02-26</td>\n",
       "    </tr>\n",
       "    <tr>\n",
       "      <th>1</th>\n",
       "      <td>0</td>\n",
       "      <td>0</td>\n",
       "      <td>0</td>\n",
       "      <td>1</td>\n",
       "      <td>0</td>\n",
       "      <td>0</td>\n",
       "      <td>0</td>\n",
       "      <td>1</td>\n",
       "      <td>0</td>\n",
       "      <td>0</td>\n",
       "      <td>...</td>\n",
       "      <td>0</td>\n",
       "      <td>0</td>\n",
       "      <td>0</td>\n",
       "      <td>0</td>\n",
       "      <td>0</td>\n",
       "      <td>0</td>\n",
       "      <td>0.278261</td>\n",
       "      <td>0</td>\n",
       "      <td>1</td>\n",
       "      <td>2020-02-26</td>\n",
       "    </tr>\n",
       "    <tr>\n",
       "      <th>2</th>\n",
       "      <td>1</td>\n",
       "      <td>0</td>\n",
       "      <td>1</td>\n",
       "      <td>1</td>\n",
       "      <td>0</td>\n",
       "      <td>0</td>\n",
       "      <td>0</td>\n",
       "      <td>1</td>\n",
       "      <td>0</td>\n",
       "      <td>0</td>\n",
       "      <td>...</td>\n",
       "      <td>0</td>\n",
       "      <td>0</td>\n",
       "      <td>0</td>\n",
       "      <td>0</td>\n",
       "      <td>0</td>\n",
       "      <td>0</td>\n",
       "      <td>0.217391</td>\n",
       "      <td>1</td>\n",
       "      <td>0</td>\n",
       "      <td>2020-02-27</td>\n",
       "    </tr>\n",
       "    <tr>\n",
       "      <th>3</th>\n",
       "      <td>1</td>\n",
       "      <td>0</td>\n",
       "      <td>1</td>\n",
       "      <td>1</td>\n",
       "      <td>0</td>\n",
       "      <td>0</td>\n",
       "      <td>0</td>\n",
       "      <td>1</td>\n",
       "      <td>1</td>\n",
       "      <td>0</td>\n",
       "      <td>...</td>\n",
       "      <td>0</td>\n",
       "      <td>0</td>\n",
       "      <td>0</td>\n",
       "      <td>0</td>\n",
       "      <td>0</td>\n",
       "      <td>0</td>\n",
       "      <td>0.278261</td>\n",
       "      <td>0</td>\n",
       "      <td>1</td>\n",
       "      <td>2020-02-27</td>\n",
       "    </tr>\n",
       "    <tr>\n",
       "      <th>4</th>\n",
       "      <td>1</td>\n",
       "      <td>0</td>\n",
       "      <td>1</td>\n",
       "      <td>1</td>\n",
       "      <td>0</td>\n",
       "      <td>0</td>\n",
       "      <td>0</td>\n",
       "      <td>0</td>\n",
       "      <td>1</td>\n",
       "      <td>0</td>\n",
       "      <td>...</td>\n",
       "      <td>0</td>\n",
       "      <td>0</td>\n",
       "      <td>0</td>\n",
       "      <td>0</td>\n",
       "      <td>0</td>\n",
       "      <td>0</td>\n",
       "      <td>0.260870</td>\n",
       "      <td>1</td>\n",
       "      <td>0</td>\n",
       "      <td>2020-02-27</td>\n",
       "    </tr>\n",
       "    <tr>\n",
       "      <th>...</th>\n",
       "      <td>...</td>\n",
       "      <td>...</td>\n",
       "      <td>...</td>\n",
       "      <td>...</td>\n",
       "      <td>...</td>\n",
       "      <td>...</td>\n",
       "      <td>...</td>\n",
       "      <td>...</td>\n",
       "      <td>...</td>\n",
       "      <td>...</td>\n",
       "      <td>...</td>\n",
       "      <td>...</td>\n",
       "      <td>...</td>\n",
       "      <td>...</td>\n",
       "      <td>...</td>\n",
       "      <td>...</td>\n",
       "      <td>...</td>\n",
       "      <td>...</td>\n",
       "      <td>...</td>\n",
       "      <td>...</td>\n",
       "      <td>...</td>\n",
       "    </tr>\n",
       "    <tr>\n",
       "      <th>10818</th>\n",
       "      <td>0</td>\n",
       "      <td>0</td>\n",
       "      <td>0</td>\n",
       "      <td>0</td>\n",
       "      <td>0</td>\n",
       "      <td>0</td>\n",
       "      <td>0</td>\n",
       "      <td>0</td>\n",
       "      <td>0</td>\n",
       "      <td>0</td>\n",
       "      <td>...</td>\n",
       "      <td>0</td>\n",
       "      <td>0</td>\n",
       "      <td>0</td>\n",
       "      <td>0</td>\n",
       "      <td>0</td>\n",
       "      <td>1</td>\n",
       "      <td>0.400000</td>\n",
       "      <td>0</td>\n",
       "      <td>1</td>\n",
       "      <td>2020-05-25</td>\n",
       "    </tr>\n",
       "    <tr>\n",
       "      <th>10819</th>\n",
       "      <td>0</td>\n",
       "      <td>0</td>\n",
       "      <td>1</td>\n",
       "      <td>1</td>\n",
       "      <td>0</td>\n",
       "      <td>0</td>\n",
       "      <td>0</td>\n",
       "      <td>0</td>\n",
       "      <td>0</td>\n",
       "      <td>0</td>\n",
       "      <td>...</td>\n",
       "      <td>0</td>\n",
       "      <td>0</td>\n",
       "      <td>0</td>\n",
       "      <td>0</td>\n",
       "      <td>0</td>\n",
       "      <td>1</td>\n",
       "      <td>0.626087</td>\n",
       "      <td>0</td>\n",
       "      <td>1</td>\n",
       "      <td>2020-05-25</td>\n",
       "    </tr>\n",
       "    <tr>\n",
       "      <th>10820</th>\n",
       "      <td>1</td>\n",
       "      <td>0</td>\n",
       "      <td>1</td>\n",
       "      <td>0</td>\n",
       "      <td>0</td>\n",
       "      <td>0</td>\n",
       "      <td>0</td>\n",
       "      <td>0</td>\n",
       "      <td>0</td>\n",
       "      <td>0</td>\n",
       "      <td>...</td>\n",
       "      <td>0</td>\n",
       "      <td>0</td>\n",
       "      <td>0</td>\n",
       "      <td>0</td>\n",
       "      <td>0</td>\n",
       "      <td>0</td>\n",
       "      <td>0.704348</td>\n",
       "      <td>1</td>\n",
       "      <td>0</td>\n",
       "      <td>2020-05-25</td>\n",
       "    </tr>\n",
       "    <tr>\n",
       "      <th>10821</th>\n",
       "      <td>1</td>\n",
       "      <td>0</td>\n",
       "      <td>1</td>\n",
       "      <td>1</td>\n",
       "      <td>0</td>\n",
       "      <td>0</td>\n",
       "      <td>0</td>\n",
       "      <td>1</td>\n",
       "      <td>0</td>\n",
       "      <td>0</td>\n",
       "      <td>...</td>\n",
       "      <td>0</td>\n",
       "      <td>0</td>\n",
       "      <td>0</td>\n",
       "      <td>0</td>\n",
       "      <td>0</td>\n",
       "      <td>1</td>\n",
       "      <td>0.782609</td>\n",
       "      <td>0</td>\n",
       "      <td>1</td>\n",
       "      <td>2020-05-25</td>\n",
       "    </tr>\n",
       "    <tr>\n",
       "      <th>10822</th>\n",
       "      <td>0</td>\n",
       "      <td>0</td>\n",
       "      <td>1</td>\n",
       "      <td>0</td>\n",
       "      <td>0</td>\n",
       "      <td>0</td>\n",
       "      <td>0</td>\n",
       "      <td>0</td>\n",
       "      <td>0</td>\n",
       "      <td>0</td>\n",
       "      <td>...</td>\n",
       "      <td>0</td>\n",
       "      <td>0</td>\n",
       "      <td>0</td>\n",
       "      <td>0</td>\n",
       "      <td>0</td>\n",
       "      <td>0</td>\n",
       "      <td>0.217391</td>\n",
       "      <td>0</td>\n",
       "      <td>1</td>\n",
       "      <td>2020-05-25</td>\n",
       "    </tr>\n",
       "  </tbody>\n",
       "</table>\n",
       "<p>10823 rows × 35 columns</p>\n",
       "</div>"
      ],
      "text/plain": [
       "       SYMPTOM_COUGH  SYMPTOM_COLD  SYMPTOM_AIR_INSUFFICIENCY  SYMPTOM_FEVER  \\\n",
       "0                  0             0                          0              1   \n",
       "1                  0             0                          0              1   \n",
       "2                  1             0                          1              1   \n",
       "3                  1             0                          1              1   \n",
       "4                  1             0                          1              1   \n",
       "...              ...           ...                        ...            ...   \n",
       "10818              0             0                          0              0   \n",
       "10819              0             0                          1              1   \n",
       "10820              1             0                          1              0   \n",
       "10821              1             0                          1              1   \n",
       "10822              0             0                          1              0   \n",
       "\n",
       "       SYMPTOM_LOW_OXYGEN_SATURATION  SYMPTOM_BREATHING_CONDITION  \\\n",
       "0                                  0                            0   \n",
       "1                                  0                            0   \n",
       "2                                  0                            0   \n",
       "3                                  0                            0   \n",
       "4                                  0                            0   \n",
       "...                              ...                          ...   \n",
       "10818                              0                            0   \n",
       "10819                              0                            0   \n",
       "10820                              0                            0   \n",
       "10821                              0                            0   \n",
       "10822                              0                            0   \n",
       "\n",
       "       SYMPTOM_TORACIC_APERTURE  SYMPTOM_THROAT_CONDITION  SYMPTOM_HEADACHE  \\\n",
       "0                             0                         1                 0   \n",
       "1                             0                         1                 0   \n",
       "2                             0                         1                 0   \n",
       "3                             0                         1                 1   \n",
       "4                             0                         0                 1   \n",
       "...                         ...                       ...               ...   \n",
       "10818                         0                         0                 0   \n",
       "10819                         0                         0                 0   \n",
       "10820                         0                         0                 0   \n",
       "10821                         0                         1                 0   \n",
       "10822                         0                         0                 0   \n",
       "\n",
       "       SYMPTOM_BODY_PAIN  ...  DISEASE_IMMUNOSUPPRESSION  DISEASE_TABAGIST  \\\n",
       "0                      0  ...                          0                 0   \n",
       "1                      0  ...                          0                 0   \n",
       "2                      0  ...                          0                 0   \n",
       "3                      0  ...                          0                 0   \n",
       "4                      0  ...                          0                 0   \n",
       "...                  ...  ...                        ...               ...   \n",
       "10818                  0  ...                          0                 0   \n",
       "10819                  0  ...                          0                 0   \n",
       "10820                  0  ...                          0                 0   \n",
       "10821                  0  ...                          0                 0   \n",
       "10822                  0  ...                          0                 0   \n",
       "\n",
       "       DISEASE_ETILISM  DISEASE_LIVER  DISEASE_NEUROLOGIC  death     idade  \\\n",
       "0                    0              0                   0      0  0.356522   \n",
       "1                    0              0                   0      0  0.278261   \n",
       "2                    0              0                   0      0  0.217391   \n",
       "3                    0              0                   0      0  0.278261   \n",
       "4                    0              0                   0      0  0.260870   \n",
       "...                ...            ...                 ...    ...       ...   \n",
       "10818                0              0                   0      1  0.400000   \n",
       "10819                0              0                   0      1  0.626087   \n",
       "10820                0              0                   0      0  0.704348   \n",
       "10821                0              0                   0      1  0.782609   \n",
       "10822                0              0                   0      0  0.217391   \n",
       "\n",
       "       sexo_Feminino  sexo_Masculino  data_notificacao  \n",
       "0                  0               1        2020-02-26  \n",
       "1                  0               1        2020-02-26  \n",
       "2                  1               0        2020-02-27  \n",
       "3                  0               1        2020-02-27  \n",
       "4                  1               0        2020-02-27  \n",
       "...              ...             ...               ...  \n",
       "10818              0               1        2020-05-25  \n",
       "10819              0               1        2020-05-25  \n",
       "10820              1               0        2020-05-25  \n",
       "10821              0               1        2020-05-25  \n",
       "10822              0               1        2020-05-25  \n",
       "\n",
       "[10823 rows x 35 columns]"
      ]
     },
     "execution_count": 9,
     "metadata": {},
     "output_type": "execute_result"
    }
   ],
   "source": [
    "#Periodo 1\n",
    "data_inicio = df['data_notificacao'][0]\n",
    "data_fim = df['data_notificacao'][0]+pd.Timedelta(days=90)\n",
    "\n",
    "df_1 = df[(df['data_notificacao'] >= data_inicio) & (df['data_notificacao'] < data_fim)]\n",
    "df_1"
   ]
  },
  {
   "cell_type": "code",
   "execution_count": null,
   "metadata": {},
   "outputs": [
    {
     "name": "stdout",
     "output_type": "stream",
     "text": [
      "########################################\n",
      "\n",
      "best_score: 0.9701499357098052\n",
      "best_params_: {'learning_rate': 0.01, 'max_depth': 8, 'n_estimators': 800, 'subsample': 0.6}\n",
      "########################################\n",
      "\n",
      "########################################\n",
      "\n",
      "best_score: 0.9695414720110633\n",
      "best_params_: {'learning_rate': 0.01, 'max_depth': 8, 'n_estimators': 800, 'subsample': 0.6}\n",
      "########################################\n",
      "\n",
      "########################################\n",
      "\n",
      "best_score: 0.9702475790452059\n",
      "best_params_: {'learning_rate': 0.01, 'max_depth': 8, 'n_estimators': 800, 'subsample': 0.6}\n",
      "########################################\n",
      "\n",
      "########################################\n",
      "\n",
      "best_score: 0.9699865384311515\n",
      "best_params_: {'learning_rate': 0.01, 'max_depth': 8, 'n_estimators': 800, 'subsample': 0.6}\n",
      "########################################\n",
      "\n",
      "########################################\n",
      "\n",
      "best_score: 0.9702760114993918\n",
      "best_params_: {'learning_rate': 0.01, 'max_depth': 8, 'n_estimators': 800, 'subsample': 0.6}\n",
      "########################################\n",
      "\n",
      "########################################\n",
      "\n",
      "best_score: 0.9697887848605721\n",
      "best_params_: {'learning_rate': 0.01, 'max_depth': 8, 'n_estimators': 800, 'subsample': 0.6}\n",
      "########################################\n",
      "\n",
      "########################################\n",
      "\n",
      "best_score: 0.969988010375338\n",
      "best_params_: {'learning_rate': 0.01, 'max_depth': 8, 'n_estimators': 800, 'subsample': 0.6}\n",
      "########################################\n",
      "\n",
      "########################################\n",
      "\n",
      "best_score: 0.9702321891966903\n",
      "best_params_: {'learning_rate': 0.01, 'max_depth': 8, 'n_estimators': 800, 'subsample': 0.6}\n",
      "########################################\n",
      "\n",
      "########################################\n",
      "\n",
      "best_score: 0.9698676797576595\n",
      "best_params_: {'learning_rate': 0.01, 'max_depth': 8, 'n_estimators': 800, 'subsample': 0.6}\n",
      "########################################\n",
      "\n",
      "########################################\n",
      "\n",
      "best_score: 0.9697011894292509\n",
      "best_params_: {'learning_rate': 0.01, 'max_depth': 8, 'n_estimators': 800, 'subsample': 0.6}\n",
      "########################################\n",
      "\n"
     ]
    }
   ],
   "source": [
    "X_train_oversampled_1, y_train_oversampled_1, X_test_1, y_test_1, mean_test_scores_1, std_test_scores_1, best_scores_1, best_params_1 = apply_model_gradientboosting(df_1)"
   ]
  },
  {
   "cell_type": "code",
   "execution_count": null,
   "metadata": {},
   "outputs": [
    {
     "name": "stdout",
     "output_type": "stream",
     "text": [
      "accuracy_score: 0.7669373549883991\n",
      "########################################\n",
      "\"\"\"Métricas f1_score:\"\"\"\n",
      "f1:  0.4986274020464188\n",
      "Macro:  0.6734049879573891\n",
      "Micro:  0.7669373549883991\n",
      "weighted:  0.7678497669798137\n",
      "########################################\n",
      "\"\"\"Métricas precision_score:\"\"\"\n",
      "Precision:  0.4930898321816387\n",
      "Macro:  0.6720832843043468\n",
      "Micro:  0.7669373549883991\n",
      "weighted:  0.768806196135852\n"
     ]
    }
   ],
   "source": [
    "preds_1, final_cl_1 = create_final_cl(X_train_oversampled_1, y_train_oversampled_1, X_test_1, y_test_1, 8, 800, 0.01, 0.6)"
   ]
  },
  {
   "cell_type": "code",
   "execution_count": null,
   "metadata": {},
   "outputs": [
    {
     "name": "stderr",
     "output_type": "stream",
     "text": [
      "c:\\Users\\maril\\anaconda3\\lib\\site-packages\\sklearn\\utils\\deprecation.py:87: FutureWarning: Function plot_confusion_matrix is deprecated; Function `plot_confusion_matrix` is deprecated in 1.0 and will be removed in 1.2. Use one of the class methods: ConfusionMatrixDisplay.from_predictions or ConfusionMatrixDisplay.from_estimator.\n",
      "  warnings.warn(msg, category=FutureWarning)\n"
     ]
    },
    {
     "data": {
      "image/png": "[encoded data removed]",
      "text/plain": [
       "<Figure size 432x288 with 2 Axes>"
      ]
     },
     "metadata": {
      "needs_background": "light"
     },
     "output_type": "display_data"
    },
    {
     "name": "stdout",
     "output_type": "stream",
     "text": [
      "              precision    recall  f1-score   support\n",
      "\n",
      "           0       0.85      0.85      0.85      6639\n",
      "           1       0.49      0.50      0.50      1981\n",
      "\n",
      "    accuracy                           0.77      8620\n",
      "   macro avg       0.67      0.67      0.67      8620\n",
      "weighted avg       0.77      0.77      0.77      8620\n",
      "\n",
      "roc_auc_score:  0.674799395279405\n"
     ]
    },
    {
     "data": {
      "image/png": "[encoded data removed]",
      "text/plain": [
       "<Figure size 432x288 with 1 Axes>"
      ]
     },
     "metadata": {
      "needs_background": "light"
     },
     "output_type": "display_data"
    }
   ],
   "source": [
    "plot_conf_matrix (X_test_1, y_test_1, preds_1, final_cl_1)\n",
    "\n",
    "plot_roc_curve(y_test_1, preds_1)"
   ]
  },
  {
   "cell_type": "markdown",
   "metadata": {},
   "source": [
    "### Definição dos atributos mais importantes:"
   ]
  },
  {
   "cell_type": "code",
   "execution_count": null,
   "metadata": {},
   "outputs": [],
   "source": [
    "features=[]\n",
    "for columns in list_features:\n",
    "    features.append(columns)"
   ]
  },
  {
   "cell_type": "code",
   "execution_count": null,
   "metadata": {},
   "outputs": [
    {
     "data": {
      "text/html": [
       "<div>\n",
       "<style scoped>\n",
       "    .dataframe tbody tr th:only-of-type {\n",
       "        vertical-align: middle;\n",
       "    }\n",
       "\n",
       "    .dataframe tbody tr th {\n",
       "        vertical-align: top;\n",
       "    }\n",
       "\n",
       "    .dataframe thead th {\n",
       "        text-align: right;\n",
       "    }\n",
       "</style>\n",
       "<table border=\"1\" class=\"dataframe\">\n",
       "  <thead>\n",
       "    <tr style=\"text-align: right;\">\n",
       "      <th></th>\n",
       "      <th>features</th>\n",
       "      <th>weights</th>\n",
       "    </tr>\n",
       "  </thead>\n",
       "  <tbody>\n",
       "    <tr>\n",
       "      <th>30</th>\n",
       "      <td>death</td>\n",
       "      <td>6.705317e-01</td>\n",
       "    </tr>\n",
       "    <tr>\n",
       "      <th>2</th>\n",
       "      <td>SYMPTOM_AIR_INSUFFICIENCY</td>\n",
       "      <td>8.767830e-02</td>\n",
       "    </tr>\n",
       "    <tr>\n",
       "      <th>3</th>\n",
       "      <td>SYMPTOM_FEVER</td>\n",
       "      <td>4.304380e-02</td>\n",
       "    </tr>\n",
       "    <tr>\n",
       "      <th>0</th>\n",
       "      <td>SYMPTOM_COUGH</td>\n",
       "      <td>3.943061e-02</td>\n",
       "    </tr>\n",
       "    <tr>\n",
       "      <th>20</th>\n",
       "      <td>DISEASE_DIABETES</td>\n",
       "      <td>3.511399e-02</td>\n",
       "    </tr>\n",
       "    <tr>\n",
       "      <th>7</th>\n",
       "      <td>SYMPTOM_THROAT_CONDITION</td>\n",
       "      <td>2.919697e-02</td>\n",
       "    </tr>\n",
       "    <tr>\n",
       "      <th>32</th>\n",
       "      <td>sexo_Feminino</td>\n",
       "      <td>2.612016e-02</td>\n",
       "    </tr>\n",
       "    <tr>\n",
       "      <th>31</th>\n",
       "      <td>idade</td>\n",
       "      <td>2.582507e-02</td>\n",
       "    </tr>\n",
       "    <tr>\n",
       "      <th>11</th>\n",
       "      <td>SYMPTOM_RUNNY_NOSE</td>\n",
       "      <td>1.076062e-02</td>\n",
       "    </tr>\n",
       "    <tr>\n",
       "      <th>10</th>\n",
       "      <td>SYMPTOM_DIARRHEA</td>\n",
       "      <td>9.362402e-03</td>\n",
       "    </tr>\n",
       "    <tr>\n",
       "      <th>23</th>\n",
       "      <td>DISEASE_OBESITY</td>\n",
       "      <td>6.695197e-03</td>\n",
       "    </tr>\n",
       "    <tr>\n",
       "      <th>8</th>\n",
       "      <td>SYMPTOM_HEADACHE</td>\n",
       "      <td>4.852751e-03</td>\n",
       "    </tr>\n",
       "    <tr>\n",
       "      <th>13</th>\n",
       "      <td>SYMPTOM_WEAKNESS</td>\n",
       "      <td>3.733746e-03</td>\n",
       "    </tr>\n",
       "    <tr>\n",
       "      <th>9</th>\n",
       "      <td>SYMPTOM_BODY_PAIN</td>\n",
       "      <td>2.273787e-03</td>\n",
       "    </tr>\n",
       "    <tr>\n",
       "      <th>21</th>\n",
       "      <td>DISEASE_HYPERTENSION</td>\n",
       "      <td>2.270373e-03</td>\n",
       "    </tr>\n",
       "    <tr>\n",
       "      <th>27</th>\n",
       "      <td>DISEASE_ETILISM</td>\n",
       "      <td>1.355709e-03</td>\n",
       "    </tr>\n",
       "    <tr>\n",
       "      <th>29</th>\n",
       "      <td>DISEASE_NEUROLOGIC</td>\n",
       "      <td>1.307956e-03</td>\n",
       "    </tr>\n",
       "    <tr>\n",
       "      <th>22</th>\n",
       "      <td>DISEASE_RESPIRATORY</td>\n",
       "      <td>4.406968e-04</td>\n",
       "    </tr>\n",
       "    <tr>\n",
       "      <th>26</th>\n",
       "      <td>DISEASE_TABAGIST</td>\n",
       "      <td>5.687462e-06</td>\n",
       "    </tr>\n",
       "    <tr>\n",
       "      <th>18</th>\n",
       "      <td>SYMPTOM_CONSCIOUSNESS_DEGRADATION</td>\n",
       "      <td>2.752945e-07</td>\n",
       "    </tr>\n",
       "    <tr>\n",
       "      <th>16</th>\n",
       "      <td>SYMPTOM_LACK_OF_APPETITE</td>\n",
       "      <td>1.604469e-07</td>\n",
       "    </tr>\n",
       "    <tr>\n",
       "      <th>15</th>\n",
       "      <td>SYMPTOM_NAUSEA</td>\n",
       "      <td>7.402762e-09</td>\n",
       "    </tr>\n",
       "    <tr>\n",
       "      <th>17</th>\n",
       "      <td>SYMPTOM_ABDOMINAL_PAIN</td>\n",
       "      <td>2.249817e-12</td>\n",
       "    </tr>\n",
       "    <tr>\n",
       "      <th>28</th>\n",
       "      <td>DISEASE_LIVER</td>\n",
       "      <td>0.000000e+00</td>\n",
       "    </tr>\n",
       "    <tr>\n",
       "      <th>4</th>\n",
       "      <td>SYMPTOM_LOW_OXYGEN_SATURATION</td>\n",
       "      <td>0.000000e+00</td>\n",
       "    </tr>\n",
       "    <tr>\n",
       "      <th>6</th>\n",
       "      <td>SYMPTOM_TORACIC_APERTURE</td>\n",
       "      <td>0.000000e+00</td>\n",
       "    </tr>\n",
       "    <tr>\n",
       "      <th>25</th>\n",
       "      <td>DISEASE_IMMUNOSUPPRESSION</td>\n",
       "      <td>0.000000e+00</td>\n",
       "    </tr>\n",
       "    <tr>\n",
       "      <th>24</th>\n",
       "      <td>DISEASE_KIDNEY</td>\n",
       "      <td>0.000000e+00</td>\n",
       "    </tr>\n",
       "    <tr>\n",
       "      <th>19</th>\n",
       "      <td>DISEASE_HEART_OR_VASCULAR</td>\n",
       "      <td>0.000000e+00</td>\n",
       "    </tr>\n",
       "    <tr>\n",
       "      <th>1</th>\n",
       "      <td>SYMPTOM_COLD</td>\n",
       "      <td>0.000000e+00</td>\n",
       "    </tr>\n",
       "    <tr>\n",
       "      <th>14</th>\n",
       "      <td>SYMPTOM_ANOSMIA_OR_HYPOSMIA</td>\n",
       "      <td>0.000000e+00</td>\n",
       "    </tr>\n",
       "    <tr>\n",
       "      <th>12</th>\n",
       "      <td>SYMPTOM_NOSE_CONGESTION</td>\n",
       "      <td>0.000000e+00</td>\n",
       "    </tr>\n",
       "    <tr>\n",
       "      <th>5</th>\n",
       "      <td>SYMPTOM_BREATHING_CONDITION</td>\n",
       "      <td>0.000000e+00</td>\n",
       "    </tr>\n",
       "    <tr>\n",
       "      <th>33</th>\n",
       "      <td>sexo_Masculino</td>\n",
       "      <td>NaN</td>\n",
       "    </tr>\n",
       "    <tr>\n",
       "      <th>34</th>\n",
       "      <td>data_notificacao</td>\n",
       "      <td>NaN</td>\n",
       "    </tr>\n",
       "  </tbody>\n",
       "</table>\n",
       "</div>"
      ],
      "text/plain": [
       "                             features       weights\n",
       "30                              death  6.705317e-01\n",
       "2           SYMPTOM_AIR_INSUFFICIENCY  8.767830e-02\n",
       "3                       SYMPTOM_FEVER  4.304380e-02\n",
       "0                       SYMPTOM_COUGH  3.943061e-02\n",
       "20                   DISEASE_DIABETES  3.511399e-02\n",
       "7            SYMPTOM_THROAT_CONDITION  2.919697e-02\n",
       "32                      sexo_Feminino  2.612016e-02\n",
       "31                              idade  2.582507e-02\n",
       "11                 SYMPTOM_RUNNY_NOSE  1.076062e-02\n",
       "10                   SYMPTOM_DIARRHEA  9.362402e-03\n",
       "23                    DISEASE_OBESITY  6.695197e-03\n",
       "8                    SYMPTOM_HEADACHE  4.852751e-03\n",
       "13                   SYMPTOM_WEAKNESS  3.733746e-03\n",
       "9                   SYMPTOM_BODY_PAIN  2.273787e-03\n",
       "21               DISEASE_HYPERTENSION  2.270373e-03\n",
       "27                    DISEASE_ETILISM  1.355709e-03\n",
       "29                 DISEASE_NEUROLOGIC  1.307956e-03\n",
       "22                DISEASE_RESPIRATORY  4.406968e-04\n",
       "26                   DISEASE_TABAGIST  5.687462e-06\n",
       "18  SYMPTOM_CONSCIOUSNESS_DEGRADATION  2.752945e-07\n",
       "16           SYMPTOM_LACK_OF_APPETITE  1.604469e-07\n",
       "15                     SYMPTOM_NAUSEA  7.402762e-09\n",
       "17             SYMPTOM_ABDOMINAL_PAIN  2.249817e-12\n",
       "28                      DISEASE_LIVER  0.000000e+00\n",
       "4       SYMPTOM_LOW_OXYGEN_SATURATION  0.000000e+00\n",
       "6            SYMPTOM_TORACIC_APERTURE  0.000000e+00\n",
       "25          DISEASE_IMMUNOSUPPRESSION  0.000000e+00\n",
       "24                     DISEASE_KIDNEY  0.000000e+00\n",
       "19          DISEASE_HEART_OR_VASCULAR  0.000000e+00\n",
       "1                        SYMPTOM_COLD  0.000000e+00\n",
       "14        SYMPTOM_ANOSMIA_OR_HYPOSMIA  0.000000e+00\n",
       "12            SYMPTOM_NOSE_CONGESTION  0.000000e+00\n",
       "5         SYMPTOM_BREATHING_CONDITION  0.000000e+00\n",
       "33                     sexo_Masculino           NaN\n",
       "34                   data_notificacao           NaN"
      ]
     },
     "execution_count": 17,
     "metadata": {},
     "output_type": "execute_result"
    }
   ],
   "source": [
    "# plot feature importance\n",
    "importance = final_cl_1.feature_importances_\n",
    "\n",
    "\"\"\"for i in importance:\n",
    "    print(i.round(3))\"\"\"\n",
    "\n",
    "df_imp_features = pd.DataFrame({\"features\":features}).join(pd.DataFrame({\"weights\":importance}))\n",
    "df_imp_features.sort_values(by=['weights'], ascending=False)"
   ]
  },
  {
   "cell_type": "markdown",
   "metadata": {},
   "source": [
    "### Teste com o Período 2 (27/03/2020 até 24/06/2020):"
   ]
  },
  {
   "cell_type": "code",
   "execution_count": null,
   "metadata": {},
   "outputs": [
    {
     "data": {
      "text/html": [
       "<div>\n",
       "<style scoped>\n",
       "    .dataframe tbody tr th:only-of-type {\n",
       "        vertical-align: middle;\n",
       "    }\n",
       "\n",
       "    .dataframe tbody tr th {\n",
       "        vertical-align: top;\n",
       "    }\n",
       "\n",
       "    .dataframe thead th {\n",
       "        text-align: right;\n",
       "    }\n",
       "</style>\n",
       "<table border=\"1\" class=\"dataframe\">\n",
       "  <thead>\n",
       "    <tr style=\"text-align: right;\">\n",
       "      <th></th>\n",
       "      <th>SYMPTOM_COUGH</th>\n",
       "      <th>SYMPTOM_COLD</th>\n",
       "      <th>SYMPTOM_AIR_INSUFFICIENCY</th>\n",
       "      <th>SYMPTOM_FEVER</th>\n",
       "      <th>SYMPTOM_LOW_OXYGEN_SATURATION</th>\n",
       "      <th>SYMPTOM_BREATHING_CONDITION</th>\n",
       "      <th>SYMPTOM_TORACIC_APERTURE</th>\n",
       "      <th>SYMPTOM_THROAT_CONDITION</th>\n",
       "      <th>SYMPTOM_HEADACHE</th>\n",
       "      <th>SYMPTOM_BODY_PAIN</th>\n",
       "      <th>...</th>\n",
       "      <th>DISEASE_IMMUNOSUPPRESSION</th>\n",
       "      <th>DISEASE_TABAGIST</th>\n",
       "      <th>DISEASE_ETILISM</th>\n",
       "      <th>DISEASE_LIVER</th>\n",
       "      <th>DISEASE_NEUROLOGIC</th>\n",
       "      <th>death</th>\n",
       "      <th>idade</th>\n",
       "      <th>sexo_Feminino</th>\n",
       "      <th>sexo_Masculino</th>\n",
       "      <th>data_notificacao</th>\n",
       "    </tr>\n",
       "  </thead>\n",
       "  <tbody>\n",
       "    <tr>\n",
       "      <th>0</th>\n",
       "      <td>1</td>\n",
       "      <td>0</td>\n",
       "      <td>1</td>\n",
       "      <td>1</td>\n",
       "      <td>0</td>\n",
       "      <td>0</td>\n",
       "      <td>0</td>\n",
       "      <td>0</td>\n",
       "      <td>0</td>\n",
       "      <td>0</td>\n",
       "      <td>...</td>\n",
       "      <td>0</td>\n",
       "      <td>0</td>\n",
       "      <td>0</td>\n",
       "      <td>0</td>\n",
       "      <td>0</td>\n",
       "      <td>1</td>\n",
       "      <td>0.730435</td>\n",
       "      <td>1</td>\n",
       "      <td>0</td>\n",
       "      <td>2020-03-27</td>\n",
       "    </tr>\n",
       "    <tr>\n",
       "      <th>1</th>\n",
       "      <td>1</td>\n",
       "      <td>0</td>\n",
       "      <td>1</td>\n",
       "      <td>1</td>\n",
       "      <td>0</td>\n",
       "      <td>0</td>\n",
       "      <td>0</td>\n",
       "      <td>0</td>\n",
       "      <td>0</td>\n",
       "      <td>0</td>\n",
       "      <td>...</td>\n",
       "      <td>0</td>\n",
       "      <td>0</td>\n",
       "      <td>0</td>\n",
       "      <td>0</td>\n",
       "      <td>0</td>\n",
       "      <td>1</td>\n",
       "      <td>0.600000</td>\n",
       "      <td>0</td>\n",
       "      <td>1</td>\n",
       "      <td>2020-03-27</td>\n",
       "    </tr>\n",
       "    <tr>\n",
       "      <th>2</th>\n",
       "      <td>0</td>\n",
       "      <td>0</td>\n",
       "      <td>0</td>\n",
       "      <td>0</td>\n",
       "      <td>0</td>\n",
       "      <td>0</td>\n",
       "      <td>0</td>\n",
       "      <td>0</td>\n",
       "      <td>0</td>\n",
       "      <td>0</td>\n",
       "      <td>...</td>\n",
       "      <td>0</td>\n",
       "      <td>0</td>\n",
       "      <td>0</td>\n",
       "      <td>0</td>\n",
       "      <td>0</td>\n",
       "      <td>0</td>\n",
       "      <td>0.504348</td>\n",
       "      <td>0</td>\n",
       "      <td>1</td>\n",
       "      <td>2020-03-27</td>\n",
       "    </tr>\n",
       "    <tr>\n",
       "      <th>3</th>\n",
       "      <td>1</td>\n",
       "      <td>0</td>\n",
       "      <td>1</td>\n",
       "      <td>1</td>\n",
       "      <td>0</td>\n",
       "      <td>0</td>\n",
       "      <td>0</td>\n",
       "      <td>1</td>\n",
       "      <td>0</td>\n",
       "      <td>0</td>\n",
       "      <td>...</td>\n",
       "      <td>0</td>\n",
       "      <td>0</td>\n",
       "      <td>0</td>\n",
       "      <td>0</td>\n",
       "      <td>0</td>\n",
       "      <td>0</td>\n",
       "      <td>0.278261</td>\n",
       "      <td>1</td>\n",
       "      <td>0</td>\n",
       "      <td>2020-03-27</td>\n",
       "    </tr>\n",
       "    <tr>\n",
       "      <th>4</th>\n",
       "      <td>1</td>\n",
       "      <td>0</td>\n",
       "      <td>1</td>\n",
       "      <td>1</td>\n",
       "      <td>0</td>\n",
       "      <td>0</td>\n",
       "      <td>0</td>\n",
       "      <td>1</td>\n",
       "      <td>0</td>\n",
       "      <td>0</td>\n",
       "      <td>...</td>\n",
       "      <td>0</td>\n",
       "      <td>0</td>\n",
       "      <td>0</td>\n",
       "      <td>0</td>\n",
       "      <td>0</td>\n",
       "      <td>0</td>\n",
       "      <td>0.286957</td>\n",
       "      <td>1</td>\n",
       "      <td>0</td>\n",
       "      <td>2020-03-27</td>\n",
       "    </tr>\n",
       "    <tr>\n",
       "      <th>...</th>\n",
       "      <td>...</td>\n",
       "      <td>...</td>\n",
       "      <td>...</td>\n",
       "      <td>...</td>\n",
       "      <td>...</td>\n",
       "      <td>...</td>\n",
       "      <td>...</td>\n",
       "      <td>...</td>\n",
       "      <td>...</td>\n",
       "      <td>...</td>\n",
       "      <td>...</td>\n",
       "      <td>...</td>\n",
       "      <td>...</td>\n",
       "      <td>...</td>\n",
       "      <td>...</td>\n",
       "      <td>...</td>\n",
       "      <td>...</td>\n",
       "      <td>...</td>\n",
       "      <td>...</td>\n",
       "      <td>...</td>\n",
       "      <td>...</td>\n",
       "    </tr>\n",
       "    <tr>\n",
       "      <th>12581</th>\n",
       "      <td>1</td>\n",
       "      <td>0</td>\n",
       "      <td>1</td>\n",
       "      <td>0</td>\n",
       "      <td>0</td>\n",
       "      <td>0</td>\n",
       "      <td>0</td>\n",
       "      <td>0</td>\n",
       "      <td>0</td>\n",
       "      <td>0</td>\n",
       "      <td>...</td>\n",
       "      <td>0</td>\n",
       "      <td>0</td>\n",
       "      <td>0</td>\n",
       "      <td>0</td>\n",
       "      <td>0</td>\n",
       "      <td>1</td>\n",
       "      <td>0.356522</td>\n",
       "      <td>1</td>\n",
       "      <td>0</td>\n",
       "      <td>2020-06-24</td>\n",
       "    </tr>\n",
       "    <tr>\n",
       "      <th>12582</th>\n",
       "      <td>0</td>\n",
       "      <td>0</td>\n",
       "      <td>0</td>\n",
       "      <td>1</td>\n",
       "      <td>0</td>\n",
       "      <td>0</td>\n",
       "      <td>0</td>\n",
       "      <td>0</td>\n",
       "      <td>0</td>\n",
       "      <td>0</td>\n",
       "      <td>...</td>\n",
       "      <td>0</td>\n",
       "      <td>0</td>\n",
       "      <td>0</td>\n",
       "      <td>0</td>\n",
       "      <td>0</td>\n",
       "      <td>1</td>\n",
       "      <td>0.095652</td>\n",
       "      <td>1</td>\n",
       "      <td>0</td>\n",
       "      <td>2020-06-24</td>\n",
       "    </tr>\n",
       "    <tr>\n",
       "      <th>12583</th>\n",
       "      <td>1</td>\n",
       "      <td>0</td>\n",
       "      <td>0</td>\n",
       "      <td>1</td>\n",
       "      <td>0</td>\n",
       "      <td>0</td>\n",
       "      <td>0</td>\n",
       "      <td>0</td>\n",
       "      <td>0</td>\n",
       "      <td>0</td>\n",
       "      <td>...</td>\n",
       "      <td>0</td>\n",
       "      <td>0</td>\n",
       "      <td>0</td>\n",
       "      <td>0</td>\n",
       "      <td>0</td>\n",
       "      <td>0</td>\n",
       "      <td>0.226087</td>\n",
       "      <td>1</td>\n",
       "      <td>0</td>\n",
       "      <td>2020-06-24</td>\n",
       "    </tr>\n",
       "    <tr>\n",
       "      <th>12584</th>\n",
       "      <td>1</td>\n",
       "      <td>0</td>\n",
       "      <td>1</td>\n",
       "      <td>1</td>\n",
       "      <td>0</td>\n",
       "      <td>0</td>\n",
       "      <td>0</td>\n",
       "      <td>0</td>\n",
       "      <td>0</td>\n",
       "      <td>0</td>\n",
       "      <td>...</td>\n",
       "      <td>0</td>\n",
       "      <td>0</td>\n",
       "      <td>0</td>\n",
       "      <td>0</td>\n",
       "      <td>0</td>\n",
       "      <td>0</td>\n",
       "      <td>0.313043</td>\n",
       "      <td>0</td>\n",
       "      <td>1</td>\n",
       "      <td>2020-06-24</td>\n",
       "    </tr>\n",
       "    <tr>\n",
       "      <th>12585</th>\n",
       "      <td>0</td>\n",
       "      <td>0</td>\n",
       "      <td>0</td>\n",
       "      <td>1</td>\n",
       "      <td>0</td>\n",
       "      <td>0</td>\n",
       "      <td>0</td>\n",
       "      <td>0</td>\n",
       "      <td>1</td>\n",
       "      <td>0</td>\n",
       "      <td>...</td>\n",
       "      <td>0</td>\n",
       "      <td>0</td>\n",
       "      <td>0</td>\n",
       "      <td>0</td>\n",
       "      <td>0</td>\n",
       "      <td>0</td>\n",
       "      <td>0.034783</td>\n",
       "      <td>1</td>\n",
       "      <td>0</td>\n",
       "      <td>2020-06-24</td>\n",
       "    </tr>\n",
       "  </tbody>\n",
       "</table>\n",
       "<p>12586 rows × 35 columns</p>\n",
       "</div>"
      ],
      "text/plain": [
       "       SYMPTOM_COUGH  SYMPTOM_COLD  SYMPTOM_AIR_INSUFFICIENCY  SYMPTOM_FEVER  \\\n",
       "0                  1             0                          1              1   \n",
       "1                  1             0                          1              1   \n",
       "2                  0             0                          0              0   \n",
       "3                  1             0                          1              1   \n",
       "4                  1             0                          1              1   \n",
       "...              ...           ...                        ...            ...   \n",
       "12581              1             0                          1              0   \n",
       "12582              0             0                          0              1   \n",
       "12583              1             0                          0              1   \n",
       "12584              1             0                          1              1   \n",
       "12585              0             0                          0              1   \n",
       "\n",
       "       SYMPTOM_LOW_OXYGEN_SATURATION  SYMPTOM_BREATHING_CONDITION  \\\n",
       "0                                  0                            0   \n",
       "1                                  0                            0   \n",
       "2                                  0                            0   \n",
       "3                                  0                            0   \n",
       "4                                  0                            0   \n",
       "...                              ...                          ...   \n",
       "12581                              0                            0   \n",
       "12582                              0                            0   \n",
       "12583                              0                            0   \n",
       "12584                              0                            0   \n",
       "12585                              0                            0   \n",
       "\n",
       "       SYMPTOM_TORACIC_APERTURE  SYMPTOM_THROAT_CONDITION  SYMPTOM_HEADACHE  \\\n",
       "0                             0                         0                 0   \n",
       "1                             0                         0                 0   \n",
       "2                             0                         0                 0   \n",
       "3                             0                         1                 0   \n",
       "4                             0                         1                 0   \n",
       "...                         ...                       ...               ...   \n",
       "12581                         0                         0                 0   \n",
       "12582                         0                         0                 0   \n",
       "12583                         0                         0                 0   \n",
       "12584                         0                         0                 0   \n",
       "12585                         0                         0                 1   \n",
       "\n",
       "       SYMPTOM_BODY_PAIN  ...  DISEASE_IMMUNOSUPPRESSION  DISEASE_TABAGIST  \\\n",
       "0                      0  ...                          0                 0   \n",
       "1                      0  ...                          0                 0   \n",
       "2                      0  ...                          0                 0   \n",
       "3                      0  ...                          0                 0   \n",
       "4                      0  ...                          0                 0   \n",
       "...                  ...  ...                        ...               ...   \n",
       "12581                  0  ...                          0                 0   \n",
       "12582                  0  ...                          0                 0   \n",
       "12583                  0  ...                          0                 0   \n",
       "12584                  0  ...                          0                 0   \n",
       "12585                  0  ...                          0                 0   \n",
       "\n",
       "       DISEASE_ETILISM  DISEASE_LIVER  DISEASE_NEUROLOGIC  death     idade  \\\n",
       "0                    0              0                   0      1  0.730435   \n",
       "1                    0              0                   0      1  0.600000   \n",
       "2                    0              0                   0      0  0.504348   \n",
       "3                    0              0                   0      0  0.278261   \n",
       "4                    0              0                   0      0  0.286957   \n",
       "...                ...            ...                 ...    ...       ...   \n",
       "12581                0              0                   0      1  0.356522   \n",
       "12582                0              0                   0      1  0.095652   \n",
       "12583                0              0                   0      0  0.226087   \n",
       "12584                0              0                   0      0  0.313043   \n",
       "12585                0              0                   0      0  0.034783   \n",
       "\n",
       "       sexo_Feminino  sexo_Masculino  data_notificacao  \n",
       "0                  1               0        2020-03-27  \n",
       "1                  0               1        2020-03-27  \n",
       "2                  0               1        2020-03-27  \n",
       "3                  1               0        2020-03-27  \n",
       "4                  1               0        2020-03-27  \n",
       "...              ...             ...               ...  \n",
       "12581              1               0        2020-06-24  \n",
       "12582              1               0        2020-06-24  \n",
       "12583              1               0        2020-06-24  \n",
       "12584              0               1        2020-06-24  \n",
       "12585              1               0        2020-06-24  \n",
       "\n",
       "[12586 rows x 35 columns]"
      ]
     },
     "execution_count": 18,
     "metadata": {},
     "output_type": "execute_result"
    }
   ],
   "source": [
    "#Periodo 2\n",
    "data_inicio = df['data_notificacao'][0]+pd.Timedelta(days=30)\n",
    "data_fim = df['data_notificacao'][0]+pd.Timedelta(days=120)\n",
    "\n",
    "df_2 = df[(df['data_notificacao'] >= data_inicio) & (df['data_notificacao'] < data_fim )]\n",
    "df_2 = df_2.reset_index()\n",
    "df_2 = df_2.drop(\"index\", axis=1)\n",
    "df_2"
   ]
  },
  {
   "cell_type": "code",
   "execution_count": null,
   "metadata": {},
   "outputs": [],
   "source": [
    "X_train_oversampled_2, y_train_oversampled_2, X_test_2, y_test_2, mean_test_scores_2, std_test_scores_2, best_scores_2, best_params_2 = apply_model_gradientboosting(df_2)"
   ]
  },
  {
   "cell_type": "code",
   "execution_count": null,
   "metadata": {},
   "outputs": [],
   "source": [
    "preds_2, final_cl_2 = create_final_cl(X_train_oversampled_2, y_train_oversampled_2, X_test_2, y_test_2, 0.9, 0.25, 7, 3)"
   ]
  },
  {
   "cell_type": "code",
   "execution_count": null,
   "metadata": {},
   "outputs": [],
   "source": [
    "plot_conf_matrix (X_test_2, y_test_2, preds_2, final_cl_2)\n",
    "\n",
    "plot_roc_curve(y_test_2, preds_2)"
   ]
  },
  {
   "cell_type": "markdown",
   "metadata": {},
   "source": [
    "### Definição dos atributos mais importantes:"
   ]
  },
  {
   "cell_type": "code",
   "execution_count": null,
   "metadata": {},
   "outputs": [],
   "source": [
    "# plot feature importance\n",
    "plt.figure(figsize=(10,10))\n",
    "plot_importance(final_cl_2)\n",
    "plt.show()"
   ]
  },
  {
   "cell_type": "markdown",
   "metadata": {},
   "source": [
    "### Teste com o Período 3 (26/04/2020 até 24/07/2020):"
   ]
  },
  {
   "cell_type": "code",
   "execution_count": null,
   "metadata": {},
   "outputs": [],
   "source": [
    "#Periodo 3\n",
    "data_inicio = df['data_notificacao'][0]+pd.Timedelta(days=60)\n",
    "data_fim = df['data_notificacao'][0]+pd.Timedelta(days=150)\n",
    "\n",
    "df_3 = df[(df['data_notificacao'] >= data_inicio) & (df['data_notificacao'] < data_fim )]\n",
    "df_3 = df_3.reset_index()\n",
    "df_3 = df_3.drop(\"index\", axis=1)\n",
    "df_3"
   ]
  },
  {
   "cell_type": "code",
   "execution_count": null,
   "metadata": {},
   "outputs": [],
   "source": [
    "X_train_oversampled_3, y_train_oversampled_3, X_test_3, y_test_3, mean_test_scores_3, std_test_scores_3, best_scores_3, best_params_3 = apply_model_xgboost(df_3)"
   ]
  },
  {
   "cell_type": "code",
   "execution_count": null,
   "metadata": {},
   "outputs": [],
   "source": [
    "preds_3, final_cl_3 = create_final_cl(X_train_oversampled_3, y_train_oversampled_3, X_test_3, y_test_3, 0.9, 0.25, 7, 5)"
   ]
  },
  {
   "cell_type": "code",
   "execution_count": null,
   "metadata": {},
   "outputs": [],
   "source": [
    "plot_conf_matrix (X_test_3, y_test_3, preds_3, final_cl_3)\n",
    "\n",
    "plot_roc_curve(y_test_3, preds_3)"
   ]
  },
  {
   "cell_type": "markdown",
   "metadata": {},
   "source": [
    "### Definição dos atributos mais importantes:"
   ]
  },
  {
   "cell_type": "code",
   "execution_count": null,
   "metadata": {},
   "outputs": [],
   "source": [
    "# plot feature importance\n",
    "plt.figure(figsize=(10,10))\n",
    "plot_importance(final_cl_3)\n",
    "plt.show()"
   ]
  },
  {
   "cell_type": "markdown",
   "metadata": {},
   "source": [
    "### Teste com o Período 4 (26/05/2020 até 23/08/2020):"
   ]
  },
  {
   "cell_type": "code",
   "execution_count": null,
   "metadata": {},
   "outputs": [],
   "source": [
    "#Periodo 4\n",
    "data_inicio = df['data_notificacao'][0]+pd.Timedelta(days=90)\n",
    "data_fim = df['data_notificacao'][0]+pd.Timedelta(days=180)\n",
    "\n",
    "df_4 = df[(df['data_notificacao'] >= data_inicio) & (df['data_notificacao'] < data_fim )]\n",
    "df_4 = df_4.reset_index()\n",
    "df_4 = df_4.drop(\"index\", axis=1)\n",
    "df_4"
   ]
  },
  {
   "cell_type": "code",
   "execution_count": null,
   "metadata": {},
   "outputs": [],
   "source": [
    "X_train_oversampled_4, y_train_oversampled_4, X_test_4, y_test_4, mean_test_scores_4, std_test_scores_4, best_scores_4, best_params_4 = apply_model_xgboost(df_4)"
   ]
  },
  {
   "cell_type": "code",
   "execution_count": null,
   "metadata": {},
   "outputs": [],
   "source": [
    "preds_4, final_cl_4 = create_final_cl(X_train_oversampled_4, y_train_oversampled_4, X_test_4, y_test_4, 0.9, 0.25, 7, 5)"
   ]
  },
  {
   "cell_type": "code",
   "execution_count": null,
   "metadata": {},
   "outputs": [],
   "source": [
    "plot_conf_matrix (X_test_4, y_test_4, preds_4, final_cl_4)\n",
    "\n",
    "plot_roc_curve(y_test_4, preds_4)"
   ]
  },
  {
   "cell_type": "markdown",
   "metadata": {},
   "source": [
    "### Definição dos atributos mais importantes:"
   ]
  },
  {
   "cell_type": "code",
   "execution_count": null,
   "metadata": {},
   "outputs": [],
   "source": [
    "# plot feature importance\n",
    "plt.figure(figsize=(10,10))\n",
    "plot_importance(final_cl_4)\n",
    "plt.show()"
   ]
  },
  {
   "cell_type": "markdown",
   "metadata": {},
   "source": [
    "### Teste com o Período 5 (25/06/2020 até 22/09/2020):"
   ]
  },
  {
   "cell_type": "code",
   "execution_count": null,
   "metadata": {},
   "outputs": [],
   "source": [
    "#Periodo 5\n",
    "data_inicio = df['data_notificacao'][0]+pd.Timedelta(days=120)\n",
    "data_fim = df['data_notificacao'][0]+pd.Timedelta(days=210)\n",
    "\n",
    "df_5 = df[(df['data_notificacao'] >= data_inicio) & (df['data_notificacao'] < data_fim )]\n",
    "df_5 = df_5.reset_index()\n",
    "df_5 = df_5.drop(\"index\", axis=1)\n",
    "df_5"
   ]
  },
  {
   "cell_type": "code",
   "execution_count": null,
   "metadata": {},
   "outputs": [],
   "source": [
    "X_train_oversampled_5, y_train_oversampled_5, X_test_5, y_test_5, mean_test_scores_5, std_test_scores_5, best_scores_5, best_params_5 = apply_model_xgboost(df_5)"
   ]
  },
  {
   "cell_type": "code",
   "execution_count": null,
   "metadata": {},
   "outputs": [],
   "source": [
    "preds_5, final_cl_5 = create_final_cl(X_train_oversampled_5, y_train_oversampled_5, X_test_5, y_test_5, 0.9, 0.25, 7, 5)"
   ]
  },
  {
   "cell_type": "code",
   "execution_count": null,
   "metadata": {},
   "outputs": [],
   "source": [
    "plot_conf_matrix (X_test_5, y_test_5, preds_5, final_cl_5)\n",
    "\n",
    "plot_roc_curve(y_test_5, preds_5)"
   ]
  },
  {
   "cell_type": "markdown",
   "metadata": {},
   "source": [
    "### Definição dos atributos mais importantes:"
   ]
  },
  {
   "cell_type": "code",
   "execution_count": null,
   "metadata": {},
   "outputs": [],
   "source": [
    "# plot feature importance\n",
    "plt.figure(figsize=(10,10))\n",
    "plot_importance(final_cl_5)\n",
    "plt.show()"
   ]
  },
  {
   "cell_type": "markdown",
   "metadata": {},
   "source": [
    "### Teste com o Período 6 (25/07/2020 até 22/10/2020):"
   ]
  },
  {
   "cell_type": "code",
   "execution_count": null,
   "metadata": {},
   "outputs": [],
   "source": [
    "#Periodo 6\n",
    "data_inicio = df['data_notificacao'][0]+pd.Timedelta(days=150)\n",
    "data_fim = df['data_notificacao'][0]+pd.Timedelta(days=240)\n",
    "\n",
    "df_6 = df[(df['data_notificacao'] >= data_inicio) & (df['data_notificacao'] < data_fim )]\n",
    "df_6 = df_6.reset_index()\n",
    "df_6 = df_6.drop(\"index\", axis=1)\n",
    "df_6"
   ]
  },
  {
   "cell_type": "code",
   "execution_count": null,
   "metadata": {},
   "outputs": [],
   "source": [
    "X_train_oversampled_6, y_train_oversampled_6, X_test_6, y_test_6, mean_test_scores_6, std_test_scores_6, best_scores_6, best_params_6 = apply_model_xgboost(df_6)"
   ]
  },
  {
   "cell_type": "code",
   "execution_count": null,
   "metadata": {},
   "outputs": [],
   "source": [
    "preds_6, final_cl_6 = create_final_cl(X_train_oversampled_6, y_train_oversampled_6, X_test_6, y_test_6, 0.9, 0.25, 7, 5)"
   ]
  },
  {
   "cell_type": "code",
   "execution_count": null,
   "metadata": {},
   "outputs": [],
   "source": [
    "plot_conf_matrix (X_test_6, y_test_6, preds_6, final_cl_6)\n",
    "\n",
    "plot_roc_curve(y_test_6, preds_6)"
   ]
  },
  {
   "cell_type": "markdown",
   "metadata": {},
   "source": [
    "### Definição dos atributos mais importantes:"
   ]
  },
  {
   "cell_type": "code",
   "execution_count": null,
   "metadata": {},
   "outputs": [],
   "source": [
    "# plot feature importance\n",
    "plt.figure(figsize=(10,10))\n",
    "plot_importance(final_cl_6)\n",
    "plt.show()"
   ]
  },
  {
   "cell_type": "markdown",
   "metadata": {},
   "source": [
    "### Teste com o Período 7 (24/08/2020 até 21/11/2020):"
   ]
  },
  {
   "cell_type": "code",
   "execution_count": null,
   "metadata": {},
   "outputs": [],
   "source": [
    "#Periodo 7\n",
    "data_inicio = df['data_notificacao'][0]+pd.Timedelta(days=180)\n",
    "data_fim = df['data_notificacao'][0]+pd.Timedelta(days=270)\n",
    "\n",
    "df_7 = df[(df['data_notificacao'] >= data_inicio) & (df['data_notificacao'] < data_fim )]\n",
    "df_7 = df_7.reset_index()\n",
    "df_7 = df_7.drop(\"index\", axis=1)\n",
    "df_7"
   ]
  },
  {
   "cell_type": "code",
   "execution_count": null,
   "metadata": {},
   "outputs": [],
   "source": [
    "X_train_oversampled_7, y_train_oversampled_7, X_test_7, y_test_7, mean_test_scores_7, std_test_scores_7, best_scores_7, best_params_7 = apply_model_xgboost(df_7)"
   ]
  },
  {
   "cell_type": "code",
   "execution_count": null,
   "metadata": {},
   "outputs": [],
   "source": [
    "preds_7, final_cl_7 = create_final_cl(X_train_oversampled_7, y_train_oversampled_7, X_test_7, y_test_7, 0.9, 0.25, 7, 5)"
   ]
  },
  {
   "cell_type": "code",
   "execution_count": null,
   "metadata": {},
   "outputs": [],
   "source": [
    "plot_conf_matrix (X_test_7, y_test_7, preds_7, final_cl_7)\n",
    "\n",
    "plot_roc_curve(y_test_7, preds_7)"
   ]
  },
  {
   "cell_type": "markdown",
   "metadata": {},
   "source": [
    "### Definição dos atributos mais importantes:"
   ]
  },
  {
   "cell_type": "code",
   "execution_count": null,
   "metadata": {},
   "outputs": [],
   "source": [
    "# plot feature importance\n",
    "plt.figure(figsize=(10,10))\n",
    "plot_importance(final_cl_7)\n",
    "plt.show()\n"
   ]
  },
  {
   "cell_type": "markdown",
   "metadata": {},
   "source": [
    "### Teste com o Período 8 (23/09/2020 até 21/12/2020):"
   ]
  },
  {
   "cell_type": "code",
   "execution_count": null,
   "metadata": {},
   "outputs": [],
   "source": [
    "#Periodo 8\n",
    "data_inicio = df['data_notificacao'][0]+pd.Timedelta(days=210)\n",
    "data_fim = df['data_notificacao'][0]+pd.Timedelta(days=300)\n",
    "\n",
    "df_8 = df[(df['data_notificacao'] >= data_inicio) & (df['data_notificacao'] < data_fim )]\n",
    "df_8 = df_8.reset_index()\n",
    "df_8 = df_8.drop(\"index\", axis=1)\n",
    "df_8"
   ]
  },
  {
   "cell_type": "code",
   "execution_count": null,
   "metadata": {},
   "outputs": [],
   "source": [
    "X_train_oversampled_8, y_train_oversampled_8, X_test_8, y_test_8, mean_test_scores_8, std_test_scores_8, best_scores_8, best_params_8 = apply_model_xgboost(df_8)"
   ]
  },
  {
   "cell_type": "code",
   "execution_count": null,
   "metadata": {},
   "outputs": [],
   "source": [
    "preds_8, final_cl_8 = create_final_cl(X_train_oversampled_8, y_train_oversampled_8, X_test_8, y_test_8, 0.9, 0.25, 7, 5)"
   ]
  },
  {
   "cell_type": "code",
   "execution_count": null,
   "metadata": {},
   "outputs": [],
   "source": [
    "plot_conf_matrix (X_test_8, y_test_8, preds_8, final_cl_8)\n",
    "\n",
    "plot_roc_curve(y_test_8, preds_8)"
   ]
  },
  {
   "cell_type": "markdown",
   "metadata": {},
   "source": [
    "### Determinação dos atributos mais importantes:"
   ]
  },
  {
   "cell_type": "code",
   "execution_count": null,
   "metadata": {},
   "outputs": [],
   "source": [
    "# plot feature importance\n",
    "plt.figure(figsize=(10,10))\n",
    "plot_importance(final_cl_8)\n",
    "plt.show()"
   ]
  },
  {
   "cell_type": "markdown",
   "metadata": {},
   "source": [
    "### Teste com o Período 9 (23/10/2020 até 20/01/2021):"
   ]
  },
  {
   "cell_type": "code",
   "execution_count": null,
   "metadata": {},
   "outputs": [],
   "source": [
    "#Periodo 9\n",
    "data_inicio = df['data_notificacao'][0]+pd.Timedelta(days=240)\n",
    "data_fim = df['data_notificacao'][0]+pd.Timedelta(days=330)\n",
    "\n",
    "df_9 = df[(df['data_notificacao'] >= data_inicio) & (df['data_notificacao'] < data_fim )]\n",
    "df_9 = df_9.reset_index()\n",
    "df_9 = df_9.drop(\"index\", axis=1)\n",
    "df_9"
   ]
  },
  {
   "cell_type": "code",
   "execution_count": null,
   "metadata": {},
   "outputs": [],
   "source": [
    "X_train_oversampled_9, y_train_oversampled_9, X_test_9, y_test_9, mean_test_scores_9, std_test_scores_9, best_scores_9, best_params_9 = apply_model_xgboost(df_9)"
   ]
  },
  {
   "cell_type": "code",
   "execution_count": null,
   "metadata": {},
   "outputs": [],
   "source": [
    "preds_9, final_cl_9 = create_final_cl(X_train_oversampled_9, y_train_oversampled_9, X_test_9, y_test_9, 0.9, 0.25, 7, 5)"
   ]
  },
  {
   "cell_type": "code",
   "execution_count": null,
   "metadata": {},
   "outputs": [],
   "source": [
    "plot_conf_matrix (X_test_9, y_test_9, preds_9, final_cl_9)\n",
    "\n",
    "plot_roc_curve(y_test_9, preds_9)"
   ]
  },
  {
   "cell_type": "markdown",
   "metadata": {},
   "source": [
    "### Definição dos atributos mais importantes:"
   ]
  },
  {
   "cell_type": "code",
   "execution_count": null,
   "metadata": {},
   "outputs": [],
   "source": [
    "# plot feature importance\n",
    "plt.figure(figsize=(10,10))\n",
    "plot_importance(final_cl_9)\n",
    "plt.show()"
   ]
  },
  {
   "cell_type": "markdown",
   "metadata": {},
   "source": [
    "### Teste com o Período 10 (22/11/2020 até 19/02/2021):"
   ]
  },
  {
   "cell_type": "code",
   "execution_count": null,
   "metadata": {},
   "outputs": [],
   "source": [
    "#Periodo 10\n",
    "data_inicio = df['data_notificacao'][0]+pd.Timedelta(days=270)\n",
    "data_fim = df['data_notificacao'][0]+pd.Timedelta(days=360)\n",
    "\n",
    "df_10 = df[(df['data_notificacao'] >= data_inicio) & (df['data_notificacao'] < data_fim )]\n",
    "df_10 = df_10.reset_index()\n",
    "df_10 = df_10.drop(\"index\", axis=1)\n",
    "df_10"
   ]
  },
  {
   "cell_type": "code",
   "execution_count": null,
   "metadata": {},
   "outputs": [],
   "source": [
    "X_train_oversampled_10, y_train_oversampled_10, X_test_10, y_test_10, mean_test_scores_10, std_test_scores_10, best_scores_10, best_params_10 = apply_model_xgboost(df_10)"
   ]
  },
  {
   "cell_type": "code",
   "execution_count": null,
   "metadata": {},
   "outputs": [],
   "source": [
    "preds_10, final_cl_10 = create_final_cl(X_train_oversampled_10, y_train_oversampled_10, X_test_10, y_test_10, 0.9, 0.25, 7, 5)"
   ]
  },
  {
   "cell_type": "code",
   "execution_count": null,
   "metadata": {},
   "outputs": [],
   "source": [
    "plot_conf_matrix (X_test_10, y_test_10, preds_10, final_cl_10)\n",
    "\n",
    "plot_roc_curve(y_test_10, preds_10)"
   ]
  },
  {
   "cell_type": "markdown",
   "metadata": {},
   "source": [
    "### Definição dos atributos mais importantes:"
   ]
  },
  {
   "cell_type": "code",
   "execution_count": null,
   "metadata": {},
   "outputs": [],
   "source": [
    "# plot feature importance\n",
    "plt.figure(figsize=(10,10))\n",
    "plot_importance(final_cl_10)\n",
    "plt.show()"
   ]
  },
  {
   "cell_type": "markdown",
   "metadata": {},
   "source": [
    "### Teste com o Período 11 (22/12/2020 até 21/03/2021):"
   ]
  },
  {
   "cell_type": "code",
   "execution_count": null,
   "metadata": {},
   "outputs": [],
   "source": [
    "#Periodo 11\n",
    "data_inicio = df['data_notificacao'][0]+pd.Timedelta(days=300)\n",
    "data_fim = df['data_notificacao'][0]+pd.Timedelta(days=390)\n",
    "\n",
    "df_11 = df[(df['data_notificacao'] >= data_inicio) & (df['data_notificacao'] < data_fim )]\n",
    "df_11 = df_11.reset_index()\n",
    "df_11 = df_11.drop(\"index\", axis=1)\n",
    "df_11"
   ]
  },
  {
   "cell_type": "code",
   "execution_count": null,
   "metadata": {},
   "outputs": [],
   "source": [
    "X_train_oversampled_11, y_train_oversampled_11, X_test_11, y_test_11, mean_test_scores_11, std_test_scores_11, best_scores_11, best_params_11 = apply_model_xgboost(df_11)"
   ]
  },
  {
   "cell_type": "code",
   "execution_count": null,
   "metadata": {},
   "outputs": [],
   "source": [
    "preds_11, final_cl_11 = create_final_cl(X_train_oversampled_11, y_train_oversampled_11, X_test_11, y_test_11, 0.9, 0.25, 7, 5)"
   ]
  },
  {
   "cell_type": "code",
   "execution_count": null,
   "metadata": {},
   "outputs": [],
   "source": [
    "plot_conf_matrix (X_test_11, y_test_11, preds_11, final_cl_11)\n",
    "\n",
    "plot_roc_curve(y_test_11, preds_11)"
   ]
  },
  {
   "cell_type": "markdown",
   "metadata": {},
   "source": [
    "### Definição dos atributos mais importantes:"
   ]
  },
  {
   "cell_type": "code",
   "execution_count": null,
   "metadata": {},
   "outputs": [],
   "source": [
    "# plot feature importance\n",
    "plt.figure(figsize=(10,10))\n",
    "plot_importance(final_cl_11)\n",
    "plt.show()"
   ]
  },
  {
   "cell_type": "markdown",
   "metadata": {},
   "source": [
    "### Teste com o Período 12 (21/01/2021 até 20/04/2021):"
   ]
  },
  {
   "cell_type": "code",
   "execution_count": null,
   "metadata": {},
   "outputs": [],
   "source": [
    "#Periodo 12\n",
    "data_inicio = df['data_notificacao'][0]+pd.Timedelta(days=330)\n",
    "data_fim = df['data_notificacao'][0]+pd.Timedelta(days=420)\n",
    "\n",
    "df_12 = df[(df['data_notificacao'] >= data_inicio) & (df['data_notificacao'] < data_fim )]\n",
    "df_12 = df_12.reset_index()\n",
    "df_12 = df_12.drop(\"index\", axis=1)\n",
    "df_12"
   ]
  },
  {
   "cell_type": "code",
   "execution_count": null,
   "metadata": {},
   "outputs": [],
   "source": [
    "X_train_oversampled_12, y_train_oversampled_12, X_test_12, y_test_12, mean_test_scores_12, std_test_scores_12, best_scores_12, best_params_12 = apply_model_xgboost(df_12)"
   ]
  },
  {
   "cell_type": "code",
   "execution_count": null,
   "metadata": {},
   "outputs": [],
   "source": [
    "preds_12, final_cl_12 = create_final_cl(X_train_oversampled_12, y_train_oversampled_12, X_test_12, y_test_12, 0.9, 0.25, 7, 5)"
   ]
  },
  {
   "cell_type": "code",
   "execution_count": null,
   "metadata": {},
   "outputs": [],
   "source": [
    "plot_conf_matrix (X_test_12, y_test_12, preds_12, final_cl_12)\n",
    "\n",
    "plot_roc_curve(y_test_12, preds_12)"
   ]
  },
  {
   "cell_type": "markdown",
   "metadata": {},
   "source": [
    "### Definição dos atributos mais importantes:"
   ]
  },
  {
   "cell_type": "code",
   "execution_count": null,
   "metadata": {},
   "outputs": [],
   "source": [
    "# plot feature importance\n",
    "plt.figure(figsize=(10,10))\n",
    "plot_importance(final_cl_12)\n",
    "plt.show()"
   ]
  },
  {
   "cell_type": "markdown",
   "metadata": {},
   "source": [
    "### Teste com o Período 13 (20/02/2021 até 20/05/2021):"
   ]
  },
  {
   "cell_type": "code",
   "execution_count": null,
   "metadata": {},
   "outputs": [],
   "source": [
    "#Periodo 13\n",
    "data_inicio = df['data_notificacao'][0]+pd.Timedelta(days=360)\n",
    "data_fim = df['data_notificacao'][0]+pd.Timedelta(days=450)\n",
    "\n",
    "df_13 = df[(df['data_notificacao'] >= data_inicio) & (df['data_notificacao'] < data_fim )]\n",
    "df_13 = df_13.reset_index()\n",
    "df_13 = df_13.drop(\"index\", axis=1)\n",
    "df_13"
   ]
  },
  {
   "cell_type": "code",
   "execution_count": null,
   "metadata": {},
   "outputs": [],
   "source": [
    "X_train_oversampled_13, y_train_oversampled_13, X_test_13, y_test_13, mean_test_scores_13, std_test_scores_13, best_scores_13, best_params_13 = apply_model_xgboost(df_13)"
   ]
  },
  {
   "cell_type": "code",
   "execution_count": null,
   "metadata": {},
   "outputs": [],
   "source": [
    "preds_13, final_cl_13 = create_final_cl(X_train_oversampled_13, y_train_oversampled_13, X_test_13, y_test_13, 0.9, 0.25, 7, 5)"
   ]
  },
  {
   "cell_type": "code",
   "execution_count": null,
   "metadata": {},
   "outputs": [],
   "source": [
    "plot_conf_matrix (X_test_13, y_test_13, preds_13, final_cl_13)\n",
    "\n",
    "plot_roc_curve(y_test_13, preds_13)"
   ]
  },
  {
   "cell_type": "markdown",
   "metadata": {},
   "source": [
    "### Definição dos atributos mais importantes:"
   ]
  },
  {
   "cell_type": "code",
   "execution_count": null,
   "metadata": {},
   "outputs": [],
   "source": [
    "# plot feature importance\n",
    "plt.figure(figsize=(10,10))\n",
    "plot_importance(final_cl_13)\n",
    "plt.show()"
   ]
  },
  {
   "cell_type": "markdown",
   "metadata": {},
   "source": [
    "### Teste com o Período 14 (22/03/2021 até 19/06/2021):"
   ]
  },
  {
   "cell_type": "code",
   "execution_count": null,
   "metadata": {},
   "outputs": [],
   "source": [
    "#Periodo 14\n",
    "data_inicio = df['data_notificacao'][0]+pd.Timedelta(days=390)\n",
    "data_fim = df['data_notificacao'][0]+pd.Timedelta(days=480)\n",
    "\n",
    "df_14 = df[(df['data_notificacao'] >= data_inicio) & (df['data_notificacao'] < data_fim )]\n",
    "df_14 = df_14.reset_index()\n",
    "df_14 = df_14.drop(\"index\", axis=1)\n",
    "df_14"
   ]
  },
  {
   "cell_type": "code",
   "execution_count": null,
   "metadata": {},
   "outputs": [],
   "source": [
    "X_train_oversampled_14, y_train_oversampled_14, X_test_14, y_test_14, mean_test_scores_14, std_test_scores_14, best_scores_14, best_params_14 = apply_model_xgboost(df_14)"
   ]
  },
  {
   "cell_type": "code",
   "execution_count": null,
   "metadata": {},
   "outputs": [],
   "source": [
    "preds_14, final_cl_14 = create_final_cl(X_train_oversampled_14, y_train_oversampled_14, X_test_14, y_test_14, 0.9, 0.25, 7, 5)"
   ]
  },
  {
   "cell_type": "code",
   "execution_count": null,
   "metadata": {},
   "outputs": [],
   "source": [
    "plot_conf_matrix (X_test_14, y_test_14, preds_14, final_cl_14)\n",
    "\n",
    "plot_roc_curve(y_test_14, preds_14)"
   ]
  },
  {
   "cell_type": "markdown",
   "metadata": {},
   "source": [
    "### Definição dos atributos mais importantes:"
   ]
  },
  {
   "cell_type": "code",
   "execution_count": null,
   "metadata": {},
   "outputs": [],
   "source": [
    "# plot feature importance\n",
    "plt.figure(figsize=(10,10))\n",
    "plot_importance(final_cl_14)\n",
    "plt.show()"
   ]
  },
  {
   "cell_type": "markdown",
   "metadata": {},
   "source": [
    "### Teste com o Período 15 (21/04/2021 até 19/07/2021):"
   ]
  },
  {
   "cell_type": "code",
   "execution_count": null,
   "metadata": {},
   "outputs": [],
   "source": [
    "#Periodo 15\n",
    "data_inicio = df['data_notificacao'][0]+pd.Timedelta(days=420)\n",
    "data_fim = df['data_notificacao'][0]+pd.Timedelta(days=510)\n",
    "\n",
    "df_15 = df[(df['data_notificacao'] >= data_inicio) & (df['data_notificacao'] < data_fim )]\n",
    "df_15 = df_15.reset_index()\n",
    "df_15 = df_15.drop(\"index\", axis=1)\n",
    "df_15"
   ]
  },
  {
   "cell_type": "code",
   "execution_count": null,
   "metadata": {},
   "outputs": [],
   "source": [
    "X_train_oversampled_15, y_train_oversampled_15, X_test_15, y_test_15, mean_test_scores_15, std_test_scores_15, best_scores_15, best_params_15 = apply_model_xgboost(df_15)"
   ]
  },
  {
   "cell_type": "code",
   "execution_count": null,
   "metadata": {},
   "outputs": [],
   "source": [
    "preds_15, final_cl_15 = create_final_cl(X_train_oversampled_15, y_train_oversampled_15, X_test_15, y_test_15, 0.9, 0.25, 7, 3)"
   ]
  },
  {
   "cell_type": "code",
   "execution_count": null,
   "metadata": {},
   "outputs": [],
   "source": [
    "plot_conf_matrix (X_test_15, y_test_15, preds_15, final_cl_15)\n",
    "\n",
    "plot_roc_curve(y_test_15, preds_15)"
   ]
  },
  {
   "cell_type": "markdown",
   "metadata": {},
   "source": [
    "### Determinação dos atributos mais importantes:"
   ]
  },
  {
   "cell_type": "code",
   "execution_count": null,
   "metadata": {},
   "outputs": [],
   "source": [
    "# plot feature importance\n",
    "plt.figure(figsize=(10,10))\n",
    "plot_importance(final_cl_15)\n",
    "plt.show()"
   ]
  },
  {
   "cell_type": "markdown",
   "metadata": {},
   "source": [
    "### Teste com o Período 16 (21/05/2021 até 18/08/2021):"
   ]
  },
  {
   "cell_type": "code",
   "execution_count": null,
   "metadata": {},
   "outputs": [],
   "source": [
    "#Periodo 16\n",
    "data_inicio = df['data_notificacao'][0]+pd.Timedelta(days=450)\n",
    "data_fim = df['data_notificacao'][0]+pd.Timedelta(days=540)\n",
    "\n",
    "df_16 = df[(df['data_notificacao'] >= data_inicio) & (df['data_notificacao'] < data_fim )]\n",
    "df_16 = df_16.reset_index()\n",
    "df_16 = df_16.drop(\"index\", axis=1)\n",
    "df_16"
   ]
  },
  {
   "cell_type": "code",
   "execution_count": null,
   "metadata": {},
   "outputs": [],
   "source": [
    "X_train_oversampled_16, y_train_oversampled_16, X_test_16, y_test_16, mean_test_scores_16, std_test_scores_16, best_scores_16, best_params_16 = apply_model_xgboost(df_16)"
   ]
  },
  {
   "cell_type": "code",
   "execution_count": null,
   "metadata": {},
   "outputs": [],
   "source": [
    "preds_16, final_cl_16 = create_final_cl(X_train_oversampled_16, y_train_oversampled_16, X_test_16, y_test_16, 0.9, 0.25, 7, 5)"
   ]
  },
  {
   "cell_type": "code",
   "execution_count": null,
   "metadata": {},
   "outputs": [],
   "source": [
    "plot_conf_matrix (X_test_16, y_test_16, preds_16, final_cl_16)\n",
    "\n",
    "plot_roc_curve(y_test_16, preds_16)"
   ]
  },
  {
   "cell_type": "markdown",
   "metadata": {},
   "source": [
    "### Determinação dos atributos mais importantes:"
   ]
  },
  {
   "cell_type": "code",
   "execution_count": null,
   "metadata": {},
   "outputs": [],
   "source": [
    "# plot feature importance\n",
    "plt.figure(figsize=(10,10))\n",
    "plot_importance(final_cl_16)\n",
    "plt.show()"
   ]
  },
  {
   "cell_type": "markdown",
   "metadata": {},
   "source": [
    "### Teste com o Período 17 (20/06/2021 até 17/09/2021):"
   ]
  },
  {
   "cell_type": "code",
   "execution_count": null,
   "metadata": {},
   "outputs": [],
   "source": [
    "#Periodo 17\n",
    "data_inicio = df['data_notificacao'][0]+pd.Timedelta(days=480)\n",
    "data_fim = df['data_notificacao'][0]+pd.Timedelta(days=570)\n",
    "\n",
    "df_17 = df[(df['data_notificacao'] >= data_inicio) & (df['data_notificacao'] < data_fim )]\n",
    "df_17 = df_17.reset_index()\n",
    "df_17 = df_17.drop(\"index\", axis=1)\n",
    "df_17"
   ]
  },
  {
   "cell_type": "code",
   "execution_count": null,
   "metadata": {},
   "outputs": [],
   "source": [
    "X_train_oversampled_17, y_train_oversampled_17, X_test_17, y_test_17, mean_test_scores_17, std_test_scores_17, best_scores_17, best_params_17 = apply_model_xgboost(df_17)"
   ]
  },
  {
   "cell_type": "code",
   "execution_count": null,
   "metadata": {},
   "outputs": [],
   "source": [
    "preds_17, final_cl_17 = create_final_cl(X_train_oversampled_17, y_train_oversampled_17, X_test_17, y_test_17, 0.9, 0.25, 7, 5)"
   ]
  },
  {
   "cell_type": "code",
   "execution_count": null,
   "metadata": {},
   "outputs": [],
   "source": [
    "plot_conf_matrix (X_test_17, y_test_17, preds_17, final_cl_17)\n",
    "\n",
    "plot_roc_curve(y_test_17, preds_17)"
   ]
  },
  {
   "cell_type": "markdown",
   "metadata": {},
   "source": [
    "### Determinação dos atributos mais importantes:"
   ]
  },
  {
   "cell_type": "code",
   "execution_count": null,
   "metadata": {},
   "outputs": [],
   "source": [
    "# plot feature importance\n",
    "plt.figure(figsize=(10,10))\n",
    "plot_importance(final_cl_17)\n",
    "plt.show()"
   ]
  },
  {
   "cell_type": "markdown",
   "metadata": {},
   "source": [
    "### Teste com o Período 18 (20/07/2021 até 17/10/2021):"
   ]
  },
  {
   "cell_type": "code",
   "execution_count": null,
   "metadata": {},
   "outputs": [],
   "source": [
    "#Periodo 18\n",
    "data_inicio = df['data_notificacao'][0]+pd.Timedelta(days=510)\n",
    "data_fim = df['data_notificacao'][0]+pd.Timedelta(days=600)\n",
    "\n",
    "df_18 = df[(df['data_notificacao'] >= data_inicio) & (df['data_notificacao'] < data_fim )]\n",
    "df_18 = df_18.reset_index()\n",
    "df_18 = df_18.drop(\"index\", axis=1)\n",
    "df_18"
   ]
  },
  {
   "cell_type": "code",
   "execution_count": null,
   "metadata": {},
   "outputs": [],
   "source": [
    "X_train_oversampled_18, y_train_oversampled_18, X_test_18, y_test_18, mean_test_scores_18, std_test_scores_18, best_scores_18, best_params_18 = apply_model_xgboost(df_18)"
   ]
  },
  {
   "cell_type": "code",
   "execution_count": null,
   "metadata": {},
   "outputs": [],
   "source": [
    "preds_18, final_cl_18 = create_final_cl(X_train_oversampled_18, y_train_oversampled_18, X_test_18, y_test_18, 0.9, 0.25, 7, 5)"
   ]
  },
  {
   "cell_type": "code",
   "execution_count": null,
   "metadata": {},
   "outputs": [],
   "source": [
    "plot_conf_matrix (X_test_18, y_test_18, preds_18, final_cl_18)\n",
    "\n",
    "plot_roc_curve(y_test_18, preds_18)"
   ]
  },
  {
   "cell_type": "markdown",
   "metadata": {},
   "source": [
    "### Determinação dos atributos mais importantes:"
   ]
  },
  {
   "cell_type": "code",
   "execution_count": null,
   "metadata": {},
   "outputs": [],
   "source": [
    "# plot feature importance\n",
    "plt.figure(figsize=(10,10))\n",
    "plot_importance(final_cl_18)\n",
    "plt.show()"
   ]
  },
  {
   "cell_type": "markdown",
   "metadata": {},
   "source": [
    "### Teste com o Período 19 (19/08/2021 até 16/11/2021):"
   ]
  },
  {
   "cell_type": "code",
   "execution_count": null,
   "metadata": {},
   "outputs": [],
   "source": [
    "#Periodo 19\n",
    "data_inicio = df['data_notificacao'][0]+pd.Timedelta(days=540)\n",
    "data_fim = df['data_notificacao'][0]+pd.Timedelta(days=630)\n",
    "\n",
    "df_19 = df[(df['data_notificacao'] >= data_inicio) & (df['data_notificacao'] < data_fim )]\n",
    "df_19 = df_19.reset_index()\n",
    "df_19 = df_19.drop(\"index\", axis=1)\n",
    "df_19"
   ]
  },
  {
   "cell_type": "code",
   "execution_count": null,
   "metadata": {},
   "outputs": [],
   "source": [
    "X_train_oversampled_19, y_train_oversampled_19, X_test_19, y_test_19, mean_test_scores_19, std_test_scores_19, best_scores_19, best_params_19 = apply_model_xgboost(df_19)"
   ]
  },
  {
   "cell_type": "code",
   "execution_count": null,
   "metadata": {},
   "outputs": [],
   "source": [
    "preds_19, final_cl_19 = create_final_cl(X_train_oversampled_19, y_train_oversampled_19, X_test_19, y_test_19, 0.9, 0.25, 7, 3)"
   ]
  },
  {
   "cell_type": "code",
   "execution_count": null,
   "metadata": {},
   "outputs": [],
   "source": [
    "plot_conf_matrix (X_test_19, y_test_19, preds_19, final_cl_19)\n",
    "\n",
    "plot_roc_curve(y_test_19, preds_19)"
   ]
  },
  {
   "cell_type": "markdown",
   "metadata": {},
   "source": [
    "### Determinação dos atributos mais importantes:"
   ]
  },
  {
   "cell_type": "code",
   "execution_count": null,
   "metadata": {},
   "outputs": [],
   "source": [
    "# plot feature importance\n",
    "plt.figure(figsize=(10,10))\n",
    "plot_importance(final_cl_19)\n",
    "plt.show()"
   ]
  },
  {
   "cell_type": "markdown",
   "metadata": {},
   "source": [
    "### Teste com o Período 20 (18/09/2021 até 16/12/2021):"
   ]
  },
  {
   "cell_type": "code",
   "execution_count": null,
   "metadata": {},
   "outputs": [],
   "source": [
    "#Periodo 20\n",
    "data_inicio = df['data_notificacao'][0]+pd.Timedelta(days=570)\n",
    "data_fim = df['data_notificacao'][0]+pd.Timedelta(days=660)\n",
    "\n",
    "df_20 = df[(df['data_notificacao'] >= data_inicio) & (df['data_notificacao'] < data_fim )]\n",
    "df_20 = df_20.reset_index()\n",
    "df_20 = df_20.drop(\"index\", axis=1)\n",
    "df_20"
   ]
  },
  {
   "cell_type": "code",
   "execution_count": null,
   "metadata": {},
   "outputs": [],
   "source": [
    "X_train_oversampled_20, y_train_oversampled_20, X_test_20, y_test_20, mean_test_scores_20, std_test_scores_20, best_scores_20, best_params_20 = apply_model_xgboost(df_20)"
   ]
  },
  {
   "cell_type": "code",
   "execution_count": null,
   "metadata": {},
   "outputs": [],
   "source": [
    "preds_20, final_cl_20 = create_final_cl(X_train_oversampled_20, y_train_oversampled_20, X_test_20, y_test_20, 0.9, 0.25, 7, 5)"
   ]
  },
  {
   "cell_type": "code",
   "execution_count": null,
   "metadata": {},
   "outputs": [],
   "source": [
    "plot_conf_matrix (X_test_20, y_test_20, preds_20, final_cl_20)\n",
    "\n",
    "plot_roc_curve(y_test_20, preds_20)"
   ]
  },
  {
   "cell_type": "markdown",
   "metadata": {},
   "source": [
    "### Determinação dos atributos mais importantes:"
   ]
  },
  {
   "cell_type": "code",
   "execution_count": null,
   "metadata": {},
   "outputs": [],
   "source": [
    "# plot feature importance\n",
    "plt.figure(figsize=(10,10))\n",
    "plot_importance(final_cl_20)\n",
    "plt.show()"
   ]
  },
  {
   "cell_type": "markdown",
   "metadata": {},
   "source": [
    "### Teste com o Período 21 (18/10/2021 até 15/01/2022):"
   ]
  },
  {
   "cell_type": "code",
   "execution_count": null,
   "metadata": {},
   "outputs": [],
   "source": [
    "#Periodo 21\n",
    "data_inicio = df['data_notificacao'][0]+pd.Timedelta(days=600)\n",
    "data_fim = df['data_notificacao'][0]+pd.Timedelta(days=690)\n",
    "\n",
    "df_21 = df[(df['data_notificacao'] >= data_inicio) & (df['data_notificacao'] < data_fim )]\n",
    "df_21 = df_21.reset_index()\n",
    "df_21 = df_21.drop(\"index\", axis=1)\n",
    "df_21"
   ]
  },
  {
   "cell_type": "code",
   "execution_count": null,
   "metadata": {},
   "outputs": [],
   "source": [
    "X_train_oversampled_21, y_train_oversampled_21, X_test_21, y_test_21, mean_test_scores_21, std_test_scores_21, best_scores_21, best_params_21 = apply_model_xgboost(df_21)"
   ]
  },
  {
   "cell_type": "code",
   "execution_count": null,
   "metadata": {},
   "outputs": [],
   "source": [
    "preds_21, final_cl_21 = create_final_cl(X_train_oversampled_21, y_train_oversampled_21, X_test_21, y_test_21, 0.9, 0.25, 7, 5)"
   ]
  },
  {
   "cell_type": "code",
   "execution_count": null,
   "metadata": {},
   "outputs": [],
   "source": [
    "plot_conf_matrix (X_test_21, y_test_21, preds_21, final_cl_21)\n",
    "\n",
    "plot_roc_curve(y_test_21, preds_21)"
   ]
  },
  {
   "cell_type": "markdown",
   "metadata": {},
   "source": [
    "### Determinação dos atributos mais importantes:"
   ]
  },
  {
   "cell_type": "code",
   "execution_count": null,
   "metadata": {},
   "outputs": [],
   "source": [
    "# plot feature importance\n",
    "plt.figure(figsize=(10,10))\n",
    "plot_importance(final_cl_21)\n",
    "plt.show()"
   ]
  },
  {
   "cell_type": "markdown",
   "metadata": {},
   "source": [
    "### Teste com o Período 22 (17/11/2021 até 14/02/2022):"
   ]
  },
  {
   "cell_type": "code",
   "execution_count": null,
   "metadata": {},
   "outputs": [],
   "source": [
    "#Periodo 22\n",
    "data_inicio = df['data_notificacao'][0]+pd.Timedelta(days=630)\n",
    "data_fim = df['data_notificacao'][0]+pd.Timedelta(days=720)\n",
    "\n",
    "df_22 = df[(df['data_notificacao'] >= data_inicio) & (df['data_notificacao'] < data_fim )]\n",
    "df_22 = df_22.reset_index()\n",
    "df_22 = df_22.drop(\"index\", axis=1)\n",
    "df_22"
   ]
  },
  {
   "cell_type": "code",
   "execution_count": null,
   "metadata": {},
   "outputs": [],
   "source": [
    "X_train_oversampled_22, y_train_oversampled_22, X_test_22, y_test_22, mean_test_scores_22, std_test_scores_22, best_scores_22, best_params_22 = apply_model_xgboost(df_22)"
   ]
  },
  {
   "cell_type": "code",
   "execution_count": null,
   "metadata": {},
   "outputs": [],
   "source": [
    "preds_22, final_cl_22 = create_final_cl(X_train_oversampled_22, y_train_oversampled_22, X_test_22, y_test_22, 0.9, 1, 7, 5)"
   ]
  },
  {
   "cell_type": "code",
   "execution_count": null,
   "metadata": {},
   "outputs": [],
   "source": [
    "plot_conf_matrix (X_test_22, y_test_22, preds_22, final_cl_22)\n",
    "\n",
    "plot_roc_curve(y_test_22, preds_22)"
   ]
  },
  {
   "cell_type": "markdown",
   "metadata": {},
   "source": [
    "### Determinação dos atributos mais importantes:"
   ]
  },
  {
   "cell_type": "code",
   "execution_count": null,
   "metadata": {},
   "outputs": [],
   "source": [
    "# plot feature importance\n",
    "plt.figure(figsize=(10,10))\n",
    "plot_importance(final_cl_22)\n",
    "plt.show()"
   ]
  },
  {
   "cell_type": "markdown",
   "metadata": {},
   "source": [
    "### Teste com o Período 23 (17/12/2021 até 16/03/2022):"
   ]
  },
  {
   "cell_type": "code",
   "execution_count": null,
   "metadata": {},
   "outputs": [],
   "source": [
    "#Periodo 23\n",
    "data_inicio = df['data_notificacao'][0]+pd.Timedelta(days=660)\n",
    "data_fim = df['data_notificacao'][0]+pd.Timedelta(days=750)\n",
    "\n",
    "df_23 = df[(df['data_notificacao'] >= data_inicio) & (df['data_notificacao'] < data_fim )]\n",
    "df_23 = df_23.reset_index()\n",
    "df_23 = df_23.drop(\"index\", axis=1)\n",
    "df_23"
   ]
  },
  {
   "cell_type": "code",
   "execution_count": null,
   "metadata": {},
   "outputs": [],
   "source": [
    "X_train_oversampled_23, y_train_oversampled_23, X_test_23, y_test_23, mean_test_scores_23, std_test_scores_23, best_scores_23, best_params_23 = apply_model_xgboost(df_23)"
   ]
  },
  {
   "cell_type": "code",
   "execution_count": null,
   "metadata": {},
   "outputs": [],
   "source": [
    "preds_23, final_cl_23 = create_final_cl(X_train_oversampled_23, y_train_oversampled_23, X_test_23, y_test_23, 0.9, 0.25, 7, 5)"
   ]
  },
  {
   "cell_type": "code",
   "execution_count": null,
   "metadata": {},
   "outputs": [],
   "source": [
    "plot_conf_matrix (X_test_23, y_test_23, preds_23, final_cl_23)\n",
    "\n",
    "plot_roc_curve(y_test_23, preds_23)"
   ]
  },
  {
   "cell_type": "markdown",
   "metadata": {},
   "source": [
    "### Determinação dos atributos mais importantes:"
   ]
  },
  {
   "cell_type": "code",
   "execution_count": null,
   "metadata": {},
   "outputs": [],
   "source": [
    "# plot feature importance\n",
    "plt.figure(figsize=(10,10))\n",
    "plot_importance(final_cl_23)\n",
    "plt.show()"
   ]
  },
  {
   "cell_type": "markdown",
   "metadata": {},
   "source": [
    "### Teste com o Período 24 (16/01/2022 até 15/04/2022):"
   ]
  },
  {
   "cell_type": "code",
   "execution_count": null,
   "metadata": {},
   "outputs": [],
   "source": [
    "#Periodo 24\n",
    "data_inicio = df['data_notificacao'][0]+pd.Timedelta(days=690)\n",
    "data_fim = df['data_notificacao'][0]+pd.Timedelta(days=780)\n",
    "\n",
    "df_24 = df[(df['data_notificacao'] >= data_inicio) & (df['data_notificacao'] < data_fim )]\n",
    "df_24 = df_24.reset_index()\n",
    "df_24 = df_24.drop(\"index\", axis=1)\n",
    "df_24"
   ]
  },
  {
   "cell_type": "code",
   "execution_count": null,
   "metadata": {},
   "outputs": [],
   "source": [
    "X_train_oversampled_24, y_train_oversampled_24, X_test_24, y_test_24, mean_test_scores_24, std_test_scores_24, best_scores_24, best_params_24 = apply_model_xgboost(df_24)"
   ]
  },
  {
   "cell_type": "code",
   "execution_count": null,
   "metadata": {},
   "outputs": [],
   "source": [
    "preds_24, final_cl_24 = create_final_cl(X_train_oversampled_24, y_train_oversampled_24, X_test_24, y_test_24, 0.9, 0.25, 7, 3)"
   ]
  },
  {
   "cell_type": "code",
   "execution_count": null,
   "metadata": {},
   "outputs": [],
   "source": [
    "plot_conf_matrix (X_test_24, y_test_24, preds_24, final_cl_24)\n",
    "\n",
    "plot_roc_curve(y_test_24, preds_24)"
   ]
  },
  {
   "cell_type": "markdown",
   "metadata": {},
   "source": [
    "### Determinação dos atributos mais importantes:"
   ]
  },
  {
   "cell_type": "code",
   "execution_count": null,
   "metadata": {},
   "outputs": [],
   "source": [
    "# plot feature importance\n",
    "plt.figure(figsize=(10,10))\n",
    "plot_importance(final_cl_24)\n",
    "plt.show()"
   ]
  },
  {
   "cell_type": "markdown",
   "metadata": {},
   "source": [
    "### Teste com o Período 25 (15/02/2022 até 15/05/2021):"
   ]
  },
  {
   "cell_type": "code",
   "execution_count": null,
   "metadata": {},
   "outputs": [],
   "source": [
    "#Periodo 25\n",
    "data_inicio = df['data_notificacao'][0]+pd.Timedelta(days=720)\n",
    "data_fim = df['data_notificacao'][0]+pd.Timedelta(days=810)\n",
    "\n",
    "df_25 = df[(df['data_notificacao'] >= data_inicio) & (df['data_notificacao'] < data_fim )]\n",
    "df_25 = df_25.reset_index()\n",
    "df_25 = df_25.drop(\"index\", axis=1)\n",
    "df_25"
   ]
  },
  {
   "cell_type": "code",
   "execution_count": null,
   "metadata": {},
   "outputs": [],
   "source": [
    "X_train_oversampled_25, y_train_oversampled_25, X_test_25, y_test_25, mean_test_scores_25, std_test_scores_25, best_scores_25, best_params_25 = apply_model_xgboost(df_25)"
   ]
  },
  {
   "cell_type": "code",
   "execution_count": null,
   "metadata": {},
   "outputs": [],
   "source": [
    "preds_25, final_cl_25 = create_final_cl(X_train_oversampled_25, y_train_oversampled_25, X_test_25, y_test_25, 0.9, 0.25, 7, 5)"
   ]
  },
  {
   "cell_type": "code",
   "execution_count": null,
   "metadata": {},
   "outputs": [],
   "source": [
    "plot_conf_matrix (X_test_25, y_test_25, preds_25, final_cl_25)\n",
    "\n",
    "plot_roc_curve(y_test_25, preds_25)"
   ]
  },
  {
   "cell_type": "markdown",
   "metadata": {},
   "source": [
    "### Determinação dos atributos mais importantes:"
   ]
  },
  {
   "cell_type": "code",
   "execution_count": null,
   "metadata": {},
   "outputs": [],
   "source": [
    "# plot feature importance\n",
    "plt.figure(figsize=(10,10))\n",
    "plot_importance(final_cl_25)\n",
    "plt.show()"
   ]
  },
  {
   "cell_type": "markdown",
   "metadata": {},
   "source": [
    "### Teste com o Período 26 (17/03/2022 até 13/06/2022):"
   ]
  },
  {
   "cell_type": "code",
   "execution_count": null,
   "metadata": {},
   "outputs": [],
   "source": [
    "#Periodo 26\n",
    "data_inicio = df['data_notificacao'][0]+pd.Timedelta(days=750)\n",
    "data_fim = df['data_notificacao'][0]+pd.Timedelta(days=840)\n",
    "\n",
    "df_26 = df[(df['data_notificacao'] >= data_inicio) & (df['data_notificacao'] < data_fim )]\n",
    "df_26 = df_26.reset_index()\n",
    "df_26 = df_26.drop(\"index\", axis=1)\n",
    "df_26"
   ]
  },
  {
   "cell_type": "code",
   "execution_count": null,
   "metadata": {},
   "outputs": [],
   "source": [
    "X_train_oversampled_26, y_train_oversampled_26, X_test_26, y_test_26, mean_test_scores_26, std_test_scores_26, best_scores_26, best_params_26 = apply_model_xgboost(df_26)"
   ]
  },
  {
   "cell_type": "code",
   "execution_count": null,
   "metadata": {},
   "outputs": [],
   "source": [
    "preds_26, final_cl_26 = create_final_cl(X_train_oversampled_26, y_train_oversampled_26, X_test_26, y_test_26, 0.9, 0.25, 7, 5)"
   ]
  },
  {
   "cell_type": "code",
   "execution_count": null,
   "metadata": {},
   "outputs": [],
   "source": [
    "plot_conf_matrix (X_test_26, y_test_26, preds_26, final_cl_26)\n",
    "\n",
    "plot_roc_curve(y_test_26, preds_26)"
   ]
  },
  {
   "cell_type": "markdown",
   "metadata": {},
   "source": [
    "### Determinação dos atributos mais importantes:"
   ]
  },
  {
   "cell_type": "code",
   "execution_count": null,
   "metadata": {},
   "outputs": [],
   "source": [
    "# plot feature importance\n",
    "plt.figure(figsize=(10,10))\n",
    "plot_importance(final_cl_26)\n",
    "plt.show()"
   ]
  }
 ],
 "metadata": {
  "kernelspec": {
   "display_name": "Python 3.9.12 ('base')",
   "language": "python",
   "name": "python3"
  },
  "language_info": {
   "codemirror_mode": {
    "name": "ipython",
    "version": 3
   },
   "file_extension": ".py",
   "mimetype": "text/x-python",
   "name": "python",
   "nbconvert_exporter": "python",
   "pygments_lexer": "ipython3",
   "version": "3.9.12"
  },
  "orig_nbformat": 4,
  "vscode": {
   "interpreter": {
    "hash": "0aaeb22c71f2ae0b9c043eccdf97f0c7955bdacc8e8a30a0863aaa920d0fd752"
   }
  }
 },
 "nbformat": 4,
 "nbformat_minor": 2
}
