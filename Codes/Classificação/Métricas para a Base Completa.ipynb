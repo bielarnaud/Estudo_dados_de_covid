{
 "cells": [
  {
   "cell_type": "code",
   "execution_count": 1,
   "metadata": {},
   "outputs": [],
   "source": [
    "import pandas as pd"
   ]
  },
  {
   "cell_type": "markdown",
   "metadata": {},
   "source": [
    "### Tabelas para as métricas:"
   ]
  },
  {
   "cell_type": "code",
   "execution_count": 2,
   "metadata": {},
   "outputs": [],
   "source": [
    "ranking_auc_roc_score_all = pd.DataFrame(columns = ['Período', 'Modelo', 'AUC ROC score'])"
   ]
  },
  {
   "cell_type": "markdown",
   "metadata": {},
   "source": [
    "# Métricas de cada modelo:"
   ]
  },
  {
   "cell_type": "markdown",
   "metadata": {},
   "source": [
    "## XGBoost:"
   ]
  },
  {
   "cell_type": "code",
   "execution_count": 3,
   "metadata": {},
   "outputs": [
    {
     "data": {
      "text/html": [
       "<div>\n",
       "<style scoped>\n",
       "    .dataframe tbody tr th:only-of-type {\n",
       "        vertical-align: middle;\n",
       "    }\n",
       "\n",
       "    .dataframe tbody tr th {\n",
       "        vertical-align: top;\n",
       "    }\n",
       "\n",
       "    .dataframe thead th {\n",
       "        text-align: right;\n",
       "    }\n",
       "</style>\n",
       "<table border=\"1\" class=\"dataframe\">\n",
       "  <thead>\n",
       "    <tr style=\"text-align: right;\">\n",
       "      <th></th>\n",
       "      <th>Períodos</th>\n",
       "      <th>accuracy score</th>\n",
       "      <th>f1 score</th>\n",
       "      <th>f1 score macro</th>\n",
       "      <th>f1 score micro</th>\n",
       "      <th>f1 score weighted</th>\n",
       "      <th>precision score</th>\n",
       "      <th>precision score macro</th>\n",
       "      <th>precision score micro</th>\n",
       "      <th>precision score weighted</th>\n",
       "      <th>recall score</th>\n",
       "      <th>recall score macro</th>\n",
       "      <th>recall score micro</th>\n",
       "      <th>recall score weighted</th>\n",
       "      <th>roc_auc score</th>\n",
       "    </tr>\n",
       "  </thead>\n",
       "  <tbody>\n",
       "    <tr>\n",
       "      <th>0</th>\n",
       "      <td>26/02/2020 até 15/06/2022</td>\n",
       "      <td>0.763458</td>\n",
       "      <td>0.400358</td>\n",
       "      <td>0.626514</td>\n",
       "      <td>0.763458</td>\n",
       "      <td>0.763458</td>\n",
       "      <td>0.569892</td>\n",
       "      <td>0.682243</td>\n",
       "      <td>0.763458</td>\n",
       "      <td>0.73709</td>\n",
       "      <td>0.308564</td>\n",
       "      <td>0.614236</td>\n",
       "      <td>0.763458</td>\n",
       "      <td>0.763458</td>\n",
       "      <td>0.614236</td>\n",
       "    </tr>\n",
       "  </tbody>\n",
       "</table>\n",
       "</div>"
      ],
      "text/plain": [
       "                    Períodos  accuracy score  f1 score  f1 score macro  \\\n",
       "0  26/02/2020 até 15/06/2022        0.763458  0.400358        0.626514   \n",
       "\n",
       "   f1 score micro  f1 score weighted  precision score  precision score macro  \\\n",
       "0        0.763458           0.763458         0.569892               0.682243   \n",
       "\n",
       "   precision score micro  precision score weighted  recall score  \\\n",
       "0               0.763458                   0.73709      0.308564   \n",
       "\n",
       "   recall score macro  recall score micro  recall score weighted  \\\n",
       "0            0.614236            0.763458               0.763458   \n",
       "\n",
       "   roc_auc score  \n",
       "0       0.614236  "
      ]
     },
     "execution_count": 3,
     "metadata": {},
     "output_type": "execute_result"
    }
   ],
   "source": [
    "metricas_all_xg = pd.read_csv(r\"C:\\Users\\maril\\OneDrive\\Área de Trabalho\\Estudo_dados_de_covid\\Codes\\Classificação\\metricas_all_xg_final.csv\")\n",
    "metricas_all_xg"
   ]
  },
  {
   "cell_type": "code",
   "execution_count": 5,
   "metadata": {},
   "outputs": [
    {
     "data": {
      "text/html": [
       "<div>\n",
       "<style scoped>\n",
       "    .dataframe tbody tr th:only-of-type {\n",
       "        vertical-align: middle;\n",
       "    }\n",
       "\n",
       "    .dataframe tbody tr th {\n",
       "        vertical-align: top;\n",
       "    }\n",
       "\n",
       "    .dataframe thead th {\n",
       "        text-align: right;\n",
       "    }\n",
       "</style>\n",
       "<table border=\"1\" class=\"dataframe\">\n",
       "  <thead>\n",
       "    <tr style=\"text-align: right;\">\n",
       "      <th></th>\n",
       "      <th>Períodos</th>\n",
       "      <th>f1 score</th>\n",
       "      <th>precision score</th>\n",
       "      <th>recall score</th>\n",
       "      <th>roc_auc score</th>\n",
       "    </tr>\n",
       "  </thead>\n",
       "  <tbody>\n",
       "    <tr>\n",
       "      <th>0</th>\n",
       "      <td>26/02/2020 até 15/06/2022</td>\n",
       "      <td>0.400358</td>\n",
       "      <td>0.569892</td>\n",
       "      <td>0.308564</td>\n",
       "      <td>0.614236</td>\n",
       "    </tr>\n",
       "  </tbody>\n",
       "</table>\n",
       "</div>"
      ],
      "text/plain": [
       "                    Períodos  f1 score  precision score  recall score  \\\n",
       "0  26/02/2020 até 15/06/2022  0.400358         0.569892      0.308564   \n",
       "\n",
       "   roc_auc score  \n",
       "0       0.614236  "
      ]
     },
     "execution_count": 5,
     "metadata": {},
     "output_type": "execute_result"
    }
   ],
   "source": [
    "metricas_all_xg_final = metricas_all_xg.drop(['accuracy score', 'f1 score macro', 'f1 score micro', 'f1 score weighted', 'precision score macro', 'precision score micro', 'precision score weighted', 'recall score macro', 'recall score micro', 'recall score weighted'], axis=1)\n",
    "metricas_all_xg_final"
   ]
  },
  {
   "cell_type": "markdown",
   "metadata": {},
   "source": [
    "#### Adicionando na tabela final:"
   ]
  },
  {
   "cell_type": "code",
   "execution_count": 8,
   "metadata": {},
   "outputs": [
    {
     "name": "stderr",
     "output_type": "stream",
     "text": [
      "C:\\Users\\maril\\AppData\\Local\\Temp\\ipykernel_54808\\934614569.py:1: FutureWarning: The frame.append method is deprecated and will be removed from pandas in a future version. Use pandas.concat instead.\n",
      "  ranking_auc_roc_score_all = ranking_auc_roc_score_all.append({'Modelo' : 'XGBoost', 'Período' : '26/02/2020 até 15/06/2022', 'AUC ROC score' : 0.614236}, ignore_index = True)\n"
     ]
    }
   ],
   "source": [
    "ranking_auc_roc_score_all = ranking_auc_roc_score_all.append({'Modelo' : 'XGBoost', 'Período' : '26/02/2020 até 15/06/2022', 'AUC ROC score' : 0.614236}, ignore_index = True)"
   ]
  },
  {
   "cell_type": "markdown",
   "metadata": {},
   "source": [
    "## Random Forest:"
   ]
  },
  {
   "cell_type": "code",
   "execution_count": 6,
   "metadata": {},
   "outputs": [
    {
     "data": {
      "text/html": [
       "<div>\n",
       "<style scoped>\n",
       "    .dataframe tbody tr th:only-of-type {\n",
       "        vertical-align: middle;\n",
       "    }\n",
       "\n",
       "    .dataframe tbody tr th {\n",
       "        vertical-align: top;\n",
       "    }\n",
       "\n",
       "    .dataframe thead th {\n",
       "        text-align: right;\n",
       "    }\n",
       "</style>\n",
       "<table border=\"1\" class=\"dataframe\">\n",
       "  <thead>\n",
       "    <tr style=\"text-align: right;\">\n",
       "      <th></th>\n",
       "      <th>Períodos</th>\n",
       "      <th>accuracy score</th>\n",
       "      <th>f1 score</th>\n",
       "      <th>f1 score macro</th>\n",
       "      <th>f1 score micro</th>\n",
       "      <th>f1 score weighted</th>\n",
       "      <th>precision score</th>\n",
       "      <th>precision score macro</th>\n",
       "      <th>precision score micro</th>\n",
       "      <th>precision score weighted</th>\n",
       "      <th>recall score</th>\n",
       "      <th>recall score macro</th>\n",
       "      <th>recall score micro</th>\n",
       "      <th>recall score weighted</th>\n",
       "      <th>roc_auc score</th>\n",
       "    </tr>\n",
       "  </thead>\n",
       "  <tbody>\n",
       "    <tr>\n",
       "      <th>0</th>\n",
       "      <td>26/02/2020 até 15/06/2022</td>\n",
       "      <td>0.75691</td>\n",
       "      <td>0.306488</td>\n",
       "      <td>0.579557</td>\n",
       "      <td>0.75691</td>\n",
       "      <td>0.75691</td>\n",
       "      <td>0.572742</td>\n",
       "      <td>0.674356</td>\n",
       "      <td>0.75691</td>\n",
       "      <td>0.723795</td>\n",
       "      <td>0.209224</td>\n",
       "      <td>0.577656</td>\n",
       "      <td>0.75691</td>\n",
       "      <td>0.75691</td>\n",
       "      <td>0.577656</td>\n",
       "    </tr>\n",
       "  </tbody>\n",
       "</table>\n",
       "</div>"
      ],
      "text/plain": [
       "                    Períodos  accuracy score  f1 score  f1 score macro  \\\n",
       "0  26/02/2020 até 15/06/2022         0.75691  0.306488        0.579557   \n",
       "\n",
       "   f1 score micro  f1 score weighted  precision score  precision score macro  \\\n",
       "0         0.75691            0.75691         0.572742               0.674356   \n",
       "\n",
       "   precision score micro  precision score weighted  recall score  \\\n",
       "0                0.75691                  0.723795      0.209224   \n",
       "\n",
       "   recall score macro  recall score micro  recall score weighted  \\\n",
       "0            0.577656             0.75691                0.75691   \n",
       "\n",
       "   roc_auc score  \n",
       "0       0.577656  "
      ]
     },
     "execution_count": 6,
     "metadata": {},
     "output_type": "execute_result"
    }
   ],
   "source": [
    "metricas_all_rf = pd.read_csv(r\"C:\\Users\\maril\\OneDrive\\Área de Trabalho\\Estudo_dados_de_covid\\Codes\\Classificação\\metricas_all_rf_final.csv\")\n",
    "metricas_all_rf"
   ]
  },
  {
   "cell_type": "code",
   "execution_count": 7,
   "metadata": {},
   "outputs": [
    {
     "data": {
      "text/html": [
       "<div>\n",
       "<style scoped>\n",
       "    .dataframe tbody tr th:only-of-type {\n",
       "        vertical-align: middle;\n",
       "    }\n",
       "\n",
       "    .dataframe tbody tr th {\n",
       "        vertical-align: top;\n",
       "    }\n",
       "\n",
       "    .dataframe thead th {\n",
       "        text-align: right;\n",
       "    }\n",
       "</style>\n",
       "<table border=\"1\" class=\"dataframe\">\n",
       "  <thead>\n",
       "    <tr style=\"text-align: right;\">\n",
       "      <th></th>\n",
       "      <th>Períodos</th>\n",
       "      <th>f1 score</th>\n",
       "      <th>precision score</th>\n",
       "      <th>recall score</th>\n",
       "      <th>roc_auc score</th>\n",
       "    </tr>\n",
       "  </thead>\n",
       "  <tbody>\n",
       "    <tr>\n",
       "      <th>0</th>\n",
       "      <td>26/02/2020 até 15/06/2022</td>\n",
       "      <td>0.306488</td>\n",
       "      <td>0.572742</td>\n",
       "      <td>0.209224</td>\n",
       "      <td>0.577656</td>\n",
       "    </tr>\n",
       "  </tbody>\n",
       "</table>\n",
       "</div>"
      ],
      "text/plain": [
       "                    Períodos  f1 score  precision score  recall score  \\\n",
       "0  26/02/2020 até 15/06/2022  0.306488         0.572742      0.209224   \n",
       "\n",
       "   roc_auc score  \n",
       "0       0.577656  "
      ]
     },
     "execution_count": 7,
     "metadata": {},
     "output_type": "execute_result"
    }
   ],
   "source": [
    "metricas_all_rf_final = metricas_all_rf.drop(['accuracy score', 'f1 score macro', 'f1 score micro', 'f1 score weighted', 'precision score macro', 'precision score micro', 'precision score weighted', 'recall score macro', 'recall score micro', 'recall score weighted'], axis=1)\n",
    "metricas_all_rf_final"
   ]
  },
  {
   "cell_type": "markdown",
   "metadata": {},
   "source": [
    "#### Adicionando na tabela final:"
   ]
  },
  {
   "cell_type": "code",
   "execution_count": 9,
   "metadata": {},
   "outputs": [
    {
     "name": "stderr",
     "output_type": "stream",
     "text": [
      "C:\\Users\\maril\\AppData\\Local\\Temp\\ipykernel_54808\\235479915.py:1: FutureWarning: The frame.append method is deprecated and will be removed from pandas in a future version. Use pandas.concat instead.\n",
      "  ranking_auc_roc_score_all = ranking_auc_roc_score_all.append({'Modelo' : 'Random Forest', 'Período' : '26/02/2020 até 15/06/2022', 'AUC ROC score' : 0.577656}, ignore_index = True)\n"
     ]
    }
   ],
   "source": [
    "ranking_auc_roc_score_all = ranking_auc_roc_score_all.append({'Modelo' : 'Random Forest', 'Período' : '26/02/2020 até 15/06/2022', 'AUC ROC score' : 0.577656}, ignore_index = True)"
   ]
  },
  {
   "cell_type": "markdown",
   "metadata": {},
   "source": [
    "## SVM:"
   ]
  },
  {
   "cell_type": "code",
   "execution_count": 10,
   "metadata": {},
   "outputs": [
    {
     "data": {
      "text/html": [
       "<div>\n",
       "<style scoped>\n",
       "    .dataframe tbody tr th:only-of-type {\n",
       "        vertical-align: middle;\n",
       "    }\n",
       "\n",
       "    .dataframe tbody tr th {\n",
       "        vertical-align: top;\n",
       "    }\n",
       "\n",
       "    .dataframe thead th {\n",
       "        text-align: right;\n",
       "    }\n",
       "</style>\n",
       "<table border=\"1\" class=\"dataframe\">\n",
       "  <thead>\n",
       "    <tr style=\"text-align: right;\">\n",
       "      <th></th>\n",
       "      <th>Períodos</th>\n",
       "      <th>accuracy score</th>\n",
       "      <th>f1 score</th>\n",
       "      <th>f1 score macro</th>\n",
       "      <th>f1 score micro</th>\n",
       "      <th>f1 score weighted</th>\n",
       "      <th>precision score</th>\n",
       "      <th>precision score macro</th>\n",
       "      <th>precision score micro</th>\n",
       "      <th>precision score weighted</th>\n",
       "      <th>recall score</th>\n",
       "      <th>recall score macro</th>\n",
       "      <th>recall score micro</th>\n",
       "      <th>recall score weighted</th>\n",
       "      <th>roc_auc score</th>\n",
       "    </tr>\n",
       "  </thead>\n",
       "  <tbody>\n",
       "    <tr>\n",
       "      <th>0</th>\n",
       "      <td>26/02/2020 até 15/06/2022</td>\n",
       "      <td>0.746481</td>\n",
       "      <td>0.094398</td>\n",
       "      <td>0.473504</td>\n",
       "      <td>0.746481</td>\n",
       "      <td>0.746481</td>\n",
       "      <td>0.602862</td>\n",
       "      <td>0.676281</td>\n",
       "      <td>0.746481</td>\n",
       "      <td>0.711811</td>\n",
       "      <td>0.051208</td>\n",
       "      <td>0.519738</td>\n",
       "      <td>0.746481</td>\n",
       "      <td>0.746481</td>\n",
       "      <td>0.519738</td>\n",
       "    </tr>\n",
       "  </tbody>\n",
       "</table>\n",
       "</div>"
      ],
      "text/plain": [
       "                    Períodos  accuracy score  f1 score  f1 score macro  \\\n",
       "0  26/02/2020 até 15/06/2022        0.746481  0.094398        0.473504   \n",
       "\n",
       "   f1 score micro  f1 score weighted  precision score  precision score macro  \\\n",
       "0        0.746481           0.746481         0.602862               0.676281   \n",
       "\n",
       "   precision score micro  precision score weighted  recall score  \\\n",
       "0               0.746481                  0.711811      0.051208   \n",
       "\n",
       "   recall score macro  recall score micro  recall score weighted  \\\n",
       "0            0.519738            0.746481               0.746481   \n",
       "\n",
       "   roc_auc score  \n",
       "0       0.519738  "
      ]
     },
     "execution_count": 10,
     "metadata": {},
     "output_type": "execute_result"
    }
   ],
   "source": [
    "metricas_all_svm = pd.read_csv(r\"C:\\Users\\maril\\OneDrive\\Área de Trabalho\\Estudo_dados_de_covid\\Codes\\Classificação\\metricas_all_svm_final.csv\")\n",
    "metricas_all_svm"
   ]
  },
  {
   "cell_type": "code",
   "execution_count": 11,
   "metadata": {},
   "outputs": [
    {
     "data": {
      "text/html": [
       "<div>\n",
       "<style scoped>\n",
       "    .dataframe tbody tr th:only-of-type {\n",
       "        vertical-align: middle;\n",
       "    }\n",
       "\n",
       "    .dataframe tbody tr th {\n",
       "        vertical-align: top;\n",
       "    }\n",
       "\n",
       "    .dataframe thead th {\n",
       "        text-align: right;\n",
       "    }\n",
       "</style>\n",
       "<table border=\"1\" class=\"dataframe\">\n",
       "  <thead>\n",
       "    <tr style=\"text-align: right;\">\n",
       "      <th></th>\n",
       "      <th>Períodos</th>\n",
       "      <th>f1 score</th>\n",
       "      <th>precision score</th>\n",
       "      <th>recall score</th>\n",
       "      <th>roc_auc score</th>\n",
       "    </tr>\n",
       "  </thead>\n",
       "  <tbody>\n",
       "    <tr>\n",
       "      <th>0</th>\n",
       "      <td>26/02/2020 até 15/06/2022</td>\n",
       "      <td>0.094398</td>\n",
       "      <td>0.602862</td>\n",
       "      <td>0.051208</td>\n",
       "      <td>0.519738</td>\n",
       "    </tr>\n",
       "  </tbody>\n",
       "</table>\n",
       "</div>"
      ],
      "text/plain": [
       "                    Períodos  f1 score  precision score  recall score  \\\n",
       "0  26/02/2020 até 15/06/2022  0.094398         0.602862      0.051208   \n",
       "\n",
       "   roc_auc score  \n",
       "0       0.519738  "
      ]
     },
     "execution_count": 11,
     "metadata": {},
     "output_type": "execute_result"
    }
   ],
   "source": [
    "metricas_all_svm_final = metricas_all_svm.drop(['accuracy score', 'f1 score macro', 'f1 score micro', 'f1 score weighted', 'precision score macro', 'precision score micro', 'precision score weighted', 'recall score macro', 'recall score micro', 'recall score weighted'], axis=1)\n",
    "metricas_all_svm_final"
   ]
  },
  {
   "cell_type": "markdown",
   "metadata": {},
   "source": [
    "#### Adicionando na tabela final:"
   ]
  },
  {
   "cell_type": "code",
   "execution_count": 12,
   "metadata": {},
   "outputs": [
    {
     "name": "stderr",
     "output_type": "stream",
     "text": [
      "C:\\Users\\maril\\AppData\\Local\\Temp\\ipykernel_54808\\2108568628.py:1: FutureWarning: The frame.append method is deprecated and will be removed from pandas in a future version. Use pandas.concat instead.\n",
      "  ranking_auc_roc_score_all = ranking_auc_roc_score_all.append({'Modelo' : 'SVM', 'Período' : '26/02/2020 até 15/06/2022', 'AUC ROC score' : 0.519738}, ignore_index = True)\n"
     ]
    }
   ],
   "source": [
    "ranking_auc_roc_score_all = ranking_auc_roc_score_all.append({'Modelo' : 'SVM', 'Período' : '26/02/2020 até 15/06/2022', 'AUC ROC score' : 0.519738}, ignore_index = True)"
   ]
  },
  {
   "cell_type": "markdown",
   "metadata": {},
   "source": [
    "## KNN:"
   ]
  },
  {
   "cell_type": "code",
   "execution_count": 13,
   "metadata": {},
   "outputs": [
    {
     "data": {
      "text/html": [
       "<div>\n",
       "<style scoped>\n",
       "    .dataframe tbody tr th:only-of-type {\n",
       "        vertical-align: middle;\n",
       "    }\n",
       "\n",
       "    .dataframe tbody tr th {\n",
       "        vertical-align: top;\n",
       "    }\n",
       "\n",
       "    .dataframe thead th {\n",
       "        text-align: right;\n",
       "    }\n",
       "</style>\n",
       "<table border=\"1\" class=\"dataframe\">\n",
       "  <thead>\n",
       "    <tr style=\"text-align: right;\">\n",
       "      <th></th>\n",
       "      <th>Períodos</th>\n",
       "      <th>accuracy score</th>\n",
       "      <th>f1 score</th>\n",
       "      <th>f1 score macro</th>\n",
       "      <th>f1 score micro</th>\n",
       "      <th>f1 score weighted</th>\n",
       "      <th>precision score</th>\n",
       "      <th>precision score macro</th>\n",
       "      <th>precision score micro</th>\n",
       "      <th>precision score weighted</th>\n",
       "      <th>recall score</th>\n",
       "      <th>recall score macro</th>\n",
       "      <th>recall score micro</th>\n",
       "      <th>recall score weighted</th>\n",
       "      <th>roc_auc score</th>\n",
       "    </tr>\n",
       "  </thead>\n",
       "  <tbody>\n",
       "    <tr>\n",
       "      <th>0</th>\n",
       "      <td>26/02/2020 até 15/06/2022</td>\n",
       "      <td>0.752127</td>\n",
       "      <td>0.293947</td>\n",
       "      <td>0.571812</td>\n",
       "      <td>0.752127</td>\n",
       "      <td>0.752127</td>\n",
       "      <td>0.544477</td>\n",
       "      <td>0.659171</td>\n",
       "      <td>0.752127</td>\n",
       "      <td>0.715072</td>\n",
       "      <td>0.201316</td>\n",
       "      <td>0.571635</td>\n",
       "      <td>0.752127</td>\n",
       "      <td>0.752127</td>\n",
       "      <td>0.571635</td>\n",
       "    </tr>\n",
       "  </tbody>\n",
       "</table>\n",
       "</div>"
      ],
      "text/plain": [
       "                    Períodos  accuracy score  f1 score  f1 score macro  \\\n",
       "0  26/02/2020 até 15/06/2022        0.752127  0.293947        0.571812   \n",
       "\n",
       "   f1 score micro  f1 score weighted  precision score  precision score macro  \\\n",
       "0        0.752127           0.752127         0.544477               0.659171   \n",
       "\n",
       "   precision score micro  precision score weighted  recall score  \\\n",
       "0               0.752127                  0.715072      0.201316   \n",
       "\n",
       "   recall score macro  recall score micro  recall score weighted  \\\n",
       "0            0.571635            0.752127               0.752127   \n",
       "\n",
       "   roc_auc score  \n",
       "0       0.571635  "
      ]
     },
     "execution_count": 13,
     "metadata": {},
     "output_type": "execute_result"
    }
   ],
   "source": [
    "metricas_all_knn = pd.read_csv(r\"C:\\Users\\maril\\OneDrive\\Área de Trabalho\\Estudo_dados_de_covid\\Codes\\Classificação\\metricas_all_knn_final.csv\")\n",
    "metricas_all_knn"
   ]
  },
  {
   "cell_type": "code",
   "execution_count": 14,
   "metadata": {},
   "outputs": [
    {
     "data": {
      "text/html": [
       "<div>\n",
       "<style scoped>\n",
       "    .dataframe tbody tr th:only-of-type {\n",
       "        vertical-align: middle;\n",
       "    }\n",
       "\n",
       "    .dataframe tbody tr th {\n",
       "        vertical-align: top;\n",
       "    }\n",
       "\n",
       "    .dataframe thead th {\n",
       "        text-align: right;\n",
       "    }\n",
       "</style>\n",
       "<table border=\"1\" class=\"dataframe\">\n",
       "  <thead>\n",
       "    <tr style=\"text-align: right;\">\n",
       "      <th></th>\n",
       "      <th>Períodos</th>\n",
       "      <th>f1 score</th>\n",
       "      <th>precision score</th>\n",
       "      <th>recall score</th>\n",
       "      <th>roc_auc score</th>\n",
       "    </tr>\n",
       "  </thead>\n",
       "  <tbody>\n",
       "    <tr>\n",
       "      <th>0</th>\n",
       "      <td>26/02/2020 até 15/06/2022</td>\n",
       "      <td>0.293947</td>\n",
       "      <td>0.544477</td>\n",
       "      <td>0.201316</td>\n",
       "      <td>0.571635</td>\n",
       "    </tr>\n",
       "  </tbody>\n",
       "</table>\n",
       "</div>"
      ],
      "text/plain": [
       "                    Períodos  f1 score  precision score  recall score  \\\n",
       "0  26/02/2020 até 15/06/2022  0.293947         0.544477      0.201316   \n",
       "\n",
       "   roc_auc score  \n",
       "0       0.571635  "
      ]
     },
     "execution_count": 14,
     "metadata": {},
     "output_type": "execute_result"
    }
   ],
   "source": [
    "metricas_all_knn_final = metricas_all_knn.drop(['accuracy score', 'f1 score macro', 'f1 score micro', 'f1 score weighted', 'precision score macro', 'precision score micro', 'precision score weighted', 'recall score macro', 'recall score micro', 'recall score weighted'], axis=1)\n",
    "metricas_all_knn_final"
   ]
  },
  {
   "cell_type": "markdown",
   "metadata": {},
   "source": [
    "### Adicionando na tabela final:"
   ]
  },
  {
   "cell_type": "code",
   "execution_count": 15,
   "metadata": {},
   "outputs": [
    {
     "name": "stderr",
     "output_type": "stream",
     "text": [
      "C:\\Users\\maril\\AppData\\Local\\Temp\\ipykernel_54808\\1840439846.py:1: FutureWarning: The frame.append method is deprecated and will be removed from pandas in a future version. Use pandas.concat instead.\n",
      "  ranking_auc_roc_score_all = ranking_auc_roc_score_all.append({'Modelo' : 'KNN', 'Período' : '26/02/2020 até 15/06/2022', 'AUC ROC score' : 0.571635}, ignore_index = True)\n"
     ]
    }
   ],
   "source": [
    "ranking_auc_roc_score_all = ranking_auc_roc_score_all.append({'Modelo' : 'KNN', 'Período' : '26/02/2020 até 15/06/2022', 'AUC ROC score' : 0.571635}, ignore_index = True)"
   ]
  },
  {
   "cell_type": "markdown",
   "metadata": {},
   "source": [
    "## Gradient Boosting:"
   ]
  },
  {
   "cell_type": "code",
   "execution_count": 16,
   "metadata": {},
   "outputs": [
    {
     "data": {
      "text/html": [
       "<div>\n",
       "<style scoped>\n",
       "    .dataframe tbody tr th:only-of-type {\n",
       "        vertical-align: middle;\n",
       "    }\n",
       "\n",
       "    .dataframe tbody tr th {\n",
       "        vertical-align: top;\n",
       "    }\n",
       "\n",
       "    .dataframe thead th {\n",
       "        text-align: right;\n",
       "    }\n",
       "</style>\n",
       "<table border=\"1\" class=\"dataframe\">\n",
       "  <thead>\n",
       "    <tr style=\"text-align: right;\">\n",
       "      <th></th>\n",
       "      <th>Períodos</th>\n",
       "      <th>accuracy score</th>\n",
       "      <th>f1 score</th>\n",
       "      <th>f1 score macro</th>\n",
       "      <th>f1 score micro</th>\n",
       "      <th>f1 score weighted</th>\n",
       "      <th>precision score</th>\n",
       "      <th>precision score macro</th>\n",
       "      <th>precision score micro</th>\n",
       "      <th>precision score weighted</th>\n",
       "      <th>recall score</th>\n",
       "      <th>recall score macro</th>\n",
       "      <th>recall score micro</th>\n",
       "      <th>recall score weighted</th>\n",
       "      <th>roc_auc score</th>\n",
       "    </tr>\n",
       "  </thead>\n",
       "  <tbody>\n",
       "    <tr>\n",
       "      <th>0</th>\n",
       "      <td>26/02/2020 até 15/06/2022</td>\n",
       "      <td>0.759498</td>\n",
       "      <td>0.36815</td>\n",
       "      <td>0.609817</td>\n",
       "      <td>0.759498</td>\n",
       "      <td>0.759498</td>\n",
       "      <td>0.577569</td>\n",
       "      <td>0.681092</td>\n",
       "      <td>0.759498</td>\n",
       "      <td>0.730923</td>\n",
       "      <td>0.270184</td>\n",
       "      <td>0.600499</td>\n",
       "      <td>0.759498</td>\n",
       "      <td>0.759498</td>\n",
       "      <td>0.600499</td>\n",
       "    </tr>\n",
       "  </tbody>\n",
       "</table>\n",
       "</div>"
      ],
      "text/plain": [
       "                    Períodos  accuracy score  f1 score  f1 score macro  \\\n",
       "0  26/02/2020 até 15/06/2022        0.759498   0.36815        0.609817   \n",
       "\n",
       "   f1 score micro  f1 score weighted  precision score  precision score macro  \\\n",
       "0        0.759498           0.759498         0.577569               0.681092   \n",
       "\n",
       "   precision score micro  precision score weighted  recall score  \\\n",
       "0               0.759498                  0.730923      0.270184   \n",
       "\n",
       "   recall score macro  recall score micro  recall score weighted  \\\n",
       "0            0.600499            0.759498               0.759498   \n",
       "\n",
       "   roc_auc score  \n",
       "0       0.600499  "
      ]
     },
     "execution_count": 16,
     "metadata": {},
     "output_type": "execute_result"
    }
   ],
   "source": [
    "metricas_all_gb = pd.read_csv(r\"C:\\Users\\maril\\OneDrive\\Área de Trabalho\\Estudo_dados_de_covid\\Codes\\Classificação\\metricas_all_gb_final.csv\")\n",
    "metricas_all_gb"
   ]
  },
  {
   "cell_type": "code",
   "execution_count": 17,
   "metadata": {},
   "outputs": [
    {
     "data": {
      "text/html": [
       "<div>\n",
       "<style scoped>\n",
       "    .dataframe tbody tr th:only-of-type {\n",
       "        vertical-align: middle;\n",
       "    }\n",
       "\n",
       "    .dataframe tbody tr th {\n",
       "        vertical-align: top;\n",
       "    }\n",
       "\n",
       "    .dataframe thead th {\n",
       "        text-align: right;\n",
       "    }\n",
       "</style>\n",
       "<table border=\"1\" class=\"dataframe\">\n",
       "  <thead>\n",
       "    <tr style=\"text-align: right;\">\n",
       "      <th></th>\n",
       "      <th>Períodos</th>\n",
       "      <th>f1 score</th>\n",
       "      <th>precision score</th>\n",
       "      <th>recall score</th>\n",
       "      <th>roc_auc score</th>\n",
       "    </tr>\n",
       "  </thead>\n",
       "  <tbody>\n",
       "    <tr>\n",
       "      <th>0</th>\n",
       "      <td>26/02/2020 até 15/06/2022</td>\n",
       "      <td>0.36815</td>\n",
       "      <td>0.577569</td>\n",
       "      <td>0.270184</td>\n",
       "      <td>0.600499</td>\n",
       "    </tr>\n",
       "  </tbody>\n",
       "</table>\n",
       "</div>"
      ],
      "text/plain": [
       "                    Períodos  f1 score  precision score  recall score  \\\n",
       "0  26/02/2020 até 15/06/2022   0.36815         0.577569      0.270184   \n",
       "\n",
       "   roc_auc score  \n",
       "0       0.600499  "
      ]
     },
     "execution_count": 17,
     "metadata": {},
     "output_type": "execute_result"
    }
   ],
   "source": [
    "metricas_all_gb_final = metricas_all_gb.drop(['accuracy score', 'f1 score macro', 'f1 score micro', 'f1 score weighted', 'precision score macro', 'precision score micro', 'precision score weighted', 'recall score macro', 'recall score micro', 'recall score weighted'], axis=1)\n",
    "metricas_all_gb_final.head(5)"
   ]
  },
  {
   "cell_type": "markdown",
   "metadata": {},
   "source": [
    "### Adicionando na tabela final:"
   ]
  },
  {
   "cell_type": "code",
   "execution_count": 18,
   "metadata": {},
   "outputs": [
    {
     "name": "stderr",
     "output_type": "stream",
     "text": [
      "C:\\Users\\maril\\AppData\\Local\\Temp\\ipykernel_54808\\1000393523.py:1: FutureWarning: The frame.append method is deprecated and will be removed from pandas in a future version. Use pandas.concat instead.\n",
      "  ranking_auc_roc_score_all = ranking_auc_roc_score_all.append({'Modelo' : 'Gradient Boosting', 'Período' : '26/02/2020 até 15/06/2022', 'AUC ROC score' : 0.600499}, ignore_index = True)\n"
     ]
    }
   ],
   "source": [
    "ranking_auc_roc_score_all = ranking_auc_roc_score_all.append({'Modelo' : 'Gradient Boosting', 'Período' : '26/02/2020 até 15/06/2022', 'AUC ROC score' : 0.600499}, ignore_index = True)"
   ]
  },
  {
   "cell_type": "markdown",
   "metadata": {},
   "source": [
    "## Tabela final:"
   ]
  },
  {
   "cell_type": "code",
   "execution_count": 19,
   "metadata": {},
   "outputs": [
    {
     "data": {
      "text/html": [
       "<div>\n",
       "<style scoped>\n",
       "    .dataframe tbody tr th:only-of-type {\n",
       "        vertical-align: middle;\n",
       "    }\n",
       "\n",
       "    .dataframe tbody tr th {\n",
       "        vertical-align: top;\n",
       "    }\n",
       "\n",
       "    .dataframe thead th {\n",
       "        text-align: right;\n",
       "    }\n",
       "</style>\n",
       "<table border=\"1\" class=\"dataframe\">\n",
       "  <thead>\n",
       "    <tr style=\"text-align: right;\">\n",
       "      <th></th>\n",
       "      <th>Período</th>\n",
       "      <th>Modelo</th>\n",
       "      <th>AUC ROC score</th>\n",
       "    </tr>\n",
       "  </thead>\n",
       "  <tbody>\n",
       "    <tr>\n",
       "      <th>0</th>\n",
       "      <td>26/02/2020 até 15/06/2022</td>\n",
       "      <td>XGBoost</td>\n",
       "      <td>0.614236</td>\n",
       "    </tr>\n",
       "    <tr>\n",
       "      <th>1</th>\n",
       "      <td>26/02/2020 até 15/06/2022</td>\n",
       "      <td>Random Forest</td>\n",
       "      <td>0.577656</td>\n",
       "    </tr>\n",
       "    <tr>\n",
       "      <th>2</th>\n",
       "      <td>26/02/2020 até 15/06/2022</td>\n",
       "      <td>SVM</td>\n",
       "      <td>0.519738</td>\n",
       "    </tr>\n",
       "    <tr>\n",
       "      <th>3</th>\n",
       "      <td>26/02/2020 até 15/06/2022</td>\n",
       "      <td>KNN</td>\n",
       "      <td>0.571635</td>\n",
       "    </tr>\n",
       "    <tr>\n",
       "      <th>4</th>\n",
       "      <td>26/02/2020 até 15/06/2022</td>\n",
       "      <td>Gradient Boosting</td>\n",
       "      <td>0.600499</td>\n",
       "    </tr>\n",
       "  </tbody>\n",
       "</table>\n",
       "</div>"
      ],
      "text/plain": [
       "                     Período             Modelo AUC ROC score\n",
       "0  26/02/2020 até 15/06/2022            XGBoost      0.614236\n",
       "1  26/02/2020 até 15/06/2022      Random Forest      0.577656\n",
       "2  26/02/2020 até 15/06/2022                SVM      0.519738\n",
       "3  26/02/2020 até 15/06/2022                KNN      0.571635\n",
       "4  26/02/2020 até 15/06/2022  Gradient Boosting      0.600499"
      ]
     },
     "execution_count": 19,
     "metadata": {},
     "output_type": "execute_result"
    }
   ],
   "source": [
    "ranking_auc_roc_score_all"
   ]
  },
  {
   "cell_type": "code",
   "execution_count": 20,
   "metadata": {},
   "outputs": [
    {
     "data": {
      "text/html": [
       "<div>\n",
       "<style scoped>\n",
       "    .dataframe tbody tr th:only-of-type {\n",
       "        vertical-align: middle;\n",
       "    }\n",
       "\n",
       "    .dataframe tbody tr th {\n",
       "        vertical-align: top;\n",
       "    }\n",
       "\n",
       "    .dataframe thead th {\n",
       "        text-align: right;\n",
       "    }\n",
       "</style>\n",
       "<table border=\"1\" class=\"dataframe\">\n",
       "  <thead>\n",
       "    <tr style=\"text-align: right;\">\n",
       "      <th></th>\n",
       "      <th>Período</th>\n",
       "      <th>Modelo</th>\n",
       "      <th>AUC ROC score</th>\n",
       "    </tr>\n",
       "  </thead>\n",
       "  <tbody>\n",
       "    <tr>\n",
       "      <th>0</th>\n",
       "      <td>26/02/2020 até 15/06/2022</td>\n",
       "      <td>XGBoost</td>\n",
       "      <td>0.614236</td>\n",
       "    </tr>\n",
       "    <tr>\n",
       "      <th>1</th>\n",
       "      <td>26/02/2020 até 15/06/2022</td>\n",
       "      <td>Gradient Boosting</td>\n",
       "      <td>0.600499</td>\n",
       "    </tr>\n",
       "    <tr>\n",
       "      <th>2</th>\n",
       "      <td>26/02/2020 até 15/06/2022</td>\n",
       "      <td>Random Forest</td>\n",
       "      <td>0.577656</td>\n",
       "    </tr>\n",
       "    <tr>\n",
       "      <th>3</th>\n",
       "      <td>26/02/2020 até 15/06/2022</td>\n",
       "      <td>KNN</td>\n",
       "      <td>0.571635</td>\n",
       "    </tr>\n",
       "    <tr>\n",
       "      <th>4</th>\n",
       "      <td>26/02/2020 até 15/06/2022</td>\n",
       "      <td>SVM</td>\n",
       "      <td>0.519738</td>\n",
       "    </tr>\n",
       "  </tbody>\n",
       "</table>\n",
       "</div>"
      ],
      "text/plain": [
       "                     Período             Modelo AUC ROC score\n",
       "0  26/02/2020 até 15/06/2022            XGBoost      0.614236\n",
       "1  26/02/2020 até 15/06/2022  Gradient Boosting      0.600499\n",
       "2  26/02/2020 até 15/06/2022      Random Forest      0.577656\n",
       "3  26/02/2020 até 15/06/2022                KNN      0.571635\n",
       "4  26/02/2020 até 15/06/2022                SVM      0.519738"
      ]
     },
     "execution_count": 20,
     "metadata": {},
     "output_type": "execute_result"
    }
   ],
   "source": [
    "ranking_auc_roc_score_all_final = ranking_auc_roc_score_all.sort_values(by=['AUC ROC score'],ignore_index=True, ascending=False)\n",
    "ranking_auc_roc_score_all_final"
   ]
  }
 ],
 "metadata": {
  "kernelspec": {
   "display_name": "Python 3.9.12 ('base')",
   "language": "python",
   "name": "python3"
  },
  "language_info": {
   "codemirror_mode": {
    "name": "ipython",
    "version": 3
   },
   "file_extension": ".py",
   "mimetype": "text/x-python",
   "name": "python",
   "nbconvert_exporter": "python",
   "pygments_lexer": "ipython3",
   "version": "3.9.12"
  },
  "orig_nbformat": 4,
  "vscode": {
   "interpreter": {
    "hash": "0aaeb22c71f2ae0b9c043eccdf97f0c7955bdacc8e8a30a0863aaa920d0fd752"
   }
  }
 },
 "nbformat": 4,
 "nbformat_minor": 2
}
