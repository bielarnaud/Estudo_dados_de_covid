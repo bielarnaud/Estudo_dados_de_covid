{
 "cells": [
  {
   "cell_type": "code",
   "execution_count": 1,
   "metadata": {},
   "outputs": [],
   "source": [
    "import pandas as pd\n",
    "import numpy as np\n",
    "import matplotlib.pyplot as plt\n",
    "import seaborn as sns\n",
    "\n",
    "from sklearn.ensemble import RandomForestClassifier\n",
    "from sklearn.inspection import permutation_importance\n",
    "\n",
    "from imblearn.over_sampling import RandomOverSampler \n",
    "\n",
    "from functions.Pre_processing_Casos_Graves import *\n",
    "from functions.Pre_processing_models import *\n",
    "\n",
    "from sklearn.model_selection import GridSearchCV\n",
    "from sklearn.model_selection import RepeatedKFold\n",
    "from sklearn.model_selection._split import StratifiedKFold\n",
    "\n",
    "from sklearn import metrics\n",
    "from sklearn.metrics import f1_score, precision_score, recall_score, accuracy_score\n",
    "from sklearn.metrics import confusion_matrix\n",
    "from sklearn.metrics import plot_confusion_matrix\n",
    "from sklearn.metrics import classification_report\n",
    "from sklearn.metrics import roc_auc_score"
   ]
  },
  {
   "cell_type": "markdown",
   "metadata": {},
   "source": [
    "#### Lendo o dataset:"
   ]
  },
  {
   "cell_type": "code",
   "execution_count": 2,
   "metadata": {},
   "outputs": [],
   "source": [
    "df = pd.read_csv('..\\Data\\Casos Graves\\df_casos_graves')"
   ]
  },
  {
   "cell_type": "markdown",
   "metadata": {},
   "source": [
    "#### Utilizando a class de pré-processamento para preparar o dataset:"
   ]
  },
  {
   "cell_type": "code",
   "execution_count": 3,
   "metadata": {},
   "outputs": [],
   "source": [
    "list_features = [\"SYMPTOM_COUGH\",'SYMPTOM_COLD','SYMPTOM_AIR_INSUFFICIENCY','SYMPTOM_FEVER','SYMPTOM_LOW_OXYGEN_SATURATION','SYMPTOM_BREATHING_CONDITION','SYMPTOM_TORACIC_APERTURE','SYMPTOM_THROAT_CONDITION',\n",
    "                'SYMPTOM_HEADACHE','SYMPTOM_BODY_PAIN','SYMPTOM_DIARRHEA','SYMPTOM_RUNNY_NOSE','SYMPTOM_NOSE_CONGESTION','SYMPTOM_WEAKNESS','SYMPTOM_ANOSMIA_OR_HYPOSMIA','SYMPTOM_NAUSEA','SYMPTOM_LACK_OF_APPETITE',\n",
    "                'SYMPTOM_ABDOMINAL_PAIN','SYMPTOM_CONSCIOUSNESS_DEGRADATION','DISEASE_HEART_OR_VASCULAR','DISEASE_DIABETES','DISEASE_HYPERTENSION','DISEASE_RESPIRATORY','DISEASE_OBESITY','DISEASE_KIDNEY','DISEASE_IMMUNOSUPPRESSION',\n",
    "                'DISEASE_TABAGIST','DISEASE_ETILISM','DISEASE_LIVER','DISEASE_NEUROLOGIC','death', 'idade', 'sexo_Feminino','sexo_Masculino', 'data_notificacao']\n",
    "features = np.array(list_features)"
   ]
  },
  {
   "cell_type": "code",
   "execution_count": 4,
   "metadata": {},
   "outputs": [
    {
     "name": "stderr",
     "output_type": "stream",
     "text": [
      "C:\\Users\\maril\\AppData\\Local\\Temp\\ipykernel_23200\\3432879523.py:6: SettingWithCopyWarning: \n",
      "A value is trying to be set on a copy of a slice from a DataFrame.\n",
      "Try using .loc[row_indexer,col_indexer] = value instead\n",
      "\n",
      "See the caveats in the documentation: https://pandas.pydata.org/pandas-docs/stable/user_guide/indexing.html#returning-a-view-versus-a-copy\n",
      "  df['data_notificacao'] = pd.to_datetime(df['data_notificacao'])\n"
     ]
    },
    {
     "data": {
      "text/html": [
       "<div>\n",
       "<style scoped>\n",
       "    .dataframe tbody tr th:only-of-type {\n",
       "        vertical-align: middle;\n",
       "    }\n",
       "\n",
       "    .dataframe tbody tr th {\n",
       "        vertical-align: top;\n",
       "    }\n",
       "\n",
       "    .dataframe thead th {\n",
       "        text-align: right;\n",
       "    }\n",
       "</style>\n",
       "<table border=\"1\" class=\"dataframe\">\n",
       "  <thead>\n",
       "    <tr style=\"text-align: right;\">\n",
       "      <th></th>\n",
       "      <th>SYMPTOM_COUGH</th>\n",
       "      <th>SYMPTOM_COLD</th>\n",
       "      <th>SYMPTOM_AIR_INSUFFICIENCY</th>\n",
       "      <th>SYMPTOM_FEVER</th>\n",
       "      <th>SYMPTOM_LOW_OXYGEN_SATURATION</th>\n",
       "      <th>SYMPTOM_BREATHING_CONDITION</th>\n",
       "      <th>SYMPTOM_TORACIC_APERTURE</th>\n",
       "      <th>SYMPTOM_THROAT_CONDITION</th>\n",
       "      <th>SYMPTOM_HEADACHE</th>\n",
       "      <th>SYMPTOM_BODY_PAIN</th>\n",
       "      <th>...</th>\n",
       "      <th>DISEASE_IMMUNOSUPPRESSION</th>\n",
       "      <th>DISEASE_TABAGIST</th>\n",
       "      <th>DISEASE_ETILISM</th>\n",
       "      <th>DISEASE_LIVER</th>\n",
       "      <th>DISEASE_NEUROLOGIC</th>\n",
       "      <th>death</th>\n",
       "      <th>idade</th>\n",
       "      <th>sexo_Feminino</th>\n",
       "      <th>sexo_Masculino</th>\n",
       "      <th>data_notificacao</th>\n",
       "    </tr>\n",
       "  </thead>\n",
       "  <tbody>\n",
       "    <tr>\n",
       "      <th>0</th>\n",
       "      <td>0</td>\n",
       "      <td>0</td>\n",
       "      <td>0</td>\n",
       "      <td>1</td>\n",
       "      <td>0</td>\n",
       "      <td>0</td>\n",
       "      <td>0</td>\n",
       "      <td>1</td>\n",
       "      <td>0</td>\n",
       "      <td>0</td>\n",
       "      <td>...</td>\n",
       "      <td>0</td>\n",
       "      <td>0</td>\n",
       "      <td>0</td>\n",
       "      <td>0</td>\n",
       "      <td>0</td>\n",
       "      <td>0</td>\n",
       "      <td>0.356522</td>\n",
       "      <td>0</td>\n",
       "      <td>1</td>\n",
       "      <td>2020-02-26</td>\n",
       "    </tr>\n",
       "    <tr>\n",
       "      <th>1</th>\n",
       "      <td>0</td>\n",
       "      <td>0</td>\n",
       "      <td>0</td>\n",
       "      <td>1</td>\n",
       "      <td>0</td>\n",
       "      <td>0</td>\n",
       "      <td>0</td>\n",
       "      <td>1</td>\n",
       "      <td>0</td>\n",
       "      <td>0</td>\n",
       "      <td>...</td>\n",
       "      <td>0</td>\n",
       "      <td>0</td>\n",
       "      <td>0</td>\n",
       "      <td>0</td>\n",
       "      <td>0</td>\n",
       "      <td>0</td>\n",
       "      <td>0.278261</td>\n",
       "      <td>0</td>\n",
       "      <td>1</td>\n",
       "      <td>2020-02-26</td>\n",
       "    </tr>\n",
       "    <tr>\n",
       "      <th>2</th>\n",
       "      <td>1</td>\n",
       "      <td>0</td>\n",
       "      <td>1</td>\n",
       "      <td>1</td>\n",
       "      <td>0</td>\n",
       "      <td>0</td>\n",
       "      <td>0</td>\n",
       "      <td>1</td>\n",
       "      <td>0</td>\n",
       "      <td>0</td>\n",
       "      <td>...</td>\n",
       "      <td>0</td>\n",
       "      <td>0</td>\n",
       "      <td>0</td>\n",
       "      <td>0</td>\n",
       "      <td>0</td>\n",
       "      <td>0</td>\n",
       "      <td>0.217391</td>\n",
       "      <td>1</td>\n",
       "      <td>0</td>\n",
       "      <td>2020-02-27</td>\n",
       "    </tr>\n",
       "    <tr>\n",
       "      <th>3</th>\n",
       "      <td>1</td>\n",
       "      <td>0</td>\n",
       "      <td>1</td>\n",
       "      <td>1</td>\n",
       "      <td>0</td>\n",
       "      <td>0</td>\n",
       "      <td>0</td>\n",
       "      <td>1</td>\n",
       "      <td>1</td>\n",
       "      <td>0</td>\n",
       "      <td>...</td>\n",
       "      <td>0</td>\n",
       "      <td>0</td>\n",
       "      <td>0</td>\n",
       "      <td>0</td>\n",
       "      <td>0</td>\n",
       "      <td>0</td>\n",
       "      <td>0.278261</td>\n",
       "      <td>0</td>\n",
       "      <td>1</td>\n",
       "      <td>2020-02-27</td>\n",
       "    </tr>\n",
       "    <tr>\n",
       "      <th>4</th>\n",
       "      <td>1</td>\n",
       "      <td>0</td>\n",
       "      <td>1</td>\n",
       "      <td>1</td>\n",
       "      <td>0</td>\n",
       "      <td>0</td>\n",
       "      <td>0</td>\n",
       "      <td>0</td>\n",
       "      <td>1</td>\n",
       "      <td>0</td>\n",
       "      <td>...</td>\n",
       "      <td>0</td>\n",
       "      <td>0</td>\n",
       "      <td>0</td>\n",
       "      <td>0</td>\n",
       "      <td>0</td>\n",
       "      <td>0</td>\n",
       "      <td>0.260870</td>\n",
       "      <td>1</td>\n",
       "      <td>0</td>\n",
       "      <td>2020-02-27</td>\n",
       "    </tr>\n",
       "    <tr>\n",
       "      <th>...</th>\n",
       "      <td>...</td>\n",
       "      <td>...</td>\n",
       "      <td>...</td>\n",
       "      <td>...</td>\n",
       "      <td>...</td>\n",
       "      <td>...</td>\n",
       "      <td>...</td>\n",
       "      <td>...</td>\n",
       "      <td>...</td>\n",
       "      <td>...</td>\n",
       "      <td>...</td>\n",
       "      <td>...</td>\n",
       "      <td>...</td>\n",
       "      <td>...</td>\n",
       "      <td>...</td>\n",
       "      <td>...</td>\n",
       "      <td>...</td>\n",
       "      <td>...</td>\n",
       "      <td>...</td>\n",
       "      <td>...</td>\n",
       "      <td>...</td>\n",
       "    </tr>\n",
       "    <tr>\n",
       "      <th>36430</th>\n",
       "      <td>1</td>\n",
       "      <td>0</td>\n",
       "      <td>1</td>\n",
       "      <td>1</td>\n",
       "      <td>0</td>\n",
       "      <td>0</td>\n",
       "      <td>0</td>\n",
       "      <td>0</td>\n",
       "      <td>0</td>\n",
       "      <td>0</td>\n",
       "      <td>...</td>\n",
       "      <td>0</td>\n",
       "      <td>0</td>\n",
       "      <td>0</td>\n",
       "      <td>0</td>\n",
       "      <td>0</td>\n",
       "      <td>0</td>\n",
       "      <td>0.000000</td>\n",
       "      <td>1</td>\n",
       "      <td>0</td>\n",
       "      <td>2022-06-12</td>\n",
       "    </tr>\n",
       "    <tr>\n",
       "      <th>36431</th>\n",
       "      <td>1</td>\n",
       "      <td>0</td>\n",
       "      <td>1</td>\n",
       "      <td>0</td>\n",
       "      <td>0</td>\n",
       "      <td>0</td>\n",
       "      <td>0</td>\n",
       "      <td>0</td>\n",
       "      <td>0</td>\n",
       "      <td>0</td>\n",
       "      <td>...</td>\n",
       "      <td>0</td>\n",
       "      <td>0</td>\n",
       "      <td>0</td>\n",
       "      <td>0</td>\n",
       "      <td>0</td>\n",
       "      <td>0</td>\n",
       "      <td>0.556522</td>\n",
       "      <td>0</td>\n",
       "      <td>1</td>\n",
       "      <td>2022-06-12</td>\n",
       "    </tr>\n",
       "    <tr>\n",
       "      <th>36432</th>\n",
       "      <td>1</td>\n",
       "      <td>0</td>\n",
       "      <td>1</td>\n",
       "      <td>0</td>\n",
       "      <td>0</td>\n",
       "      <td>0</td>\n",
       "      <td>0</td>\n",
       "      <td>0</td>\n",
       "      <td>0</td>\n",
       "      <td>0</td>\n",
       "      <td>...</td>\n",
       "      <td>0</td>\n",
       "      <td>0</td>\n",
       "      <td>0</td>\n",
       "      <td>0</td>\n",
       "      <td>0</td>\n",
       "      <td>0</td>\n",
       "      <td>0.573913</td>\n",
       "      <td>1</td>\n",
       "      <td>0</td>\n",
       "      <td>2022-06-12</td>\n",
       "    </tr>\n",
       "    <tr>\n",
       "      <th>36433</th>\n",
       "      <td>1</td>\n",
       "      <td>0</td>\n",
       "      <td>1</td>\n",
       "      <td>0</td>\n",
       "      <td>0</td>\n",
       "      <td>0</td>\n",
       "      <td>0</td>\n",
       "      <td>0</td>\n",
       "      <td>0</td>\n",
       "      <td>0</td>\n",
       "      <td>...</td>\n",
       "      <td>0</td>\n",
       "      <td>0</td>\n",
       "      <td>0</td>\n",
       "      <td>0</td>\n",
       "      <td>0</td>\n",
       "      <td>0</td>\n",
       "      <td>0.000000</td>\n",
       "      <td>0</td>\n",
       "      <td>1</td>\n",
       "      <td>2022-06-13</td>\n",
       "    </tr>\n",
       "    <tr>\n",
       "      <th>36434</th>\n",
       "      <td>1</td>\n",
       "      <td>0</td>\n",
       "      <td>1</td>\n",
       "      <td>0</td>\n",
       "      <td>0</td>\n",
       "      <td>0</td>\n",
       "      <td>0</td>\n",
       "      <td>0</td>\n",
       "      <td>0</td>\n",
       "      <td>0</td>\n",
       "      <td>...</td>\n",
       "      <td>0</td>\n",
       "      <td>0</td>\n",
       "      <td>0</td>\n",
       "      <td>0</td>\n",
       "      <td>0</td>\n",
       "      <td>0</td>\n",
       "      <td>0.556522</td>\n",
       "      <td>0</td>\n",
       "      <td>1</td>\n",
       "      <td>2022-06-13</td>\n",
       "    </tr>\n",
       "  </tbody>\n",
       "</table>\n",
       "<p>36435 rows × 35 columns</p>\n",
       "</div>"
      ],
      "text/plain": [
       "       SYMPTOM_COUGH  SYMPTOM_COLD  SYMPTOM_AIR_INSUFFICIENCY  SYMPTOM_FEVER  \\\n",
       "0                  0             0                          0              1   \n",
       "1                  0             0                          0              1   \n",
       "2                  1             0                          1              1   \n",
       "3                  1             0                          1              1   \n",
       "4                  1             0                          1              1   \n",
       "...              ...           ...                        ...            ...   \n",
       "36430              1             0                          1              1   \n",
       "36431              1             0                          1              0   \n",
       "36432              1             0                          1              0   \n",
       "36433              1             0                          1              0   \n",
       "36434              1             0                          1              0   \n",
       "\n",
       "       SYMPTOM_LOW_OXYGEN_SATURATION  SYMPTOM_BREATHING_CONDITION  \\\n",
       "0                                  0                            0   \n",
       "1                                  0                            0   \n",
       "2                                  0                            0   \n",
       "3                                  0                            0   \n",
       "4                                  0                            0   \n",
       "...                              ...                          ...   \n",
       "36430                              0                            0   \n",
       "36431                              0                            0   \n",
       "36432                              0                            0   \n",
       "36433                              0                            0   \n",
       "36434                              0                            0   \n",
       "\n",
       "       SYMPTOM_TORACIC_APERTURE  SYMPTOM_THROAT_CONDITION  SYMPTOM_HEADACHE  \\\n",
       "0                             0                         1                 0   \n",
       "1                             0                         1                 0   \n",
       "2                             0                         1                 0   \n",
       "3                             0                         1                 1   \n",
       "4                             0                         0                 1   \n",
       "...                         ...                       ...               ...   \n",
       "36430                         0                         0                 0   \n",
       "36431                         0                         0                 0   \n",
       "36432                         0                         0                 0   \n",
       "36433                         0                         0                 0   \n",
       "36434                         0                         0                 0   \n",
       "\n",
       "       SYMPTOM_BODY_PAIN  ...  DISEASE_IMMUNOSUPPRESSION  DISEASE_TABAGIST  \\\n",
       "0                      0  ...                          0                 0   \n",
       "1                      0  ...                          0                 0   \n",
       "2                      0  ...                          0                 0   \n",
       "3                      0  ...                          0                 0   \n",
       "4                      0  ...                          0                 0   \n",
       "...                  ...  ...                        ...               ...   \n",
       "36430                  0  ...                          0                 0   \n",
       "36431                  0  ...                          0                 0   \n",
       "36432                  0  ...                          0                 0   \n",
       "36433                  0  ...                          0                 0   \n",
       "36434                  0  ...                          0                 0   \n",
       "\n",
       "       DISEASE_ETILISM  DISEASE_LIVER  DISEASE_NEUROLOGIC  death     idade  \\\n",
       "0                    0              0                   0      0  0.356522   \n",
       "1                    0              0                   0      0  0.278261   \n",
       "2                    0              0                   0      0  0.217391   \n",
       "3                    0              0                   0      0  0.278261   \n",
       "4                    0              0                   0      0  0.260870   \n",
       "...                ...            ...                 ...    ...       ...   \n",
       "36430                0              0                   0      0  0.000000   \n",
       "36431                0              0                   0      0  0.556522   \n",
       "36432                0              0                   0      0  0.573913   \n",
       "36433                0              0                   0      0  0.000000   \n",
       "36434                0              0                   0      0  0.556522   \n",
       "\n",
       "       sexo_Feminino  sexo_Masculino  data_notificacao  \n",
       "0                  0               1        2020-02-26  \n",
       "1                  0               1        2020-02-26  \n",
       "2                  1               0        2020-02-27  \n",
       "3                  0               1        2020-02-27  \n",
       "4                  1               0        2020-02-27  \n",
       "...              ...             ...               ...  \n",
       "36430              1               0        2022-06-12  \n",
       "36431              0               1        2022-06-12  \n",
       "36432              1               0        2022-06-12  \n",
       "36433              0               1        2022-06-13  \n",
       "36434              0               1        2022-06-13  \n",
       "\n",
       "[36435 rows x 35 columns]"
      ]
     },
     "execution_count": 4,
     "metadata": {},
     "output_type": "execute_result"
    }
   ],
   "source": [
    "Pre_processing_models_df = Pre_processing_models(df)\n",
    "Pre_processing_models_df.run_graves()\n",
    "\n",
    "df = Pre_processing_models_df.df\n",
    "df = df[list_features]\n",
    "df['data_notificacao'] = pd.to_datetime(df['data_notificacao'])\n",
    "df = df.sort_values(by='data_notificacao', ascending=True)\n",
    "df = df.reset_index()\n",
    "df = df.drop(\"index\", axis=1)\n",
    "df"
   ]
  },
  {
   "cell_type": "markdown",
   "metadata": {},
   "source": [
    "### Criação de uma função para configuração do modelo:"
   ]
  },
  {
   "cell_type": "code",
   "execution_count": 15,
   "metadata": {},
   "outputs": [],
   "source": [
    "from sklearn.ensemble import RandomForestClassifier\n",
    "\n",
    "def instantiate_RandomForest_model (X_train, y_train):\n",
    "    param_grid = {\n",
    "        'max_depth':[3,5,10,None],\n",
    "        'n_estimators':[10,100,200],\n",
    "        'max_features':[1,3,5,7],\n",
    "        'min_samples_leaf':[1,2,3],\n",
    "        'min_samples_split':[2,3,4]\n",
    "           }\n",
    "\n",
    "    # Init classifier\n",
    "    rf_cl = RandomForestClassifier()\n",
    "\n",
    "    # prepare the cross-validation procedure\n",
    "    cv = RepeatedKFold(n_splits = 5, n_repeats = 10, random_state = 1)\n",
    "\n",
    "    # Init Grid Search\n",
    "    grid_cv = GridSearchCV(rf_cl, param_grid, n_jobs = -1, cv=5, scoring = \"roc_auc\", error_score='raise')\n",
    "\n",
    "    # Fit \n",
    "    _ = grid_cv.fit(X_train, y_train)\n",
    "\n",
    "    mean_test_score = grid_cv.cv_results_['mean_test_score'].mean()\n",
    "    std_test_score = grid_cv.cv_results_['std_test_score'].mean()\n",
    "    best_score = grid_cv.best_score_\n",
    "    best_params = grid_cv.best_params_\n",
    "\n",
    "    #print(f\"mean_test_score: {grid_cv.cv_results_['mean_test_score']}\")\n",
    "    #print(f\"std_test_score: {grid_cv.cv_results_['std_test_score']}\")\n",
    "    #print('')\n",
    "\n",
    "    print('#'*40)\n",
    "    #print(f\"mean_test_score: {grid_cv.cv_results_['mean_test_score'].mean()}\")\n",
    "    #print(f\"std_test_score: {grid_cv.cv_results_['std_test_score'].mean()}\")\n",
    "    print('')\n",
    "    print(f'best_score: {grid_cv.best_score_}')\n",
    "    print(f'best_params_: {grid_cv.best_params_}')\n",
    "    print('#'*40)\n",
    "    print('')\n",
    "\n",
    "    return mean_test_score, std_test_score, best_score, best_params"
   ]
  },
  {
   "cell_type": "markdown",
   "metadata": {},
   "source": [
    "### Criação de uma função para aplicação do modelo:"
   ]
  },
  {
   "cell_type": "code",
   "execution_count": 11,
   "metadata": {},
   "outputs": [],
   "source": [
    "def apply_model_randomforest(df):\n",
    "    list_random_states = [0, 42, 50, 54]\n",
    "\n",
    "    mean_test_scores = []\n",
    "    std_test_scores = []\n",
    "    best_scores = []\n",
    "    best_params = []\n",
    "\n",
    "    #treino!\n",
    "    data_inicio = df['data_notificacao'][0]\n",
    "    data_fim = df['data_notificacao'][0]+pd.Timedelta(days=45)\n",
    "    \n",
    "    treino = df[(df['data_notificacao'] >= data_inicio) & (df['data_notificacao'] <= data_fim )]\n",
    "    X_train = treino.drop(labels=['death', 'data_notificacao'], axis=1)\n",
    "    y_train = treino['death']\n",
    "\n",
    "    #teste!\n",
    "    teste = df[(df['data_notificacao'] > data_fim)]\n",
    "    X_test = teste.drop(labels=['death', 'data_notificacao'], axis=1)\n",
    "    y_test = teste['death']\n",
    "\n",
    "    oversample = RandomOverSampler(sampling_strategy='minority')\n",
    "    X_over, y_over = oversample.fit_resample(X_train, y_train)\n",
    "\n",
    "\n",
    "    for random_state in list_random_states:\n",
    "\n",
    "        mean_test_score, std_test_score, best_score, best_param = instantiate_RandomForest_model(X_over, y_over)\n",
    "\n",
    "        mean_test_scores.append(mean_test_score)\n",
    "        std_test_scores.append(std_test_score)\n",
    "        best_scores.append(best_score)\n",
    "        best_params.append(best_param)\n",
    "\n",
    "    return (X_over, y_over, X_test, y_test, mean_test_scores, std_test_scores, best_scores, best_params)"
   ]
  },
  {
   "cell_type": "markdown",
   "metadata": {},
   "source": [
    "### Criação de uma função para imprimir as métricas do classificador final de cada modelo:"
   ]
  },
  {
   "cell_type": "code",
   "execution_count": 7,
   "metadata": {},
   "outputs": [],
   "source": [
    "from sklearn.ensemble import RandomForestClassifier\n",
    "\n",
    "def create_final_cl(X_over, y_over, X_test, y_test, max_depth, n_estimators, max_features, min_samples_leaf, min_samples_split):\n",
    "\n",
    "    # parametrizando o modelo final\n",
    "    final_cl = RandomForestClassifier(max_depth = max_depth, n_estimators = n_estimators, max_features = max_features, min_samples_leaf = min_samples_leaf, min_samples_split = min_samples_split)\n",
    "    #treinando o modelo final\n",
    "    final_cl.fit(X_over, y_over)\n",
    "    preds = final_cl.predict(X_test)\n",
    "    accuracy_score(y_test, preds)\n",
    "\n",
    "    print('accuracy_score:', accuracy_score(y_test, preds))\n",
    "    print('#'*40)\n",
    "\n",
    "    print('\"\"\"Métricas f1_score:\"\"\"')\n",
    "    print('f1: ', f1_score(y_test, preds))\n",
    "    print('Macro: ', f1_score(y_test, preds, average='macro'))\n",
    "    print('Micro: ', f1_score(y_test, preds, average='micro'))\n",
    "    print('weighted: ', f1_score(y_test, preds, average='weighted'))\n",
    "    print('#'*40)\n",
    "    print('\"\"\"Métricas precision_score:\"\"\"')\n",
    "    print('Precision: ', precision_score(y_test, preds))\n",
    "    print('Macro: ', precision_score(y_test, preds, average='macro'))\n",
    "    print('Micro: ', precision_score(y_test, preds, average='micro'))\n",
    "    print('weighted: ', precision_score(y_test, preds, average='weighted'))\n",
    "\n",
    "    return preds, final_cl"
   ]
  },
  {
   "cell_type": "markdown",
   "metadata": {},
   "source": [
    "### Criação de funções para gerar a matriz de confusão e classification report:"
   ]
  },
  {
   "cell_type": "code",
   "execution_count": 8,
   "metadata": {},
   "outputs": [],
   "source": [
    "def plot_conf_matrix (X_test, y_test, preds, final_cl):\n",
    "\n",
    "    confusion_matrix(y_test, preds)\n",
    "    matrix = plot_confusion_matrix(final_cl, X_test, y_test, cmap=plt.cm.Blues)\n",
    "    plt.show()\n",
    "    print(classification_report(y_test, preds))\n",
    "\n",
    "\n",
    "def plot_roc_curve(y_test, preds):\n",
    "    \n",
    "    print('roc_auc_score: ', roc_auc_score(y_test, preds, multi_class='ovr'))\n",
    "\n",
    "    fpr, tpr, _ = metrics.roc_curve(y_test,  preds)\n",
    "    auc = metrics.roc_auc_score(y_test, preds)\n",
    "    plt.plot(fpr,tpr,label=\"data 1, auc=\"+str(auc))\n",
    "    plt.legend(loc=4)\n",
    "    plt.show()\n",
    "\n",
    "def plot_feature_importance(final_cl, list_features):\n",
    "    # plot feature importance\n",
    "    imp_features = final_cl.feature_importances_\n",
    "    df_imp_features = pd.DataFrame({\"features\":list_features}).join(pd.DataFrame({\"weights\":imp_features}))\n",
    "    df_imp_features = df_imp_features.sort_values(by=['weights'], ascending=False)\n",
    "    df_imp_features.plot(x=\"features\", y=\"weights\", kind=\"bar\", figsize=(8, 4))\n",
    "    plt.show()"
   ]
  },
  {
   "cell_type": "markdown",
   "metadata": {},
   "source": [
    "### Teste com o Período 1 (26/02/2020 até 25/05/2020):"
   ]
  },
  {
   "cell_type": "code",
   "execution_count": 9,
   "metadata": {},
   "outputs": [
    {
     "data": {
      "text/html": [
       "<div>\n",
       "<style scoped>\n",
       "    .dataframe tbody tr th:only-of-type {\n",
       "        vertical-align: middle;\n",
       "    }\n",
       "\n",
       "    .dataframe tbody tr th {\n",
       "        vertical-align: top;\n",
       "    }\n",
       "\n",
       "    .dataframe thead th {\n",
       "        text-align: right;\n",
       "    }\n",
       "</style>\n",
       "<table border=\"1\" class=\"dataframe\">\n",
       "  <thead>\n",
       "    <tr style=\"text-align: right;\">\n",
       "      <th></th>\n",
       "      <th>SYMPTOM_COUGH</th>\n",
       "      <th>SYMPTOM_COLD</th>\n",
       "      <th>SYMPTOM_AIR_INSUFFICIENCY</th>\n",
       "      <th>SYMPTOM_FEVER</th>\n",
       "      <th>SYMPTOM_LOW_OXYGEN_SATURATION</th>\n",
       "      <th>SYMPTOM_BREATHING_CONDITION</th>\n",
       "      <th>SYMPTOM_TORACIC_APERTURE</th>\n",
       "      <th>SYMPTOM_THROAT_CONDITION</th>\n",
       "      <th>SYMPTOM_HEADACHE</th>\n",
       "      <th>SYMPTOM_BODY_PAIN</th>\n",
       "      <th>...</th>\n",
       "      <th>DISEASE_IMMUNOSUPPRESSION</th>\n",
       "      <th>DISEASE_TABAGIST</th>\n",
       "      <th>DISEASE_ETILISM</th>\n",
       "      <th>DISEASE_LIVER</th>\n",
       "      <th>DISEASE_NEUROLOGIC</th>\n",
       "      <th>death</th>\n",
       "      <th>idade</th>\n",
       "      <th>sexo_Feminino</th>\n",
       "      <th>sexo_Masculino</th>\n",
       "      <th>data_notificacao</th>\n",
       "    </tr>\n",
       "  </thead>\n",
       "  <tbody>\n",
       "    <tr>\n",
       "      <th>0</th>\n",
       "      <td>0</td>\n",
       "      <td>0</td>\n",
       "      <td>0</td>\n",
       "      <td>1</td>\n",
       "      <td>0</td>\n",
       "      <td>0</td>\n",
       "      <td>0</td>\n",
       "      <td>1</td>\n",
       "      <td>0</td>\n",
       "      <td>0</td>\n",
       "      <td>...</td>\n",
       "      <td>0</td>\n",
       "      <td>0</td>\n",
       "      <td>0</td>\n",
       "      <td>0</td>\n",
       "      <td>0</td>\n",
       "      <td>0</td>\n",
       "      <td>0.356522</td>\n",
       "      <td>0</td>\n",
       "      <td>1</td>\n",
       "      <td>2020-02-26</td>\n",
       "    </tr>\n",
       "    <tr>\n",
       "      <th>1</th>\n",
       "      <td>0</td>\n",
       "      <td>0</td>\n",
       "      <td>0</td>\n",
       "      <td>1</td>\n",
       "      <td>0</td>\n",
       "      <td>0</td>\n",
       "      <td>0</td>\n",
       "      <td>1</td>\n",
       "      <td>0</td>\n",
       "      <td>0</td>\n",
       "      <td>...</td>\n",
       "      <td>0</td>\n",
       "      <td>0</td>\n",
       "      <td>0</td>\n",
       "      <td>0</td>\n",
       "      <td>0</td>\n",
       "      <td>0</td>\n",
       "      <td>0.278261</td>\n",
       "      <td>0</td>\n",
       "      <td>1</td>\n",
       "      <td>2020-02-26</td>\n",
       "    </tr>\n",
       "    <tr>\n",
       "      <th>2</th>\n",
       "      <td>1</td>\n",
       "      <td>0</td>\n",
       "      <td>1</td>\n",
       "      <td>1</td>\n",
       "      <td>0</td>\n",
       "      <td>0</td>\n",
       "      <td>0</td>\n",
       "      <td>1</td>\n",
       "      <td>0</td>\n",
       "      <td>0</td>\n",
       "      <td>...</td>\n",
       "      <td>0</td>\n",
       "      <td>0</td>\n",
       "      <td>0</td>\n",
       "      <td>0</td>\n",
       "      <td>0</td>\n",
       "      <td>0</td>\n",
       "      <td>0.217391</td>\n",
       "      <td>1</td>\n",
       "      <td>0</td>\n",
       "      <td>2020-02-27</td>\n",
       "    </tr>\n",
       "    <tr>\n",
       "      <th>3</th>\n",
       "      <td>1</td>\n",
       "      <td>0</td>\n",
       "      <td>1</td>\n",
       "      <td>1</td>\n",
       "      <td>0</td>\n",
       "      <td>0</td>\n",
       "      <td>0</td>\n",
       "      <td>1</td>\n",
       "      <td>1</td>\n",
       "      <td>0</td>\n",
       "      <td>...</td>\n",
       "      <td>0</td>\n",
       "      <td>0</td>\n",
       "      <td>0</td>\n",
       "      <td>0</td>\n",
       "      <td>0</td>\n",
       "      <td>0</td>\n",
       "      <td>0.278261</td>\n",
       "      <td>0</td>\n",
       "      <td>1</td>\n",
       "      <td>2020-02-27</td>\n",
       "    </tr>\n",
       "    <tr>\n",
       "      <th>4</th>\n",
       "      <td>1</td>\n",
       "      <td>0</td>\n",
       "      <td>1</td>\n",
       "      <td>1</td>\n",
       "      <td>0</td>\n",
       "      <td>0</td>\n",
       "      <td>0</td>\n",
       "      <td>0</td>\n",
       "      <td>1</td>\n",
       "      <td>0</td>\n",
       "      <td>...</td>\n",
       "      <td>0</td>\n",
       "      <td>0</td>\n",
       "      <td>0</td>\n",
       "      <td>0</td>\n",
       "      <td>0</td>\n",
       "      <td>0</td>\n",
       "      <td>0.260870</td>\n",
       "      <td>1</td>\n",
       "      <td>0</td>\n",
       "      <td>2020-02-27</td>\n",
       "    </tr>\n",
       "    <tr>\n",
       "      <th>...</th>\n",
       "      <td>...</td>\n",
       "      <td>...</td>\n",
       "      <td>...</td>\n",
       "      <td>...</td>\n",
       "      <td>...</td>\n",
       "      <td>...</td>\n",
       "      <td>...</td>\n",
       "      <td>...</td>\n",
       "      <td>...</td>\n",
       "      <td>...</td>\n",
       "      <td>...</td>\n",
       "      <td>...</td>\n",
       "      <td>...</td>\n",
       "      <td>...</td>\n",
       "      <td>...</td>\n",
       "      <td>...</td>\n",
       "      <td>...</td>\n",
       "      <td>...</td>\n",
       "      <td>...</td>\n",
       "      <td>...</td>\n",
       "      <td>...</td>\n",
       "    </tr>\n",
       "    <tr>\n",
       "      <th>10818</th>\n",
       "      <td>0</td>\n",
       "      <td>0</td>\n",
       "      <td>0</td>\n",
       "      <td>0</td>\n",
       "      <td>0</td>\n",
       "      <td>0</td>\n",
       "      <td>0</td>\n",
       "      <td>0</td>\n",
       "      <td>0</td>\n",
       "      <td>0</td>\n",
       "      <td>...</td>\n",
       "      <td>0</td>\n",
       "      <td>0</td>\n",
       "      <td>0</td>\n",
       "      <td>0</td>\n",
       "      <td>0</td>\n",
       "      <td>1</td>\n",
       "      <td>0.400000</td>\n",
       "      <td>0</td>\n",
       "      <td>1</td>\n",
       "      <td>2020-05-25</td>\n",
       "    </tr>\n",
       "    <tr>\n",
       "      <th>10819</th>\n",
       "      <td>0</td>\n",
       "      <td>0</td>\n",
       "      <td>1</td>\n",
       "      <td>1</td>\n",
       "      <td>0</td>\n",
       "      <td>0</td>\n",
       "      <td>0</td>\n",
       "      <td>0</td>\n",
       "      <td>0</td>\n",
       "      <td>0</td>\n",
       "      <td>...</td>\n",
       "      <td>0</td>\n",
       "      <td>0</td>\n",
       "      <td>0</td>\n",
       "      <td>0</td>\n",
       "      <td>0</td>\n",
       "      <td>1</td>\n",
       "      <td>0.626087</td>\n",
       "      <td>0</td>\n",
       "      <td>1</td>\n",
       "      <td>2020-05-25</td>\n",
       "    </tr>\n",
       "    <tr>\n",
       "      <th>10820</th>\n",
       "      <td>1</td>\n",
       "      <td>0</td>\n",
       "      <td>1</td>\n",
       "      <td>0</td>\n",
       "      <td>0</td>\n",
       "      <td>0</td>\n",
       "      <td>0</td>\n",
       "      <td>0</td>\n",
       "      <td>0</td>\n",
       "      <td>0</td>\n",
       "      <td>...</td>\n",
       "      <td>0</td>\n",
       "      <td>0</td>\n",
       "      <td>0</td>\n",
       "      <td>0</td>\n",
       "      <td>0</td>\n",
       "      <td>0</td>\n",
       "      <td>0.704348</td>\n",
       "      <td>1</td>\n",
       "      <td>0</td>\n",
       "      <td>2020-05-25</td>\n",
       "    </tr>\n",
       "    <tr>\n",
       "      <th>10821</th>\n",
       "      <td>1</td>\n",
       "      <td>0</td>\n",
       "      <td>1</td>\n",
       "      <td>1</td>\n",
       "      <td>0</td>\n",
       "      <td>0</td>\n",
       "      <td>0</td>\n",
       "      <td>1</td>\n",
       "      <td>0</td>\n",
       "      <td>0</td>\n",
       "      <td>...</td>\n",
       "      <td>0</td>\n",
       "      <td>0</td>\n",
       "      <td>0</td>\n",
       "      <td>0</td>\n",
       "      <td>0</td>\n",
       "      <td>1</td>\n",
       "      <td>0.782609</td>\n",
       "      <td>0</td>\n",
       "      <td>1</td>\n",
       "      <td>2020-05-25</td>\n",
       "    </tr>\n",
       "    <tr>\n",
       "      <th>10822</th>\n",
       "      <td>0</td>\n",
       "      <td>0</td>\n",
       "      <td>1</td>\n",
       "      <td>0</td>\n",
       "      <td>0</td>\n",
       "      <td>0</td>\n",
       "      <td>0</td>\n",
       "      <td>0</td>\n",
       "      <td>0</td>\n",
       "      <td>0</td>\n",
       "      <td>...</td>\n",
       "      <td>0</td>\n",
       "      <td>0</td>\n",
       "      <td>0</td>\n",
       "      <td>0</td>\n",
       "      <td>0</td>\n",
       "      <td>0</td>\n",
       "      <td>0.217391</td>\n",
       "      <td>0</td>\n",
       "      <td>1</td>\n",
       "      <td>2020-05-25</td>\n",
       "    </tr>\n",
       "  </tbody>\n",
       "</table>\n",
       "<p>10823 rows × 35 columns</p>\n",
       "</div>"
      ],
      "text/plain": [
       "       SYMPTOM_COUGH  SYMPTOM_COLD  SYMPTOM_AIR_INSUFFICIENCY  SYMPTOM_FEVER  \\\n",
       "0                  0             0                          0              1   \n",
       "1                  0             0                          0              1   \n",
       "2                  1             0                          1              1   \n",
       "3                  1             0                          1              1   \n",
       "4                  1             0                          1              1   \n",
       "...              ...           ...                        ...            ...   \n",
       "10818              0             0                          0              0   \n",
       "10819              0             0                          1              1   \n",
       "10820              1             0                          1              0   \n",
       "10821              1             0                          1              1   \n",
       "10822              0             0                          1              0   \n",
       "\n",
       "       SYMPTOM_LOW_OXYGEN_SATURATION  SYMPTOM_BREATHING_CONDITION  \\\n",
       "0                                  0                            0   \n",
       "1                                  0                            0   \n",
       "2                                  0                            0   \n",
       "3                                  0                            0   \n",
       "4                                  0                            0   \n",
       "...                              ...                          ...   \n",
       "10818                              0                            0   \n",
       "10819                              0                            0   \n",
       "10820                              0                            0   \n",
       "10821                              0                            0   \n",
       "10822                              0                            0   \n",
       "\n",
       "       SYMPTOM_TORACIC_APERTURE  SYMPTOM_THROAT_CONDITION  SYMPTOM_HEADACHE  \\\n",
       "0                             0                         1                 0   \n",
       "1                             0                         1                 0   \n",
       "2                             0                         1                 0   \n",
       "3                             0                         1                 1   \n",
       "4                             0                         0                 1   \n",
       "...                         ...                       ...               ...   \n",
       "10818                         0                         0                 0   \n",
       "10819                         0                         0                 0   \n",
       "10820                         0                         0                 0   \n",
       "10821                         0                         1                 0   \n",
       "10822                         0                         0                 0   \n",
       "\n",
       "       SYMPTOM_BODY_PAIN  ...  DISEASE_IMMUNOSUPPRESSION  DISEASE_TABAGIST  \\\n",
       "0                      0  ...                          0                 0   \n",
       "1                      0  ...                          0                 0   \n",
       "2                      0  ...                          0                 0   \n",
       "3                      0  ...                          0                 0   \n",
       "4                      0  ...                          0                 0   \n",
       "...                  ...  ...                        ...               ...   \n",
       "10818                  0  ...                          0                 0   \n",
       "10819                  0  ...                          0                 0   \n",
       "10820                  0  ...                          0                 0   \n",
       "10821                  0  ...                          0                 0   \n",
       "10822                  0  ...                          0                 0   \n",
       "\n",
       "       DISEASE_ETILISM  DISEASE_LIVER  DISEASE_NEUROLOGIC  death     idade  \\\n",
       "0                    0              0                   0      0  0.356522   \n",
       "1                    0              0                   0      0  0.278261   \n",
       "2                    0              0                   0      0  0.217391   \n",
       "3                    0              0                   0      0  0.278261   \n",
       "4                    0              0                   0      0  0.260870   \n",
       "...                ...            ...                 ...    ...       ...   \n",
       "10818                0              0                   0      1  0.400000   \n",
       "10819                0              0                   0      1  0.626087   \n",
       "10820                0              0                   0      0  0.704348   \n",
       "10821                0              0                   0      1  0.782609   \n",
       "10822                0              0                   0      0  0.217391   \n",
       "\n",
       "       sexo_Feminino  sexo_Masculino  data_notificacao  \n",
       "0                  0               1        2020-02-26  \n",
       "1                  0               1        2020-02-26  \n",
       "2                  1               0        2020-02-27  \n",
       "3                  0               1        2020-02-27  \n",
       "4                  1               0        2020-02-27  \n",
       "...              ...             ...               ...  \n",
       "10818              0               1        2020-05-25  \n",
       "10819              0               1        2020-05-25  \n",
       "10820              1               0        2020-05-25  \n",
       "10821              0               1        2020-05-25  \n",
       "10822              0               1        2020-05-25  \n",
       "\n",
       "[10823 rows x 35 columns]"
      ]
     },
     "execution_count": 9,
     "metadata": {},
     "output_type": "execute_result"
    }
   ],
   "source": [
    "#Periodo 1\n",
    "data_inicio = df['data_notificacao'][0]\n",
    "data_fim = df['data_notificacao'][0]+pd.Timedelta(days=90)\n",
    "\n",
    "df_1 = df[(df['data_notificacao'] >= data_inicio) & (df['data_notificacao'] < data_fim)]\n",
    "df_1"
   ]
  },
  {
   "cell_type": "code",
   "execution_count": 16,
   "metadata": {},
   "outputs": [
    {
     "name": "stdout",
     "output_type": "stream",
     "text": [
      "########################################\n",
      "\n",
      "best_score: 0.9686731986894517\n",
      "best_params_: {'max_depth': None, 'max_features': 7, 'min_samples_leaf': 1, 'min_samples_split': 2, 'n_estimators': 200}\n",
      "########################################\n",
      "\n",
      "########################################\n",
      "\n",
      "best_score: 0.9674633802250823\n",
      "best_params_: {'max_depth': None, 'max_features': 5, 'min_samples_leaf': 1, 'min_samples_split': 2, 'n_estimators': 200}\n",
      "########################################\n",
      "\n",
      "########################################\n",
      "\n",
      "best_score: 0.967934631843811\n",
      "best_params_: {'max_depth': None, 'max_features': 7, 'min_samples_leaf': 1, 'min_samples_split': 2, 'n_estimators': 200}\n",
      "########################################\n",
      "\n",
      "########################################\n",
      "\n",
      "best_score: 0.9685351490109093\n",
      "best_params_: {'max_depth': None, 'max_features': 7, 'min_samples_leaf': 1, 'min_samples_split': 2, 'n_estimators': 200}\n",
      "########################################\n",
      "\n"
     ]
    }
   ],
   "source": [
    "X_train_oversampled_1, y_train_oversampled_1, X_test_1, y_test_1, mean_test_scores_1, std_test_scores_1, best_scores_1, best_params_1 = apply_model_randomforest(df_1)"
   ]
  },
  {
   "cell_type": "code",
   "execution_count": 17,
   "metadata": {},
   "outputs": [
    {
     "name": "stdout",
     "output_type": "stream",
     "text": [
      "accuracy_score: 0.7696055684454757\n",
      "########################################\n",
      "\"\"\"Métricas f1_score:\"\"\"\n",
      "f1:  0.61837048424289\n",
      "Macro:  0.7266827495990122\n",
      "Micro:  0.7696055684454757\n",
      "weighted:  0.785211581620917\n",
      "########################################\n",
      "\"\"\"Métricas precision_score:\"\"\"\n",
      "Precision:  0.4992243251628917\n",
      "Macro:  0.7151485716976216\n",
      "Micro:  0.7696055684454757\n",
      "weighted:  0.8318278223192886\n"
     ]
    }
   ],
   "source": [
    "preds_1, final_cl_1 = create_final_cl(X_train_oversampled_1, y_train_oversampled_1, X_test_1, y_test_1, None, 7, 1, 2, 200)"
   ]
  },
  {
   "cell_type": "code",
   "execution_count": 18,
   "metadata": {},
   "outputs": [
    {
     "name": "stderr",
     "output_type": "stream",
     "text": [
      "c:\\Users\\maril\\anaconda3\\lib\\site-packages\\sklearn\\utils\\deprecation.py:87: FutureWarning: Function plot_confusion_matrix is deprecated; Function `plot_confusion_matrix` is deprecated in 1.0 and will be removed in 1.2. Use one of the class methods: ConfusionMatrixDisplay.from_predictions or ConfusionMatrixDisplay.from_estimator.\n",
      "  warnings.warn(msg, category=FutureWarning)\n"
     ]
    },
    {
     "data": {
      "image/png": "[encoded data removed]",
      "text/plain": [
       "<Figure size 432x288 with 2 Axes>"
      ]
     },
     "metadata": {
      "needs_background": "light"
     },
     "output_type": "display_data"
    },
    {
     "name": "stdout",
     "output_type": "stream",
     "text": [
      "              precision    recall  f1-score   support\n",
      "\n",
      "           0       0.93      0.76      0.83      6639\n",
      "           1       0.50      0.81      0.62      1981\n",
      "\n",
      "    accuracy                           0.77      8620\n",
      "   macro avg       0.72      0.78      0.73      8620\n",
      "weighted avg       0.83      0.77      0.79      8620\n",
      "\n",
      "roc_auc_score:  0.7845535752778372\n"
     ]
    },
    {
     "data": {
      "image/png": "[encoded data removed]",
      "text/plain": [
       "<Figure size 432x288 with 1 Axes>"
      ]
     },
     "metadata": {
      "needs_background": "light"
     },
     "output_type": "display_data"
    }
   ],
   "source": [
    "plot_conf_matrix (X_test_1, y_test_1, preds_1, final_cl_1)\n",
    "\n",
    "plot_roc_curve(y_test_1, preds_1)"
   ]
  },
  {
   "cell_type": "code",
   "execution_count": 20,
   "metadata": {},
   "outputs": [
    {
     "data": {
      "image/png": "[encoded data removed]",
      "text/plain": [
       "<Figure size 576x288 with 1 Axes>"
      ]
     },
     "metadata": {
      "needs_background": "light"
     },
     "output_type": "display_data"
    }
   ],
   "source": [
    "plot_feature_importance(final_cl_1, list_features)"
   ]
  },
  {
   "cell_type": "code",
   "execution_count": 15,
   "metadata": {},
   "outputs": [
    {
     "data": {
      "image/png": "[encoded data removed]",
      "text/plain": [
       "<Figure size 720x720 with 1 Axes>"
      ]
     },
     "metadata": {
      "needs_background": "light"
     },
     "output_type": "display_data"
    }
   ],
   "source": [
    "plot_permutation_importance(final_cl_1, X_test_1, y_test_1)"
   ]
  },
  {
   "cell_type": "markdown",
   "metadata": {},
   "source": [
    "### Definição dos atributos mais importantes:"
   ]
  },
  {
   "cell_type": "code",
   "execution_count": null,
   "metadata": {},
   "outputs": [],
   "source": [
    "# plot feature importance\n",
    "plt.figure(figsize=(10,10))\n",
    "plot_importance(final_cl_1)\n",
    "plt.show()"
   ]
  },
  {
   "cell_type": "markdown",
   "metadata": {},
   "source": [
    "### Teste com o Período 2 (27/03/2020 até 24/06/2020):"
   ]
  },
  {
   "cell_type": "code",
   "execution_count": null,
   "metadata": {},
   "outputs": [],
   "source": [
    "#Periodo 2\n",
    "data_inicio = df['data_notificacao'][0]+pd.Timedelta(days=30)\n",
    "data_fim = df['data_notificacao'][0]+pd.Timedelta(days=120)\n",
    "\n",
    "df_2 = df[(df['data_notificacao'] >= data_inicio) & (df['data_notificacao'] < data_fim )]\n",
    "df_2 = df_2.reset_index()\n",
    "df_2 = df_2.drop(\"index\", axis=1)\n",
    "df_2"
   ]
  },
  {
   "cell_type": "code",
   "execution_count": null,
   "metadata": {},
   "outputs": [],
   "source": [
    "X_train_oversampled_2, y_train_oversampled_2, X_test_2, y_test_2, mean_test_scores_2, std_test_scores_2, best_scores_2, best_params_2 = apply_model_xgboost(df_2)"
   ]
  },
  {
   "cell_type": "code",
   "execution_count": null,
   "metadata": {},
   "outputs": [],
   "source": [
    "preds_2, final_cl_2 = create_final_cl(X_train_oversampled_2, y_train_oversampled_2, X_test_2, y_test_2, 0.9, 0.25, 7, 3)"
   ]
  },
  {
   "cell_type": "code",
   "execution_count": null,
   "metadata": {},
   "outputs": [],
   "source": [
    "plot_conf_matrix (X_test_2, y_test_2, preds_2, final_cl_2)\n",
    "\n",
    "plot_roc_curve(y_test_2, preds_2)"
   ]
  },
  {
   "cell_type": "markdown",
   "metadata": {},
   "source": [
    "### Definição dos atributos mais importantes:"
   ]
  },
  {
   "cell_type": "code",
   "execution_count": null,
   "metadata": {},
   "outputs": [],
   "source": [
    "# plot feature importance\n",
    "plt.figure(figsize=(10,10))\n",
    "plot_importance(final_cl_2)\n",
    "plt.show()"
   ]
  },
  {
   "cell_type": "markdown",
   "metadata": {},
   "source": [
    "### Teste com o Período 3 (26/04/2020 até 24/07/2020):"
   ]
  },
  {
   "cell_type": "code",
   "execution_count": null,
   "metadata": {},
   "outputs": [],
   "source": [
    "#Periodo 3\n",
    "data_inicio = df['data_notificacao'][0]+pd.Timedelta(days=60)\n",
    "data_fim = df['data_notificacao'][0]+pd.Timedelta(days=150)\n",
    "\n",
    "df_3 = df[(df['data_notificacao'] >= data_inicio) & (df['data_notificacao'] < data_fim )]\n",
    "df_3 = df_3.reset_index()\n",
    "df_3 = df_3.drop(\"index\", axis=1)\n",
    "df_3"
   ]
  },
  {
   "cell_type": "code",
   "execution_count": null,
   "metadata": {},
   "outputs": [],
   "source": [
    "X_train_oversampled_3, y_train_oversampled_3, X_test_3, y_test_3, mean_test_scores_3, std_test_scores_3, best_scores_3, best_params_3 = apply_model_xgboost(df_3)"
   ]
  },
  {
   "cell_type": "code",
   "execution_count": null,
   "metadata": {},
   "outputs": [],
   "source": [
    "preds_3, final_cl_3 = create_final_cl(X_train_oversampled_3, y_train_oversampled_3, X_test_3, y_test_3, 0.9, 0.25, 7, 5)"
   ]
  },
  {
   "cell_type": "code",
   "execution_count": null,
   "metadata": {},
   "outputs": [],
   "source": [
    "plot_conf_matrix (X_test_3, y_test_3, preds_3, final_cl_3)\n",
    "\n",
    "plot_roc_curve(y_test_3, preds_3)"
   ]
  },
  {
   "cell_type": "markdown",
   "metadata": {},
   "source": [
    "### Definição dos atributos mais importantes:"
   ]
  },
  {
   "cell_type": "code",
   "execution_count": null,
   "metadata": {},
   "outputs": [],
   "source": [
    "# plot feature importance\n",
    "plt.figure(figsize=(10,10))\n",
    "plot_importance(final_cl_3)\n",
    "plt.show()"
   ]
  },
  {
   "cell_type": "markdown",
   "metadata": {},
   "source": [
    "### Teste com o Período 4 (26/05/2020 até 23/08/2020):"
   ]
  },
  {
   "cell_type": "code",
   "execution_count": null,
   "metadata": {},
   "outputs": [],
   "source": [
    "#Periodo 4\n",
    "data_inicio = df['data_notificacao'][0]+pd.Timedelta(days=90)\n",
    "data_fim = df['data_notificacao'][0]+pd.Timedelta(days=180)\n",
    "\n",
    "df_4 = df[(df['data_notificacao'] >= data_inicio) & (df['data_notificacao'] < data_fim )]\n",
    "df_4 = df_4.reset_index()\n",
    "df_4 = df_4.drop(\"index\", axis=1)\n",
    "df_4"
   ]
  },
  {
   "cell_type": "code",
   "execution_count": null,
   "metadata": {},
   "outputs": [],
   "source": [
    "X_train_oversampled_4, y_train_oversampled_4, X_test_4, y_test_4, mean_test_scores_4, std_test_scores_4, best_scores_4, best_params_4 = apply_model_xgboost(df_4)"
   ]
  },
  {
   "cell_type": "code",
   "execution_count": null,
   "metadata": {},
   "outputs": [],
   "source": [
    "preds_4, final_cl_4 = create_final_cl(X_train_oversampled_4, y_train_oversampled_4, X_test_4, y_test_4, 0.9, 0.25, 7, 5)"
   ]
  },
  {
   "cell_type": "code",
   "execution_count": null,
   "metadata": {},
   "outputs": [],
   "source": [
    "plot_conf_matrix (X_test_4, y_test_4, preds_4, final_cl_4)\n",
    "\n",
    "plot_roc_curve(y_test_4, preds_4)"
   ]
  },
  {
   "cell_type": "markdown",
   "metadata": {},
   "source": [
    "### Definição dos atributos mais importantes:"
   ]
  },
  {
   "cell_type": "code",
   "execution_count": null,
   "metadata": {},
   "outputs": [],
   "source": [
    "# plot feature importance\n",
    "plt.figure(figsize=(10,10))\n",
    "plot_importance(final_cl_4)\n",
    "plt.show()"
   ]
  },
  {
   "cell_type": "markdown",
   "metadata": {},
   "source": [
    "### Teste com o Período 5 (25/06/2020 até 22/09/2020):"
   ]
  },
  {
   "cell_type": "code",
   "execution_count": null,
   "metadata": {},
   "outputs": [],
   "source": [
    "#Periodo 5\n",
    "data_inicio = df['data_notificacao'][0]+pd.Timedelta(days=120)\n",
    "data_fim = df['data_notificacao'][0]+pd.Timedelta(days=210)\n",
    "\n",
    "df_5 = df[(df['data_notificacao'] >= data_inicio) & (df['data_notificacao'] < data_fim )]\n",
    "df_5 = df_5.reset_index()\n",
    "df_5 = df_5.drop(\"index\", axis=1)\n",
    "df_5"
   ]
  },
  {
   "cell_type": "code",
   "execution_count": null,
   "metadata": {},
   "outputs": [],
   "source": [
    "X_train_oversampled_5, y_train_oversampled_5, X_test_5, y_test_5, mean_test_scores_5, std_test_scores_5, best_scores_5, best_params_5 = apply_model_xgboost(df_5)"
   ]
  },
  {
   "cell_type": "code",
   "execution_count": null,
   "metadata": {},
   "outputs": [],
   "source": [
    "preds_5, final_cl_5 = create_final_cl(X_train_oversampled_5, y_train_oversampled_5, X_test_5, y_test_5, 0.9, 0.25, 7, 5)"
   ]
  },
  {
   "cell_type": "code",
   "execution_count": null,
   "metadata": {},
   "outputs": [],
   "source": [
    "plot_conf_matrix (X_test_5, y_test_5, preds_5, final_cl_5)\n",
    "\n",
    "plot_roc_curve(y_test_5, preds_5)"
   ]
  },
  {
   "cell_type": "markdown",
   "metadata": {},
   "source": [
    "### Definição dos atributos mais importantes:"
   ]
  },
  {
   "cell_type": "code",
   "execution_count": null,
   "metadata": {},
   "outputs": [],
   "source": [
    "# plot feature importance\n",
    "plt.figure(figsize=(10,10))\n",
    "plot_importance(final_cl_5)\n",
    "plt.show()"
   ]
  },
  {
   "cell_type": "markdown",
   "metadata": {},
   "source": [
    "### Teste com o Período 6 (25/07/2020 até 22/10/2020):"
   ]
  },
  {
   "cell_type": "code",
   "execution_count": null,
   "metadata": {},
   "outputs": [],
   "source": [
    "#Periodo 6\n",
    "data_inicio = df['data_notificacao'][0]+pd.Timedelta(days=150)\n",
    "data_fim = df['data_notificacao'][0]+pd.Timedelta(days=240)\n",
    "\n",
    "df_6 = df[(df['data_notificacao'] >= data_inicio) & (df['data_notificacao'] < data_fim )]\n",
    "df_6 = df_6.reset_index()\n",
    "df_6 = df_6.drop(\"index\", axis=1)\n",
    "df_6"
   ]
  },
  {
   "cell_type": "code",
   "execution_count": null,
   "metadata": {},
   "outputs": [],
   "source": [
    "X_train_oversampled_6, y_train_oversampled_6, X_test_6, y_test_6, mean_test_scores_6, std_test_scores_6, best_scores_6, best_params_6 = apply_model_xgboost(df_6)"
   ]
  },
  {
   "cell_type": "code",
   "execution_count": null,
   "metadata": {},
   "outputs": [],
   "source": [
    "preds_6, final_cl_6 = create_final_cl(X_train_oversampled_6, y_train_oversampled_6, X_test_6, y_test_6, 0.9, 0.25, 7, 5)"
   ]
  },
  {
   "cell_type": "code",
   "execution_count": null,
   "metadata": {},
   "outputs": [],
   "source": [
    "plot_conf_matrix (X_test_6, y_test_6, preds_6, final_cl_6)\n",
    "\n",
    "plot_roc_curve(y_test_6, preds_6)"
   ]
  },
  {
   "cell_type": "markdown",
   "metadata": {},
   "source": [
    "### Definição dos atributos mais importantes:"
   ]
  },
  {
   "cell_type": "code",
   "execution_count": null,
   "metadata": {},
   "outputs": [],
   "source": [
    "# plot feature importance\n",
    "plt.figure(figsize=(10,10))\n",
    "plot_importance(final_cl_6)\n",
    "plt.show()"
   ]
  },
  {
   "cell_type": "markdown",
   "metadata": {},
   "source": [
    "### Teste com o Período 7 (24/08/2020 até 21/11/2020):"
   ]
  },
  {
   "cell_type": "code",
   "execution_count": null,
   "metadata": {},
   "outputs": [],
   "source": [
    "#Periodo 7\n",
    "data_inicio = df['data_notificacao'][0]+pd.Timedelta(days=180)\n",
    "data_fim = df['data_notificacao'][0]+pd.Timedelta(days=270)\n",
    "\n",
    "df_7 = df[(df['data_notificacao'] >= data_inicio) & (df['data_notificacao'] < data_fim )]\n",
    "df_7 = df_7.reset_index()\n",
    "df_7 = df_7.drop(\"index\", axis=1)\n",
    "df_7"
   ]
  },
  {
   "cell_type": "code",
   "execution_count": null,
   "metadata": {},
   "outputs": [],
   "source": [
    "X_train_oversampled_7, y_train_oversampled_7, X_test_7, y_test_7, mean_test_scores_7, std_test_scores_7, best_scores_7, best_params_7 = apply_model_xgboost(df_7)"
   ]
  },
  {
   "cell_type": "code",
   "execution_count": null,
   "metadata": {},
   "outputs": [],
   "source": [
    "preds_7, final_cl_7 = create_final_cl(X_train_oversampled_7, y_train_oversampled_7, X_test_7, y_test_7, 0.9, 0.25, 7, 5)"
   ]
  },
  {
   "cell_type": "code",
   "execution_count": null,
   "metadata": {},
   "outputs": [],
   "source": [
    "plot_conf_matrix (X_test_7, y_test_7, preds_7, final_cl_7)\n",
    "\n",
    "plot_roc_curve(y_test_7, preds_7)"
   ]
  },
  {
   "cell_type": "markdown",
   "metadata": {},
   "source": [
    "### Definição dos atributos mais importantes:"
   ]
  },
  {
   "cell_type": "code",
   "execution_count": null,
   "metadata": {},
   "outputs": [],
   "source": [
    "# plot feature importance\n",
    "plt.figure(figsize=(10,10))\n",
    "plot_importance(final_cl_7)\n",
    "plt.show()\n"
   ]
  },
  {
   "cell_type": "markdown",
   "metadata": {},
   "source": [
    "### Teste com o Período 8 (23/09/2020 até 21/12/2020):"
   ]
  },
  {
   "cell_type": "code",
   "execution_count": null,
   "metadata": {},
   "outputs": [],
   "source": [
    "#Periodo 8\n",
    "data_inicio = df['data_notificacao'][0]+pd.Timedelta(days=210)\n",
    "data_fim = df['data_notificacao'][0]+pd.Timedelta(days=300)\n",
    "\n",
    "df_8 = df[(df['data_notificacao'] >= data_inicio) & (df['data_notificacao'] < data_fim )]\n",
    "df_8 = df_8.reset_index()\n",
    "df_8 = df_8.drop(\"index\", axis=1)\n",
    "df_8"
   ]
  },
  {
   "cell_type": "code",
   "execution_count": null,
   "metadata": {},
   "outputs": [],
   "source": [
    "X_train_oversampled_8, y_train_oversampled_8, X_test_8, y_test_8, mean_test_scores_8, std_test_scores_8, best_scores_8, best_params_8 = apply_model_xgboost(df_8)"
   ]
  },
  {
   "cell_type": "code",
   "execution_count": null,
   "metadata": {},
   "outputs": [],
   "source": [
    "preds_8, final_cl_8 = create_final_cl(X_train_oversampled_8, y_train_oversampled_8, X_test_8, y_test_8, 0.9, 0.25, 7, 5)"
   ]
  },
  {
   "cell_type": "code",
   "execution_count": null,
   "metadata": {},
   "outputs": [],
   "source": [
    "plot_conf_matrix (X_test_8, y_test_8, preds_8, final_cl_8)\n",
    "\n",
    "plot_roc_curve(y_test_8, preds_8)"
   ]
  },
  {
   "cell_type": "markdown",
   "metadata": {},
   "source": [
    "### Determinação dos atributos mais importantes:"
   ]
  },
  {
   "cell_type": "code",
   "execution_count": null,
   "metadata": {},
   "outputs": [],
   "source": [
    "# plot feature importance\n",
    "plt.figure(figsize=(10,10))\n",
    "plot_importance(final_cl_8)\n",
    "plt.show()"
   ]
  },
  {
   "cell_type": "markdown",
   "metadata": {},
   "source": [
    "### Teste com o Período 9 (23/10/2020 até 20/01/2021):"
   ]
  },
  {
   "cell_type": "code",
   "execution_count": null,
   "metadata": {},
   "outputs": [],
   "source": [
    "#Periodo 9\n",
    "data_inicio = df['data_notificacao'][0]+pd.Timedelta(days=240)\n",
    "data_fim = df['data_notificacao'][0]+pd.Timedelta(days=330)\n",
    "\n",
    "df_9 = df[(df['data_notificacao'] >= data_inicio) & (df['data_notificacao'] < data_fim )]\n",
    "df_9 = df_9.reset_index()\n",
    "df_9 = df_9.drop(\"index\", axis=1)\n",
    "df_9"
   ]
  },
  {
   "cell_type": "code",
   "execution_count": null,
   "metadata": {},
   "outputs": [],
   "source": [
    "X_train_oversampled_9, y_train_oversampled_9, X_test_9, y_test_9, mean_test_scores_9, std_test_scores_9, best_scores_9, best_params_9 = apply_model_xgboost(df_9)"
   ]
  },
  {
   "cell_type": "code",
   "execution_count": null,
   "metadata": {},
   "outputs": [],
   "source": [
    "preds_9, final_cl_9 = create_final_cl(X_train_oversampled_9, y_train_oversampled_9, X_test_9, y_test_9, 0.9, 0.25, 7, 5)"
   ]
  },
  {
   "cell_type": "code",
   "execution_count": null,
   "metadata": {},
   "outputs": [],
   "source": [
    "plot_conf_matrix (X_test_9, y_test_9, preds_9, final_cl_9)\n",
    "\n",
    "plot_roc_curve(y_test_9, preds_9)"
   ]
  },
  {
   "cell_type": "markdown",
   "metadata": {},
   "source": [
    "### Definição dos atributos mais importantes:"
   ]
  },
  {
   "cell_type": "code",
   "execution_count": null,
   "metadata": {},
   "outputs": [],
   "source": [
    "# plot feature importance\n",
    "plt.figure(figsize=(10,10))\n",
    "plot_importance(final_cl_9)\n",
    "plt.show()"
   ]
  },
  {
   "cell_type": "markdown",
   "metadata": {},
   "source": [
    "### Teste com o Período 10 (22/11/2020 até 19/02/2021):"
   ]
  },
  {
   "cell_type": "code",
   "execution_count": null,
   "metadata": {},
   "outputs": [],
   "source": [
    "#Periodo 10\n",
    "data_inicio = df['data_notificacao'][0]+pd.Timedelta(days=270)\n",
    "data_fim = df['data_notificacao'][0]+pd.Timedelta(days=360)\n",
    "\n",
    "df_10 = df[(df['data_notificacao'] >= data_inicio) & (df['data_notificacao'] < data_fim )]\n",
    "df_10 = df_10.reset_index()\n",
    "df_10 = df_10.drop(\"index\", axis=1)\n",
    "df_10"
   ]
  },
  {
   "cell_type": "code",
   "execution_count": null,
   "metadata": {},
   "outputs": [],
   "source": [
    "X_train_oversampled_10, y_train_oversampled_10, X_test_10, y_test_10, mean_test_scores_10, std_test_scores_10, best_scores_10, best_params_10 = apply_model_xgboost(df_10)"
   ]
  },
  {
   "cell_type": "code",
   "execution_count": null,
   "metadata": {},
   "outputs": [],
   "source": [
    "preds_10, final_cl_10 = create_final_cl(X_train_oversampled_10, y_train_oversampled_10, X_test_10, y_test_10, 0.9, 0.25, 7, 5)"
   ]
  },
  {
   "cell_type": "code",
   "execution_count": null,
   "metadata": {},
   "outputs": [],
   "source": [
    "plot_conf_matrix (X_test_10, y_test_10, preds_10, final_cl_10)\n",
    "\n",
    "plot_roc_curve(y_test_10, preds_10)"
   ]
  },
  {
   "cell_type": "markdown",
   "metadata": {},
   "source": [
    "### Definição dos atributos mais importantes:"
   ]
  },
  {
   "cell_type": "code",
   "execution_count": null,
   "metadata": {},
   "outputs": [],
   "source": [
    "# plot feature importance\n",
    "plt.figure(figsize=(10,10))\n",
    "plot_importance(final_cl_10)\n",
    "plt.show()"
   ]
  },
  {
   "cell_type": "markdown",
   "metadata": {},
   "source": [
    "### Teste com o Período 11 (22/12/2020 até 21/03/2021):"
   ]
  },
  {
   "cell_type": "code",
   "execution_count": null,
   "metadata": {},
   "outputs": [],
   "source": [
    "#Periodo 11\n",
    "data_inicio = df['data_notificacao'][0]+pd.Timedelta(days=300)\n",
    "data_fim = df['data_notificacao'][0]+pd.Timedelta(days=390)\n",
    "\n",
    "df_11 = df[(df['data_notificacao'] >= data_inicio) & (df['data_notificacao'] < data_fim )]\n",
    "df_11 = df_11.reset_index()\n",
    "df_11 = df_11.drop(\"index\", axis=1)\n",
    "df_11"
   ]
  },
  {
   "cell_type": "code",
   "execution_count": null,
   "metadata": {},
   "outputs": [],
   "source": [
    "X_train_oversampled_11, y_train_oversampled_11, X_test_11, y_test_11, mean_test_scores_11, std_test_scores_11, best_scores_11, best_params_11 = apply_model_xgboost(df_11)"
   ]
  },
  {
   "cell_type": "code",
   "execution_count": null,
   "metadata": {},
   "outputs": [],
   "source": [
    "preds_11, final_cl_11 = create_final_cl(X_train_oversampled_11, y_train_oversampled_11, X_test_11, y_test_11, 0.9, 0.25, 7, 5)"
   ]
  },
  {
   "cell_type": "code",
   "execution_count": null,
   "metadata": {},
   "outputs": [],
   "source": [
    "plot_conf_matrix (X_test_11, y_test_11, preds_11, final_cl_11)\n",
    "\n",
    "plot_roc_curve(y_test_11, preds_11)"
   ]
  },
  {
   "cell_type": "markdown",
   "metadata": {},
   "source": [
    "### Definição dos atributos mais importantes:"
   ]
  },
  {
   "cell_type": "code",
   "execution_count": null,
   "metadata": {},
   "outputs": [],
   "source": [
    "# plot feature importance\n",
    "plt.figure(figsize=(10,10))\n",
    "plot_importance(final_cl_11)\n",
    "plt.show()"
   ]
  },
  {
   "cell_type": "markdown",
   "metadata": {},
   "source": [
    "### Teste com o Período 12 (21/01/2021 até 20/04/2021):"
   ]
  },
  {
   "cell_type": "code",
   "execution_count": null,
   "metadata": {},
   "outputs": [],
   "source": [
    "#Periodo 12\n",
    "data_inicio = df['data_notificacao'][0]+pd.Timedelta(days=330)\n",
    "data_fim = df['data_notificacao'][0]+pd.Timedelta(days=420)\n",
    "\n",
    "df_12 = df[(df['data_notificacao'] >= data_inicio) & (df['data_notificacao'] < data_fim )]\n",
    "df_12 = df_12.reset_index()\n",
    "df_12 = df_12.drop(\"index\", axis=1)\n",
    "df_12"
   ]
  },
  {
   "cell_type": "code",
   "execution_count": null,
   "metadata": {},
   "outputs": [],
   "source": [
    "X_train_oversampled_12, y_train_oversampled_12, X_test_12, y_test_12, mean_test_scores_12, std_test_scores_12, best_scores_12, best_params_12 = apply_model_xgboost(df_12)"
   ]
  },
  {
   "cell_type": "code",
   "execution_count": null,
   "metadata": {},
   "outputs": [],
   "source": [
    "preds_12, final_cl_12 = create_final_cl(X_train_oversampled_12, y_train_oversampled_12, X_test_12, y_test_12, 0.9, 0.25, 7, 5)"
   ]
  },
  {
   "cell_type": "code",
   "execution_count": null,
   "metadata": {},
   "outputs": [],
   "source": [
    "plot_conf_matrix (X_test_12, y_test_12, preds_12, final_cl_12)\n",
    "\n",
    "plot_roc_curve(y_test_12, preds_12)"
   ]
  },
  {
   "cell_type": "markdown",
   "metadata": {},
   "source": [
    "### Definição dos atributos mais importantes:"
   ]
  },
  {
   "cell_type": "code",
   "execution_count": null,
   "metadata": {},
   "outputs": [],
   "source": [
    "# plot feature importance\n",
    "plt.figure(figsize=(10,10))\n",
    "plot_importance(final_cl_12)\n",
    "plt.show()"
   ]
  },
  {
   "cell_type": "markdown",
   "metadata": {},
   "source": [
    "### Teste com o Período 13 (20/02/2021 até 20/05/2021):"
   ]
  },
  {
   "cell_type": "code",
   "execution_count": null,
   "metadata": {},
   "outputs": [],
   "source": [
    "#Periodo 13\n",
    "data_inicio = df['data_notificacao'][0]+pd.Timedelta(days=360)\n",
    "data_fim = df['data_notificacao'][0]+pd.Timedelta(days=450)\n",
    "\n",
    "df_13 = df[(df['data_notificacao'] >= data_inicio) & (df['data_notificacao'] < data_fim )]\n",
    "df_13 = df_13.reset_index()\n",
    "df_13 = df_13.drop(\"index\", axis=1)\n",
    "df_13"
   ]
  },
  {
   "cell_type": "code",
   "execution_count": null,
   "metadata": {},
   "outputs": [],
   "source": [
    "X_train_oversampled_13, y_train_oversampled_13, X_test_13, y_test_13, mean_test_scores_13, std_test_scores_13, best_scores_13, best_params_13 = apply_model_xgboost(df_13)"
   ]
  },
  {
   "cell_type": "code",
   "execution_count": null,
   "metadata": {},
   "outputs": [],
   "source": [
    "preds_13, final_cl_13 = create_final_cl(X_train_oversampled_13, y_train_oversampled_13, X_test_13, y_test_13, 0.9, 0.25, 7, 5)"
   ]
  },
  {
   "cell_type": "code",
   "execution_count": null,
   "metadata": {},
   "outputs": [],
   "source": [
    "plot_conf_matrix (X_test_13, y_test_13, preds_13, final_cl_13)\n",
    "\n",
    "plot_roc_curve(y_test_13, preds_13)"
   ]
  },
  {
   "cell_type": "markdown",
   "metadata": {},
   "source": [
    "### Definição dos atributos mais importantes:"
   ]
  },
  {
   "cell_type": "code",
   "execution_count": null,
   "metadata": {},
   "outputs": [],
   "source": [
    "# plot feature importance\n",
    "plt.figure(figsize=(10,10))\n",
    "plot_importance(final_cl_13)\n",
    "plt.show()"
   ]
  },
  {
   "cell_type": "markdown",
   "metadata": {},
   "source": [
    "### Teste com o Período 14 (22/03/2021 até 19/06/2021):"
   ]
  },
  {
   "cell_type": "code",
   "execution_count": null,
   "metadata": {},
   "outputs": [],
   "source": [
    "#Periodo 14\n",
    "data_inicio = df['data_notificacao'][0]+pd.Timedelta(days=390)\n",
    "data_fim = df['data_notificacao'][0]+pd.Timedelta(days=480)\n",
    "\n",
    "df_14 = df[(df['data_notificacao'] >= data_inicio) & (df['data_notificacao'] < data_fim )]\n",
    "df_14 = df_14.reset_index()\n",
    "df_14 = df_14.drop(\"index\", axis=1)\n",
    "df_14"
   ]
  },
  {
   "cell_type": "code",
   "execution_count": null,
   "metadata": {},
   "outputs": [],
   "source": [
    "X_train_oversampled_14, y_train_oversampled_14, X_test_14, y_test_14, mean_test_scores_14, std_test_scores_14, best_scores_14, best_params_14 = apply_model_xgboost(df_14)"
   ]
  },
  {
   "cell_type": "code",
   "execution_count": null,
   "metadata": {},
   "outputs": [],
   "source": [
    "preds_14, final_cl_14 = create_final_cl(X_train_oversampled_14, y_train_oversampled_14, X_test_14, y_test_14, 0.9, 0.25, 7, 5)"
   ]
  },
  {
   "cell_type": "code",
   "execution_count": null,
   "metadata": {},
   "outputs": [],
   "source": [
    "plot_conf_matrix (X_test_14, y_test_14, preds_14, final_cl_14)\n",
    "\n",
    "plot_roc_curve(y_test_14, preds_14)"
   ]
  },
  {
   "cell_type": "markdown",
   "metadata": {},
   "source": [
    "### Definição dos atributos mais importantes:"
   ]
  },
  {
   "cell_type": "code",
   "execution_count": null,
   "metadata": {},
   "outputs": [],
   "source": [
    "# plot feature importance\n",
    "plt.figure(figsize=(10,10))\n",
    "plot_importance(final_cl_14)\n",
    "plt.show()"
   ]
  },
  {
   "cell_type": "markdown",
   "metadata": {},
   "source": [
    "### Teste com o Período 15 (21/04/2021 até 19/07/2021):"
   ]
  },
  {
   "cell_type": "code",
   "execution_count": null,
   "metadata": {},
   "outputs": [],
   "source": [
    "#Periodo 15\n",
    "data_inicio = df['data_notificacao'][0]+pd.Timedelta(days=420)\n",
    "data_fim = df['data_notificacao'][0]+pd.Timedelta(days=510)\n",
    "\n",
    "df_15 = df[(df['data_notificacao'] >= data_inicio) & (df['data_notificacao'] < data_fim )]\n",
    "df_15 = df_15.reset_index()\n",
    "df_15 = df_15.drop(\"index\", axis=1)\n",
    "df_15"
   ]
  },
  {
   "cell_type": "code",
   "execution_count": null,
   "metadata": {},
   "outputs": [],
   "source": [
    "X_train_oversampled_15, y_train_oversampled_15, X_test_15, y_test_15, mean_test_scores_15, std_test_scores_15, best_scores_15, best_params_15 = apply_model_xgboost(df_15)"
   ]
  },
  {
   "cell_type": "code",
   "execution_count": null,
   "metadata": {},
   "outputs": [],
   "source": [
    "preds_15, final_cl_15 = create_final_cl(X_train_oversampled_15, y_train_oversampled_15, X_test_15, y_test_15, 0.9, 0.25, 7, 3)"
   ]
  },
  {
   "cell_type": "code",
   "execution_count": null,
   "metadata": {},
   "outputs": [],
   "source": [
    "plot_conf_matrix (X_test_15, y_test_15, preds_15, final_cl_15)\n",
    "\n",
    "plot_roc_curve(y_test_15, preds_15)"
   ]
  },
  {
   "cell_type": "markdown",
   "metadata": {},
   "source": [
    "### Determinação dos atributos mais importantes:"
   ]
  },
  {
   "cell_type": "code",
   "execution_count": null,
   "metadata": {},
   "outputs": [],
   "source": [
    "# plot feature importance\n",
    "plt.figure(figsize=(10,10))\n",
    "plot_importance(final_cl_15)\n",
    "plt.show()"
   ]
  },
  {
   "cell_type": "markdown",
   "metadata": {},
   "source": [
    "### Teste com o Período 16 (21/05/2021 até 18/08/2021):"
   ]
  },
  {
   "cell_type": "code",
   "execution_count": null,
   "metadata": {},
   "outputs": [],
   "source": [
    "#Periodo 16\n",
    "data_inicio = df['data_notificacao'][0]+pd.Timedelta(days=450)\n",
    "data_fim = df['data_notificacao'][0]+pd.Timedelta(days=540)\n",
    "\n",
    "df_16 = df[(df['data_notificacao'] >= data_inicio) & (df['data_notificacao'] < data_fim )]\n",
    "df_16 = df_16.reset_index()\n",
    "df_16 = df_16.drop(\"index\", axis=1)\n",
    "df_16"
   ]
  },
  {
   "cell_type": "code",
   "execution_count": null,
   "metadata": {},
   "outputs": [],
   "source": [
    "X_train_oversampled_16, y_train_oversampled_16, X_test_16, y_test_16, mean_test_scores_16, std_test_scores_16, best_scores_16, best_params_16 = apply_model_xgboost(df_16)"
   ]
  },
  {
   "cell_type": "code",
   "execution_count": null,
   "metadata": {},
   "outputs": [],
   "source": [
    "preds_16, final_cl_16 = create_final_cl(X_train_oversampled_16, y_train_oversampled_16, X_test_16, y_test_16, 0.9, 0.25, 7, 5)"
   ]
  },
  {
   "cell_type": "code",
   "execution_count": null,
   "metadata": {},
   "outputs": [],
   "source": [
    "plot_conf_matrix (X_test_16, y_test_16, preds_16, final_cl_16)\n",
    "\n",
    "plot_roc_curve(y_test_16, preds_16)"
   ]
  },
  {
   "cell_type": "markdown",
   "metadata": {},
   "source": [
    "### Determinação dos atributos mais importantes:"
   ]
  },
  {
   "cell_type": "code",
   "execution_count": null,
   "metadata": {},
   "outputs": [],
   "source": [
    "# plot feature importance\n",
    "plt.figure(figsize=(10,10))\n",
    "plot_importance(final_cl_16)\n",
    "plt.show()"
   ]
  },
  {
   "cell_type": "markdown",
   "metadata": {},
   "source": [
    "### Teste com o Período 17 (20/06/2021 até 17/09/2021):"
   ]
  },
  {
   "cell_type": "code",
   "execution_count": null,
   "metadata": {},
   "outputs": [],
   "source": [
    "#Periodo 17\n",
    "data_inicio = df['data_notificacao'][0]+pd.Timedelta(days=480)\n",
    "data_fim = df['data_notificacao'][0]+pd.Timedelta(days=570)\n",
    "\n",
    "df_17 = df[(df['data_notificacao'] >= data_inicio) & (df['data_notificacao'] < data_fim )]\n",
    "df_17 = df_17.reset_index()\n",
    "df_17 = df_17.drop(\"index\", axis=1)\n",
    "df_17"
   ]
  },
  {
   "cell_type": "code",
   "execution_count": null,
   "metadata": {},
   "outputs": [],
   "source": [
    "X_train_oversampled_17, y_train_oversampled_17, X_test_17, y_test_17, mean_test_scores_17, std_test_scores_17, best_scores_17, best_params_17 = apply_model_xgboost(df_17)"
   ]
  },
  {
   "cell_type": "code",
   "execution_count": null,
   "metadata": {},
   "outputs": [],
   "source": [
    "preds_17, final_cl_17 = create_final_cl(X_train_oversampled_17, y_train_oversampled_17, X_test_17, y_test_17, 0.9, 0.25, 7, 5)"
   ]
  },
  {
   "cell_type": "code",
   "execution_count": null,
   "metadata": {},
   "outputs": [],
   "source": [
    "plot_conf_matrix (X_test_17, y_test_17, preds_17, final_cl_17)\n",
    "\n",
    "plot_roc_curve(y_test_17, preds_17)"
   ]
  },
  {
   "cell_type": "markdown",
   "metadata": {},
   "source": [
    "### Determinação dos atributos mais importantes:"
   ]
  },
  {
   "cell_type": "code",
   "execution_count": null,
   "metadata": {},
   "outputs": [],
   "source": [
    "# plot feature importance\n",
    "plt.figure(figsize=(10,10))\n",
    "plot_importance(final_cl_17)\n",
    "plt.show()"
   ]
  },
  {
   "cell_type": "markdown",
   "metadata": {},
   "source": [
    "### Teste com o Período 18 (20/07/2021 até 17/10/2021):"
   ]
  },
  {
   "cell_type": "code",
   "execution_count": null,
   "metadata": {},
   "outputs": [],
   "source": [
    "#Periodo 18\n",
    "data_inicio = df['data_notificacao'][0]+pd.Timedelta(days=510)\n",
    "data_fim = df['data_notificacao'][0]+pd.Timedelta(days=600)\n",
    "\n",
    "df_18 = df[(df['data_notificacao'] >= data_inicio) & (df['data_notificacao'] < data_fim )]\n",
    "df_18 = df_18.reset_index()\n",
    "df_18 = df_18.drop(\"index\", axis=1)\n",
    "df_18"
   ]
  },
  {
   "cell_type": "code",
   "execution_count": null,
   "metadata": {},
   "outputs": [],
   "source": [
    "X_train_oversampled_18, y_train_oversampled_18, X_test_18, y_test_18, mean_test_scores_18, std_test_scores_18, best_scores_18, best_params_18 = apply_model_xgboost(df_18)"
   ]
  },
  {
   "cell_type": "code",
   "execution_count": null,
   "metadata": {},
   "outputs": [],
   "source": [
    "preds_18, final_cl_18 = create_final_cl(X_train_oversampled_18, y_train_oversampled_18, X_test_18, y_test_18, 0.9, 0.25, 7, 5)"
   ]
  },
  {
   "cell_type": "code",
   "execution_count": null,
   "metadata": {},
   "outputs": [],
   "source": [
    "plot_conf_matrix (X_test_18, y_test_18, preds_18, final_cl_18)\n",
    "\n",
    "plot_roc_curve(y_test_18, preds_18)"
   ]
  },
  {
   "cell_type": "markdown",
   "metadata": {},
   "source": [
    "### Determinação dos atributos mais importantes:"
   ]
  },
  {
   "cell_type": "code",
   "execution_count": null,
   "metadata": {},
   "outputs": [],
   "source": [
    "# plot feature importance\n",
    "plt.figure(figsize=(10,10))\n",
    "plot_importance(final_cl_18)\n",
    "plt.show()"
   ]
  },
  {
   "cell_type": "markdown",
   "metadata": {},
   "source": [
    "### Teste com o Período 19 (19/08/2021 até 16/11/2021):"
   ]
  },
  {
   "cell_type": "code",
   "execution_count": null,
   "metadata": {},
   "outputs": [],
   "source": [
    "#Periodo 19\n",
    "data_inicio = df['data_notificacao'][0]+pd.Timedelta(days=540)\n",
    "data_fim = df['data_notificacao'][0]+pd.Timedelta(days=630)\n",
    "\n",
    "df_19 = df[(df['data_notificacao'] >= data_inicio) & (df['data_notificacao'] < data_fim )]\n",
    "df_19 = df_19.reset_index()\n",
    "df_19 = df_19.drop(\"index\", axis=1)\n",
    "df_19"
   ]
  },
  {
   "cell_type": "code",
   "execution_count": null,
   "metadata": {},
   "outputs": [],
   "source": [
    "X_train_oversampled_19, y_train_oversampled_19, X_test_19, y_test_19, mean_test_scores_19, std_test_scores_19, best_scores_19, best_params_19 = apply_model_xgboost(df_19)"
   ]
  },
  {
   "cell_type": "code",
   "execution_count": null,
   "metadata": {},
   "outputs": [],
   "source": [
    "preds_19, final_cl_19 = create_final_cl(X_train_oversampled_19, y_train_oversampled_19, X_test_19, y_test_19, 0.9, 0.25, 7, 3)"
   ]
  },
  {
   "cell_type": "code",
   "execution_count": null,
   "metadata": {},
   "outputs": [],
   "source": [
    "plot_conf_matrix (X_test_19, y_test_19, preds_19, final_cl_19)\n",
    "\n",
    "plot_roc_curve(y_test_19, preds_19)"
   ]
  },
  {
   "cell_type": "markdown",
   "metadata": {},
   "source": [
    "### Determinação dos atributos mais importantes:"
   ]
  },
  {
   "cell_type": "code",
   "execution_count": null,
   "metadata": {},
   "outputs": [],
   "source": [
    "# plot feature importance\n",
    "plt.figure(figsize=(10,10))\n",
    "plot_importance(final_cl_19)\n",
    "plt.show()"
   ]
  },
  {
   "cell_type": "markdown",
   "metadata": {},
   "source": [
    "### Teste com o Período 20 (18/09/2021 até 16/12/2021):"
   ]
  },
  {
   "cell_type": "code",
   "execution_count": null,
   "metadata": {},
   "outputs": [],
   "source": [
    "#Periodo 20\n",
    "data_inicio = df['data_notificacao'][0]+pd.Timedelta(days=570)\n",
    "data_fim = df['data_notificacao'][0]+pd.Timedelta(days=660)\n",
    "\n",
    "df_20 = df[(df['data_notificacao'] >= data_inicio) & (df['data_notificacao'] < data_fim )]\n",
    "df_20 = df_20.reset_index()\n",
    "df_20 = df_20.drop(\"index\", axis=1)\n",
    "df_20"
   ]
  },
  {
   "cell_type": "code",
   "execution_count": null,
   "metadata": {},
   "outputs": [],
   "source": [
    "X_train_oversampled_20, y_train_oversampled_20, X_test_20, y_test_20, mean_test_scores_20, std_test_scores_20, best_scores_20, best_params_20 = apply_model_xgboost(df_20)"
   ]
  },
  {
   "cell_type": "code",
   "execution_count": null,
   "metadata": {},
   "outputs": [],
   "source": [
    "preds_20, final_cl_20 = create_final_cl(X_train_oversampled_20, y_train_oversampled_20, X_test_20, y_test_20, 0.9, 0.25, 7, 5)"
   ]
  },
  {
   "cell_type": "code",
   "execution_count": null,
   "metadata": {},
   "outputs": [],
   "source": [
    "plot_conf_matrix (X_test_20, y_test_20, preds_20, final_cl_20)\n",
    "\n",
    "plot_roc_curve(y_test_20, preds_20)"
   ]
  },
  {
   "cell_type": "markdown",
   "metadata": {},
   "source": [
    "### Determinação dos atributos mais importantes:"
   ]
  },
  {
   "cell_type": "code",
   "execution_count": null,
   "metadata": {},
   "outputs": [],
   "source": [
    "# plot feature importance\n",
    "plt.figure(figsize=(10,10))\n",
    "plot_importance(final_cl_20)\n",
    "plt.show()"
   ]
  },
  {
   "cell_type": "markdown",
   "metadata": {},
   "source": [
    "### Teste com o Período 21 (18/10/2021 até 15/01/2022):"
   ]
  },
  {
   "cell_type": "code",
   "execution_count": null,
   "metadata": {},
   "outputs": [],
   "source": [
    "#Periodo 21\n",
    "data_inicio = df['data_notificacao'][0]+pd.Timedelta(days=600)\n",
    "data_fim = df['data_notificacao'][0]+pd.Timedelta(days=690)\n",
    "\n",
    "df_21 = df[(df['data_notificacao'] >= data_inicio) & (df['data_notificacao'] < data_fim )]\n",
    "df_21 = df_21.reset_index()\n",
    "df_21 = df_21.drop(\"index\", axis=1)\n",
    "df_21"
   ]
  },
  {
   "cell_type": "code",
   "execution_count": null,
   "metadata": {},
   "outputs": [],
   "source": [
    "X_train_oversampled_21, y_train_oversampled_21, X_test_21, y_test_21, mean_test_scores_21, std_test_scores_21, best_scores_21, best_params_21 = apply_model_xgboost(df_21)"
   ]
  },
  {
   "cell_type": "code",
   "execution_count": null,
   "metadata": {},
   "outputs": [],
   "source": [
    "preds_21, final_cl_21 = create_final_cl(X_train_oversampled_21, y_train_oversampled_21, X_test_21, y_test_21, 0.9, 0.25, 7, 5)"
   ]
  },
  {
   "cell_type": "code",
   "execution_count": null,
   "metadata": {},
   "outputs": [],
   "source": [
    "plot_conf_matrix (X_test_21, y_test_21, preds_21, final_cl_21)\n",
    "\n",
    "plot_roc_curve(y_test_21, preds_21)"
   ]
  },
  {
   "cell_type": "markdown",
   "metadata": {},
   "source": [
    "### Determinação dos atributos mais importantes:"
   ]
  },
  {
   "cell_type": "code",
   "execution_count": null,
   "metadata": {},
   "outputs": [],
   "source": [
    "# plot feature importance\n",
    "plt.figure(figsize=(10,10))\n",
    "plot_importance(final_cl_21)\n",
    "plt.show()"
   ]
  },
  {
   "cell_type": "markdown",
   "metadata": {},
   "source": [
    "### Teste com o Período 22 (17/11/2021 até 14/02/2022):"
   ]
  },
  {
   "cell_type": "code",
   "execution_count": null,
   "metadata": {},
   "outputs": [],
   "source": [
    "#Periodo 22\n",
    "data_inicio = df['data_notificacao'][0]+pd.Timedelta(days=630)\n",
    "data_fim = df['data_notificacao'][0]+pd.Timedelta(days=720)\n",
    "\n",
    "df_22 = df[(df['data_notificacao'] >= data_inicio) & (df['data_notificacao'] < data_fim )]\n",
    "df_22 = df_22.reset_index()\n",
    "df_22 = df_22.drop(\"index\", axis=1)\n",
    "df_22"
   ]
  },
  {
   "cell_type": "code",
   "execution_count": null,
   "metadata": {},
   "outputs": [],
   "source": [
    "X_train_oversampled_22, y_train_oversampled_22, X_test_22, y_test_22, mean_test_scores_22, std_test_scores_22, best_scores_22, best_params_22 = apply_model_xgboost(df_22)"
   ]
  },
  {
   "cell_type": "code",
   "execution_count": null,
   "metadata": {},
   "outputs": [],
   "source": [
    "preds_22, final_cl_22 = create_final_cl(X_train_oversampled_22, y_train_oversampled_22, X_test_22, y_test_22, 0.9, 1, 7, 5)"
   ]
  },
  {
   "cell_type": "code",
   "execution_count": null,
   "metadata": {},
   "outputs": [],
   "source": [
    "plot_conf_matrix (X_test_22, y_test_22, preds_22, final_cl_22)\n",
    "\n",
    "plot_roc_curve(y_test_22, preds_22)"
   ]
  },
  {
   "cell_type": "markdown",
   "metadata": {},
   "source": [
    "### Determinação dos atributos mais importantes:"
   ]
  },
  {
   "cell_type": "code",
   "execution_count": null,
   "metadata": {},
   "outputs": [],
   "source": [
    "# plot feature importance\n",
    "plt.figure(figsize=(10,10))\n",
    "plot_importance(final_cl_22)\n",
    "plt.show()"
   ]
  },
  {
   "cell_type": "markdown",
   "metadata": {},
   "source": [
    "### Teste com o Período 23 (17/12/2021 até 16/03/2022):"
   ]
  },
  {
   "cell_type": "code",
   "execution_count": null,
   "metadata": {},
   "outputs": [],
   "source": [
    "#Periodo 23\n",
    "data_inicio = df['data_notificacao'][0]+pd.Timedelta(days=660)\n",
    "data_fim = df['data_notificacao'][0]+pd.Timedelta(days=750)\n",
    "\n",
    "df_23 = df[(df['data_notificacao'] >= data_inicio) & (df['data_notificacao'] < data_fim )]\n",
    "df_23 = df_23.reset_index()\n",
    "df_23 = df_23.drop(\"index\", axis=1)\n",
    "df_23"
   ]
  },
  {
   "cell_type": "code",
   "execution_count": null,
   "metadata": {},
   "outputs": [],
   "source": [
    "X_train_oversampled_23, y_train_oversampled_23, X_test_23, y_test_23, mean_test_scores_23, std_test_scores_23, best_scores_23, best_params_23 = apply_model_xgboost(df_23)"
   ]
  },
  {
   "cell_type": "code",
   "execution_count": null,
   "metadata": {},
   "outputs": [],
   "source": [
    "preds_23, final_cl_23 = create_final_cl(X_train_oversampled_23, y_train_oversampled_23, X_test_23, y_test_23, 0.9, 0.25, 7, 5)"
   ]
  },
  {
   "cell_type": "code",
   "execution_count": null,
   "metadata": {},
   "outputs": [],
   "source": [
    "plot_conf_matrix (X_test_23, y_test_23, preds_23, final_cl_23)\n",
    "\n",
    "plot_roc_curve(y_test_23, preds_23)"
   ]
  },
  {
   "cell_type": "markdown",
   "metadata": {},
   "source": [
    "### Determinação dos atributos mais importantes:"
   ]
  },
  {
   "cell_type": "code",
   "execution_count": null,
   "metadata": {},
   "outputs": [],
   "source": [
    "# plot feature importance\n",
    "plt.figure(figsize=(10,10))\n",
    "plot_importance(final_cl_23)\n",
    "plt.show()"
   ]
  },
  {
   "cell_type": "markdown",
   "metadata": {},
   "source": [
    "### Teste com o Período 24 (16/01/2022 até 15/04/2022):"
   ]
  },
  {
   "cell_type": "code",
   "execution_count": null,
   "metadata": {},
   "outputs": [],
   "source": [
    "#Periodo 24\n",
    "data_inicio = df['data_notificacao'][0]+pd.Timedelta(days=690)\n",
    "data_fim = df['data_notificacao'][0]+pd.Timedelta(days=780)\n",
    "\n",
    "df_24 = df[(df['data_notificacao'] >= data_inicio) & (df['data_notificacao'] < data_fim )]\n",
    "df_24 = df_24.reset_index()\n",
    "df_24 = df_24.drop(\"index\", axis=1)\n",
    "df_24"
   ]
  },
  {
   "cell_type": "code",
   "execution_count": null,
   "metadata": {},
   "outputs": [],
   "source": [
    "X_train_oversampled_24, y_train_oversampled_24, X_test_24, y_test_24, mean_test_scores_24, std_test_scores_24, best_scores_24, best_params_24 = apply_model_xgboost(df_24)"
   ]
  },
  {
   "cell_type": "code",
   "execution_count": null,
   "metadata": {},
   "outputs": [],
   "source": [
    "preds_24, final_cl_24 = create_final_cl(X_train_oversampled_24, y_train_oversampled_24, X_test_24, y_test_24, 0.9, 0.25, 7, 3)"
   ]
  },
  {
   "cell_type": "code",
   "execution_count": null,
   "metadata": {},
   "outputs": [],
   "source": [
    "plot_conf_matrix (X_test_24, y_test_24, preds_24, final_cl_24)\n",
    "\n",
    "plot_roc_curve(y_test_24, preds_24)"
   ]
  },
  {
   "cell_type": "markdown",
   "metadata": {},
   "source": [
    "### Determinação dos atributos mais importantes:"
   ]
  },
  {
   "cell_type": "code",
   "execution_count": null,
   "metadata": {},
   "outputs": [],
   "source": [
    "# plot feature importance\n",
    "plt.figure(figsize=(10,10))\n",
    "plot_importance(final_cl_24)\n",
    "plt.show()"
   ]
  },
  {
   "cell_type": "markdown",
   "metadata": {},
   "source": [
    "### Teste com o Período 25 (15/02/2022 até 15/05/2021):"
   ]
  },
  {
   "cell_type": "code",
   "execution_count": null,
   "metadata": {},
   "outputs": [],
   "source": [
    "#Periodo 25\n",
    "data_inicio = df['data_notificacao'][0]+pd.Timedelta(days=720)\n",
    "data_fim = df['data_notificacao'][0]+pd.Timedelta(days=810)\n",
    "\n",
    "df_25 = df[(df['data_notificacao'] >= data_inicio) & (df['data_notificacao'] < data_fim )]\n",
    "df_25 = df_25.reset_index()\n",
    "df_25 = df_25.drop(\"index\", axis=1)\n",
    "df_25"
   ]
  },
  {
   "cell_type": "code",
   "execution_count": null,
   "metadata": {},
   "outputs": [],
   "source": [
    "X_train_oversampled_25, y_train_oversampled_25, X_test_25, y_test_25, mean_test_scores_25, std_test_scores_25, best_scores_25, best_params_25 = apply_model_xgboost(df_25)"
   ]
  },
  {
   "cell_type": "code",
   "execution_count": null,
   "metadata": {},
   "outputs": [],
   "source": [
    "preds_25, final_cl_25 = create_final_cl(X_train_oversampled_25, y_train_oversampled_25, X_test_25, y_test_25, 0.9, 0.25, 7, 5)"
   ]
  },
  {
   "cell_type": "code",
   "execution_count": null,
   "metadata": {},
   "outputs": [],
   "source": [
    "plot_conf_matrix (X_test_25, y_test_25, preds_25, final_cl_25)\n",
    "\n",
    "plot_roc_curve(y_test_25, preds_25)"
   ]
  },
  {
   "cell_type": "markdown",
   "metadata": {},
   "source": [
    "### Determinação dos atributos mais importantes:"
   ]
  },
  {
   "cell_type": "code",
   "execution_count": null,
   "metadata": {},
   "outputs": [],
   "source": [
    "# plot feature importance\n",
    "plt.figure(figsize=(10,10))\n",
    "plot_importance(final_cl_25)\n",
    "plt.show()"
   ]
  },
  {
   "cell_type": "markdown",
   "metadata": {},
   "source": [
    "### Teste com o Período 26 (17/03/2022 até 13/06/2022):"
   ]
  },
  {
   "cell_type": "code",
   "execution_count": 12,
   "metadata": {},
   "outputs": [
    {
     "data": {
      "text/html": [
       "<div>\n",
       "<style scoped>\n",
       "    .dataframe tbody tr th:only-of-type {\n",
       "        vertical-align: middle;\n",
       "    }\n",
       "\n",
       "    .dataframe tbody tr th {\n",
       "        vertical-align: top;\n",
       "    }\n",
       "\n",
       "    .dataframe thead th {\n",
       "        text-align: right;\n",
       "    }\n",
       "</style>\n",
       "<table border=\"1\" class=\"dataframe\">\n",
       "  <thead>\n",
       "    <tr style=\"text-align: right;\">\n",
       "      <th></th>\n",
       "      <th>SYMPTOM_COUGH</th>\n",
       "      <th>SYMPTOM_COLD</th>\n",
       "      <th>SYMPTOM_AIR_INSUFFICIENCY</th>\n",
       "      <th>SYMPTOM_FEVER</th>\n",
       "      <th>SYMPTOM_LOW_OXYGEN_SATURATION</th>\n",
       "      <th>SYMPTOM_BREATHING_CONDITION</th>\n",
       "      <th>SYMPTOM_TORACIC_APERTURE</th>\n",
       "      <th>SYMPTOM_THROAT_CONDITION</th>\n",
       "      <th>SYMPTOM_HEADACHE</th>\n",
       "      <th>SYMPTOM_BODY_PAIN</th>\n",
       "      <th>...</th>\n",
       "      <th>DISEASE_IMMUNOSUPPRESSION</th>\n",
       "      <th>DISEASE_TABAGIST</th>\n",
       "      <th>DISEASE_ETILISM</th>\n",
       "      <th>DISEASE_LIVER</th>\n",
       "      <th>DISEASE_NEUROLOGIC</th>\n",
       "      <th>death</th>\n",
       "      <th>idade</th>\n",
       "      <th>sexo_Feminino</th>\n",
       "      <th>sexo_Masculino</th>\n",
       "      <th>data_notificacao</th>\n",
       "    </tr>\n",
       "  </thead>\n",
       "  <tbody>\n",
       "    <tr>\n",
       "      <th>0</th>\n",
       "      <td>0</td>\n",
       "      <td>0</td>\n",
       "      <td>0</td>\n",
       "      <td>0</td>\n",
       "      <td>0</td>\n",
       "      <td>0</td>\n",
       "      <td>0</td>\n",
       "      <td>0</td>\n",
       "      <td>0</td>\n",
       "      <td>0</td>\n",
       "      <td>...</td>\n",
       "      <td>0</td>\n",
       "      <td>1</td>\n",
       "      <td>1</td>\n",
       "      <td>0</td>\n",
       "      <td>0</td>\n",
       "      <td>1</td>\n",
       "      <td>0.582609</td>\n",
       "      <td>0</td>\n",
       "      <td>1</td>\n",
       "      <td>2022-03-17</td>\n",
       "    </tr>\n",
       "    <tr>\n",
       "      <th>1</th>\n",
       "      <td>0</td>\n",
       "      <td>0</td>\n",
       "      <td>1</td>\n",
       "      <td>0</td>\n",
       "      <td>0</td>\n",
       "      <td>0</td>\n",
       "      <td>0</td>\n",
       "      <td>0</td>\n",
       "      <td>0</td>\n",
       "      <td>0</td>\n",
       "      <td>...</td>\n",
       "      <td>0</td>\n",
       "      <td>0</td>\n",
       "      <td>0</td>\n",
       "      <td>0</td>\n",
       "      <td>0</td>\n",
       "      <td>1</td>\n",
       "      <td>0.513043</td>\n",
       "      <td>0</td>\n",
       "      <td>1</td>\n",
       "      <td>2022-03-17</td>\n",
       "    </tr>\n",
       "    <tr>\n",
       "      <th>2</th>\n",
       "      <td>1</td>\n",
       "      <td>0</td>\n",
       "      <td>1</td>\n",
       "      <td>1</td>\n",
       "      <td>0</td>\n",
       "      <td>0</td>\n",
       "      <td>0</td>\n",
       "      <td>0</td>\n",
       "      <td>0</td>\n",
       "      <td>0</td>\n",
       "      <td>...</td>\n",
       "      <td>0</td>\n",
       "      <td>0</td>\n",
       "      <td>0</td>\n",
       "      <td>0</td>\n",
       "      <td>1</td>\n",
       "      <td>0</td>\n",
       "      <td>0.678261</td>\n",
       "      <td>1</td>\n",
       "      <td>0</td>\n",
       "      <td>2022-03-17</td>\n",
       "    </tr>\n",
       "    <tr>\n",
       "      <th>3</th>\n",
       "      <td>1</td>\n",
       "      <td>0</td>\n",
       "      <td>1</td>\n",
       "      <td>1</td>\n",
       "      <td>0</td>\n",
       "      <td>0</td>\n",
       "      <td>0</td>\n",
       "      <td>0</td>\n",
       "      <td>0</td>\n",
       "      <td>0</td>\n",
       "      <td>...</td>\n",
       "      <td>0</td>\n",
       "      <td>0</td>\n",
       "      <td>0</td>\n",
       "      <td>0</td>\n",
       "      <td>0</td>\n",
       "      <td>1</td>\n",
       "      <td>0.530435</td>\n",
       "      <td>1</td>\n",
       "      <td>0</td>\n",
       "      <td>2022-03-17</td>\n",
       "    </tr>\n",
       "    <tr>\n",
       "      <th>4</th>\n",
       "      <td>1</td>\n",
       "      <td>0</td>\n",
       "      <td>1</td>\n",
       "      <td>0</td>\n",
       "      <td>0</td>\n",
       "      <td>0</td>\n",
       "      <td>0</td>\n",
       "      <td>0</td>\n",
       "      <td>0</td>\n",
       "      <td>0</td>\n",
       "      <td>...</td>\n",
       "      <td>0</td>\n",
       "      <td>0</td>\n",
       "      <td>1</td>\n",
       "      <td>0</td>\n",
       "      <td>0</td>\n",
       "      <td>1</td>\n",
       "      <td>0.426087</td>\n",
       "      <td>0</td>\n",
       "      <td>1</td>\n",
       "      <td>2022-03-17</td>\n",
       "    </tr>\n",
       "    <tr>\n",
       "      <th>...</th>\n",
       "      <td>...</td>\n",
       "      <td>...</td>\n",
       "      <td>...</td>\n",
       "      <td>...</td>\n",
       "      <td>...</td>\n",
       "      <td>...</td>\n",
       "      <td>...</td>\n",
       "      <td>...</td>\n",
       "      <td>...</td>\n",
       "      <td>...</td>\n",
       "      <td>...</td>\n",
       "      <td>...</td>\n",
       "      <td>...</td>\n",
       "      <td>...</td>\n",
       "      <td>...</td>\n",
       "      <td>...</td>\n",
       "      <td>...</td>\n",
       "      <td>...</td>\n",
       "      <td>...</td>\n",
       "      <td>...</td>\n",
       "      <td>...</td>\n",
       "    </tr>\n",
       "    <tr>\n",
       "      <th>1390</th>\n",
       "      <td>1</td>\n",
       "      <td>0</td>\n",
       "      <td>1</td>\n",
       "      <td>1</td>\n",
       "      <td>0</td>\n",
       "      <td>0</td>\n",
       "      <td>0</td>\n",
       "      <td>0</td>\n",
       "      <td>0</td>\n",
       "      <td>0</td>\n",
       "      <td>...</td>\n",
       "      <td>0</td>\n",
       "      <td>0</td>\n",
       "      <td>0</td>\n",
       "      <td>0</td>\n",
       "      <td>0</td>\n",
       "      <td>0</td>\n",
       "      <td>0.000000</td>\n",
       "      <td>1</td>\n",
       "      <td>0</td>\n",
       "      <td>2022-06-12</td>\n",
       "    </tr>\n",
       "    <tr>\n",
       "      <th>1391</th>\n",
       "      <td>1</td>\n",
       "      <td>0</td>\n",
       "      <td>1</td>\n",
       "      <td>0</td>\n",
       "      <td>0</td>\n",
       "      <td>0</td>\n",
       "      <td>0</td>\n",
       "      <td>0</td>\n",
       "      <td>0</td>\n",
       "      <td>0</td>\n",
       "      <td>...</td>\n",
       "      <td>0</td>\n",
       "      <td>0</td>\n",
       "      <td>0</td>\n",
       "      <td>0</td>\n",
       "      <td>0</td>\n",
       "      <td>0</td>\n",
       "      <td>0.556522</td>\n",
       "      <td>0</td>\n",
       "      <td>1</td>\n",
       "      <td>2022-06-12</td>\n",
       "    </tr>\n",
       "    <tr>\n",
       "      <th>1392</th>\n",
       "      <td>1</td>\n",
       "      <td>0</td>\n",
       "      <td>1</td>\n",
       "      <td>0</td>\n",
       "      <td>0</td>\n",
       "      <td>0</td>\n",
       "      <td>0</td>\n",
       "      <td>0</td>\n",
       "      <td>0</td>\n",
       "      <td>0</td>\n",
       "      <td>...</td>\n",
       "      <td>0</td>\n",
       "      <td>0</td>\n",
       "      <td>0</td>\n",
       "      <td>0</td>\n",
       "      <td>0</td>\n",
       "      <td>0</td>\n",
       "      <td>0.573913</td>\n",
       "      <td>1</td>\n",
       "      <td>0</td>\n",
       "      <td>2022-06-12</td>\n",
       "    </tr>\n",
       "    <tr>\n",
       "      <th>1393</th>\n",
       "      <td>1</td>\n",
       "      <td>0</td>\n",
       "      <td>1</td>\n",
       "      <td>0</td>\n",
       "      <td>0</td>\n",
       "      <td>0</td>\n",
       "      <td>0</td>\n",
       "      <td>0</td>\n",
       "      <td>0</td>\n",
       "      <td>0</td>\n",
       "      <td>...</td>\n",
       "      <td>0</td>\n",
       "      <td>0</td>\n",
       "      <td>0</td>\n",
       "      <td>0</td>\n",
       "      <td>0</td>\n",
       "      <td>0</td>\n",
       "      <td>0.000000</td>\n",
       "      <td>0</td>\n",
       "      <td>1</td>\n",
       "      <td>2022-06-13</td>\n",
       "    </tr>\n",
       "    <tr>\n",
       "      <th>1394</th>\n",
       "      <td>1</td>\n",
       "      <td>0</td>\n",
       "      <td>1</td>\n",
       "      <td>0</td>\n",
       "      <td>0</td>\n",
       "      <td>0</td>\n",
       "      <td>0</td>\n",
       "      <td>0</td>\n",
       "      <td>0</td>\n",
       "      <td>0</td>\n",
       "      <td>...</td>\n",
       "      <td>0</td>\n",
       "      <td>0</td>\n",
       "      <td>0</td>\n",
       "      <td>0</td>\n",
       "      <td>0</td>\n",
       "      <td>0</td>\n",
       "      <td>0.556522</td>\n",
       "      <td>0</td>\n",
       "      <td>1</td>\n",
       "      <td>2022-06-13</td>\n",
       "    </tr>\n",
       "  </tbody>\n",
       "</table>\n",
       "<p>1395 rows × 35 columns</p>\n",
       "</div>"
      ],
      "text/plain": [
       "      SYMPTOM_COUGH  SYMPTOM_COLD  SYMPTOM_AIR_INSUFFICIENCY  SYMPTOM_FEVER  \\\n",
       "0                 0             0                          0              0   \n",
       "1                 0             0                          1              0   \n",
       "2                 1             0                          1              1   \n",
       "3                 1             0                          1              1   \n",
       "4                 1             0                          1              0   \n",
       "...             ...           ...                        ...            ...   \n",
       "1390              1             0                          1              1   \n",
       "1391              1             0                          1              0   \n",
       "1392              1             0                          1              0   \n",
       "1393              1             0                          1              0   \n",
       "1394              1             0                          1              0   \n",
       "\n",
       "      SYMPTOM_LOW_OXYGEN_SATURATION  SYMPTOM_BREATHING_CONDITION  \\\n",
       "0                                 0                            0   \n",
       "1                                 0                            0   \n",
       "2                                 0                            0   \n",
       "3                                 0                            0   \n",
       "4                                 0                            0   \n",
       "...                             ...                          ...   \n",
       "1390                              0                            0   \n",
       "1391                              0                            0   \n",
       "1392                              0                            0   \n",
       "1393                              0                            0   \n",
       "1394                              0                            0   \n",
       "\n",
       "      SYMPTOM_TORACIC_APERTURE  SYMPTOM_THROAT_CONDITION  SYMPTOM_HEADACHE  \\\n",
       "0                            0                         0                 0   \n",
       "1                            0                         0                 0   \n",
       "2                            0                         0                 0   \n",
       "3                            0                         0                 0   \n",
       "4                            0                         0                 0   \n",
       "...                        ...                       ...               ...   \n",
       "1390                         0                         0                 0   \n",
       "1391                         0                         0                 0   \n",
       "1392                         0                         0                 0   \n",
       "1393                         0                         0                 0   \n",
       "1394                         0                         0                 0   \n",
       "\n",
       "      SYMPTOM_BODY_PAIN  ...  DISEASE_IMMUNOSUPPRESSION  DISEASE_TABAGIST  \\\n",
       "0                     0  ...                          0                 1   \n",
       "1                     0  ...                          0                 0   \n",
       "2                     0  ...                          0                 0   \n",
       "3                     0  ...                          0                 0   \n",
       "4                     0  ...                          0                 0   \n",
       "...                 ...  ...                        ...               ...   \n",
       "1390                  0  ...                          0                 0   \n",
       "1391                  0  ...                          0                 0   \n",
       "1392                  0  ...                          0                 0   \n",
       "1393                  0  ...                          0                 0   \n",
       "1394                  0  ...                          0                 0   \n",
       "\n",
       "      DISEASE_ETILISM  DISEASE_LIVER  DISEASE_NEUROLOGIC  death     idade  \\\n",
       "0                   1              0                   0      1  0.582609   \n",
       "1                   0              0                   0      1  0.513043   \n",
       "2                   0              0                   1      0  0.678261   \n",
       "3                   0              0                   0      1  0.530435   \n",
       "4                   1              0                   0      1  0.426087   \n",
       "...               ...            ...                 ...    ...       ...   \n",
       "1390                0              0                   0      0  0.000000   \n",
       "1391                0              0                   0      0  0.556522   \n",
       "1392                0              0                   0      0  0.573913   \n",
       "1393                0              0                   0      0  0.000000   \n",
       "1394                0              0                   0      0  0.556522   \n",
       "\n",
       "      sexo_Feminino  sexo_Masculino  data_notificacao  \n",
       "0                 0               1        2022-03-17  \n",
       "1                 0               1        2022-03-17  \n",
       "2                 1               0        2022-03-17  \n",
       "3                 1               0        2022-03-17  \n",
       "4                 0               1        2022-03-17  \n",
       "...             ...             ...               ...  \n",
       "1390              1               0        2022-06-12  \n",
       "1391              0               1        2022-06-12  \n",
       "1392              1               0        2022-06-12  \n",
       "1393              0               1        2022-06-13  \n",
       "1394              0               1        2022-06-13  \n",
       "\n",
       "[1395 rows x 35 columns]"
      ]
     },
     "execution_count": 12,
     "metadata": {},
     "output_type": "execute_result"
    }
   ],
   "source": [
    "#Periodo 26\n",
    "data_inicio = df['data_notificacao'][0]+pd.Timedelta(days=750)\n",
    "data_fim = df['data_notificacao'][0]+pd.Timedelta(days=840)\n",
    "\n",
    "df_26 = df[(df['data_notificacao'] >= data_inicio) & (df['data_notificacao'] < data_fim )]\n",
    "df_26 = df_26.reset_index()\n",
    "df_26 = df_26.drop(\"index\", axis=1)\n",
    "df_26"
   ]
  },
  {
   "cell_type": "code",
   "execution_count": 13,
   "metadata": {},
   "outputs": [
    {
     "name": "stderr",
     "output_type": "stream",
     "text": [
      "c:\\Users\\maril\\anaconda3\\lib\\site-packages\\sklearn\\model_selection\\_validation.py:378: FitFailedWarning: \n",
      "720 fits failed out of a total of 2160.\n",
      "The score on these train-test partitions for these parameters will be set to nan.\n",
      "If these failures are not expected, you can try to debug them by setting error_score='raise'.\n",
      "\n",
      "Below are more details about the failures:\n",
      "--------------------------------------------------------------------------------\n",
      "720 fits failed with the following error:\n",
      "Traceback (most recent call last):\n",
      "  File \"c:\\Users\\maril\\anaconda3\\lib\\site-packages\\sklearn\\model_selection\\_validation.py\", line 686, in _fit_and_score\n",
      "    estimator.fit(X_train, y_train, **fit_params)\n",
      "  File \"c:\\Users\\maril\\anaconda3\\lib\\site-packages\\sklearn\\ensemble\\_forest.py\", line 476, in fit\n",
      "    trees = Parallel(\n",
      "  File \"c:\\Users\\maril\\anaconda3\\lib\\site-packages\\joblib\\parallel.py\", line 1043, in __call__\n",
      "    if self.dispatch_one_batch(iterator):\n",
      "  File \"c:\\Users\\maril\\anaconda3\\lib\\site-packages\\joblib\\parallel.py\", line 861, in dispatch_one_batch\n",
      "    self._dispatch(tasks)\n",
      "  File \"c:\\Users\\maril\\anaconda3\\lib\\site-packages\\joblib\\parallel.py\", line 779, in _dispatch\n",
      "    job = self._backend.apply_async(batch, callback=cb)\n",
      "  File \"c:\\Users\\maril\\anaconda3\\lib\\site-packages\\joblib\\_parallel_backends.py\", line 208, in apply_async\n",
      "    result = ImmediateResult(func)\n",
      "  File \"c:\\Users\\maril\\anaconda3\\lib\\site-packages\\joblib\\_parallel_backends.py\", line 572, in __init__\n",
      "    self.results = batch()\n",
      "  File \"c:\\Users\\maril\\anaconda3\\lib\\site-packages\\joblib\\parallel.py\", line 262, in __call__\n",
      "    return [func(*args, **kwargs)\n",
      "  File \"c:\\Users\\maril\\anaconda3\\lib\\site-packages\\joblib\\parallel.py\", line 262, in <listcomp>\n",
      "    return [func(*args, **kwargs)\n",
      "  File \"c:\\Users\\maril\\anaconda3\\lib\\site-packages\\sklearn\\utils\\fixes.py\", line 117, in __call__\n",
      "    return self.function(*args, **kwargs)\n",
      "  File \"c:\\Users\\maril\\anaconda3\\lib\\site-packages\\sklearn\\ensemble\\_forest.py\", line 189, in _parallel_build_trees\n",
      "    tree.fit(X, y, sample_weight=curr_sample_weight, check_input=False)\n",
      "  File \"c:\\Users\\maril\\anaconda3\\lib\\site-packages\\sklearn\\tree\\_classes.py\", line 969, in fit\n",
      "    super().fit(\n",
      "  File \"c:\\Users\\maril\\anaconda3\\lib\\site-packages\\sklearn\\tree\\_classes.py\", line 265, in fit\n",
      "    check_scalar(\n",
      "  File \"c:\\Users\\maril\\anaconda3\\lib\\site-packages\\sklearn\\utils\\validation.py\", line 1480, in check_scalar\n",
      "    raise ValueError(\n",
      "ValueError: min_samples_split == 1, must be >= 2.\n",
      "\n",
      "  warnings.warn(some_fits_failed_message, FitFailedWarning)\n",
      "c:\\Users\\maril\\anaconda3\\lib\\site-packages\\sklearn\\model_selection\\_search.py:953: UserWarning: One or more of the test scores are non-finite: [       nan        nan        nan 0.76739691 0.80382906 0.79889144\n",
      " 0.76973864 0.80339918 0.80740912        nan        nan        nan\n",
      " 0.7597192  0.79612239 0.80004117 0.77486084 0.79846211 0.80260797\n",
      "        nan        nan        nan 0.75699724 0.79509459 0.80234767\n",
      " 0.71399091 0.80319201 0.80208591        nan        nan        nan\n",
      " 0.7879951  0.79765804 0.80235729 0.77218117 0.80221377 0.80058941\n",
      "        nan        nan        nan 0.79014444 0.79945355 0.7960452\n",
      " 0.7910531  0.79657521 0.79755513        nan        nan        nan\n",
      " 0.77868946 0.80095945 0.79870798 0.78982764 0.79947816 0.80206846\n",
      "        nan        nan        nan 0.77653845 0.79708631 0.8000896\n",
      " 0.78500613 0.79502244 0.79858941        nan        nan        nan\n",
      " 0.78986612 0.80099871 0.79899995 0.78893542 0.79697724 0.79743644\n",
      "        nan        nan        nan 0.78617633 0.79479726 0.79438415\n",
      " 0.78509137 0.79959271 0.79938509        nan        nan        nan\n",
      " 0.7954417  0.79533968 0.79518576 0.78890791 0.79988064 0.79679043\n",
      "        nan        nan        nan 0.78230084 0.79687489 0.79727838\n",
      " 0.78613718 0.79182204 0.79703138        nan        nan        nan\n",
      " 0.79030284 0.79499313 0.79695163 0.78884974 0.79911729 0.79562918\n",
      "        nan        nan        nan 0.77006819 0.8185114  0.81641218\n",
      " 0.77564903 0.80525464 0.81398733        nan        nan        nan\n",
      " 0.79755647 0.81023377 0.80450919 0.76807715 0.80574897 0.80329481\n",
      "        nan        nan        nan 0.76469106 0.79745165 0.80010381\n",
      " 0.75180759 0.8021905  0.80563856        nan        nan        nan\n",
      " 0.79796096 0.80922029 0.80787291 0.80270719 0.81236073 0.8072448\n",
      "        nan        nan        nan 0.79655172 0.80611655 0.80687755\n",
      " 0.79011065 0.80612762 0.81210199        nan        nan        nan\n",
      " 0.79636882 0.8050373  0.80921895 0.79770144 0.80905272 0.80522377\n",
      "        nan        nan        nan 0.79287076 0.80913539 0.81211709\n",
      " 0.80048459 0.81046555 0.810036          nan        nan        nan\n",
      " 0.80278572 0.80615637 0.80313373 0.79464803 0.80783633 0.80802437\n",
      "        nan        nan        nan 0.80414933 0.80345667 0.80306538\n",
      " 0.79646849 0.80350578 0.80642406        nan        nan        nan\n",
      " 0.79712076 0.81108214 0.80921392 0.80321483 0.80962882 0.81243825\n",
      "        nan        nan        nan 0.79181936 0.80643211 0.80528876\n",
      " 0.79142493 0.80931683 0.80583152        nan        nan        nan\n",
      " 0.79381611 0.80752199 0.80665092 0.79700588 0.80506269 0.80545454\n",
      "        nan        nan        nan 0.82286689 0.83442411 0.83437746\n",
      " 0.81230782 0.82793528 0.82929911        nan        nan        nan\n",
      " 0.76689129 0.81281389 0.81168027 0.79118689 0.81754714 0.81500327\n",
      "        nan        nan        nan 0.78599712 0.81080807 0.81408152\n",
      " 0.79585738 0.80412036 0.80621443        nan        nan        nan\n",
      " 0.81082418 0.83437287 0.83695545 0.81274509 0.83267625 0.83155147\n",
      "        nan        nan        nan 0.80389943 0.81521547 0.81569301\n",
      " 0.80771663 0.81633052 0.81622011        nan        nan        nan\n",
      " 0.81145375 0.81248725 0.81302743 0.80407237 0.81841061 0.81103415\n",
      "        nan        nan        nan 0.81826138 0.83646482 0.83662646\n",
      " 0.82105426 0.8369088  0.83558759        nan        nan        nan\n",
      " 0.8157589  0.82139511 0.81993552 0.80980109 0.81861588 0.82446462\n",
      "        nan        nan        nan 0.8077022  0.8161955  0.81501658\n",
      " 0.80067576 0.81390813 0.81596305        nan        nan        nan\n",
      " 0.82179949 0.84122816 0.84285331 0.82262168 0.83940983 0.83870163\n",
      "        nan        nan        nan 0.82581201 0.81982903 0.82590027\n",
      " 0.80541931 0.82422982 0.82483869        nan        nan        nan\n",
      " 0.81179929 0.81995622 0.81720003 0.81072261 0.81827022 0.82135898\n",
      "        nan        nan        nan 0.83069628 0.84759103 0.84709481\n",
      " 0.83033977 0.84136967 0.84003996        nan        nan        nan\n",
      " 0.81122353 0.82544298 0.82149142 0.82093737 0.8189141  0.81871722\n",
      "        nan        nan        nan 0.7938669  0.81053591 0.81024585\n",
      " 0.7980103  0.81458624 0.811408          nan        nan        nan\n",
      " 0.83258564 0.84860261 0.85160434 0.8313528  0.84403245 0.84334886\n",
      "        nan        nan        nan 0.81376931 0.82110919 0.82139086\n",
      " 0.818089   0.82287908 0.82627647        nan        nan        nan\n",
      " 0.80018401 0.81449049 0.81404158 0.80469634 0.81394057 0.81224898\n",
      "        nan        nan        nan 0.84383915 0.85184439 0.84976431\n",
      " 0.84421535 0.84374105 0.84426725        nan        nan        nan\n",
      " 0.82791884 0.83093209 0.83035129 0.82139902 0.82803048 0.82859773\n",
      "        nan        nan        nan 0.8092053  0.82041407 0.8218099\n",
      " 0.8123604  0.81799638 0.82005029        nan        nan        nan\n",
      " 0.83670689 0.8494993  0.85411555 0.83489997 0.8495464  0.84715309\n",
      "        nan        nan        nan 0.82736008 0.83600708 0.83611894\n",
      " 0.82901397 0.83264638 0.83652769        nan        nan        nan\n",
      " 0.81293481 0.82359769 0.82517764 0.81575644 0.82110136 0.82121568]\n",
      "  warnings.warn(\n"
     ]
    },
    {
     "name": "stdout",
     "output_type": "stream",
     "text": [
      "########################################\n",
      "\n",
      "best_score: 0.8541155453536655\n",
      "best_params_: {'max_depth': None, 'max_features': 7, 'min_samples_leaf': 1, 'min_samples_split': 2, 'n_estimators': 200}\n",
      "########################################\n",
      "\n"
     ]
    },
    {
     "name": "stderr",
     "output_type": "stream",
     "text": [
      "c:\\Users\\maril\\anaconda3\\lib\\site-packages\\sklearn\\model_selection\\_validation.py:378: FitFailedWarning: \n",
      "720 fits failed out of a total of 2160.\n",
      "The score on these train-test partitions for these parameters will be set to nan.\n",
      "If these failures are not expected, you can try to debug them by setting error_score='raise'.\n",
      "\n",
      "Below are more details about the failures:\n",
      "--------------------------------------------------------------------------------\n",
      "720 fits failed with the following error:\n",
      "Traceback (most recent call last):\n",
      "  File \"c:\\Users\\maril\\anaconda3\\lib\\site-packages\\sklearn\\model_selection\\_validation.py\", line 686, in _fit_and_score\n",
      "    estimator.fit(X_train, y_train, **fit_params)\n",
      "  File \"c:\\Users\\maril\\anaconda3\\lib\\site-packages\\sklearn\\ensemble\\_forest.py\", line 476, in fit\n",
      "    trees = Parallel(\n",
      "  File \"c:\\Users\\maril\\anaconda3\\lib\\site-packages\\joblib\\parallel.py\", line 1043, in __call__\n",
      "    if self.dispatch_one_batch(iterator):\n",
      "  File \"c:\\Users\\maril\\anaconda3\\lib\\site-packages\\joblib\\parallel.py\", line 861, in dispatch_one_batch\n",
      "    self._dispatch(tasks)\n",
      "  File \"c:\\Users\\maril\\anaconda3\\lib\\site-packages\\joblib\\parallel.py\", line 779, in _dispatch\n",
      "    job = self._backend.apply_async(batch, callback=cb)\n",
      "  File \"c:\\Users\\maril\\anaconda3\\lib\\site-packages\\joblib\\_parallel_backends.py\", line 208, in apply_async\n",
      "    result = ImmediateResult(func)\n",
      "  File \"c:\\Users\\maril\\anaconda3\\lib\\site-packages\\joblib\\_parallel_backends.py\", line 572, in __init__\n",
      "    self.results = batch()\n",
      "  File \"c:\\Users\\maril\\anaconda3\\lib\\site-packages\\joblib\\parallel.py\", line 262, in __call__\n",
      "    return [func(*args, **kwargs)\n",
      "  File \"c:\\Users\\maril\\anaconda3\\lib\\site-packages\\joblib\\parallel.py\", line 262, in <listcomp>\n",
      "    return [func(*args, **kwargs)\n",
      "  File \"c:\\Users\\maril\\anaconda3\\lib\\site-packages\\sklearn\\utils\\fixes.py\", line 117, in __call__\n",
      "    return self.function(*args, **kwargs)\n",
      "  File \"c:\\Users\\maril\\anaconda3\\lib\\site-packages\\sklearn\\ensemble\\_forest.py\", line 189, in _parallel_build_trees\n",
      "    tree.fit(X, y, sample_weight=curr_sample_weight, check_input=False)\n",
      "  File \"c:\\Users\\maril\\anaconda3\\lib\\site-packages\\sklearn\\tree\\_classes.py\", line 969, in fit\n",
      "    super().fit(\n",
      "  File \"c:\\Users\\maril\\anaconda3\\lib\\site-packages\\sklearn\\tree\\_classes.py\", line 265, in fit\n",
      "    check_scalar(\n",
      "  File \"c:\\Users\\maril\\anaconda3\\lib\\site-packages\\sklearn\\utils\\validation.py\", line 1480, in check_scalar\n",
      "    raise ValueError(\n",
      "ValueError: min_samples_split == 1, must be >= 2.\n",
      "\n",
      "  warnings.warn(some_fits_failed_message, FitFailedWarning)\n",
      "c:\\Users\\maril\\anaconda3\\lib\\site-packages\\sklearn\\model_selection\\_search.py:953: UserWarning: One or more of the test scores are non-finite: [       nan        nan        nan 0.74324225 0.80781384 0.80177728\n",
      " 0.73732963 0.79674893 0.80414978        nan        nan        nan\n",
      " 0.76700091 0.80488807 0.80090844 0.758019   0.79789038 0.79991241\n",
      "        nan        nan        nan 0.76399516 0.79170369 0.80355209\n",
      " 0.75985881 0.79802495 0.80270563        nan        nan        nan\n",
      " 0.79116977 0.79983075 0.80365791 0.7979726  0.79858359 0.80003971\n",
      "        nan        nan        nan 0.78861158 0.79657644 0.80046938\n",
      " 0.77603786 0.79877063 0.79950993        nan        nan        nan\n",
      " 0.77781536 0.79993747 0.79843683 0.78957103 0.79874982 0.80277017\n",
      "        nan        nan        nan 0.78192677 0.80156966 0.80094725\n",
      " 0.79927077 0.80152256 0.79860798        nan        nan        nan\n",
      " 0.78772641 0.79446794 0.79965009 0.79387517 0.80097399 0.79898865\n",
      "        nan        nan        nan 0.77743995 0.79204387 0.79697735\n",
      " 0.78063912 0.79566174 0.79630249        nan        nan        nan\n",
      " 0.78229234 0.795288   0.79769193 0.78781959 0.79585213 0.7985129\n",
      "        nan        nan        nan 0.78483319 0.79254468 0.79438728\n",
      " 0.79833559 0.79650608 0.79709615        nan        nan        nan\n",
      " 0.78843987 0.79803043 0.79653471 0.78612062 0.79438158 0.79513419\n",
      "        nan        nan        nan 0.77792409 0.81551951 0.81423891\n",
      " 0.78688833 0.8160031  0.81413957        nan        nan        nan\n",
      " 0.7705049  0.80560903 0.80758206 0.78754385 0.8057521  0.80699143\n",
      "        nan        nan        nan 0.76141515 0.7953549  0.80665271\n",
      " 0.72599099 0.80629519 0.80265439        nan        nan        nan\n",
      " 0.80312299 0.81092721 0.81170052 0.80095777 0.81249206 0.80847283\n",
      "        nan        nan        nan 0.78878989 0.80364774 0.80538519\n",
      " 0.78255175 0.80615369 0.80339974        nan        nan        nan\n",
      " 0.79126295 0.80400379 0.80476793 0.79121071 0.80568711 0.80434967\n",
      "        nan        nan        nan 0.80509647 0.81360554 0.81242393\n",
      " 0.78783156 0.80794248 0.81255973        nan        nan        nan\n",
      " 0.79906863 0.8054013  0.80580165 0.80386866 0.80849878 0.80483863\n",
      "        nan        nan        nan 0.7920583  0.80344582 0.80294993\n",
      " 0.79766151 0.80654342 0.80687721        nan        nan        nan\n",
      " 0.78939663 0.8105132  0.80917868 0.79885732 0.8093637  0.81044318\n",
      "        nan        nan        nan 0.79686594 0.80584774 0.80779527\n",
      " 0.79741284 0.80898684 0.80577414        nan        nan        nan\n",
      " 0.7959669  0.80533932 0.80368633 0.78987574 0.80539872 0.80539425\n",
      "        nan        nan        nan 0.81747532 0.83261965 0.83554788\n",
      " 0.80814462 0.83138949 0.83017712        nan        nan        nan\n",
      " 0.79528196 0.81197044 0.81621418 0.797453   0.8085244  0.81250884\n",
      "        nan        nan        nan 0.78193527 0.80622975 0.80877273\n",
      " 0.77628407 0.80876356 0.81151303        nan        nan        nan\n",
      " 0.80916537 0.83627969 0.83602889 0.81356784 0.83282469 0.83135515\n",
      "        nan        nan        nan 0.80518809 0.8158475  0.81502665\n",
      " 0.80422114 0.81304589 0.81434149        nan        nan        nan\n",
      " 0.79290074 0.81154167 0.80756584 0.80637338 0.80747054 0.81025268\n",
      "        nan        nan        nan 0.82843464 0.83734048 0.84280644\n",
      " 0.82552699 0.83873843 0.83600607        nan        nan        nan\n",
      " 0.80786206 0.82136121 0.81935607 0.8150262  0.81936681 0.81895549\n",
      "        nan        nan        nan 0.8028449  0.81427951 0.81439775\n",
      " 0.79969887 0.81164738 0.81567277        nan        nan        nan\n",
      " 0.82644314 0.84125289 0.84236917 0.82297663 0.83940357 0.83842656\n",
      "        nan        nan        nan 0.81924376 0.82665445 0.82414716\n",
      " 0.81752387 0.82382197 0.82463488        nan        nan        nan\n",
      " 0.81276388 0.8137494  0.81641263 0.80959503 0.81952633 0.82016417\n",
      "        nan        nan        nan 0.82695659 0.84900431 0.84800302\n",
      " 0.8202625  0.84320042 0.84112413        nan        nan        nan\n",
      " 0.79961855 0.81863467 0.82235623 0.78332796 0.82103301 0.82271006\n",
      "        nan        nan        nan 0.77113525 0.80928495 0.81700785\n",
      " 0.77385162 0.80530778 0.81443836        nan        nan        nan\n",
      " 0.83023328 0.85016444 0.84995682 0.82751512 0.84145111 0.84454009\n",
      "        nan        nan        nan 0.81682764 0.81910673 0.82806806\n",
      " 0.80728932 0.8276026  0.82298535        nan        nan        nan\n",
      " 0.79288284 0.81301602 0.8105028  0.79690901 0.81361964 0.81381472\n",
      "        nan        nan        nan 0.83934853 0.85065943 0.85358118\n",
      " 0.83267189 0.84408883 0.84478205        nan        nan        nan\n",
      " 0.81716043 0.82889428 0.82971435 0.80990355 0.82958705 0.83008349\n",
      "        nan        nan        nan 0.80934334 0.82056486 0.82022502\n",
      " 0.79696393 0.81672215 0.82398518        nan        nan        nan\n",
      " 0.83379197 0.85297264 0.85301862 0.84177842 0.84884546 0.84672611\n",
      "        nan        nan        nan 0.81085953 0.83260499 0.83260444\n",
      " 0.82484227 0.83421011 0.83374969        nan        nan        nan\n",
      " 0.8083396  0.82376492 0.8241098  0.81762432 0.82564187 0.8256497 ]\n",
      "  warnings.warn(\n"
     ]
    },
    {
     "name": "stdout",
     "output_type": "stream",
     "text": [
      "########################################\n",
      "\n",
      "best_score: 0.853581176617984\n",
      "best_params_: {'max_depth': None, 'max_features': 5, 'min_samples_leaf': 1, 'min_samples_split': 2, 'n_estimators': 200}\n",
      "########################################\n",
      "\n"
     ]
    }
   ],
   "source": [
    "X_train_oversampled_26, y_train_oversampled_26, X_test_26, y_test_26, mean_test_scores_26, std_test_scores_26, best_scores_26, best_params_26 = apply_model_randomforest(df_26)"
   ]
  },
  {
   "cell_type": "code",
   "execution_count": null,
   "metadata": {},
   "outputs": [],
   "source": [
    "preds_26, final_cl_26 = create_final_cl(X_train_oversampled_26, y_train_oversampled_26, X_test_26, y_test_26, 0.9, 0.25, 7, 5)"
   ]
  },
  {
   "cell_type": "code",
   "execution_count": null,
   "metadata": {},
   "outputs": [],
   "source": [
    "plot_conf_matrix (X_test_26, y_test_26, preds_26, final_cl_26)\n",
    "\n",
    "plot_roc_curve(y_test_26, preds_26)"
   ]
  },
  {
   "cell_type": "markdown",
   "metadata": {},
   "source": [
    "### Determinação dos atributos mais importantes:"
   ]
  },
  {
   "cell_type": "code",
   "execution_count": null,
   "metadata": {},
   "outputs": [],
   "source": [
    "# plot feature importance\n",
    "plt.figure(figsize=(10,10))\n",
    "plot_importance(final_cl_26)\n",
    "plt.show()"
   ]
  }
 ],
 "metadata": {
  "kernelspec": {
   "display_name": "Python 3.9.12 ('base')",
   "language": "python",
   "name": "python3"
  },
  "language_info": {
   "codemirror_mode": {
    "name": "ipython",
    "version": 3
   },
   "file_extension": ".py",
   "mimetype": "text/x-python",
   "name": "python",
   "nbconvert_exporter": "python",
   "pygments_lexer": "ipython3",
   "version": "3.9.12"
  },
  "orig_nbformat": 4,
  "vscode": {
   "interpreter": {
    "hash": "0aaeb22c71f2ae0b9c043eccdf97f0c7955bdacc8e8a30a0863aaa920d0fd752"
   }
  }
 },
 "nbformat": 4,
 "nbformat_minor": 2
}
