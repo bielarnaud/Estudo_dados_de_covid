{
 "cells": [
  {
   "cell_type": "code",
   "execution_count": 1,
   "metadata": {},
   "outputs": [],
   "source": [
    "from functions.Pre_Processing_Casos_Leves import *"
   ]
  },
  {
   "cell_type": "code",
   "execution_count": 2,
   "metadata": {},
   "outputs": [],
   "source": [
    "casos_leves = Pre_Processing_Casos_Leves()"
   ]
  },
  {
   "cell_type": "code",
   "execution_count": 3,
   "metadata": {},
   "outputs": [
    {
     "name": "stderr",
     "output_type": "stream",
     "text": [
      "c:\\Users\\gabri\\Desktop\\Git - Tcc\\Estudo_dados_de_covid\\Codes\\functions\\Pre_Processing_Casos_Leves.py:80: DtypeWarning: Columns (2,9) have mixed types. Specify dtype option on import or set low_memory=False.\n",
      "  self.df_temp = pd.read_csv(filename, index_col=None, header=0,sep=';',decimal=',')\n",
      "c:\\Users\\gabri\\Desktop\\Git - Tcc\\Estudo_dados_de_covid\\Codes\\functions\\Pre_Processing_Casos_Leves.py:80: DtypeWarning: Columns (14,15) have mixed types. Specify dtype option on import or set low_memory=False.\n",
      "  self.df_temp = pd.read_csv(filename, index_col=None, header=0,sep=';',decimal=',')\n",
      "c:\\Users\\gabri\\Desktop\\Git - Tcc\\Estudo_dados_de_covid\\Codes\\functions\\Pre_Processing_Casos_Leves.py:193: SettingWithCopyWarning: \n",
      "A value is trying to be set on a copy of a slice from a DataFrame\n",
      "\n",
      "See the caveats in the documentation: https://pandas.pydata.org/pandas-docs/stable/user_guide/indexing.html#returning-a-view-versus-a-copy\n",
      "  self.df[column][i] = 1\n"
     ]
    }
   ],
   "source": [
    "casos_leves.run(columns_symptoms, columns_to_drop, path)"
   ]
  },
  {
   "cell_type": "code",
   "execution_count": null,
   "metadata": {},
   "outputs": [],
   "source": [
    "casos_leves.df"
   ]
  }
 ],
 "metadata": {
  "kernelspec": {
   "display_name": "Python 3.9.13 64-bit (windows store)",
   "language": "python",
   "name": "python3"
  },
  "language_info": {
   "codemirror_mode": {
    "name": "ipython",
    "version": 3
   },
   "file_extension": ".py",
   "mimetype": "text/x-python",
   "name": "python",
   "nbconvert_exporter": "python",
   "pygments_lexer": "ipython3",
   "version": "3.9.13"
  },
  "orig_nbformat": 4,
  "vscode": {
   "interpreter": {
    "hash": "b7f22e608a9410c9a00adbb49e3cb6a72010c497ae6b30c9496ff58de178a89c"
   }
  }
 },
 "nbformat": 4,
 "nbformat_minor": 2
}
