{
 "cells": [
  {
   "cell_type": "markdown",
   "id": "de4a6d88",
   "metadata": {},
   "source": [
    "## Importando bibliotecas"
   ]
  },
  {
   "cell_type": "code",
   "execution_count": 1,
   "id": "15fbd4f0",
   "metadata": {},
   "outputs": [],
   "source": [
    "import pandas as pd\n",
    "import numpy as np"
   ]
  },
  {
   "cell_type": "markdown",
   "id": "e72a6653",
   "metadata": {},
   "source": [
    "## Lendo Datasets"
   ]
  },
  {
   "cell_type": "markdown",
   "id": "d5ac475e",
   "metadata": {},
   "source": [
    "### Datasets casos leves"
   ]
  },
  {
   "cell_type": "code",
   "execution_count": 2,
   "id": "6ef4e1a9",
   "metadata": {
    "scrolled": true
   },
   "outputs": [
    {
     "name": "stderr",
     "output_type": "stream",
     "text": [
      "C:\\Users\\gabri\\anaconda3\\lib\\site-packages\\IPython\\core\\interactiveshell.py:3165: DtypeWarning: Columns (2,9) have mixed types.Specify dtype option on import or set low_memory=False.\n",
      "  has_raised = await self.run_ast_nodes(code_ast.body, cell_name,\n"
     ]
    }
   ],
   "source": [
    "df = pd.read_csv(r\"C:\\Users\\gabri\\Desktop\\TCC\\Data\\casoslevescovid2020.csv\",index_col=None, header=0,sep=';',decimal=',')"
   ]
  },
  {
   "cell_type": "code",
   "execution_count": 3,
   "id": "bdbec1e2",
   "metadata": {},
   "outputs": [
    {
     "data": {
      "text/html": [
       "<div>\n",
       "<style scoped>\n",
       "    .dataframe tbody tr th:only-of-type {\n",
       "        vertical-align: middle;\n",
       "    }\n",
       "\n",
       "    .dataframe tbody tr th {\n",
       "        vertical-align: top;\n",
       "    }\n",
       "\n",
       "    .dataframe thead th {\n",
       "        text-align: right;\n",
       "    }\n",
       "</style>\n",
       "<table border=\"1\" class=\"dataframe\">\n",
       "  <thead>\n",
       "    <tr style=\"text-align: right;\">\n",
       "      <th></th>\n",
       "      <th>sexo</th>\n",
       "      <th>data_notificacao</th>\n",
       "      <th>idade</th>\n",
       "      <th>data_inicio_sintomas</th>\n",
       "      <th>sintomas</th>\n",
       "      <th>outros_sintomas</th>\n",
       "      <th>classificacao_final</th>\n",
       "      <th>evolucao_caso</th>\n",
       "      <th>resultado_final</th>\n",
       "      <th>etnia</th>\n",
       "      <th>raca_cor</th>\n",
       "      <th>profissional_saude</th>\n",
       "      <th>cbo</th>\n",
       "      <th>bairro</th>\n",
       "      <th>ds</th>\n",
       "      <th>municipio_residencia</th>\n",
       "    </tr>\n",
       "  </thead>\n",
       "  <tbody>\n",
       "    <tr>\n",
       "      <th>0</th>\n",
       "      <td>Masculino</td>\n",
       "      <td>2020-01-12</td>\n",
       "      <td>28</td>\n",
       "      <td>2020-01-12</td>\n",
       "      <td>Assintomático</td>\n",
       "      <td>NaN</td>\n",
       "      <td>NaN</td>\n",
       "      <td>NaN</td>\n",
       "      <td>NaN</td>\n",
       "      <td>NaN</td>\n",
       "      <td>Parda</td>\n",
       "      <td>Não</td>\n",
       "      <td>NaN</td>\n",
       "      <td>SANCHO</td>\n",
       "      <td>V</td>\n",
       "      <td>Recife</td>\n",
       "    </tr>\n",
       "    <tr>\n",
       "      <th>1</th>\n",
       "      <td>Feminino</td>\n",
       "      <td>2020-01-20</td>\n",
       "      <td>36</td>\n",
       "      <td>2020-01-20</td>\n",
       "      <td>Assintomático</td>\n",
       "      <td>NaN</td>\n",
       "      <td>NaN</td>\n",
       "      <td>NaN</td>\n",
       "      <td>Positivo</td>\n",
       "      <td>NaN</td>\n",
       "      <td>Branca</td>\n",
       "      <td>Não</td>\n",
       "      <td>NaN</td>\n",
       "      <td>ROSARINHO</td>\n",
       "      <td>II</td>\n",
       "      <td>Recife</td>\n",
       "    </tr>\n",
       "    <tr>\n",
       "      <th>2</th>\n",
       "      <td>Feminino</td>\n",
       "      <td>2020-01-20</td>\n",
       "      <td>45</td>\n",
       "      <td>2020-01-20</td>\n",
       "      <td>Assintomático</td>\n",
       "      <td>NaN</td>\n",
       "      <td>NaN</td>\n",
       "      <td>NaN</td>\n",
       "      <td>Positivo</td>\n",
       "      <td>NaN</td>\n",
       "      <td>Ignorado</td>\n",
       "      <td>Não</td>\n",
       "      <td>NaN</td>\n",
       "      <td>CASA AMARELA</td>\n",
       "      <td>III</td>\n",
       "      <td>Recife</td>\n",
       "    </tr>\n",
       "    <tr>\n",
       "      <th>3</th>\n",
       "      <td>Masculino</td>\n",
       "      <td>2020-01-20</td>\n",
       "      <td>58</td>\n",
       "      <td>2020-01-20</td>\n",
       "      <td>Assintomático</td>\n",
       "      <td>NaN</td>\n",
       "      <td>NaN</td>\n",
       "      <td>NaN</td>\n",
       "      <td>Positivo</td>\n",
       "      <td>NaN</td>\n",
       "      <td>Branca</td>\n",
       "      <td>Não</td>\n",
       "      <td>NaN</td>\n",
       "      <td>ROSARINHO</td>\n",
       "      <td>II</td>\n",
       "      <td>Recife</td>\n",
       "    </tr>\n",
       "    <tr>\n",
       "      <th>4</th>\n",
       "      <td>Feminino</td>\n",
       "      <td>2020-01-22</td>\n",
       "      <td>33</td>\n",
       "      <td>2020-01-22</td>\n",
       "      <td>Assintomático</td>\n",
       "      <td>NaN</td>\n",
       "      <td>NaN</td>\n",
       "      <td>NaN</td>\n",
       "      <td>Positivo</td>\n",
       "      <td>NaN</td>\n",
       "      <td>Preta</td>\n",
       "      <td>Não</td>\n",
       "      <td>NaN</td>\n",
       "      <td>IPUTINGA</td>\n",
       "      <td>IV</td>\n",
       "      <td>Recife</td>\n",
       "    </tr>\n",
       "    <tr>\n",
       "      <th>...</th>\n",
       "      <td>...</td>\n",
       "      <td>...</td>\n",
       "      <td>...</td>\n",
       "      <td>...</td>\n",
       "      <td>...</td>\n",
       "      <td>...</td>\n",
       "      <td>...</td>\n",
       "      <td>...</td>\n",
       "      <td>...</td>\n",
       "      <td>...</td>\n",
       "      <td>...</td>\n",
       "      <td>...</td>\n",
       "      <td>...</td>\n",
       "      <td>...</td>\n",
       "      <td>...</td>\n",
       "      <td>...</td>\n",
       "    </tr>\n",
       "    <tr>\n",
       "      <th>223966</th>\n",
       "      <td>Masculino</td>\n",
       "      <td>2020-12-31</td>\n",
       "      <td>34</td>\n",
       "      <td>2020-12-10</td>\n",
       "      <td>Tosse</td>\n",
       "      <td>NaN</td>\n",
       "      <td>Confirmado Laboratorial</td>\n",
       "      <td>Cura</td>\n",
       "      <td>Positivo</td>\n",
       "      <td>NaN</td>\n",
       "      <td>Parda</td>\n",
       "      <td>Não</td>\n",
       "      <td>NaN</td>\n",
       "      <td>APIPUCOS</td>\n",
       "      <td>III</td>\n",
       "      <td>Recife</td>\n",
       "    </tr>\n",
       "    <tr>\n",
       "      <th>223967</th>\n",
       "      <td>Feminino</td>\n",
       "      <td>2020-12-31</td>\n",
       "      <td>40</td>\n",
       "      <td>2020-12-03</td>\n",
       "      <td>Distúrbios Olfativos, Distúrbios Gustativos</td>\n",
       "      <td>NaN</td>\n",
       "      <td>Confirmado Laboratorial</td>\n",
       "      <td>Cura</td>\n",
       "      <td>Positivo</td>\n",
       "      <td>NaN</td>\n",
       "      <td>Branca</td>\n",
       "      <td>Não</td>\n",
       "      <td>NaN</td>\n",
       "      <td>BOA VIAGEM</td>\n",
       "      <td>VI</td>\n",
       "      <td>Recife</td>\n",
       "    </tr>\n",
       "    <tr>\n",
       "      <th>223968</th>\n",
       "      <td>Feminino</td>\n",
       "      <td>2020-12-31</td>\n",
       "      <td>42</td>\n",
       "      <td>2020-09-09</td>\n",
       "      <td>Tosse, Dor de Garganta, Coriza</td>\n",
       "      <td>NaN</td>\n",
       "      <td>Confirmado Laboratorial</td>\n",
       "      <td>Cura</td>\n",
       "      <td>Positivo</td>\n",
       "      <td>NaN</td>\n",
       "      <td>Branca</td>\n",
       "      <td>Não</td>\n",
       "      <td>NaN</td>\n",
       "      <td>BOA VIAGEM</td>\n",
       "      <td>VI</td>\n",
       "      <td>Recife</td>\n",
       "    </tr>\n",
       "    <tr>\n",
       "      <th>223969</th>\n",
       "      <td>Masculino</td>\n",
       "      <td>2020-12-31</td>\n",
       "      <td>26</td>\n",
       "      <td>2020-12-02</td>\n",
       "      <td>Dor de Garganta, Coriza</td>\n",
       "      <td>NaN</td>\n",
       "      <td>Confirmado Laboratorial</td>\n",
       "      <td>Cura</td>\n",
       "      <td>Positivo</td>\n",
       "      <td>NaN</td>\n",
       "      <td>Branca</td>\n",
       "      <td>Não</td>\n",
       "      <td>NaN</td>\n",
       "      <td>BOA VIAGEM</td>\n",
       "      <td>VI</td>\n",
       "      <td>Recife</td>\n",
       "    </tr>\n",
       "    <tr>\n",
       "      <th>223970</th>\n",
       "      <td>Feminino</td>\n",
       "      <td>2020-12-31</td>\n",
       "      <td>44</td>\n",
       "      <td>2020-12-10</td>\n",
       "      <td>Tosse, Dor de Garganta, Distúrbios Olfativos, ...</td>\n",
       "      <td>DORES NO CORPO</td>\n",
       "      <td>Confirmado Laboratorial</td>\n",
       "      <td>Cura</td>\n",
       "      <td>Positivo</td>\n",
       "      <td>NaN</td>\n",
       "      <td>Branca</td>\n",
       "      <td>Não</td>\n",
       "      <td>NaN</td>\n",
       "      <td>BOA VIAGEM</td>\n",
       "      <td>VI</td>\n",
       "      <td>Recife</td>\n",
       "    </tr>\n",
       "  </tbody>\n",
       "</table>\n",
       "<p>223971 rows × 16 columns</p>\n",
       "</div>"
      ],
      "text/plain": [
       "             sexo data_notificacao idade data_inicio_sintomas  \\\n",
       "0       Masculino       2020-01-12    28           2020-01-12   \n",
       "1        Feminino       2020-01-20    36           2020-01-20   \n",
       "2        Feminino       2020-01-20    45           2020-01-20   \n",
       "3       Masculino       2020-01-20    58           2020-01-20   \n",
       "4        Feminino       2020-01-22    33           2020-01-22   \n",
       "...           ...              ...   ...                  ...   \n",
       "223966  Masculino       2020-12-31    34           2020-12-10   \n",
       "223967   Feminino       2020-12-31    40           2020-12-03   \n",
       "223968   Feminino       2020-12-31    42           2020-09-09   \n",
       "223969  Masculino       2020-12-31    26           2020-12-02   \n",
       "223970   Feminino       2020-12-31    44           2020-12-10   \n",
       "\n",
       "                                                 sintomas outros_sintomas  \\\n",
       "0                                           Assintomático             NaN   \n",
       "1                                           Assintomático             NaN   \n",
       "2                                           Assintomático             NaN   \n",
       "3                                           Assintomático             NaN   \n",
       "4                                           Assintomático             NaN   \n",
       "...                                                   ...             ...   \n",
       "223966                                              Tosse             NaN   \n",
       "223967        Distúrbios Olfativos, Distúrbios Gustativos             NaN   \n",
       "223968                     Tosse, Dor de Garganta, Coriza             NaN   \n",
       "223969                            Dor de Garganta, Coriza             NaN   \n",
       "223970  Tosse, Dor de Garganta, Distúrbios Olfativos, ...  DORES NO CORPO   \n",
       "\n",
       "            classificacao_final evolucao_caso resultado_final etnia  raca_cor  \\\n",
       "0                           NaN           NaN             NaN   NaN     Parda   \n",
       "1                           NaN           NaN        Positivo   NaN    Branca   \n",
       "2                           NaN           NaN        Positivo   NaN  Ignorado   \n",
       "3                           NaN           NaN        Positivo   NaN    Branca   \n",
       "4                           NaN           NaN        Positivo   NaN     Preta   \n",
       "...                         ...           ...             ...   ...       ...   \n",
       "223966  Confirmado Laboratorial          Cura        Positivo   NaN     Parda   \n",
       "223967  Confirmado Laboratorial          Cura        Positivo   NaN    Branca   \n",
       "223968  Confirmado Laboratorial          Cura        Positivo   NaN    Branca   \n",
       "223969  Confirmado Laboratorial          Cura        Positivo   NaN    Branca   \n",
       "223970  Confirmado Laboratorial          Cura        Positivo   NaN    Branca   \n",
       "\n",
       "       profissional_saude  cbo        bairro   ds municipio_residencia  \n",
       "0                     Não  NaN        SANCHO    V               Recife  \n",
       "1                     Não  NaN     ROSARINHO   II               Recife  \n",
       "2                     Não  NaN  CASA AMARELA  III               Recife  \n",
       "3                     Não  NaN     ROSARINHO   II               Recife  \n",
       "4                     Não  NaN      IPUTINGA   IV               Recife  \n",
       "...                   ...  ...           ...  ...                  ...  \n",
       "223966                Não  NaN      APIPUCOS  III               Recife  \n",
       "223967                Não  NaN    BOA VIAGEM   VI               Recife  \n",
       "223968                Não  NaN    BOA VIAGEM   VI               Recife  \n",
       "223969                Não  NaN    BOA VIAGEM   VI               Recife  \n",
       "223970                Não  NaN    BOA VIAGEM   VI               Recife  \n",
       "\n",
       "[223971 rows x 16 columns]"
      ]
     },
     "execution_count": 3,
     "metadata": {},
     "output_type": "execute_result"
    }
   ],
   "source": [
    "df"
   ]
  },
  {
   "cell_type": "markdown",
   "id": "a25e7e9f",
   "metadata": {},
   "source": [
    "## Estudo dos Dados"
   ]
  },
  {
   "cell_type": "code",
   "execution_count": 4,
   "id": "0f1639e2",
   "metadata": {},
   "outputs": [
    {
     "data": {
      "text/plain": [
       "Descartado                           140007\n",
       "Confirmado Laboratorial               52593\n",
       "Síndrome Gripal Não Especificada        646\n",
       "Confirmação Laboratorial                  6\n",
       "Confirmado Clínico-Epidemiológico         1\n",
       "Confirmado Clínico-Imagem                 1\n",
       "Name: classificacao_final, dtype: int64"
      ]
     },
     "execution_count": 4,
     "metadata": {},
     "output_type": "execute_result"
    }
   ],
   "source": [
    "df[\"classificacao_final\"].value_counts()"
   ]
  },
  {
   "cell_type": "code",
   "execution_count": 5,
   "id": "e31962ec",
   "metadata": {},
   "outputs": [
    {
     "data": {
      "text/plain": [
       "Cura    223420\n",
       "Name: evolucao_caso, dtype: int64"
      ]
     },
     "execution_count": 5,
     "metadata": {},
     "output_type": "execute_result"
    }
   ],
   "source": [
    "df[\"evolucao_caso\"].value_counts()"
   ]
  },
  {
   "cell_type": "code",
   "execution_count": 6,
   "id": "d24ef1d8",
   "metadata": {},
   "outputs": [
    {
     "data": {
      "text/plain": [
       "Negativo                         139279\n",
       "Positivo                          52751\n",
       "Inconclusivo ou indeterminado       629\n",
       "Name: resultado_final, dtype: int64"
      ]
     },
     "execution_count": 6,
     "metadata": {},
     "output_type": "execute_result"
    }
   ],
   "source": [
    "df[\"resultado_final\"].value_counts()"
   ]
  },
  {
   "cell_type": "code",
   "execution_count": 7,
   "id": "10e4653c",
   "metadata": {},
   "outputs": [
    {
     "data": {
      "text/plain": [
       "Parda       85454\n",
       "Ignorado    57083\n",
       "Branca      53502\n",
       "Amarela      9588\n",
       "Preta        9571\n",
       "Indigena      121\n",
       "Name: raca_cor, dtype: int64"
      ]
     },
     "execution_count": 7,
     "metadata": {},
     "output_type": "execute_result"
    }
   ],
   "source": [
    "df[\"raca_cor\"].value_counts()"
   ]
  },
  {
   "cell_type": "code",
   "execution_count": 8,
   "id": "235cdbdb",
   "metadata": {},
   "outputs": [
    {
     "data": {
      "text/plain": [
       "Recife    223971\n",
       "Name: municipio_residencia, dtype: int64"
      ]
     },
     "execution_count": 8,
     "metadata": {},
     "output_type": "execute_result"
    }
   ],
   "source": [
    "df[\"municipio_residencia\"].value_counts()"
   ]
  },
  {
   "cell_type": "code",
   "execution_count": 9,
   "id": "e5466ded",
   "metadata": {},
   "outputs": [
    {
     "data": {
      "text/plain": [
       "Não    202420\n",
       "Sim     20488\n",
       "Name: profissional_saude, dtype: int64"
      ]
     },
     "execution_count": 9,
     "metadata": {},
     "output_type": "execute_result"
    }
   ],
   "source": [
    "df[\"profissional_saude\"].value_counts()"
   ]
  },
  {
   "cell_type": "code",
   "execution_count": 10,
   "id": "b41de065",
   "metadata": {
    "scrolled": true
   },
   "outputs": [
    {
     "data": {
      "text/plain": [
       "Assintomático                                                                                   41584\n",
       "Outros                                                                                          29011\n",
       "Tosse                                                                                            6376\n",
       "Febre, Outros                                                                                    4690\n",
       "Tosse, Outros                                                                                    4287\n",
       "                                                                                                ...  \n",
       "Dor de Garganta, Febre, Tosse, Distúrbios Gustativos, Distúrbios Olfativos, Dispneia, Outros        1\n",
       "Dispneia, Coriza, Dor de Cabeça, Tosse                                                              1\n",
       "Febre, Outros, Coriza, Tosse, Distúrbios Gustativos                                                 1\n",
       "Tosse, Coriza, Dor de Cabeça, Outros, Distúrbios Gustativos, Distúrbios Olfativos                   1\n",
       "Febre, Coriza, Distúrbios Olfativos, Distúrbios Gustativos, Outros                                  1\n",
       "Name: sintomas, Length: 8631, dtype: int64"
      ]
     },
     "execution_count": 10,
     "metadata": {},
     "output_type": "execute_result"
    }
   ],
   "source": [
    "df[\"sintomas\"].value_counts()"
   ]
  },
  {
   "cell_type": "code",
   "execution_count": 11,
   "id": "7e2e6e20",
   "metadata": {},
   "outputs": [
    {
     "data": {
      "text/plain": [
       "DIARREIA                                                 4046\n",
       "DOR NO CORPO                                             3639\n",
       "CEFALEIA                                                 2697\n",
       "MIALGIA                                                  2527\n",
       "ASSINTOMATICO                                            1614\n",
       "                                                         ... \n",
       "MIALGIA, CEFALEIA, DOR OCULAR, CERVICALGIA,  DIARREIA       1\n",
       "MIALGIA/ CEFALEIA/ NAUSEAS E  CORIZA                        1\n",
       "DESCONFORTO RESPIRATORIA                                    1\n",
       "PALADAR ALTERADO, DOR MUSCULAR                              1\n",
       "MOLEZA, DIARREIA,CEFALEIA                                   1\n",
       "Name: outros_sintomas, Length: 24411, dtype: int64"
      ]
     },
     "execution_count": 11,
     "metadata": {},
     "output_type": "execute_result"
    }
   ],
   "source": [
    "df[\"outros_sintomas\"].value_counts()"
   ]
  },
  {
   "cell_type": "markdown",
   "id": "1d030b57",
   "metadata": {},
   "source": [
    "Excluir"
   ]
  },
  {
   "cell_type": "code",
   "execution_count": 12,
   "id": "56fb9765",
   "metadata": {},
   "outputs": [
    {
     "data": {
      "text/plain": [
       "N    29\n",
       "Name: etnia, dtype: int64"
      ]
     },
     "execution_count": 12,
     "metadata": {},
     "output_type": "execute_result"
    }
   ],
   "source": [
    "df[\"etnia\"].value_counts()"
   ]
  },
  {
   "cell_type": "code",
   "execution_count": 13,
   "id": "4e62fdcf",
   "metadata": {},
   "outputs": [
    {
     "data": {
      "text/plain": [
       "Series([], Name: cbo, dtype: int64)"
      ]
     },
     "execution_count": 13,
     "metadata": {},
     "output_type": "execute_result"
    }
   ],
   "source": [
    "df[\"cbo\"].value_counts()"
   ]
  },
  {
   "cell_type": "markdown",
   "id": "774506ac",
   "metadata": {},
   "source": [
    "## Pré-Processamento "
   ]
  },
  {
   "cell_type": "markdown",
   "id": "9d75768c",
   "metadata": {},
   "source": [
    "### Tratamento dos dados"
   ]
  },
  {
   "cell_type": "markdown",
   "id": "fab40ffa",
   "metadata": {},
   "source": [
    "#### Excluindo Colunas Irrelevantes"
   ]
  },
  {
   "cell_type": "code",
   "execution_count": 14,
   "id": "98ecb05a",
   "metadata": {},
   "outputs": [],
   "source": [
    "df = df.drop(columns=[\"etnia\",\"cbo\",\"municipio_residencia\"])"
   ]
  },
  {
   "cell_type": "markdown",
   "id": "e7225bf3",
   "metadata": {},
   "source": [
    "#### Tratando Dados Faltantes"
   ]
  },
  {
   "cell_type": "markdown",
   "id": "02856e12",
   "metadata": {},
   "source": [
    "Transformado dados NAN em \"Não informado\""
   ]
  },
  {
   "cell_type": "code",
   "execution_count": 15,
   "id": "dde415e3",
   "metadata": {},
   "outputs": [],
   "source": [
    "df = df.fillna(\"Não informado\")"
   ]
  },
  {
   "cell_type": "markdown",
   "id": "3dba63a4",
   "metadata": {},
   "source": [
    "#### Lendo o CSV com todas os Sintomas"
   ]
  },
  {
   "cell_type": "code",
   "execution_count": 16,
   "id": "a7baef47",
   "metadata": {},
   "outputs": [
    {
     "name": "stdout",
     "output_type": "stream",
     "text": [
      "['nao informado', 'coriza', 'astenia', 'cefaleia', 'adinamia', 'mialgia', 'dor no corpo', 'taquipneia', 'diarreia', 'nausea', 'vomitos', 'alteracao da ausculta pulmonar', 'moleza', 'irritacao nos olhos', 'dor abdominal', 'aperto toracico', 'irritabilidade', 'confusao', 'dor de ouvido', 'dor de cabeca', 'tosse', 'distúrbios olfativos', 'distúrbios gustativos', 'dor de garganta', 'coriza', 'febre', 'dispneia', 'hiperemia Faríngea', 'pigarro', 'epistaxe', 'espirro', 'dor de cabeça', 'assintomático']\n"
     ]
    }
   ],
   "source": [
    "from csv import reader\n",
    "\n",
    "with open(r'C:\\Users\\gabri\\Desktop\\TCC\\Data\\sintomas.csv', 'r', encoding='utf-8') as csv_file:\n",
    "    csv_reader = reader(csv_file, delimiter = ';')\n",
    "    lista_sint = list(csv_reader)\n",
    "    lista_sint = list(lista_sint[0])\n",
    "    lista_sint[0] = \"nao informado\"\n",
    "    \n",
    "    print(lista_sint)"
   ]
  },
  {
   "cell_type": "markdown",
   "id": "4a84a657",
   "metadata": {},
   "source": [
    "#### Tratandos as Features sintomas e outros_sintomas"
   ]
  },
  {
   "cell_type": "markdown",
   "id": "eebab1c1",
   "metadata": {},
   "source": [
    "Separando as Strings dos sintomas e outros_sintomas e Criando a lista de sintomas"
   ]
  },
  {
   "cell_type": "code",
   "execution_count": 17,
   "id": "7d7ac086",
   "metadata": {},
   "outputs": [],
   "source": [
    "lista_sintomas = []\n",
    "lista_outros_sintomas = []\n",
    "\n",
    "for i in range(len(df)):\n",
    "    #esse for corre todo o DF e separa a string em lista de sintomas\n",
    "    \n",
    "    sintomas = df[\"sintomas\"][i]\n",
    "    df[\"sintomas\"][i] = sintomas.split(',')\n",
    "    \n",
    "    outros_sintomas = df[\"outros_sintomas\"][i]\n",
    "    df[\"outros_sintomas\"][i] = outros_sintomas.split(',')\n",
    "    \n",
    "    #criando a lista temporária de sintomas por conta da necessidade de pré-processar\n",
    "    sintomas_temp = []\n",
    "    outros_sintomas_temp = []\n",
    "    \n",
    "    #esse for percorre a lista criada, aplica a função strip e lower \n",
    "    for sintoma in df[\"sintomas\"][i]:\n",
    "        sintoma = sintoma.strip().lower()\n",
    "        \n",
    "        #esse for utiliza o csv dos sintomas para separar as substrings\n",
    "        for sint in lista_sint:\n",
    "            resp = sint in sintoma\n",
    "            if resp == True:\n",
    "                sintomas_temp.append(sint)\n",
    "                \n",
    "        #atualiza o DF com a lista pré-processada \n",
    "        df[\"sintomas\"][i] = sintomas_temp\n",
    "        \n",
    "        #esse for corre a lista sintomas_tempo e ADD os sintomas novos a lista_sintomas\n",
    "        for sintoma in sintomas_temp:\n",
    "            if sintoma not in lista_sintomas:\n",
    "                lista_sintomas.append(sintoma)\n",
    "                \n",
    "    #REPETINDO O CÓDIGO PRA FEATURE OUTRO_SINTOMA\n",
    "    \n",
    "    #esse for percorre a lista criada, aplica a função strip e lower\n",
    "    for outro_sintoma in df[\"outros_sintomas\"][i]:\n",
    "        outro_sintoma = outro_sintoma.strip().lower()\n",
    "        \n",
    "        #esse for utiliza o csv dos sintomas para separar as substrings\n",
    "        for outro_sint in lista_sint:\n",
    "            resp = outro_sint in outro_sintoma\n",
    "            if resp == True:\n",
    "                outros_sintomas_temp.append(outro_sint)\n",
    "                \n",
    "        #atualiza o DF com a lista pré-processada \n",
    "        df[\"outros_sintomas\"][i] = outros_sintomas_temp\n",
    "        \n",
    "        #esse for corre a lista sintomas_tempo e ADD os sintomas novos a lista_sintomas\n",
    "        for outro_sintoma in outros_sintomas_temp:\n",
    "            if outro_sintoma not in lista_outros_sintomas:\n",
    "                lista_outros_sintomas.append(outro_sintoma)\n"
   ]
  },
  {
   "cell_type": "code",
   "execution_count": 18,
   "id": "c34999bb",
   "metadata": {
    "scrolled": false
   },
   "outputs": [
    {
     "data": {
      "text/plain": [
       "['assintomático',\n",
       " 'tosse',\n",
       " 'febre',\n",
       " 'dor de garganta',\n",
       " 'dispneia',\n",
       " 'pigarro',\n",
       " 'dor de cabeça',\n",
       " 'epistaxe',\n",
       " 'espirro',\n",
       " 'distúrbios gustativos',\n",
       " 'distúrbios olfativos',\n",
       " 'coriza']"
      ]
     },
     "execution_count": 18,
     "metadata": {},
     "output_type": "execute_result"
    }
   ],
   "source": [
    "lista_sintomas"
   ]
  },
  {
   "cell_type": "code",
   "execution_count": 19,
   "id": "7ea7f7a8",
   "metadata": {
    "scrolled": true
   },
   "outputs": [
    {
     "data": {
      "text/plain": [
       "['coriza',\n",
       " 'astenia',\n",
       " 'cefaleia',\n",
       " 'adinamia',\n",
       " 'mialgia',\n",
       " 'dor no corpo',\n",
       " 'taquipneia',\n",
       " 'diarreia',\n",
       " 'nausea',\n",
       " 'vomitos',\n",
       " 'alteracao da ausculta pulmonar',\n",
       " 'moleza',\n",
       " 'irritacao nos olhos',\n",
       " 'dor abdominal',\n",
       " 'aperto toracico',\n",
       " 'irritabilidade',\n",
       " 'confusao',\n",
       " 'dor de ouvido',\n",
       " 'dor de cabeca',\n",
       " 'espirro',\n",
       " 'dispneia',\n",
       " 'febre',\n",
       " 'dor de garganta',\n",
       " 'pigarro',\n",
       " 'tosse',\n",
       " 'dor de cabeça',\n",
       " 'assintomático',\n",
       " 'nao informado',\n",
       " 'distúrbios olfativos']"
      ]
     },
     "execution_count": 19,
     "metadata": {},
     "output_type": "execute_result"
    }
   ],
   "source": [
    "lista_outros_sintomas"
   ]
  },
  {
   "cell_type": "markdown",
   "id": "9eb22a25",
   "metadata": {},
   "source": [
    "#### Criando uma feature binária para cada sintoma: \n",
    "\n",
    "     0 - Não apresentou o sintoma\n",
    "     1 - Apresentou o sintoma"
   ]
  },
  {
   "cell_type": "code",
   "execution_count": 20,
   "id": "e6555529",
   "metadata": {},
   "outputs": [],
   "source": [
    "#criando as features com zeros\n",
    "for sintoma in lista_sint:\n",
    "    df[sintoma] = 0"
   ]
  },
  {
   "cell_type": "code",
   "execution_count": 21,
   "id": "ae961088",
   "metadata": {},
   "outputs": [
    {
     "name": "stderr",
     "output_type": "stream",
     "text": [
      "<ipython-input-21-81899a140800>:5: SettingWithCopyWarning: \n",
      "A value is trying to be set on a copy of a slice from a DataFrame\n",
      "\n",
      "See the caveats in the documentation: https://pandas.pydata.org/pandas-docs/stable/user_guide/indexing.html#returning-a-view-versus-a-copy\n",
      "  df[sintoma][i] = 1\n"
     ]
    }
   ],
   "source": [
    "#categorizando as features que apresentaram sintomas\n",
    "for i in range(len(df)):\n",
    "    for sintoma in lista_sint:\n",
    "        if (sintoma in df[\"sintomas\"][i]) or (sintoma in df[\"outros_sintomas\"][i]):\n",
    "            df[sintoma][i] = 1"
   ]
  },
  {
   "cell_type": "markdown",
   "id": "5863df2e",
   "metadata": {},
   "source": [
    "#### Criando um csv com a contagem dos sintomas"
   ]
  },
  {
   "cell_type": "code",
   "execution_count": 22,
   "id": "4662e93c",
   "metadata": {},
   "outputs": [],
   "source": [
    "#crinado uma lista com as contagens do número de aparições de cada sintoma\n",
    "cont_sintomas = []\n",
    "\n",
    "for sintoma in lista_sint: \n",
    "    cont = len(df[df[sintoma]==1])\n",
    "    cont_sintomas.append(cont)"
   ]
  },
  {
   "cell_type": "code",
   "execution_count": 29,
   "id": "503b846d",
   "metadata": {},
   "outputs": [],
   "source": [
    "df2 = pd.DataFrame(lista_sint,columns=[\"Sintoma\"])\n",
    "df2[\"Cont\"] = cont_sintomas"
   ]
  },
  {
   "cell_type": "code",
   "execution_count": 30,
   "id": "12bbdcfb",
   "metadata": {},
   "outputs": [
    {
     "data": {
      "text/html": [
       "<div>\n",
       "<style scoped>\n",
       "    .dataframe tbody tr th:only-of-type {\n",
       "        vertical-align: middle;\n",
       "    }\n",
       "\n",
       "    .dataframe tbody tr th {\n",
       "        vertical-align: top;\n",
       "    }\n",
       "\n",
       "    .dataframe thead th {\n",
       "        text-align: right;\n",
       "    }\n",
       "</style>\n",
       "<table border=\"1\" class=\"dataframe\">\n",
       "  <thead>\n",
       "    <tr style=\"text-align: right;\">\n",
       "      <th></th>\n",
       "      <th>Sintoma</th>\n",
       "      <th>Cont</th>\n",
       "    </tr>\n",
       "  </thead>\n",
       "  <tbody>\n",
       "    <tr>\n",
       "      <th>0</th>\n",
       "      <td>nao informado</td>\n",
       "      <td>101</td>\n",
       "    </tr>\n",
       "    <tr>\n",
       "      <th>1</th>\n",
       "      <td>coriza</td>\n",
       "      <td>42177</td>\n",
       "    </tr>\n",
       "    <tr>\n",
       "      <th>2</th>\n",
       "      <td>astenia</td>\n",
       "      <td>2739</td>\n",
       "    </tr>\n",
       "    <tr>\n",
       "      <th>3</th>\n",
       "      <td>cefaleia</td>\n",
       "      <td>12166</td>\n",
       "    </tr>\n",
       "    <tr>\n",
       "      <th>4</th>\n",
       "      <td>adinamia</td>\n",
       "      <td>77</td>\n",
       "    </tr>\n",
       "    <tr>\n",
       "      <th>5</th>\n",
       "      <td>mialgia</td>\n",
       "      <td>8961</td>\n",
       "    </tr>\n",
       "    <tr>\n",
       "      <th>6</th>\n",
       "      <td>dor no corpo</td>\n",
       "      <td>10027</td>\n",
       "    </tr>\n",
       "    <tr>\n",
       "      <th>7</th>\n",
       "      <td>taquipneia</td>\n",
       "      <td>7</td>\n",
       "    </tr>\n",
       "    <tr>\n",
       "      <th>8</th>\n",
       "      <td>diarreia</td>\n",
       "      <td>14329</td>\n",
       "    </tr>\n",
       "    <tr>\n",
       "      <th>9</th>\n",
       "      <td>nausea</td>\n",
       "      <td>993</td>\n",
       "    </tr>\n",
       "    <tr>\n",
       "      <th>10</th>\n",
       "      <td>vomitos</td>\n",
       "      <td>275</td>\n",
       "    </tr>\n",
       "    <tr>\n",
       "      <th>11</th>\n",
       "      <td>alteracao da ausculta pulmonar</td>\n",
       "      <td>1</td>\n",
       "    </tr>\n",
       "    <tr>\n",
       "      <th>12</th>\n",
       "      <td>moleza</td>\n",
       "      <td>2729</td>\n",
       "    </tr>\n",
       "    <tr>\n",
       "      <th>13</th>\n",
       "      <td>irritacao nos olhos</td>\n",
       "      <td>3</td>\n",
       "    </tr>\n",
       "    <tr>\n",
       "      <th>14</th>\n",
       "      <td>dor abdominal</td>\n",
       "      <td>549</td>\n",
       "    </tr>\n",
       "    <tr>\n",
       "      <th>15</th>\n",
       "      <td>aperto toracico</td>\n",
       "      <td>26</td>\n",
       "    </tr>\n",
       "    <tr>\n",
       "      <th>16</th>\n",
       "      <td>irritabilidade</td>\n",
       "      <td>7</td>\n",
       "    </tr>\n",
       "    <tr>\n",
       "      <th>17</th>\n",
       "      <td>confusao</td>\n",
       "      <td>5</td>\n",
       "    </tr>\n",
       "    <tr>\n",
       "      <th>18</th>\n",
       "      <td>dor de ouvido</td>\n",
       "      <td>145</td>\n",
       "    </tr>\n",
       "    <tr>\n",
       "      <th>19</th>\n",
       "      <td>dor de cabeca</td>\n",
       "      <td>564</td>\n",
       "    </tr>\n",
       "    <tr>\n",
       "      <th>20</th>\n",
       "      <td>tosse</td>\n",
       "      <td>88791</td>\n",
       "    </tr>\n",
       "    <tr>\n",
       "      <th>21</th>\n",
       "      <td>distúrbios olfativos</td>\n",
       "      <td>18472</td>\n",
       "    </tr>\n",
       "    <tr>\n",
       "      <th>22</th>\n",
       "      <td>distúrbios gustativos</td>\n",
       "      <td>18674</td>\n",
       "    </tr>\n",
       "    <tr>\n",
       "      <th>23</th>\n",
       "      <td>dor de garganta</td>\n",
       "      <td>72901</td>\n",
       "    </tr>\n",
       "    <tr>\n",
       "      <th>24</th>\n",
       "      <td>coriza</td>\n",
       "      <td>42177</td>\n",
       "    </tr>\n",
       "    <tr>\n",
       "      <th>25</th>\n",
       "      <td>febre</td>\n",
       "      <td>66871</td>\n",
       "    </tr>\n",
       "    <tr>\n",
       "      <th>26</th>\n",
       "      <td>dispneia</td>\n",
       "      <td>25241</td>\n",
       "    </tr>\n",
       "    <tr>\n",
       "      <th>27</th>\n",
       "      <td>hiperemia Faríngea</td>\n",
       "      <td>0</td>\n",
       "    </tr>\n",
       "    <tr>\n",
       "      <th>28</th>\n",
       "      <td>pigarro</td>\n",
       "      <td>74</td>\n",
       "    </tr>\n",
       "    <tr>\n",
       "      <th>29</th>\n",
       "      <td>epistaxe</td>\n",
       "      <td>1</td>\n",
       "    </tr>\n",
       "    <tr>\n",
       "      <th>30</th>\n",
       "      <td>espirro</td>\n",
       "      <td>2293</td>\n",
       "    </tr>\n",
       "    <tr>\n",
       "      <th>31</th>\n",
       "      <td>dor de cabeça</td>\n",
       "      <td>56046</td>\n",
       "    </tr>\n",
       "    <tr>\n",
       "      <th>32</th>\n",
       "      <td>assintomático</td>\n",
       "      <td>47358</td>\n",
       "    </tr>\n",
       "  </tbody>\n",
       "</table>\n",
       "</div>"
      ],
      "text/plain": [
       "                           Sintoma   Cont\n",
       "0                    nao informado    101\n",
       "1                           coriza  42177\n",
       "2                          astenia   2739\n",
       "3                         cefaleia  12166\n",
       "4                         adinamia     77\n",
       "5                          mialgia   8961\n",
       "6                     dor no corpo  10027\n",
       "7                       taquipneia      7\n",
       "8                         diarreia  14329\n",
       "9                           nausea    993\n",
       "10                         vomitos    275\n",
       "11  alteracao da ausculta pulmonar      1\n",
       "12                          moleza   2729\n",
       "13             irritacao nos olhos      3\n",
       "14                   dor abdominal    549\n",
       "15                 aperto toracico     26\n",
       "16                  irritabilidade      7\n",
       "17                        confusao      5\n",
       "18                   dor de ouvido    145\n",
       "19                   dor de cabeca    564\n",
       "20                           tosse  88791\n",
       "21            distúrbios olfativos  18472\n",
       "22           distúrbios gustativos  18674\n",
       "23                 dor de garganta  72901\n",
       "24                          coriza  42177\n",
       "25                           febre  66871\n",
       "26                        dispneia  25241\n",
       "27              hiperemia Faríngea      0\n",
       "28                         pigarro     74\n",
       "29                        epistaxe      1\n",
       "30                         espirro   2293\n",
       "31                   dor de cabeça  56046\n",
       "32                   assintomático  47358"
      ]
     },
     "execution_count": 30,
     "metadata": {},
     "output_type": "execute_result"
    }
   ],
   "source": [
    "df2"
   ]
  },
  {
   "cell_type": "markdown",
   "id": "81501d13",
   "metadata": {},
   "source": [
    "## Criando CSVs Pré-Prócessados"
   ]
  },
  {
   "cell_type": "code",
   "execution_count": 31,
   "id": "575e7696",
   "metadata": {},
   "outputs": [],
   "source": [
    "df.to_csv(\"Casos_Leves_Pré_Processado\")"
   ]
  },
  {
   "cell_type": "code",
   "execution_count": 32,
   "id": "d11e9e62",
   "metadata": {},
   "outputs": [],
   "source": [
    "df2.to_csv(\"Cont_sintomas\")"
   ]
  },
  {
   "cell_type": "markdown",
   "id": "ca98ccd9",
   "metadata": {},
   "source": [
    "## Análise Exploratória "
   ]
  },
  {
   "cell_type": "code",
   "execution_count": null,
   "id": "e3b2808c",
   "metadata": {},
   "outputs": [],
   "source": []
  }
 ],
 "metadata": {
  "kernelspec": {
   "display_name": "Python 3",
   "language": "python",
   "name": "python3"
  },
  "language_info": {
   "codemirror_mode": {
    "name": "ipython",
    "version": 3
   },
   "file_extension": ".py",
   "mimetype": "text/x-python",
   "name": "python",
   "nbconvert_exporter": "python",
   "pygments_lexer": "ipython3",
   "version": "3.8.8"
  }
 },
 "nbformat": 4,
 "nbformat_minor": 5
}
