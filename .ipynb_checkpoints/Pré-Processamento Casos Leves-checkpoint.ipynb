{
 "cells": [
  {
   "cell_type": "markdown",
   "id": "de4a6d88",
   "metadata": {},
   "source": [
    "## Importando bibliotecas"
   ]
  },
  {
   "cell_type": "code",
   "execution_count": 1,
   "id": "15fbd4f0",
   "metadata": {},
   "outputs": [],
   "source": [
    "import pandas as pd\n",
    "import numpy as np"
   ]
  },
  {
   "cell_type": "markdown",
   "id": "e72a6653",
   "metadata": {},
   "source": [
    "## Lendo Datasets"
   ]
  },
  {
   "cell_type": "markdown",
   "id": "d5ac475e",
   "metadata": {},
   "source": [
    "### Datasets casos leves"
   ]
  },
  {
   "cell_type": "code",
   "execution_count": 2,
   "id": "6ef4e1a9",
   "metadata": {
    "scrolled": true
   },
   "outputs": [
    {
     "name": "stderr",
     "output_type": "stream",
     "text": [
      "C:\\Users\\gabri\\anaconda3\\lib\\site-packages\\IPython\\core\\interactiveshell.py:3165: DtypeWarning: Columns (2,9) have mixed types.Specify dtype option on import or set low_memory=False.\n",
      "  has_raised = await self.run_ast_nodes(code_ast.body, cell_name,\n"
     ]
    }
   ],
   "source": [
    "df = pd.read_csv(r\"C:\\Users\\gabri\\Desktop\\TCC\\Data\\casoslevescovid2020.csv\",index_col=None, header=0,sep=';',decimal=',')"
   ]
  },
  {
   "cell_type": "code",
   "execution_count": 3,
   "id": "bdbec1e2",
   "metadata": {
    "scrolled": true
   },
   "outputs": [
    {
     "data": {
      "text/html": [
       "<div>\n",
       "<style scoped>\n",
       "    .dataframe tbody tr th:only-of-type {\n",
       "        vertical-align: middle;\n",
       "    }\n",
       "\n",
       "    .dataframe tbody tr th {\n",
       "        vertical-align: top;\n",
       "    }\n",
       "\n",
       "    .dataframe thead th {\n",
       "        text-align: right;\n",
       "    }\n",
       "</style>\n",
       "<table border=\"1\" class=\"dataframe\">\n",
       "  <thead>\n",
       "    <tr style=\"text-align: right;\">\n",
       "      <th></th>\n",
       "      <th>sexo</th>\n",
       "      <th>data_notificacao</th>\n",
       "      <th>idade</th>\n",
       "      <th>data_inicio_sintomas</th>\n",
       "      <th>sintomas</th>\n",
       "      <th>outros_sintomas</th>\n",
       "      <th>classificacao_final</th>\n",
       "      <th>evolucao_caso</th>\n",
       "      <th>resultado_final</th>\n",
       "      <th>etnia</th>\n",
       "      <th>raca_cor</th>\n",
       "      <th>profissional_saude</th>\n",
       "      <th>cbo</th>\n",
       "      <th>bairro</th>\n",
       "      <th>ds</th>\n",
       "      <th>municipio_residencia</th>\n",
       "    </tr>\n",
       "  </thead>\n",
       "  <tbody>\n",
       "    <tr>\n",
       "      <th>0</th>\n",
       "      <td>Masculino</td>\n",
       "      <td>2020-01-12</td>\n",
       "      <td>28</td>\n",
       "      <td>2020-01-12</td>\n",
       "      <td>Assintomático</td>\n",
       "      <td>NaN</td>\n",
       "      <td>NaN</td>\n",
       "      <td>NaN</td>\n",
       "      <td>NaN</td>\n",
       "      <td>NaN</td>\n",
       "      <td>Parda</td>\n",
       "      <td>Não</td>\n",
       "      <td>NaN</td>\n",
       "      <td>SANCHO</td>\n",
       "      <td>V</td>\n",
       "      <td>Recife</td>\n",
       "    </tr>\n",
       "    <tr>\n",
       "      <th>1</th>\n",
       "      <td>Feminino</td>\n",
       "      <td>2020-01-20</td>\n",
       "      <td>36</td>\n",
       "      <td>2020-01-20</td>\n",
       "      <td>Assintomático</td>\n",
       "      <td>NaN</td>\n",
       "      <td>NaN</td>\n",
       "      <td>NaN</td>\n",
       "      <td>Positivo</td>\n",
       "      <td>NaN</td>\n",
       "      <td>Branca</td>\n",
       "      <td>Não</td>\n",
       "      <td>NaN</td>\n",
       "      <td>ROSARINHO</td>\n",
       "      <td>II</td>\n",
       "      <td>Recife</td>\n",
       "    </tr>\n",
       "    <tr>\n",
       "      <th>2</th>\n",
       "      <td>Feminino</td>\n",
       "      <td>2020-01-20</td>\n",
       "      <td>45</td>\n",
       "      <td>2020-01-20</td>\n",
       "      <td>Assintomático</td>\n",
       "      <td>NaN</td>\n",
       "      <td>NaN</td>\n",
       "      <td>NaN</td>\n",
       "      <td>Positivo</td>\n",
       "      <td>NaN</td>\n",
       "      <td>Ignorado</td>\n",
       "      <td>Não</td>\n",
       "      <td>NaN</td>\n",
       "      <td>CASA AMARELA</td>\n",
       "      <td>III</td>\n",
       "      <td>Recife</td>\n",
       "    </tr>\n",
       "    <tr>\n",
       "      <th>3</th>\n",
       "      <td>Masculino</td>\n",
       "      <td>2020-01-20</td>\n",
       "      <td>58</td>\n",
       "      <td>2020-01-20</td>\n",
       "      <td>Assintomático</td>\n",
       "      <td>NaN</td>\n",
       "      <td>NaN</td>\n",
       "      <td>NaN</td>\n",
       "      <td>Positivo</td>\n",
       "      <td>NaN</td>\n",
       "      <td>Branca</td>\n",
       "      <td>Não</td>\n",
       "      <td>NaN</td>\n",
       "      <td>ROSARINHO</td>\n",
       "      <td>II</td>\n",
       "      <td>Recife</td>\n",
       "    </tr>\n",
       "    <tr>\n",
       "      <th>4</th>\n",
       "      <td>Feminino</td>\n",
       "      <td>2020-01-22</td>\n",
       "      <td>33</td>\n",
       "      <td>2020-01-22</td>\n",
       "      <td>Assintomático</td>\n",
       "      <td>NaN</td>\n",
       "      <td>NaN</td>\n",
       "      <td>NaN</td>\n",
       "      <td>Positivo</td>\n",
       "      <td>NaN</td>\n",
       "      <td>Preta</td>\n",
       "      <td>Não</td>\n",
       "      <td>NaN</td>\n",
       "      <td>IPUTINGA</td>\n",
       "      <td>IV</td>\n",
       "      <td>Recife</td>\n",
       "    </tr>\n",
       "    <tr>\n",
       "      <th>...</th>\n",
       "      <td>...</td>\n",
       "      <td>...</td>\n",
       "      <td>...</td>\n",
       "      <td>...</td>\n",
       "      <td>...</td>\n",
       "      <td>...</td>\n",
       "      <td>...</td>\n",
       "      <td>...</td>\n",
       "      <td>...</td>\n",
       "      <td>...</td>\n",
       "      <td>...</td>\n",
       "      <td>...</td>\n",
       "      <td>...</td>\n",
       "      <td>...</td>\n",
       "      <td>...</td>\n",
       "      <td>...</td>\n",
       "    </tr>\n",
       "    <tr>\n",
       "      <th>223966</th>\n",
       "      <td>Masculino</td>\n",
       "      <td>2020-12-31</td>\n",
       "      <td>34</td>\n",
       "      <td>2020-12-10</td>\n",
       "      <td>Tosse</td>\n",
       "      <td>NaN</td>\n",
       "      <td>Confirmado Laboratorial</td>\n",
       "      <td>Cura</td>\n",
       "      <td>Positivo</td>\n",
       "      <td>NaN</td>\n",
       "      <td>Parda</td>\n",
       "      <td>Não</td>\n",
       "      <td>NaN</td>\n",
       "      <td>APIPUCOS</td>\n",
       "      <td>III</td>\n",
       "      <td>Recife</td>\n",
       "    </tr>\n",
       "    <tr>\n",
       "      <th>223967</th>\n",
       "      <td>Feminino</td>\n",
       "      <td>2020-12-31</td>\n",
       "      <td>40</td>\n",
       "      <td>2020-12-03</td>\n",
       "      <td>Distúrbios Olfativos, Distúrbios Gustativos</td>\n",
       "      <td>NaN</td>\n",
       "      <td>Confirmado Laboratorial</td>\n",
       "      <td>Cura</td>\n",
       "      <td>Positivo</td>\n",
       "      <td>NaN</td>\n",
       "      <td>Branca</td>\n",
       "      <td>Não</td>\n",
       "      <td>NaN</td>\n",
       "      <td>BOA VIAGEM</td>\n",
       "      <td>VI</td>\n",
       "      <td>Recife</td>\n",
       "    </tr>\n",
       "    <tr>\n",
       "      <th>223968</th>\n",
       "      <td>Feminino</td>\n",
       "      <td>2020-12-31</td>\n",
       "      <td>42</td>\n",
       "      <td>2020-09-09</td>\n",
       "      <td>Tosse, Dor de Garganta, Coriza</td>\n",
       "      <td>NaN</td>\n",
       "      <td>Confirmado Laboratorial</td>\n",
       "      <td>Cura</td>\n",
       "      <td>Positivo</td>\n",
       "      <td>NaN</td>\n",
       "      <td>Branca</td>\n",
       "      <td>Não</td>\n",
       "      <td>NaN</td>\n",
       "      <td>BOA VIAGEM</td>\n",
       "      <td>VI</td>\n",
       "      <td>Recife</td>\n",
       "    </tr>\n",
       "    <tr>\n",
       "      <th>223969</th>\n",
       "      <td>Masculino</td>\n",
       "      <td>2020-12-31</td>\n",
       "      <td>26</td>\n",
       "      <td>2020-12-02</td>\n",
       "      <td>Dor de Garganta, Coriza</td>\n",
       "      <td>NaN</td>\n",
       "      <td>Confirmado Laboratorial</td>\n",
       "      <td>Cura</td>\n",
       "      <td>Positivo</td>\n",
       "      <td>NaN</td>\n",
       "      <td>Branca</td>\n",
       "      <td>Não</td>\n",
       "      <td>NaN</td>\n",
       "      <td>BOA VIAGEM</td>\n",
       "      <td>VI</td>\n",
       "      <td>Recife</td>\n",
       "    </tr>\n",
       "    <tr>\n",
       "      <th>223970</th>\n",
       "      <td>Feminino</td>\n",
       "      <td>2020-12-31</td>\n",
       "      <td>44</td>\n",
       "      <td>2020-12-10</td>\n",
       "      <td>Tosse, Dor de Garganta, Distúrbios Olfativos, ...</td>\n",
       "      <td>DORES NO CORPO</td>\n",
       "      <td>Confirmado Laboratorial</td>\n",
       "      <td>Cura</td>\n",
       "      <td>Positivo</td>\n",
       "      <td>NaN</td>\n",
       "      <td>Branca</td>\n",
       "      <td>Não</td>\n",
       "      <td>NaN</td>\n",
       "      <td>BOA VIAGEM</td>\n",
       "      <td>VI</td>\n",
       "      <td>Recife</td>\n",
       "    </tr>\n",
       "  </tbody>\n",
       "</table>\n",
       "<p>223971 rows × 16 columns</p>\n",
       "</div>"
      ],
      "text/plain": [
       "             sexo data_notificacao idade data_inicio_sintomas  \\\n",
       "0       Masculino       2020-01-12    28           2020-01-12   \n",
       "1        Feminino       2020-01-20    36           2020-01-20   \n",
       "2        Feminino       2020-01-20    45           2020-01-20   \n",
       "3       Masculino       2020-01-20    58           2020-01-20   \n",
       "4        Feminino       2020-01-22    33           2020-01-22   \n",
       "...           ...              ...   ...                  ...   \n",
       "223966  Masculino       2020-12-31    34           2020-12-10   \n",
       "223967   Feminino       2020-12-31    40           2020-12-03   \n",
       "223968   Feminino       2020-12-31    42           2020-09-09   \n",
       "223969  Masculino       2020-12-31    26           2020-12-02   \n",
       "223970   Feminino       2020-12-31    44           2020-12-10   \n",
       "\n",
       "                                                 sintomas outros_sintomas  \\\n",
       "0                                           Assintomático             NaN   \n",
       "1                                           Assintomático             NaN   \n",
       "2                                           Assintomático             NaN   \n",
       "3                                           Assintomático             NaN   \n",
       "4                                           Assintomático             NaN   \n",
       "...                                                   ...             ...   \n",
       "223966                                              Tosse             NaN   \n",
       "223967        Distúrbios Olfativos, Distúrbios Gustativos             NaN   \n",
       "223968                     Tosse, Dor de Garganta, Coriza             NaN   \n",
       "223969                            Dor de Garganta, Coriza             NaN   \n",
       "223970  Tosse, Dor de Garganta, Distúrbios Olfativos, ...  DORES NO CORPO   \n",
       "\n",
       "            classificacao_final evolucao_caso resultado_final etnia  raca_cor  \\\n",
       "0                           NaN           NaN             NaN   NaN     Parda   \n",
       "1                           NaN           NaN        Positivo   NaN    Branca   \n",
       "2                           NaN           NaN        Positivo   NaN  Ignorado   \n",
       "3                           NaN           NaN        Positivo   NaN    Branca   \n",
       "4                           NaN           NaN        Positivo   NaN     Preta   \n",
       "...                         ...           ...             ...   ...       ...   \n",
       "223966  Confirmado Laboratorial          Cura        Positivo   NaN     Parda   \n",
       "223967  Confirmado Laboratorial          Cura        Positivo   NaN    Branca   \n",
       "223968  Confirmado Laboratorial          Cura        Positivo   NaN    Branca   \n",
       "223969  Confirmado Laboratorial          Cura        Positivo   NaN    Branca   \n",
       "223970  Confirmado Laboratorial          Cura        Positivo   NaN    Branca   \n",
       "\n",
       "       profissional_saude  cbo        bairro   ds municipio_residencia  \n",
       "0                     Não  NaN        SANCHO    V               Recife  \n",
       "1                     Não  NaN     ROSARINHO   II               Recife  \n",
       "2                     Não  NaN  CASA AMARELA  III               Recife  \n",
       "3                     Não  NaN     ROSARINHO   II               Recife  \n",
       "4                     Não  NaN      IPUTINGA   IV               Recife  \n",
       "...                   ...  ...           ...  ...                  ...  \n",
       "223966                Não  NaN      APIPUCOS  III               Recife  \n",
       "223967                Não  NaN    BOA VIAGEM   VI               Recife  \n",
       "223968                Não  NaN    BOA VIAGEM   VI               Recife  \n",
       "223969                Não  NaN    BOA VIAGEM   VI               Recife  \n",
       "223970                Não  NaN    BOA VIAGEM   VI               Recife  \n",
       "\n",
       "[223971 rows x 16 columns]"
      ]
     },
     "execution_count": 3,
     "metadata": {},
     "output_type": "execute_result"
    }
   ],
   "source": [
    "df"
   ]
  },
  {
   "cell_type": "markdown",
   "id": "a25e7e9f",
   "metadata": {},
   "source": [
    "## Estudo dos Dados"
   ]
  },
  {
   "cell_type": "code",
   "execution_count": null,
   "id": "0f1639e2",
   "metadata": {},
   "outputs": [],
   "source": [
    "df[\"classificacao_final\"].value_counts()"
   ]
  },
  {
   "cell_type": "code",
   "execution_count": null,
   "id": "d24ef1d8",
   "metadata": {},
   "outputs": [],
   "source": [
    "df[\"resultado_final\"].value_counts()"
   ]
  },
  {
   "cell_type": "code",
   "execution_count": null,
   "id": "10e4653c",
   "metadata": {},
   "outputs": [],
   "source": [
    "df[\"raca_cor\"].value_counts()"
   ]
  },
  {
   "cell_type": "code",
   "execution_count": null,
   "id": "e5466ded",
   "metadata": {},
   "outputs": [],
   "source": [
    "df[\"profissional_saude\"].value_counts()"
   ]
  },
  {
   "cell_type": "code",
   "execution_count": null,
   "id": "b41de065",
   "metadata": {
    "scrolled": true
   },
   "outputs": [],
   "source": [
    "df[\"sintomas\"].value_counts()"
   ]
  },
  {
   "cell_type": "code",
   "execution_count": null,
   "id": "7e2e6e20",
   "metadata": {},
   "outputs": [],
   "source": [
    "df[\"outros_sintomas\"].value_counts()"
   ]
  },
  {
   "cell_type": "markdown",
   "id": "1d030b57",
   "metadata": {},
   "source": [
    "Excluir"
   ]
  },
  {
   "cell_type": "code",
   "execution_count": null,
   "id": "e31962ec",
   "metadata": {},
   "outputs": [],
   "source": [
    "df[\"evolucao_caso\"].value_counts()"
   ]
  },
  {
   "cell_type": "code",
   "execution_count": null,
   "id": "235cdbdb",
   "metadata": {},
   "outputs": [],
   "source": [
    "df[\"municipio_residencia\"].value_counts()"
   ]
  },
  {
   "cell_type": "code",
   "execution_count": null,
   "id": "56fb9765",
   "metadata": {},
   "outputs": [],
   "source": [
    "df[\"etnia\"].value_counts()"
   ]
  },
  {
   "cell_type": "code",
   "execution_count": null,
   "id": "4e62fdcf",
   "metadata": {},
   "outputs": [],
   "source": [
    "df[\"cbo\"].value_counts()"
   ]
  },
  {
   "cell_type": "markdown",
   "id": "774506ac",
   "metadata": {},
   "source": [
    "## Pré-Processamento "
   ]
  },
  {
   "cell_type": "markdown",
   "id": "9d75768c",
   "metadata": {},
   "source": [
    "### Tratamento dos dados"
   ]
  },
  {
   "cell_type": "markdown",
   "id": "fab40ffa",
   "metadata": {},
   "source": [
    "#### Excluindo Colunas Irrelevantes"
   ]
  },
  {
   "cell_type": "code",
   "execution_count": 4,
   "id": "98ecb05a",
   "metadata": {},
   "outputs": [],
   "source": [
    "df = df.drop(columns=[\"etnia\",\"cbo\",\"municipio_residencia\",\"evolucao_caso\"])"
   ]
  },
  {
   "cell_type": "markdown",
   "id": "e7225bf3",
   "metadata": {},
   "source": [
    "#### Tratando Dados Faltantes"
   ]
  },
  {
   "cell_type": "markdown",
   "id": "02856e12",
   "metadata": {},
   "source": [
    "Transformado dados NAN em \"Não informado\""
   ]
  },
  {
   "cell_type": "code",
   "execution_count": 5,
   "id": "dde415e3",
   "metadata": {},
   "outputs": [],
   "source": [
    "df = df.fillna(\"Não informado\")"
   ]
  },
  {
   "cell_type": "markdown",
   "id": "cc5ec19a",
   "metadata": {},
   "source": [
    "#### Lendo o CSV com todas os Sintomas"
   ]
  },
  {
   "cell_type": "code",
   "execution_count": null,
   "id": "0ec6d202",
   "metadata": {
    "scrolled": true
   },
   "outputs": [],
   "source": [
    "from csv import reader\n",
    "\n",
    "with open(r'C:\\Users\\gabri\\Desktop\\TCC\\Data\\sintomas.csv', 'r', encoding='utf-8') as csv_file:\n",
    "    csv_reader = reader(csv_file, delimiter = ';')\n",
    "    lista_sint = list(csv_reader)\n",
    "    lista_sint = list(lista_sint[0])\n",
    "    lista_sint[0] = \"não informado\"\n",
    "    \n",
    "    print(lista_sint)"
   ]
  },
  {
   "cell_type": "code",
   "execution_count": null,
   "id": "215df888",
   "metadata": {},
   "outputs": [],
   "source": [
    "len(lista_sint)"
   ]
  },
  {
   "cell_type": "code",
   "execution_count": null,
   "id": "0e5f7a8e",
   "metadata": {},
   "outputs": [],
   "source": []
  },
  {
   "cell_type": "markdown",
   "id": "4a84a657",
   "metadata": {},
   "source": [
    "#### Tratandos as Features sintomas e outros_sintomas"
   ]
  },
  {
   "cell_type": "markdown",
   "id": "eebab1c1",
   "metadata": {},
   "source": [
    "Separando as Strings dos sintomas e outros_sintomas e Criando a lista de sintomas"
   ]
  },
  {
   "cell_type": "code",
   "execution_count": null,
   "id": "7d7ac086",
   "metadata": {},
   "outputs": [],
   "source": [
    "lista_sintomas = []\n",
    "lista_outros_sintomas = []\n",
    "\n",
    "lista_novos_sintomas = []\n",
    "\n",
    "for i in range(10000):\n",
    "    #esse for corre todo o DF e separa a string em lista de sintomas\n",
    "    \n",
    "    sintomas = df[\"sintomas\"][i]\n",
    "    df[\"sintomas\"][i] = sintomas.split(',')\n",
    "    \n",
    "    outros_sintomas = df[\"outros_sintomas\"][i]\n",
    "    df[\"outros_sintomas\"][i] = outros_sintomas.split(',')\n",
    "    \n",
    "    #criando a lista temporária de sintomas por conta da necessidade de pré-processar\n",
    "    sintomas_temp = []\n",
    "    outros_sintomas_temp = []\n",
    "    \n",
    "    #esse for percorre a lista criada, aplica a função strip e lower \n",
    "    for sintoma in df[\"sintomas\"][i]:\n",
    "        sintoma = sintoma.strip().upper()\n",
    "        \n",
    "        sintomas_temp.append(sintoma)\n",
    "        \n",
    "        #atualiza o DF com a lista pré-processada \n",
    "        df[\"sintomas\"][i] = sintomas_temp\n",
    "        \n",
    "        #esse for corre a lista sintomas_tempo e ADD os sintomas novos a lista_sintomas\n",
    "        for sintoma in sintomas_temp:\n",
    "            for sint in lista_sint:\n",
    "                resp = sint in sintoma\n",
    "                if resp == True:            \n",
    "                    if sintoma not in lista_sintomas:\n",
    "                        lista_sintomas.append(sint)\n",
    "            if sintoma not in lista_sint:\n",
    "                lista_novos_sintomas.append(sintoma)\n",
    "                \n",
    "    #REPETINDO O CÓDIGO PRA FEATURE OUTRO_SINTOMA\n",
    "    #esse for percorre a lista criada, aplica a função strip e lower\n",
    "    for outro_sintoma in df[\"outros_sintomas\"][i]:\n",
    "        outro_sintoma = outro_sintoma.strip().upper()\n",
    "        \n",
    "        outros_sintomas_temp.append(outro_sintoma)\n",
    "         \n",
    "        #atualiza o DF com a lista pré-processada \n",
    "        df[\"outros_sintomas\"][i] = outros_sintomas_temp\n",
    "        \n",
    "        #esse for corre a lista sintomas_tempo e ADD os sintomas novos a lista_sintomas\n",
    "        for outro_sintoma in outros_sintomas_temp:\n",
    "            if outro_sintoma not in lista_sint:\n",
    "                lista_novos_sintomas.append(outro_sintoma)\n",
    "                \n",
    "            for sint in lista_sint:\n",
    "                resp = sint in outro_sintoma\n",
    "                if resp == True:            \n",
    "                    if outro_sintoma not in lista_outros_sintomas:\n",
    "                        lista_outros_sintomas.append(sint)\n",
    "            if outro_sintoma not in lista_sint:\n",
    "                lista_novos_sintomas.append(outro_sintoma)\n",
    "                \n",
    "                "
   ]
  },
  {
   "cell_type": "code",
   "execution_count": null,
   "id": "c34999bb",
   "metadata": {
    "scrolled": false
   },
   "outputs": [],
   "source": [
    "lista_sintomas"
   ]
  },
  {
   "cell_type": "code",
   "execution_count": null,
   "id": "56cc197e",
   "metadata": {},
   "outputs": [],
   "source": [
    "set(lista_novos_sintomas)"
   ]
  },
  {
   "cell_type": "code",
   "execution_count": null,
   "id": "7ea7f7a8",
   "metadata": {
    "scrolled": true
   },
   "outputs": [],
   "source": [
    "set(lista_outros_sintomas)"
   ]
  },
  {
   "cell_type": "markdown",
   "id": "9eb22a25",
   "metadata": {},
   "source": [
    "#### Criando uma feature binária para cada sintoma: \n",
    "\n",
    "     0 - Não apresentou o sintoma\n",
    "     1 - Apresentou o sintoma"
   ]
  },
  {
   "cell_type": "code",
   "execution_count": null,
   "id": "a336caeb",
   "metadata": {},
   "outputs": [],
   "source": [
    "#criando as features com zeros\n",
    "for sintoma in lista_sint:\n",
    "    df[sintoma] = 0"
   ]
  },
  {
   "cell_type": "code",
   "execution_count": null,
   "id": "ef706411",
   "metadata": {},
   "outputs": [],
   "source": [
    "#categorizando as features que apresentaram sintomas\n",
    "for i in range(len(df)):\n",
    "    for sintoma in lista_sint:\n",
    "        if (sintoma in df[\"sintomas\"][i]) or (sintoma in df[\"outros_sintomas\"][i]):\n",
    "            df[sintoma][i] = 1"
   ]
  },
  {
   "cell_type": "markdown",
   "id": "0e1ea029",
   "metadata": {},
   "source": [
    "#### Criando um csv com a contagem dos sintomas"
   ]
  },
  {
   "cell_type": "code",
   "execution_count": null,
   "id": "735b2ca1",
   "metadata": {},
   "outputs": [],
   "source": [
    "#crinado uma lista com as contagens do número de aparições de cada sintoma\n",
    "cont_sintomas = []\n",
    "\n",
    "for sintoma in lista_sint: \n",
    "    cont = len(df[df[sintoma]==1])\n",
    "    cont_sintomas.append(cont)"
   ]
  },
  {
   "cell_type": "code",
   "execution_count": null,
   "id": "69dac9bb",
   "metadata": {},
   "outputs": [],
   "source": [
    "df2 = pd.DataFrame(lista_sint,columns=[\"Sintoma\"])\n",
    "df2[\"Cont\"] = cont_sintomas"
   ]
  },
  {
   "cell_type": "code",
   "execution_count": null,
   "id": "be36c0fe",
   "metadata": {},
   "outputs": [],
   "source": [
    "df2"
   ]
  },
  {
   "cell_type": "markdown",
   "id": "23f641d5",
   "metadata": {},
   "source": [
    "## Criando CSVs Pré-Prócessados"
   ]
  },
  {
   "cell_type": "code",
   "execution_count": null,
   "id": "575e7696",
   "metadata": {},
   "outputs": [],
   "source": [
    "df.to_csv(\"Casos_Leves_Pré_Processado\")"
   ]
  },
  {
   "cell_type": "code",
   "execution_count": null,
   "id": "ccb92e03",
   "metadata": {},
   "outputs": [],
   "source": [
    "df2.to_csv(\"Cont_sintomas\")"
   ]
  },
  {
   "cell_type": "markdown",
   "id": "ca98ccd9",
   "metadata": {},
   "source": [
    "## Análise Exploratória "
   ]
  },
  {
   "cell_type": "code",
   "execution_count": null,
   "id": "1bcbc793",
   "metadata": {},
   "outputs": [],
   "source": [
    "#Lista das chaves dos dicionários\n",
    "lista_grupo_sintomas = [\"SYMPTOM_COUGH\",'SYMPTOM_COLD','SYMPTOM_AIR_INSUFFICIENCY','SYMPTOM_FEVER','SYMPTOM_LOW_OXYGEN_SATURATION','SYMPTOM_BREATHING_CONDITION','SYMPTOM_TORACIC_APERTURE','SYMPTOM_THROAT_CONDITION',\n",
    "                'SYMPTOM_HEADACHE','SYMPTOM_BODY_PAIN','SYMPTOM_DIARRHEA','SYMPTOM_RUNNY_NOSE','SYMPTOM_NOSE_CONGESTION','SYMPTOM_WEAKNESS','SYMPTOM_ANOSMIA_OR_HYPOSMIA','SYMPTOM_NAUSEA','SYMPTOM_LACK_OF_APPETITE',\n",
    "                'SYMPTOM_ABDOMINAL_PAIN','SYMPTOM_CONSCIOUSNESS_DEGRADATION']"
   ]
  },
  {
   "cell_type": "code",
   "execution_count": null,
   "id": "9a816f4a",
   "metadata": {},
   "outputs": [],
   "source": [
    "#Dicionário com os grupos de sintomas e seus respectivos sintomas\n",
    "\n",
    "MAIN_SYMPTOMS = {\n",
    "    \"SYMPTOM_COUGH\": [\"TOSSE\", \"HEMOPTISE\", \"TOSSE PRODUTIVA\", \"GRIPADA\"],\n",
    "    \"SYMPTOM_COLD\": [\"ESPIRROS\", \"ESPIRRO\", \"ESPIRRANDO\", \"ESPIROS\", \"ESPIRO\", \"GRIPE\", \"GRIPAL\", \"SINTOMAS GRIPAIS\", \"SINDROME GRIPAL\", \"SINTOMAS DE GRIPE\"],\n",
    "    \"SYMPTOM_AIR_INSUFFICIENCY\": [\"DISPNEIA\", \"FALTA DE AR\", \"TAQUIPNEIA\", \"TAQUIDISPNEIA\", \"INSUFICIENCIA RESPIRATORIA\"],\n",
    "    \"SYMPTOM_FEVER\": [\"FEBRE\"],\n",
    "    \"SYMPTOM_LOW_OXYGEN_SATURATION\": [\"SATURACAO O2 < 95\", \"DESSATURACAO\"],\n",
    "    \"SYMPTOM_BREATHING_CONDITION\": [\"DESCONFORTO RESPIRATORIO\", \"BATIMENTO ASA DE NARIZ\", \"TIRAGEM INTERCOSTAL\", \"DESCONFORTO TORACICO\"],\n",
    "    \"SYMPTOM_TORACIC_APERTURE\": [\"APERTO TORACICO\", \"APERTO NO PEITO\", \"DOR TORAXICA\", \"DOR DORACICA\", \"DOR TORACICA\", \"DOR NO PEITO\"],\n",
    "    \"SYMPTOM_THROAT_CONDITION\": [\"DOR DE GARGANTA\", \"ODINOFAGIA\"],\n",
    "    \"SYMPTOM_HEADACHE\": [\"CEFALEIA\", \"DOR DE CABECA\", \"DORES NA CABECA\"],\n",
    "    \"SYMPTOM_BODY_PAIN\": [\"MIALGIA\", \"DOR MUSCULAR\", \"DOR NO CORPO\", \"DORES NO CORPO\", \"ALGIA\", \"DOR LOMBAR\", \"DOR NA REGIAO LOMBAR\", \"DOR NAS COSTAS\", \"QUEDA DO ESTADO GERAL\", \"QUEDA DO ESTADO EM GERAL\", \"QUEDA DE ESTADO GERAL\", \"DORSALGIA\", \"LOMBALGIA\", \"DOR EM MMII\", \"DORES EM MMII\", \"DOR\", \"ARTRALGIA\", \"DORES NAS COSTAS\", \"NO CORPO\", \"DOR NAS ARTICULACOES\", \"DORES MUSCULARES\", \"DOR CORPO\", ],\n",
    "    \"SYMPTOM_DIARRHEA\": [\"DIARREIA\"],\n",
    "    \"SYMPTOM_RUNNY_NOSE\": [\"CORIZA\", \"RINORREIA\", \"SECRECAO\"],\n",
    "    \"SYMPTOM_NOSE_CONGESTION\": [\"CONGESTAO NASAL\", \"OBSTRUCAO NASAL\"],\n",
    "    \"SYMPTOM_WEAKNESS\": [\"ASTENIA\", \"FRAQUEZA\", \"CANSACO/FADIGA\", \"FADIGA\", \"CANSACO\", \"FADIGA/CANSACO\", \"ADINAMIA\", \"MOLEZA\", \"MOLEZA NO CORPO\", \"CORPO MOLE\", \"MAL ESTAR\", \"INDISPOSICAO\"],\n",
    "    \"SYMPTOM_ANOSMIA_OR_HYPOSMIA\": [\"ALTERACAO/PERDA DE OLFATO E/OU PALADAR\", \"DISTURBIOS GUSTATIVOS\", \"DISTURBIOS OLFATIVOS\", \"PERDA DO OLFATO\", \"PERDA DE OLFATO\", \"OLFATO\", \"PERDA OLFATO\", \"PERDA DO OLFATO/ MIALGIA\", \"PERDA DO PALADAR\", \"PERDA DE PALADAR\", \"DO PALADAR\", \"PALADAR\", \"PERDA D PALADAR\", \"SEM PALADAR\", \"ERDA DO PALADAR\", \"AGEUSIA\", \"AUGESIA\", \"AGUESIA\", \"DISGEUSIA\", \"PERDA DE OLFATO (CHEIRO) E/OU PALADAR (GOSTO)\", \"FALTA DE PALADAR\", \"SEM OFATO\"],\n",
    "    \"SYMPTOM_NAUSEA\": [\"NAUSEA\", \"NAUSEAS\", \"ENJOO\", \"VOMITO\", \"VOMITOS\", \"EMESE\", \"ANSIA DE VOMITO\", \"TONTURA\"],\n",
    "    \"SYMPTOM_LACK_OF_APPETITE\": [\"INAPTENCIA\", \"FALTA DE APETITE\", \"ANOREXIA\", \"HIPOREXIA\", \"DIMINUICAO DO APETITE\"],\n",
    "    \"SYMPTOM_ABDOMINAL_PAIN\": [\"DOR ABDOMINAL\", \"DOR EPIGASTRICA\"],\n",
    "    \"SYMPTOM_CONSCIOUSNESS_DEGRADATION\": [\"RNC\", \"SONOLENCIA\", \"DESORIENTACAO\", \"PROSTRACAO\", \"PROSTACAO\", \"REBAIXAMENTO DO NIVEL DE CONSCIENCIA\", \"SINCOPE\", \"DESORIENTADO\", \"CONFUSAO\", \"AFASIA\", \"CONFUSAO MENTAL\", \"REBAIXAMENTO DO NIVEL DE CONCIENCIA\", \"PERDA PONDERAL\", \"PERDA DA CONSCIENCIA\", \"REBAIXAMENTO NIVEL DE CONSCIENCIA\"],\n",
    "}\n"
   ]
  },
  {
   "cell_type": "code",
   "execution_count": null,
   "id": "f6aad5e3",
   "metadata": {},
   "outputs": [],
   "source": [
    "for grupo in list_symptoms:\n",
    "    print(MAIN_SYMPTOMS[grupo])"
   ]
  },
  {
   "cell_type": "code",
   "execution_count": null,
   "id": "6129c1ec",
   "metadata": {},
   "outputs": [],
   "source": []
  },
  {
   "cell_type": "code",
   "execution_count": null,
   "id": "b014b433",
   "metadata": {},
   "outputs": [],
   "source": []
  }
 ],
 "metadata": {
  "kernelspec": {
   "display_name": "Python 3.9.13 64-bit (windows store)",
   "language": "python",
   "name": "python3"
  },
  "language_info": {
   "codemirror_mode": {
    "name": "ipython",
    "version": 3
   },
   "file_extension": ".py",
   "mimetype": "text/x-python",
   "name": "python",
   "nbconvert_exporter": "python",
   "pygments_lexer": "ipython3",
   "version": "3.9.13"
  },
  "vscode": {
   "interpreter": {
    "hash": "b7f22e608a9410c9a00adbb49e3cb6a72010c497ae6b30c9496ff58de178a89c"
   }
  }
 },
 "nbformat": 4,
 "nbformat_minor": 5
}
